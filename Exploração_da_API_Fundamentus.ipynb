{
  "nbformat": 4,
  "nbformat_minor": 0,
  "metadata": {
    "colab": {
      "name": "Exploração da API Fundamentus.ipynb",
      "provenance": [],
      "authorship_tag": "ABX9TyN5Ch219Cn/GL6dTvERPNFR",
      "include_colab_link": true
    },
    "kernelspec": {
      "name": "python3",
      "display_name": "Python 3"
    },
    "language_info": {
      "name": "python"
    }
  },
  "cells": [
    {
      "cell_type": "markdown",
      "metadata": {
        "id": "view-in-github",
        "colab_type": "text"
      },
      "source": [
        "<a href=\"https://colab.research.google.com/github/victorncg/financas_quantitativas/blob/main/Explora%C3%A7%C3%A3o_da_API_Fundamentus.ipynb\" target=\"_parent\"><img src=\"https://colab.research.google.com/assets/colab-badge.svg\" alt=\"Open In Colab\"/></a>"
      ]
    },
    {
      "cell_type": "markdown",
      "source": [
        "# **API Fundamentus**\n",
        "\n",
        "Disponível no Link:\n",
        "\n",
        "https://github.com/mv/fundamentus-api"
      ],
      "metadata": {
        "id": "fsY0dab2nkTA"
      }
    },
    {
      "cell_type": "markdown",
      "source": [
        "Rascunho\n",
        "\n",
        "Última versão: 27/08/22"
      ],
      "metadata": {
        "id": "7t0Va0q2n0Z8"
      }
    },
    {
      "cell_type": "code",
      "source": [
        "!pip install cStringIO"
      ],
      "metadata": {
        "colab": {
          "base_uri": "https://localhost:8080/"
        },
        "id": "aNmgyiquq0Wb",
        "outputId": "fe22ee18-0835-4cff-f7d2-1f7880328775"
      },
      "execution_count": 84,
      "outputs": [
        {
          "output_type": "stream",
          "name": "stdout",
          "text": [
            "Looking in indexes: https://pypi.org/simple, https://us-python.pkg.dev/colab-wheels/public/simple/\n",
            "\u001b[31mERROR: Could not find a version that satisfies the requirement cStringIO (from versions: none)\u001b[0m\n",
            "\u001b[31mERROR: No matching distribution found for cStringIO\u001b[0m\n"
          ]
        }
      ]
    },
    {
      "cell_type": "code",
      "source": [
        "!pip install requests-cache"
      ],
      "metadata": {
        "colab": {
          "base_uri": "https://localhost:8080/"
        },
        "id": "OUwZsSgAkjbA",
        "outputId": "63a29a64-0a4f-4102-8ba2-b2d1056bd753"
      },
      "execution_count": 32,
      "outputs": [
        {
          "output_type": "stream",
          "name": "stdout",
          "text": [
            "Looking in indexes: https://pypi.org/simple, https://us-python.pkg.dev/colab-wheels/public/simple/\n",
            "Requirement already satisfied: requests-cache in /usr/local/lib/python3.7/dist-packages (0.9.6)\n",
            "Requirement already satisfied: requests>=2.22 in /usr/local/lib/python3.7/dist-packages (from requests-cache) (2.28.1)\n",
            "Requirement already satisfied: cattrs>=1.8 in /usr/local/lib/python3.7/dist-packages (from requests-cache) (22.1.0)\n",
            "Requirement already satisfied: attrs>=21.2 in /usr/local/lib/python3.7/dist-packages (from requests-cache) (22.1.0)\n",
            "Requirement already satisfied: url-normalize>=1.4 in /usr/local/lib/python3.7/dist-packages (from requests-cache) (1.4.3)\n",
            "Requirement already satisfied: urllib3>=1.25.5 in /usr/local/lib/python3.7/dist-packages (from requests-cache) (1.26.12)\n",
            "Requirement already satisfied: appdirs>=1.4.4 in /usr/local/lib/python3.7/dist-packages (from requests-cache) (1.4.4)\n",
            "Requirement already satisfied: exceptiongroup in /usr/local/lib/python3.7/dist-packages (from cattrs>=1.8->requests-cache) (1.0.0rc8)\n",
            "Requirement already satisfied: typing_extensions in /usr/local/lib/python3.7/dist-packages (from cattrs>=1.8->requests-cache) (4.1.1)\n",
            "Requirement already satisfied: charset-normalizer<3,>=2 in /usr/local/lib/python3.7/dist-packages (from requests>=2.22->requests-cache) (2.1.0)\n",
            "Requirement already satisfied: idna<4,>=2.5 in /usr/local/lib/python3.7/dist-packages (from requests>=2.22->requests-cache) (2.10)\n",
            "Requirement already satisfied: certifi>=2017.4.17 in /usr/local/lib/python3.7/dist-packages (from requests>=2.22->requests-cache) (2022.6.15)\n",
            "Requirement already satisfied: six in /usr/local/lib/python3.7/dist-packages (from url-normalize>=1.4->requests-cache) (1.15.0)\n"
          ]
        }
      ]
    },
    {
      "cell_type": "code",
      "execution_count": 1,
      "metadata": {
        "colab": {
          "base_uri": "https://localhost:8080/"
        },
        "id": "AMLgFTo9Zrh8",
        "outputId": "a9c2fbdb-e378-40b8-f6b9-813445642d25"
      },
      "outputs": [
        {
          "output_type": "stream",
          "name": "stdout",
          "text": [
            "Looking in indexes: https://pypi.org/simple, https://us-python.pkg.dev/colab-wheels/public/simple/\n",
            "Collecting fundamentus\n",
            "  Downloading fundamentus-0.2.0-py3-none-any.whl (13 kB)\n",
            "Requirement already satisfied: tabulate>=0.8.7 in /usr/local/lib/python3.7/dist-packages (from fundamentus) (0.8.10)\n",
            "Collecting requests>=2.25.1\n",
            "  Downloading requests-2.28.1-py3-none-any.whl (62 kB)\n",
            "\u001b[K     |████████████████████████████████| 62 kB 1.1 MB/s \n",
            "\u001b[?25hRequirement already satisfied: pandas>=1.1.5 in /usr/local/lib/python3.7/dist-packages (from fundamentus) (1.3.5)\n",
            "Collecting requests-cache>=0.5.2\n",
            "  Downloading requests_cache-0.9.6-py3-none-any.whl (47 kB)\n",
            "\u001b[K     |████████████████████████████████| 47 kB 3.4 MB/s \n",
            "\u001b[?25hRequirement already satisfied: lxml>=4.6.2 in /usr/local/lib/python3.7/dist-packages (from fundamentus) (4.9.1)\n",
            "Requirement already satisfied: python-dateutil>=2.7.3 in /usr/local/lib/python3.7/dist-packages (from pandas>=1.1.5->fundamentus) (2.8.2)\n",
            "Requirement already satisfied: numpy>=1.17.3 in /usr/local/lib/python3.7/dist-packages (from pandas>=1.1.5->fundamentus) (1.21.6)\n",
            "Requirement already satisfied: pytz>=2017.3 in /usr/local/lib/python3.7/dist-packages (from pandas>=1.1.5->fundamentus) (2022.2.1)\n",
            "Requirement already satisfied: six>=1.5 in /usr/local/lib/python3.7/dist-packages (from python-dateutil>=2.7.3->pandas>=1.1.5->fundamentus) (1.15.0)\n",
            "Requirement already satisfied: urllib3<1.27,>=1.21.1 in /usr/local/lib/python3.7/dist-packages (from requests>=2.25.1->fundamentus) (1.24.3)\n",
            "Requirement already satisfied: idna<4,>=2.5 in /usr/local/lib/python3.7/dist-packages (from requests>=2.25.1->fundamentus) (2.10)\n",
            "Requirement already satisfied: certifi>=2017.4.17 in /usr/local/lib/python3.7/dist-packages (from requests>=2.25.1->fundamentus) (2022.6.15)\n",
            "Requirement already satisfied: charset-normalizer<3,>=2 in /usr/local/lib/python3.7/dist-packages (from requests>=2.25.1->fundamentus) (2.1.0)\n",
            "Collecting url-normalize>=1.4\n",
            "  Downloading url_normalize-1.4.3-py2.py3-none-any.whl (6.8 kB)\n",
            "Collecting cattrs>=1.8\n",
            "  Downloading cattrs-22.1.0-py3-none-any.whl (33 kB)\n",
            "Collecting urllib3<1.27,>=1.21.1\n",
            "  Downloading urllib3-1.26.12-py2.py3-none-any.whl (140 kB)\n",
            "\u001b[K     |████████████████████████████████| 140 kB 9.2 MB/s \n",
            "\u001b[?25hRequirement already satisfied: attrs>=21.2 in /usr/local/lib/python3.7/dist-packages (from requests-cache>=0.5.2->fundamentus) (22.1.0)\n",
            "Requirement already satisfied: appdirs>=1.4.4 in /usr/local/lib/python3.7/dist-packages (from requests-cache>=0.5.2->fundamentus) (1.4.4)\n",
            "Collecting exceptiongroup\n",
            "  Downloading exceptiongroup-1.0.0rc8-py3-none-any.whl (11 kB)\n",
            "Requirement already satisfied: typing_extensions in /usr/local/lib/python3.7/dist-packages (from cattrs>=1.8->requests-cache>=0.5.2->fundamentus) (4.1.1)\n",
            "Installing collected packages: urllib3, exceptiongroup, url-normalize, requests, cattrs, requests-cache, fundamentus\n",
            "  Attempting uninstall: urllib3\n",
            "    Found existing installation: urllib3 1.24.3\n",
            "    Uninstalling urllib3-1.24.3:\n",
            "      Successfully uninstalled urllib3-1.24.3\n",
            "  Attempting uninstall: requests\n",
            "    Found existing installation: requests 2.23.0\n",
            "    Uninstalling requests-2.23.0:\n",
            "      Successfully uninstalled requests-2.23.0\n",
            "Successfully installed cattrs-22.1.0 exceptiongroup-1.0.0rc8 fundamentus-0.2.0 requests-2.28.1 requests-cache-0.9.6 url-normalize-1.4.3 urllib3-1.26.12\n"
          ]
        }
      ],
      "source": [
        "!pip install fundamentus"
      ]
    },
    {
      "cell_type": "code",
      "source": [
        "import fundamentus\n",
        "import requests_cache\n",
        "import requests\n",
        "import time, logging\n",
        "import pandas as pd"
      ],
      "metadata": {
        "id": "t5TNgcWyZtJH"
      },
      "execution_count": 43,
      "outputs": []
    },
    {
      "cell_type": "code",
      "source": [
        "df = fundamentus.get_resultado()"
      ],
      "metadata": {
        "id": "UOEblMS9bnI5"
      },
      "execution_count": 11,
      "outputs": []
    },
    {
      "cell_type": "code",
      "source": [
        "print(df.columns)"
      ],
      "metadata": {
        "colab": {
          "base_uri": "https://localhost:8080/"
        },
        "id": "uHnHj-RGbgGl",
        "outputId": "a814b147-1ccf-4cd5-a2a2-c27a78998b42"
      },
      "execution_count": 6,
      "outputs": [
        {
          "output_type": "stream",
          "name": "stdout",
          "text": [
            "Index(['cotacao', 'pl', 'pvp', 'psr', 'dy', 'pa', 'pcg', 'pebit', 'pacl',\n",
            "       'evebit', 'evebitda', 'mrgebit', 'mrgliq', 'roic', 'roe', 'liqc',\n",
            "       'liq2m', 'patrliq', 'divbpatr', 'c5y'],\n",
            "      dtype='object', name='Multiples')\n"
          ]
        }
      ]
    },
    {
      "cell_type": "code",
      "source": [
        "df"
      ],
      "metadata": {
        "colab": {
          "base_uri": "https://localhost:8080/",
          "height": 519
        },
        "id": "cBLprIwKbrRe",
        "outputId": "249cd780-bab4-4b3b-bca1-985ffe924179"
      },
      "execution_count": 8,
      "outputs": [
        {
          "output_type": "execute_result",
          "data": {
            "text/plain": [
              "Multiples  cotacao      pl   pvp    psr      dy     pa    pcg  pebit   pacl  \\\n",
              "papel                                                                         \n",
              "AALR3        20.13  -43.13  2.08  2.146  0.0000  0.925 -25.62  32.12  -2.53   \n",
              "ABCB3         0.00    0.00  0.00  0.000  0.0000  0.000   0.00   0.00   0.00   \n",
              "ABCB4        19.23    6.24  0.89  0.000  0.0598  0.000   0.00   0.00   0.00   \n",
              "ABEV3        15.67   18.22  2.86  3.208  0.0385  1.806  56.86  15.92 -22.84   \n",
              "ABYA3         4.91 -214.80  1.76  2.055  0.0000  0.527   1.98  19.96  -2.75   \n",
              "...            ...     ...   ...    ...     ...    ...    ...    ...    ...   \n",
              "WLMM3        19.44    7.00  1.23  0.456  0.0455  1.008   2.43   7.05   3.06   \n",
              "WLMM4        25.97    9.35  1.64  0.609  0.0375  1.347   3.25   9.42   4.09   \n",
              "WMBY3        25.39  -19.30  2.87  0.836  0.0000  0.182   1.20   8.62  -1.50   \n",
              "WSON33       67.00    8.07  0.98  1.067  0.0000  0.400  13.41   2.42  -0.89   \n",
              "YDUQ3        12.76  363.97  1.26  0.881  0.0099  0.399   3.69   7.74  -0.99   \n",
              "\n",
              "Multiples  evebit  evebitda  mrgebit  mrgliq    roic     roe  liqc  \\\n",
              "papel                                                                \n",
              "AALR3       39.79     15.45   0.0668 -0.0422  0.0330 -0.0482  0.83   \n",
              "ABCB3        0.00      0.00   0.0000  0.0000  0.0000  0.1418  0.00   \n",
              "ABCB4        0.00      0.00   0.0000  0.0000  0.0000  0.1418  0.00   \n",
              "ABEV3       15.12     11.30   0.2015  0.1827  0.1533  0.1570  1.13   \n",
              "ABYA3       33.67     33.67   0.1029 -0.0096  0.0278 -0.0082  2.09   \n",
              "...           ...       ...      ...     ...     ...     ...   ...   \n",
              "WLMM3        6.18      5.94   0.0647  0.0652  0.1710  0.1750  5.59   \n",
              "WLMM4        8.54      8.21   0.0647  0.0652  0.1710  0.1750  5.59   \n",
              "WMBY3       25.02     25.02   0.0970 -0.0705  0.0239 -0.1486  1.44   \n",
              "WSON33       5.08      5.08   0.4414  0.1358  0.1836  0.1217  1.26   \n",
              "YDUQ3       15.92      6.57   0.1139  0.0025  0.0621  0.0035  1.64   \n",
              "\n",
              "Multiples         liq2m       patrliq  divbpatr     c5y  \n",
              "papel                                                    \n",
              "AALR3      5.741650e+06  1.145370e+09      0.71  0.0086  \n",
              "ABCB3      0.000000e+00  4.910570e+09      0.00  0.2080  \n",
              "ABCB4      1.324560e+07  4.910570e+09      0.00  0.2080  \n",
              "ABEV3      3.607020e+08  8.626310e+10      0.04  0.1195  \n",
              "ABYA3      0.000000e+00  2.920600e+08      1.31  0.1641  \n",
              "...                 ...           ...       ...     ...  \n",
              "WLMM3      1.320510e+03  5.777790e+08      0.02  0.2890  \n",
              "WLMM4      2.784290e+04  5.777790e+08      0.02  0.2890  \n",
              "WMBY3      0.000000e+00  2.124390e+08      6.51 -0.1448  \n",
              "WSON33     0.000000e+00  2.148530e+09      1.21  0.0523  \n",
              "YDUQ3      5.617590e+07  3.137430e+09      1.80  0.0632  \n",
              "\n",
              "[968 rows x 20 columns]"
            ],
            "text/html": [
              "\n",
              "  <div id=\"df-e39ccc00-de6c-47c9-a9fa-f7b593314a7d\">\n",
              "    <div class=\"colab-df-container\">\n",
              "      <div>\n",
              "<style scoped>\n",
              "    .dataframe tbody tr th:only-of-type {\n",
              "        vertical-align: middle;\n",
              "    }\n",
              "\n",
              "    .dataframe tbody tr th {\n",
              "        vertical-align: top;\n",
              "    }\n",
              "\n",
              "    .dataframe thead th {\n",
              "        text-align: right;\n",
              "    }\n",
              "</style>\n",
              "<table border=\"1\" class=\"dataframe\">\n",
              "  <thead>\n",
              "    <tr style=\"text-align: right;\">\n",
              "      <th>Multiples</th>\n",
              "      <th>cotacao</th>\n",
              "      <th>pl</th>\n",
              "      <th>pvp</th>\n",
              "      <th>psr</th>\n",
              "      <th>dy</th>\n",
              "      <th>pa</th>\n",
              "      <th>pcg</th>\n",
              "      <th>pebit</th>\n",
              "      <th>pacl</th>\n",
              "      <th>evebit</th>\n",
              "      <th>evebitda</th>\n",
              "      <th>mrgebit</th>\n",
              "      <th>mrgliq</th>\n",
              "      <th>roic</th>\n",
              "      <th>roe</th>\n",
              "      <th>liqc</th>\n",
              "      <th>liq2m</th>\n",
              "      <th>patrliq</th>\n",
              "      <th>divbpatr</th>\n",
              "      <th>c5y</th>\n",
              "    </tr>\n",
              "    <tr>\n",
              "      <th>papel</th>\n",
              "      <th></th>\n",
              "      <th></th>\n",
              "      <th></th>\n",
              "      <th></th>\n",
              "      <th></th>\n",
              "      <th></th>\n",
              "      <th></th>\n",
              "      <th></th>\n",
              "      <th></th>\n",
              "      <th></th>\n",
              "      <th></th>\n",
              "      <th></th>\n",
              "      <th></th>\n",
              "      <th></th>\n",
              "      <th></th>\n",
              "      <th></th>\n",
              "      <th></th>\n",
              "      <th></th>\n",
              "      <th></th>\n",
              "      <th></th>\n",
              "    </tr>\n",
              "  </thead>\n",
              "  <tbody>\n",
              "    <tr>\n",
              "      <th>AALR3</th>\n",
              "      <td>20.13</td>\n",
              "      <td>-43.13</td>\n",
              "      <td>2.08</td>\n",
              "      <td>2.146</td>\n",
              "      <td>0.0000</td>\n",
              "      <td>0.925</td>\n",
              "      <td>-25.62</td>\n",
              "      <td>32.12</td>\n",
              "      <td>-2.53</td>\n",
              "      <td>39.79</td>\n",
              "      <td>15.45</td>\n",
              "      <td>0.0668</td>\n",
              "      <td>-0.0422</td>\n",
              "      <td>0.0330</td>\n",
              "      <td>-0.0482</td>\n",
              "      <td>0.83</td>\n",
              "      <td>5.741650e+06</td>\n",
              "      <td>1.145370e+09</td>\n",
              "      <td>0.71</td>\n",
              "      <td>0.0086</td>\n",
              "    </tr>\n",
              "    <tr>\n",
              "      <th>ABCB3</th>\n",
              "      <td>0.00</td>\n",
              "      <td>0.00</td>\n",
              "      <td>0.00</td>\n",
              "      <td>0.000</td>\n",
              "      <td>0.0000</td>\n",
              "      <td>0.000</td>\n",
              "      <td>0.00</td>\n",
              "      <td>0.00</td>\n",
              "      <td>0.00</td>\n",
              "      <td>0.00</td>\n",
              "      <td>0.00</td>\n",
              "      <td>0.0000</td>\n",
              "      <td>0.0000</td>\n",
              "      <td>0.0000</td>\n",
              "      <td>0.1418</td>\n",
              "      <td>0.00</td>\n",
              "      <td>0.000000e+00</td>\n",
              "      <td>4.910570e+09</td>\n",
              "      <td>0.00</td>\n",
              "      <td>0.2080</td>\n",
              "    </tr>\n",
              "    <tr>\n",
              "      <th>ABCB4</th>\n",
              "      <td>19.23</td>\n",
              "      <td>6.24</td>\n",
              "      <td>0.89</td>\n",
              "      <td>0.000</td>\n",
              "      <td>0.0598</td>\n",
              "      <td>0.000</td>\n",
              "      <td>0.00</td>\n",
              "      <td>0.00</td>\n",
              "      <td>0.00</td>\n",
              "      <td>0.00</td>\n",
              "      <td>0.00</td>\n",
              "      <td>0.0000</td>\n",
              "      <td>0.0000</td>\n",
              "      <td>0.0000</td>\n",
              "      <td>0.1418</td>\n",
              "      <td>0.00</td>\n",
              "      <td>1.324560e+07</td>\n",
              "      <td>4.910570e+09</td>\n",
              "      <td>0.00</td>\n",
              "      <td>0.2080</td>\n",
              "    </tr>\n",
              "    <tr>\n",
              "      <th>ABEV3</th>\n",
              "      <td>15.67</td>\n",
              "      <td>18.22</td>\n",
              "      <td>2.86</td>\n",
              "      <td>3.208</td>\n",
              "      <td>0.0385</td>\n",
              "      <td>1.806</td>\n",
              "      <td>56.86</td>\n",
              "      <td>15.92</td>\n",
              "      <td>-22.84</td>\n",
              "      <td>15.12</td>\n",
              "      <td>11.30</td>\n",
              "      <td>0.2015</td>\n",
              "      <td>0.1827</td>\n",
              "      <td>0.1533</td>\n",
              "      <td>0.1570</td>\n",
              "      <td>1.13</td>\n",
              "      <td>3.607020e+08</td>\n",
              "      <td>8.626310e+10</td>\n",
              "      <td>0.04</td>\n",
              "      <td>0.1195</td>\n",
              "    </tr>\n",
              "    <tr>\n",
              "      <th>ABYA3</th>\n",
              "      <td>4.91</td>\n",
              "      <td>-214.80</td>\n",
              "      <td>1.76</td>\n",
              "      <td>2.055</td>\n",
              "      <td>0.0000</td>\n",
              "      <td>0.527</td>\n",
              "      <td>1.98</td>\n",
              "      <td>19.96</td>\n",
              "      <td>-2.75</td>\n",
              "      <td>33.67</td>\n",
              "      <td>33.67</td>\n",
              "      <td>0.1029</td>\n",
              "      <td>-0.0096</td>\n",
              "      <td>0.0278</td>\n",
              "      <td>-0.0082</td>\n",
              "      <td>2.09</td>\n",
              "      <td>0.000000e+00</td>\n",
              "      <td>2.920600e+08</td>\n",
              "      <td>1.31</td>\n",
              "      <td>0.1641</td>\n",
              "    </tr>\n",
              "    <tr>\n",
              "      <th>...</th>\n",
              "      <td>...</td>\n",
              "      <td>...</td>\n",
              "      <td>...</td>\n",
              "      <td>...</td>\n",
              "      <td>...</td>\n",
              "      <td>...</td>\n",
              "      <td>...</td>\n",
              "      <td>...</td>\n",
              "      <td>...</td>\n",
              "      <td>...</td>\n",
              "      <td>...</td>\n",
              "      <td>...</td>\n",
              "      <td>...</td>\n",
              "      <td>...</td>\n",
              "      <td>...</td>\n",
              "      <td>...</td>\n",
              "      <td>...</td>\n",
              "      <td>...</td>\n",
              "      <td>...</td>\n",
              "      <td>...</td>\n",
              "    </tr>\n",
              "    <tr>\n",
              "      <th>WLMM3</th>\n",
              "      <td>19.44</td>\n",
              "      <td>7.00</td>\n",
              "      <td>1.23</td>\n",
              "      <td>0.456</td>\n",
              "      <td>0.0455</td>\n",
              "      <td>1.008</td>\n",
              "      <td>2.43</td>\n",
              "      <td>7.05</td>\n",
              "      <td>3.06</td>\n",
              "      <td>6.18</td>\n",
              "      <td>5.94</td>\n",
              "      <td>0.0647</td>\n",
              "      <td>0.0652</td>\n",
              "      <td>0.1710</td>\n",
              "      <td>0.1750</td>\n",
              "      <td>5.59</td>\n",
              "      <td>1.320510e+03</td>\n",
              "      <td>5.777790e+08</td>\n",
              "      <td>0.02</td>\n",
              "      <td>0.2890</td>\n",
              "    </tr>\n",
              "    <tr>\n",
              "      <th>WLMM4</th>\n",
              "      <td>25.97</td>\n",
              "      <td>9.35</td>\n",
              "      <td>1.64</td>\n",
              "      <td>0.609</td>\n",
              "      <td>0.0375</td>\n",
              "      <td>1.347</td>\n",
              "      <td>3.25</td>\n",
              "      <td>9.42</td>\n",
              "      <td>4.09</td>\n",
              "      <td>8.54</td>\n",
              "      <td>8.21</td>\n",
              "      <td>0.0647</td>\n",
              "      <td>0.0652</td>\n",
              "      <td>0.1710</td>\n",
              "      <td>0.1750</td>\n",
              "      <td>5.59</td>\n",
              "      <td>2.784290e+04</td>\n",
              "      <td>5.777790e+08</td>\n",
              "      <td>0.02</td>\n",
              "      <td>0.2890</td>\n",
              "    </tr>\n",
              "    <tr>\n",
              "      <th>WMBY3</th>\n",
              "      <td>25.39</td>\n",
              "      <td>-19.30</td>\n",
              "      <td>2.87</td>\n",
              "      <td>0.836</td>\n",
              "      <td>0.0000</td>\n",
              "      <td>0.182</td>\n",
              "      <td>1.20</td>\n",
              "      <td>8.62</td>\n",
              "      <td>-1.50</td>\n",
              "      <td>25.02</td>\n",
              "      <td>25.02</td>\n",
              "      <td>0.0970</td>\n",
              "      <td>-0.0705</td>\n",
              "      <td>0.0239</td>\n",
              "      <td>-0.1486</td>\n",
              "      <td>1.44</td>\n",
              "      <td>0.000000e+00</td>\n",
              "      <td>2.124390e+08</td>\n",
              "      <td>6.51</td>\n",
              "      <td>-0.1448</td>\n",
              "    </tr>\n",
              "    <tr>\n",
              "      <th>WSON33</th>\n",
              "      <td>67.00</td>\n",
              "      <td>8.07</td>\n",
              "      <td>0.98</td>\n",
              "      <td>1.067</td>\n",
              "      <td>0.0000</td>\n",
              "      <td>0.400</td>\n",
              "      <td>13.41</td>\n",
              "      <td>2.42</td>\n",
              "      <td>-0.89</td>\n",
              "      <td>5.08</td>\n",
              "      <td>5.08</td>\n",
              "      <td>0.4414</td>\n",
              "      <td>0.1358</td>\n",
              "      <td>0.1836</td>\n",
              "      <td>0.1217</td>\n",
              "      <td>1.26</td>\n",
              "      <td>0.000000e+00</td>\n",
              "      <td>2.148530e+09</td>\n",
              "      <td>1.21</td>\n",
              "      <td>0.0523</td>\n",
              "    </tr>\n",
              "    <tr>\n",
              "      <th>YDUQ3</th>\n",
              "      <td>12.76</td>\n",
              "      <td>363.97</td>\n",
              "      <td>1.26</td>\n",
              "      <td>0.881</td>\n",
              "      <td>0.0099</td>\n",
              "      <td>0.399</td>\n",
              "      <td>3.69</td>\n",
              "      <td>7.74</td>\n",
              "      <td>-0.99</td>\n",
              "      <td>15.92</td>\n",
              "      <td>6.57</td>\n",
              "      <td>0.1139</td>\n",
              "      <td>0.0025</td>\n",
              "      <td>0.0621</td>\n",
              "      <td>0.0035</td>\n",
              "      <td>1.64</td>\n",
              "      <td>5.617590e+07</td>\n",
              "      <td>3.137430e+09</td>\n",
              "      <td>1.80</td>\n",
              "      <td>0.0632</td>\n",
              "    </tr>\n",
              "  </tbody>\n",
              "</table>\n",
              "<p>968 rows × 20 columns</p>\n",
              "</div>\n",
              "      <button class=\"colab-df-convert\" onclick=\"convertToInteractive('df-e39ccc00-de6c-47c9-a9fa-f7b593314a7d')\"\n",
              "              title=\"Convert this dataframe to an interactive table.\"\n",
              "              style=\"display:none;\">\n",
              "        \n",
              "  <svg xmlns=\"http://www.w3.org/2000/svg\" height=\"24px\"viewBox=\"0 0 24 24\"\n",
              "       width=\"24px\">\n",
              "    <path d=\"M0 0h24v24H0V0z\" fill=\"none\"/>\n",
              "    <path d=\"M18.56 5.44l.94 2.06.94-2.06 2.06-.94-2.06-.94-.94-2.06-.94 2.06-2.06.94zm-11 1L8.5 8.5l.94-2.06 2.06-.94-2.06-.94L8.5 2.5l-.94 2.06-2.06.94zm10 10l.94 2.06.94-2.06 2.06-.94-2.06-.94-.94-2.06-.94 2.06-2.06.94z\"/><path d=\"M17.41 7.96l-1.37-1.37c-.4-.4-.92-.59-1.43-.59-.52 0-1.04.2-1.43.59L10.3 9.45l-7.72 7.72c-.78.78-.78 2.05 0 2.83L4 21.41c.39.39.9.59 1.41.59.51 0 1.02-.2 1.41-.59l7.78-7.78 2.81-2.81c.8-.78.8-2.07 0-2.86zM5.41 20L4 18.59l7.72-7.72 1.47 1.35L5.41 20z\"/>\n",
              "  </svg>\n",
              "      </button>\n",
              "      \n",
              "  <style>\n",
              "    .colab-df-container {\n",
              "      display:flex;\n",
              "      flex-wrap:wrap;\n",
              "      gap: 12px;\n",
              "    }\n",
              "\n",
              "    .colab-df-convert {\n",
              "      background-color: #E8F0FE;\n",
              "      border: none;\n",
              "      border-radius: 50%;\n",
              "      cursor: pointer;\n",
              "      display: none;\n",
              "      fill: #1967D2;\n",
              "      height: 32px;\n",
              "      padding: 0 0 0 0;\n",
              "      width: 32px;\n",
              "    }\n",
              "\n",
              "    .colab-df-convert:hover {\n",
              "      background-color: #E2EBFA;\n",
              "      box-shadow: 0px 1px 2px rgba(60, 64, 67, 0.3), 0px 1px 3px 1px rgba(60, 64, 67, 0.15);\n",
              "      fill: #174EA6;\n",
              "    }\n",
              "\n",
              "    [theme=dark] .colab-df-convert {\n",
              "      background-color: #3B4455;\n",
              "      fill: #D2E3FC;\n",
              "    }\n",
              "\n",
              "    [theme=dark] .colab-df-convert:hover {\n",
              "      background-color: #434B5C;\n",
              "      box-shadow: 0px 1px 3px 1px rgba(0, 0, 0, 0.15);\n",
              "      filter: drop-shadow(0px 1px 2px rgba(0, 0, 0, 0.3));\n",
              "      fill: #FFFFFF;\n",
              "    }\n",
              "  </style>\n",
              "\n",
              "      <script>\n",
              "        const buttonEl =\n",
              "          document.querySelector('#df-e39ccc00-de6c-47c9-a9fa-f7b593314a7d button.colab-df-convert');\n",
              "        buttonEl.style.display =\n",
              "          google.colab.kernel.accessAllowed ? 'block' : 'none';\n",
              "\n",
              "        async function convertToInteractive(key) {\n",
              "          const element = document.querySelector('#df-e39ccc00-de6c-47c9-a9fa-f7b593314a7d');\n",
              "          const dataTable =\n",
              "            await google.colab.kernel.invokeFunction('convertToInteractive',\n",
              "                                                     [key], {});\n",
              "          if (!dataTable) return;\n",
              "\n",
              "          const docLinkHtml = 'Like what you see? Visit the ' +\n",
              "            '<a target=\"_blank\" href=https://colab.research.google.com/notebooks/data_table.ipynb>data table notebook</a>'\n",
              "            + ' to learn more about interactive tables.';\n",
              "          element.innerHTML = '';\n",
              "          dataTable['output_type'] = 'display_data';\n",
              "          await google.colab.output.renderOutput(dataTable, element);\n",
              "          const docLink = document.createElement('div');\n",
              "          docLink.innerHTML = docLinkHtml;\n",
              "          element.appendChild(docLink);\n",
              "        }\n",
              "      </script>\n",
              "    </div>\n",
              "  </div>\n",
              "  "
            ]
          },
          "metadata": {},
          "execution_count": 8
        }
      ]
    },
    {
      "cell_type": "code",
      "source": [
        "df = df[ df.pl  > 0   ]"
      ],
      "metadata": {
        "id": "TlHETZCscNg1"
      },
      "execution_count": 9,
      "outputs": []
    },
    {
      "cell_type": "code",
      "source": [
        "df"
      ],
      "metadata": {
        "colab": {
          "base_uri": "https://localhost:8080/",
          "height": 519
        },
        "id": "egiMpuIDcwKm",
        "outputId": "5d3f27bc-62ad-4820-bdca-8cbe730f8b76"
      },
      "execution_count": 10,
      "outputs": [
        {
          "output_type": "execute_result",
          "data": {
            "text/plain": [
              "Multiples  cotacao      pl   pvp    psr      dy     pa    pcg  pebit   pacl  \\\n",
              "papel                                                                         \n",
              "ABCB4        19.23    6.24  0.89  0.000  0.0598  0.000   0.00   0.00   0.00   \n",
              "ABEV3        15.67   18.22  2.86  3.208  0.0385  1.806  56.86  15.92 -22.84   \n",
              "ACES3        95.27    8.79  2.28  1.693  0.0000  1.438   6.40   7.20  20.77   \n",
              "ACES4        94.73    8.74  2.27  1.683  0.0000  1.430   6.37   7.16  20.65   \n",
              "AEDU11       37.35   20.13  1.13  1.405  0.0000  0.732   5.77  13.93  -7.31   \n",
              "...            ...     ...   ...    ...     ...    ...    ...    ...    ...   \n",
              "WIZS3         8.55   10.86  3.57  1.644  0.0688  0.701  -9.76   4.09  -1.93   \n",
              "WLMM3        19.44    7.00  1.23  0.456  0.0455  1.008   2.43   7.05   3.06   \n",
              "WLMM4        25.97    9.35  1.64  0.609  0.0375  1.347   3.25   9.42   4.09   \n",
              "WSON33       67.00    8.07  0.98  1.067  0.0000  0.400  13.41   2.42  -0.89   \n",
              "YDUQ3        12.76  363.97  1.26  0.881  0.0099  0.399   3.69   7.74  -0.99   \n",
              "\n",
              "Multiples  evebit  evebitda  mrgebit  mrgliq    roic     roe  liqc  \\\n",
              "papel                                                                \n",
              "ABCB4        0.00      0.00   0.0000  0.0000  0.0000  0.1418  0.00   \n",
              "ABEV3       15.12     11.30   0.2015  0.1827  0.1533  0.1570  1.13   \n",
              "ACES3        6.54      6.54   0.2352  0.1927  0.2690  0.2595  2.05   \n",
              "ACES4        6.50      6.50   0.2352  0.1927  0.2690  0.2595  2.05   \n",
              "AEDU11      16.14     10.82   0.1008  0.0698  0.0577  0.0560  2.04   \n",
              "...           ...       ...      ...     ...     ...     ...   ...   \n",
              "WIZS3        4.13      3.58   0.4021  0.2118  0.2012  0.3289  0.71   \n",
              "WLMM3        6.18      5.94   0.0647  0.0652  0.1710  0.1750  5.59   \n",
              "WLMM4        8.54      8.21   0.0647  0.0652  0.1710  0.1750  5.59   \n",
              "WSON33       5.08      5.08   0.4414  0.1358  0.1836  0.1217  1.26   \n",
              "YDUQ3       15.92      6.57   0.1139  0.0025  0.0621  0.0035  1.64   \n",
              "\n",
              "Multiples         liq2m       patrliq  divbpatr     c5y  \n",
              "papel                                                    \n",
              "ABCB4      1.324560e+07  4.910570e+09      0.00  0.2080  \n",
              "ABEV3      3.607020e+08  8.626310e+10      0.04  0.1195  \n",
              "ACES3      0.000000e+00  3.105800e+09      0.09  0.1334  \n",
              "ACES4      0.000000e+00  3.105800e+09      0.09  0.1334  \n",
              "AEDU11     0.000000e+00  2.415400e+09      0.30  0.2090  \n",
              "...                 ...           ...       ...     ...  \n",
              "WIZS3      6.986000e+06  3.827010e+08      0.61  0.1281  \n",
              "WLMM3      1.320510e+03  5.777790e+08      0.02  0.2890  \n",
              "WLMM4      2.784290e+04  5.777790e+08      0.02  0.2890  \n",
              "WSON33     0.000000e+00  2.148530e+09      1.21  0.0523  \n",
              "YDUQ3      5.617590e+07  3.137430e+09      1.80  0.0632  \n",
              "\n",
              "[615 rows x 20 columns]"
            ],
            "text/html": [
              "\n",
              "  <div id=\"df-473d438e-a68f-4021-a356-61f95bb2d13a\">\n",
              "    <div class=\"colab-df-container\">\n",
              "      <div>\n",
              "<style scoped>\n",
              "    .dataframe tbody tr th:only-of-type {\n",
              "        vertical-align: middle;\n",
              "    }\n",
              "\n",
              "    .dataframe tbody tr th {\n",
              "        vertical-align: top;\n",
              "    }\n",
              "\n",
              "    .dataframe thead th {\n",
              "        text-align: right;\n",
              "    }\n",
              "</style>\n",
              "<table border=\"1\" class=\"dataframe\">\n",
              "  <thead>\n",
              "    <tr style=\"text-align: right;\">\n",
              "      <th>Multiples</th>\n",
              "      <th>cotacao</th>\n",
              "      <th>pl</th>\n",
              "      <th>pvp</th>\n",
              "      <th>psr</th>\n",
              "      <th>dy</th>\n",
              "      <th>pa</th>\n",
              "      <th>pcg</th>\n",
              "      <th>pebit</th>\n",
              "      <th>pacl</th>\n",
              "      <th>evebit</th>\n",
              "      <th>evebitda</th>\n",
              "      <th>mrgebit</th>\n",
              "      <th>mrgliq</th>\n",
              "      <th>roic</th>\n",
              "      <th>roe</th>\n",
              "      <th>liqc</th>\n",
              "      <th>liq2m</th>\n",
              "      <th>patrliq</th>\n",
              "      <th>divbpatr</th>\n",
              "      <th>c5y</th>\n",
              "    </tr>\n",
              "    <tr>\n",
              "      <th>papel</th>\n",
              "      <th></th>\n",
              "      <th></th>\n",
              "      <th></th>\n",
              "      <th></th>\n",
              "      <th></th>\n",
              "      <th></th>\n",
              "      <th></th>\n",
              "      <th></th>\n",
              "      <th></th>\n",
              "      <th></th>\n",
              "      <th></th>\n",
              "      <th></th>\n",
              "      <th></th>\n",
              "      <th></th>\n",
              "      <th></th>\n",
              "      <th></th>\n",
              "      <th></th>\n",
              "      <th></th>\n",
              "      <th></th>\n",
              "      <th></th>\n",
              "    </tr>\n",
              "  </thead>\n",
              "  <tbody>\n",
              "    <tr>\n",
              "      <th>ABCB4</th>\n",
              "      <td>19.23</td>\n",
              "      <td>6.24</td>\n",
              "      <td>0.89</td>\n",
              "      <td>0.000</td>\n",
              "      <td>0.0598</td>\n",
              "      <td>0.000</td>\n",
              "      <td>0.00</td>\n",
              "      <td>0.00</td>\n",
              "      <td>0.00</td>\n",
              "      <td>0.00</td>\n",
              "      <td>0.00</td>\n",
              "      <td>0.0000</td>\n",
              "      <td>0.0000</td>\n",
              "      <td>0.0000</td>\n",
              "      <td>0.1418</td>\n",
              "      <td>0.00</td>\n",
              "      <td>1.324560e+07</td>\n",
              "      <td>4.910570e+09</td>\n",
              "      <td>0.00</td>\n",
              "      <td>0.2080</td>\n",
              "    </tr>\n",
              "    <tr>\n",
              "      <th>ABEV3</th>\n",
              "      <td>15.67</td>\n",
              "      <td>18.22</td>\n",
              "      <td>2.86</td>\n",
              "      <td>3.208</td>\n",
              "      <td>0.0385</td>\n",
              "      <td>1.806</td>\n",
              "      <td>56.86</td>\n",
              "      <td>15.92</td>\n",
              "      <td>-22.84</td>\n",
              "      <td>15.12</td>\n",
              "      <td>11.30</td>\n",
              "      <td>0.2015</td>\n",
              "      <td>0.1827</td>\n",
              "      <td>0.1533</td>\n",
              "      <td>0.1570</td>\n",
              "      <td>1.13</td>\n",
              "      <td>3.607020e+08</td>\n",
              "      <td>8.626310e+10</td>\n",
              "      <td>0.04</td>\n",
              "      <td>0.1195</td>\n",
              "    </tr>\n",
              "    <tr>\n",
              "      <th>ACES3</th>\n",
              "      <td>95.27</td>\n",
              "      <td>8.79</td>\n",
              "      <td>2.28</td>\n",
              "      <td>1.693</td>\n",
              "      <td>0.0000</td>\n",
              "      <td>1.438</td>\n",
              "      <td>6.40</td>\n",
              "      <td>7.20</td>\n",
              "      <td>20.77</td>\n",
              "      <td>6.54</td>\n",
              "      <td>6.54</td>\n",
              "      <td>0.2352</td>\n",
              "      <td>0.1927</td>\n",
              "      <td>0.2690</td>\n",
              "      <td>0.2595</td>\n",
              "      <td>2.05</td>\n",
              "      <td>0.000000e+00</td>\n",
              "      <td>3.105800e+09</td>\n",
              "      <td>0.09</td>\n",
              "      <td>0.1334</td>\n",
              "    </tr>\n",
              "    <tr>\n",
              "      <th>ACES4</th>\n",
              "      <td>94.73</td>\n",
              "      <td>8.74</td>\n",
              "      <td>2.27</td>\n",
              "      <td>1.683</td>\n",
              "      <td>0.0000</td>\n",
              "      <td>1.430</td>\n",
              "      <td>6.37</td>\n",
              "      <td>7.16</td>\n",
              "      <td>20.65</td>\n",
              "      <td>6.50</td>\n",
              "      <td>6.50</td>\n",
              "      <td>0.2352</td>\n",
              "      <td>0.1927</td>\n",
              "      <td>0.2690</td>\n",
              "      <td>0.2595</td>\n",
              "      <td>2.05</td>\n",
              "      <td>0.000000e+00</td>\n",
              "      <td>3.105800e+09</td>\n",
              "      <td>0.09</td>\n",
              "      <td>0.1334</td>\n",
              "    </tr>\n",
              "    <tr>\n",
              "      <th>AEDU11</th>\n",
              "      <td>37.35</td>\n",
              "      <td>20.13</td>\n",
              "      <td>1.13</td>\n",
              "      <td>1.405</td>\n",
              "      <td>0.0000</td>\n",
              "      <td>0.732</td>\n",
              "      <td>5.77</td>\n",
              "      <td>13.93</td>\n",
              "      <td>-7.31</td>\n",
              "      <td>16.14</td>\n",
              "      <td>10.82</td>\n",
              "      <td>0.1008</td>\n",
              "      <td>0.0698</td>\n",
              "      <td>0.0577</td>\n",
              "      <td>0.0560</td>\n",
              "      <td>2.04</td>\n",
              "      <td>0.000000e+00</td>\n",
              "      <td>2.415400e+09</td>\n",
              "      <td>0.30</td>\n",
              "      <td>0.2090</td>\n",
              "    </tr>\n",
              "    <tr>\n",
              "      <th>...</th>\n",
              "      <td>...</td>\n",
              "      <td>...</td>\n",
              "      <td>...</td>\n",
              "      <td>...</td>\n",
              "      <td>...</td>\n",
              "      <td>...</td>\n",
              "      <td>...</td>\n",
              "      <td>...</td>\n",
              "      <td>...</td>\n",
              "      <td>...</td>\n",
              "      <td>...</td>\n",
              "      <td>...</td>\n",
              "      <td>...</td>\n",
              "      <td>...</td>\n",
              "      <td>...</td>\n",
              "      <td>...</td>\n",
              "      <td>...</td>\n",
              "      <td>...</td>\n",
              "      <td>...</td>\n",
              "      <td>...</td>\n",
              "    </tr>\n",
              "    <tr>\n",
              "      <th>WIZS3</th>\n",
              "      <td>8.55</td>\n",
              "      <td>10.86</td>\n",
              "      <td>3.57</td>\n",
              "      <td>1.644</td>\n",
              "      <td>0.0688</td>\n",
              "      <td>0.701</td>\n",
              "      <td>-9.76</td>\n",
              "      <td>4.09</td>\n",
              "      <td>-1.93</td>\n",
              "      <td>4.13</td>\n",
              "      <td>3.58</td>\n",
              "      <td>0.4021</td>\n",
              "      <td>0.2118</td>\n",
              "      <td>0.2012</td>\n",
              "      <td>0.3289</td>\n",
              "      <td>0.71</td>\n",
              "      <td>6.986000e+06</td>\n",
              "      <td>3.827010e+08</td>\n",
              "      <td>0.61</td>\n",
              "      <td>0.1281</td>\n",
              "    </tr>\n",
              "    <tr>\n",
              "      <th>WLMM3</th>\n",
              "      <td>19.44</td>\n",
              "      <td>7.00</td>\n",
              "      <td>1.23</td>\n",
              "      <td>0.456</td>\n",
              "      <td>0.0455</td>\n",
              "      <td>1.008</td>\n",
              "      <td>2.43</td>\n",
              "      <td>7.05</td>\n",
              "      <td>3.06</td>\n",
              "      <td>6.18</td>\n",
              "      <td>5.94</td>\n",
              "      <td>0.0647</td>\n",
              "      <td>0.0652</td>\n",
              "      <td>0.1710</td>\n",
              "      <td>0.1750</td>\n",
              "      <td>5.59</td>\n",
              "      <td>1.320510e+03</td>\n",
              "      <td>5.777790e+08</td>\n",
              "      <td>0.02</td>\n",
              "      <td>0.2890</td>\n",
              "    </tr>\n",
              "    <tr>\n",
              "      <th>WLMM4</th>\n",
              "      <td>25.97</td>\n",
              "      <td>9.35</td>\n",
              "      <td>1.64</td>\n",
              "      <td>0.609</td>\n",
              "      <td>0.0375</td>\n",
              "      <td>1.347</td>\n",
              "      <td>3.25</td>\n",
              "      <td>9.42</td>\n",
              "      <td>4.09</td>\n",
              "      <td>8.54</td>\n",
              "      <td>8.21</td>\n",
              "      <td>0.0647</td>\n",
              "      <td>0.0652</td>\n",
              "      <td>0.1710</td>\n",
              "      <td>0.1750</td>\n",
              "      <td>5.59</td>\n",
              "      <td>2.784290e+04</td>\n",
              "      <td>5.777790e+08</td>\n",
              "      <td>0.02</td>\n",
              "      <td>0.2890</td>\n",
              "    </tr>\n",
              "    <tr>\n",
              "      <th>WSON33</th>\n",
              "      <td>67.00</td>\n",
              "      <td>8.07</td>\n",
              "      <td>0.98</td>\n",
              "      <td>1.067</td>\n",
              "      <td>0.0000</td>\n",
              "      <td>0.400</td>\n",
              "      <td>13.41</td>\n",
              "      <td>2.42</td>\n",
              "      <td>-0.89</td>\n",
              "      <td>5.08</td>\n",
              "      <td>5.08</td>\n",
              "      <td>0.4414</td>\n",
              "      <td>0.1358</td>\n",
              "      <td>0.1836</td>\n",
              "      <td>0.1217</td>\n",
              "      <td>1.26</td>\n",
              "      <td>0.000000e+00</td>\n",
              "      <td>2.148530e+09</td>\n",
              "      <td>1.21</td>\n",
              "      <td>0.0523</td>\n",
              "    </tr>\n",
              "    <tr>\n",
              "      <th>YDUQ3</th>\n",
              "      <td>12.76</td>\n",
              "      <td>363.97</td>\n",
              "      <td>1.26</td>\n",
              "      <td>0.881</td>\n",
              "      <td>0.0099</td>\n",
              "      <td>0.399</td>\n",
              "      <td>3.69</td>\n",
              "      <td>7.74</td>\n",
              "      <td>-0.99</td>\n",
              "      <td>15.92</td>\n",
              "      <td>6.57</td>\n",
              "      <td>0.1139</td>\n",
              "      <td>0.0025</td>\n",
              "      <td>0.0621</td>\n",
              "      <td>0.0035</td>\n",
              "      <td>1.64</td>\n",
              "      <td>5.617590e+07</td>\n",
              "      <td>3.137430e+09</td>\n",
              "      <td>1.80</td>\n",
              "      <td>0.0632</td>\n",
              "    </tr>\n",
              "  </tbody>\n",
              "</table>\n",
              "<p>615 rows × 20 columns</p>\n",
              "</div>\n",
              "      <button class=\"colab-df-convert\" onclick=\"convertToInteractive('df-473d438e-a68f-4021-a356-61f95bb2d13a')\"\n",
              "              title=\"Convert this dataframe to an interactive table.\"\n",
              "              style=\"display:none;\">\n",
              "        \n",
              "  <svg xmlns=\"http://www.w3.org/2000/svg\" height=\"24px\"viewBox=\"0 0 24 24\"\n",
              "       width=\"24px\">\n",
              "    <path d=\"M0 0h24v24H0V0z\" fill=\"none\"/>\n",
              "    <path d=\"M18.56 5.44l.94 2.06.94-2.06 2.06-.94-2.06-.94-.94-2.06-.94 2.06-2.06.94zm-11 1L8.5 8.5l.94-2.06 2.06-.94-2.06-.94L8.5 2.5l-.94 2.06-2.06.94zm10 10l.94 2.06.94-2.06 2.06-.94-2.06-.94-.94-2.06-.94 2.06-2.06.94z\"/><path d=\"M17.41 7.96l-1.37-1.37c-.4-.4-.92-.59-1.43-.59-.52 0-1.04.2-1.43.59L10.3 9.45l-7.72 7.72c-.78.78-.78 2.05 0 2.83L4 21.41c.39.39.9.59 1.41.59.51 0 1.02-.2 1.41-.59l7.78-7.78 2.81-2.81c.8-.78.8-2.07 0-2.86zM5.41 20L4 18.59l7.72-7.72 1.47 1.35L5.41 20z\"/>\n",
              "  </svg>\n",
              "      </button>\n",
              "      \n",
              "  <style>\n",
              "    .colab-df-container {\n",
              "      display:flex;\n",
              "      flex-wrap:wrap;\n",
              "      gap: 12px;\n",
              "    }\n",
              "\n",
              "    .colab-df-convert {\n",
              "      background-color: #E8F0FE;\n",
              "      border: none;\n",
              "      border-radius: 50%;\n",
              "      cursor: pointer;\n",
              "      display: none;\n",
              "      fill: #1967D2;\n",
              "      height: 32px;\n",
              "      padding: 0 0 0 0;\n",
              "      width: 32px;\n",
              "    }\n",
              "\n",
              "    .colab-df-convert:hover {\n",
              "      background-color: #E2EBFA;\n",
              "      box-shadow: 0px 1px 2px rgba(60, 64, 67, 0.3), 0px 1px 3px 1px rgba(60, 64, 67, 0.15);\n",
              "      fill: #174EA6;\n",
              "    }\n",
              "\n",
              "    [theme=dark] .colab-df-convert {\n",
              "      background-color: #3B4455;\n",
              "      fill: #D2E3FC;\n",
              "    }\n",
              "\n",
              "    [theme=dark] .colab-df-convert:hover {\n",
              "      background-color: #434B5C;\n",
              "      box-shadow: 0px 1px 3px 1px rgba(0, 0, 0, 0.15);\n",
              "      filter: drop-shadow(0px 1px 2px rgba(0, 0, 0, 0.3));\n",
              "      fill: #FFFFFF;\n",
              "    }\n",
              "  </style>\n",
              "\n",
              "      <script>\n",
              "        const buttonEl =\n",
              "          document.querySelector('#df-473d438e-a68f-4021-a356-61f95bb2d13a button.colab-df-convert');\n",
              "        buttonEl.style.display =\n",
              "          google.colab.kernel.accessAllowed ? 'block' : 'none';\n",
              "\n",
              "        async function convertToInteractive(key) {\n",
              "          const element = document.querySelector('#df-473d438e-a68f-4021-a356-61f95bb2d13a');\n",
              "          const dataTable =\n",
              "            await google.colab.kernel.invokeFunction('convertToInteractive',\n",
              "                                                     [key], {});\n",
              "          if (!dataTable) return;\n",
              "\n",
              "          const docLinkHtml = 'Like what you see? Visit the ' +\n",
              "            '<a target=\"_blank\" href=https://colab.research.google.com/notebooks/data_table.ipynb>data table notebook</a>'\n",
              "            + ' to learn more about interactive tables.';\n",
              "          element.innerHTML = '';\n",
              "          dataTable['output_type'] = 'display_data';\n",
              "          await google.colab.output.renderOutput(dataTable, element);\n",
              "          const docLink = document.createElement('div');\n",
              "          docLink.innerHTML = docLinkHtml;\n",
              "          element.appendChild(docLink);\n",
              "        }\n",
              "      </script>\n",
              "    </div>\n",
              "  </div>\n",
              "  "
            ]
          },
          "metadata": {},
          "execution_count": 10
        }
      ]
    },
    {
      "cell_type": "markdown",
      "source": [
        "## Resultado Raw"
      ],
      "metadata": {
        "id": "mcEKbH9xcw71"
      }
    },
    {
      "cell_type": "code",
      "source": [
        "rr = fundamentus.get_resultado_raw()"
      ],
      "metadata": {
        "id": "ICuLxzSVdEE-"
      },
      "execution_count": 12,
      "outputs": []
    },
    {
      "cell_type": "code",
      "source": [
        "print(rr.columns)"
      ],
      "metadata": {
        "colab": {
          "base_uri": "https://localhost:8080/"
        },
        "id": "DVOTP0yhdFQ-",
        "outputId": "c35121ee-fe4c-4fce-9021-56e5515f74a9"
      },
      "execution_count": 13,
      "outputs": [
        {
          "output_type": "stream",
          "name": "stdout",
          "text": [
            "Index(['Cotação', 'P/L', 'P/VP', 'PSR', 'Div.Yield', 'P/Ativo', 'P/Cap.Giro',\n",
            "       'P/EBIT', 'P/Ativ Circ.Liq', 'EV/EBIT', 'EV/EBITDA', 'Mrg Ebit',\n",
            "       'Mrg. Líq.', 'Liq. Corr.', 'ROIC', 'ROE', 'Liq.2meses', 'Patrim. Líq',\n",
            "       'Dív.Brut/ Patrim.', 'Cresc. Rec.5a'],\n",
            "      dtype='object', name='Multiples')\n"
          ]
        }
      ]
    },
    {
      "cell_type": "code",
      "source": [
        "rr[ rr['P/L'] > 0]"
      ],
      "metadata": {
        "colab": {
          "base_uri": "https://localhost:8080/",
          "height": 536
        },
        "id": "GQ9edKekdIRl",
        "outputId": "5d0d0ec6-61c3-47c2-b6ff-bd68c305b5d0"
      },
      "execution_count": 14,
      "outputs": [
        {
          "output_type": "execute_result",
          "data": {
            "text/plain": [
              "Multiples  Cotação     P/L  P/VP    PSR  Div.Yield  P/Ativo  P/Cap.Giro  \\\n",
              "papel                                                                     \n",
              "ABCB4        19.23    6.24  0.89  0.000     0.0598    0.000        0.00   \n",
              "ABEV3        15.67   18.22  2.86  3.208     0.0385    1.806       56.86   \n",
              "ACES3        95.27    8.79  2.28  1.693     0.0000    1.438        6.40   \n",
              "ACES4        94.73    8.74  2.27  1.683     0.0000    1.430        6.37   \n",
              "AEDU11       37.35   20.13  1.13  1.405     0.0000    0.732        5.77   \n",
              "...            ...     ...   ...    ...        ...      ...         ...   \n",
              "WIZS3         8.55   10.86  3.57  1.644     0.0688    0.701       -9.76   \n",
              "WLMM3        19.44    7.00  1.23  0.456     0.0455    1.008        2.43   \n",
              "WLMM4        25.97    9.35  1.64  0.609     0.0375    1.347        3.25   \n",
              "WSON33       67.00    8.07  0.98  1.067     0.0000    0.400       13.41   \n",
              "YDUQ3        12.76  363.97  1.26  0.881     0.0099    0.399        3.69   \n",
              "\n",
              "Multiples  P/EBIT  P/Ativ Circ.Liq  EV/EBIT  EV/EBITDA  Mrg Ebit  Mrg. Líq.  \\\n",
              "papel                                                                         \n",
              "ABCB4        0.00             0.00     0.00       0.00    0.0000     0.0000   \n",
              "ABEV3       15.92           -22.84    15.12      11.30    0.2015     0.1827   \n",
              "ACES3        7.20            20.77     6.54       6.54    0.2352     0.1927   \n",
              "ACES4        7.16            20.65     6.50       6.50    0.2352     0.1927   \n",
              "AEDU11      13.93            -7.31    16.14      10.82    0.1008     0.0698   \n",
              "...           ...              ...      ...        ...       ...        ...   \n",
              "WIZS3        4.09            -1.93     4.13       3.58    0.4021     0.2118   \n",
              "WLMM3        7.05             3.06     6.18       5.94    0.0647     0.0652   \n",
              "WLMM4        9.42             4.09     8.54       8.21    0.0647     0.0652   \n",
              "WSON33       2.42            -0.89     5.08       5.08    0.4414     0.1358   \n",
              "YDUQ3        7.74            -0.99    15.92       6.57    0.1139     0.0025   \n",
              "\n",
              "Multiples  Liq. Corr.    ROIC     ROE    Liq.2meses   Patrim. Líq  \\\n",
              "papel                                                               \n",
              "ABCB4            0.00  0.0000  0.1418  1.324560e+07  4.910570e+09   \n",
              "ABEV3            1.13  0.1533  0.1570  3.607020e+08  8.626310e+10   \n",
              "ACES3            2.05  0.2690  0.2595  0.000000e+00  3.105800e+09   \n",
              "ACES4            2.05  0.2690  0.2595  0.000000e+00  3.105800e+09   \n",
              "AEDU11           2.04  0.0577  0.0560  0.000000e+00  2.415400e+09   \n",
              "...               ...     ...     ...           ...           ...   \n",
              "WIZS3            0.71  0.2012  0.3289  6.986000e+06  3.827010e+08   \n",
              "WLMM3            5.59  0.1710  0.1750  1.320510e+03  5.777790e+08   \n",
              "WLMM4            5.59  0.1710  0.1750  2.784290e+04  5.777790e+08   \n",
              "WSON33           1.26  0.1836  0.1217  0.000000e+00  2.148530e+09   \n",
              "YDUQ3            1.64  0.0621  0.0035  5.617590e+07  3.137430e+09   \n",
              "\n",
              "Multiples  Dív.Brut/ Patrim.  Cresc. Rec.5a  \n",
              "papel                                        \n",
              "ABCB4                   0.00         0.2080  \n",
              "ABEV3                   0.04         0.1195  \n",
              "ACES3                   0.09         0.1334  \n",
              "ACES4                   0.09         0.1334  \n",
              "AEDU11                  0.30         0.2090  \n",
              "...                      ...            ...  \n",
              "WIZS3                   0.61         0.1281  \n",
              "WLMM3                   0.02         0.2890  \n",
              "WLMM4                   0.02         0.2890  \n",
              "WSON33                  1.21         0.0523  \n",
              "YDUQ3                   1.80         0.0632  \n",
              "\n",
              "[623 rows x 20 columns]"
            ],
            "text/html": [
              "\n",
              "  <div id=\"df-7652729d-f154-402e-8824-d91658857fc7\">\n",
              "    <div class=\"colab-df-container\">\n",
              "      <div>\n",
              "<style scoped>\n",
              "    .dataframe tbody tr th:only-of-type {\n",
              "        vertical-align: middle;\n",
              "    }\n",
              "\n",
              "    .dataframe tbody tr th {\n",
              "        vertical-align: top;\n",
              "    }\n",
              "\n",
              "    .dataframe thead th {\n",
              "        text-align: right;\n",
              "    }\n",
              "</style>\n",
              "<table border=\"1\" class=\"dataframe\">\n",
              "  <thead>\n",
              "    <tr style=\"text-align: right;\">\n",
              "      <th>Multiples</th>\n",
              "      <th>Cotação</th>\n",
              "      <th>P/L</th>\n",
              "      <th>P/VP</th>\n",
              "      <th>PSR</th>\n",
              "      <th>Div.Yield</th>\n",
              "      <th>P/Ativo</th>\n",
              "      <th>P/Cap.Giro</th>\n",
              "      <th>P/EBIT</th>\n",
              "      <th>P/Ativ Circ.Liq</th>\n",
              "      <th>EV/EBIT</th>\n",
              "      <th>EV/EBITDA</th>\n",
              "      <th>Mrg Ebit</th>\n",
              "      <th>Mrg. Líq.</th>\n",
              "      <th>Liq. Corr.</th>\n",
              "      <th>ROIC</th>\n",
              "      <th>ROE</th>\n",
              "      <th>Liq.2meses</th>\n",
              "      <th>Patrim. Líq</th>\n",
              "      <th>Dív.Brut/ Patrim.</th>\n",
              "      <th>Cresc. Rec.5a</th>\n",
              "    </tr>\n",
              "    <tr>\n",
              "      <th>papel</th>\n",
              "      <th></th>\n",
              "      <th></th>\n",
              "      <th></th>\n",
              "      <th></th>\n",
              "      <th></th>\n",
              "      <th></th>\n",
              "      <th></th>\n",
              "      <th></th>\n",
              "      <th></th>\n",
              "      <th></th>\n",
              "      <th></th>\n",
              "      <th></th>\n",
              "      <th></th>\n",
              "      <th></th>\n",
              "      <th></th>\n",
              "      <th></th>\n",
              "      <th></th>\n",
              "      <th></th>\n",
              "      <th></th>\n",
              "      <th></th>\n",
              "    </tr>\n",
              "  </thead>\n",
              "  <tbody>\n",
              "    <tr>\n",
              "      <th>ABCB4</th>\n",
              "      <td>19.23</td>\n",
              "      <td>6.24</td>\n",
              "      <td>0.89</td>\n",
              "      <td>0.000</td>\n",
              "      <td>0.0598</td>\n",
              "      <td>0.000</td>\n",
              "      <td>0.00</td>\n",
              "      <td>0.00</td>\n",
              "      <td>0.00</td>\n",
              "      <td>0.00</td>\n",
              "      <td>0.00</td>\n",
              "      <td>0.0000</td>\n",
              "      <td>0.0000</td>\n",
              "      <td>0.00</td>\n",
              "      <td>0.0000</td>\n",
              "      <td>0.1418</td>\n",
              "      <td>1.324560e+07</td>\n",
              "      <td>4.910570e+09</td>\n",
              "      <td>0.00</td>\n",
              "      <td>0.2080</td>\n",
              "    </tr>\n",
              "    <tr>\n",
              "      <th>ABEV3</th>\n",
              "      <td>15.67</td>\n",
              "      <td>18.22</td>\n",
              "      <td>2.86</td>\n",
              "      <td>3.208</td>\n",
              "      <td>0.0385</td>\n",
              "      <td>1.806</td>\n",
              "      <td>56.86</td>\n",
              "      <td>15.92</td>\n",
              "      <td>-22.84</td>\n",
              "      <td>15.12</td>\n",
              "      <td>11.30</td>\n",
              "      <td>0.2015</td>\n",
              "      <td>0.1827</td>\n",
              "      <td>1.13</td>\n",
              "      <td>0.1533</td>\n",
              "      <td>0.1570</td>\n",
              "      <td>3.607020e+08</td>\n",
              "      <td>8.626310e+10</td>\n",
              "      <td>0.04</td>\n",
              "      <td>0.1195</td>\n",
              "    </tr>\n",
              "    <tr>\n",
              "      <th>ACES3</th>\n",
              "      <td>95.27</td>\n",
              "      <td>8.79</td>\n",
              "      <td>2.28</td>\n",
              "      <td>1.693</td>\n",
              "      <td>0.0000</td>\n",
              "      <td>1.438</td>\n",
              "      <td>6.40</td>\n",
              "      <td>7.20</td>\n",
              "      <td>20.77</td>\n",
              "      <td>6.54</td>\n",
              "      <td>6.54</td>\n",
              "      <td>0.2352</td>\n",
              "      <td>0.1927</td>\n",
              "      <td>2.05</td>\n",
              "      <td>0.2690</td>\n",
              "      <td>0.2595</td>\n",
              "      <td>0.000000e+00</td>\n",
              "      <td>3.105800e+09</td>\n",
              "      <td>0.09</td>\n",
              "      <td>0.1334</td>\n",
              "    </tr>\n",
              "    <tr>\n",
              "      <th>ACES4</th>\n",
              "      <td>94.73</td>\n",
              "      <td>8.74</td>\n",
              "      <td>2.27</td>\n",
              "      <td>1.683</td>\n",
              "      <td>0.0000</td>\n",
              "      <td>1.430</td>\n",
              "      <td>6.37</td>\n",
              "      <td>7.16</td>\n",
              "      <td>20.65</td>\n",
              "      <td>6.50</td>\n",
              "      <td>6.50</td>\n",
              "      <td>0.2352</td>\n",
              "      <td>0.1927</td>\n",
              "      <td>2.05</td>\n",
              "      <td>0.2690</td>\n",
              "      <td>0.2595</td>\n",
              "      <td>0.000000e+00</td>\n",
              "      <td>3.105800e+09</td>\n",
              "      <td>0.09</td>\n",
              "      <td>0.1334</td>\n",
              "    </tr>\n",
              "    <tr>\n",
              "      <th>AEDU11</th>\n",
              "      <td>37.35</td>\n",
              "      <td>20.13</td>\n",
              "      <td>1.13</td>\n",
              "      <td>1.405</td>\n",
              "      <td>0.0000</td>\n",
              "      <td>0.732</td>\n",
              "      <td>5.77</td>\n",
              "      <td>13.93</td>\n",
              "      <td>-7.31</td>\n",
              "      <td>16.14</td>\n",
              "      <td>10.82</td>\n",
              "      <td>0.1008</td>\n",
              "      <td>0.0698</td>\n",
              "      <td>2.04</td>\n",
              "      <td>0.0577</td>\n",
              "      <td>0.0560</td>\n",
              "      <td>0.000000e+00</td>\n",
              "      <td>2.415400e+09</td>\n",
              "      <td>0.30</td>\n",
              "      <td>0.2090</td>\n",
              "    </tr>\n",
              "    <tr>\n",
              "      <th>...</th>\n",
              "      <td>...</td>\n",
              "      <td>...</td>\n",
              "      <td>...</td>\n",
              "      <td>...</td>\n",
              "      <td>...</td>\n",
              "      <td>...</td>\n",
              "      <td>...</td>\n",
              "      <td>...</td>\n",
              "      <td>...</td>\n",
              "      <td>...</td>\n",
              "      <td>...</td>\n",
              "      <td>...</td>\n",
              "      <td>...</td>\n",
              "      <td>...</td>\n",
              "      <td>...</td>\n",
              "      <td>...</td>\n",
              "      <td>...</td>\n",
              "      <td>...</td>\n",
              "      <td>...</td>\n",
              "      <td>...</td>\n",
              "    </tr>\n",
              "    <tr>\n",
              "      <th>WIZS3</th>\n",
              "      <td>8.55</td>\n",
              "      <td>10.86</td>\n",
              "      <td>3.57</td>\n",
              "      <td>1.644</td>\n",
              "      <td>0.0688</td>\n",
              "      <td>0.701</td>\n",
              "      <td>-9.76</td>\n",
              "      <td>4.09</td>\n",
              "      <td>-1.93</td>\n",
              "      <td>4.13</td>\n",
              "      <td>3.58</td>\n",
              "      <td>0.4021</td>\n",
              "      <td>0.2118</td>\n",
              "      <td>0.71</td>\n",
              "      <td>0.2012</td>\n",
              "      <td>0.3289</td>\n",
              "      <td>6.986000e+06</td>\n",
              "      <td>3.827010e+08</td>\n",
              "      <td>0.61</td>\n",
              "      <td>0.1281</td>\n",
              "    </tr>\n",
              "    <tr>\n",
              "      <th>WLMM3</th>\n",
              "      <td>19.44</td>\n",
              "      <td>7.00</td>\n",
              "      <td>1.23</td>\n",
              "      <td>0.456</td>\n",
              "      <td>0.0455</td>\n",
              "      <td>1.008</td>\n",
              "      <td>2.43</td>\n",
              "      <td>7.05</td>\n",
              "      <td>3.06</td>\n",
              "      <td>6.18</td>\n",
              "      <td>5.94</td>\n",
              "      <td>0.0647</td>\n",
              "      <td>0.0652</td>\n",
              "      <td>5.59</td>\n",
              "      <td>0.1710</td>\n",
              "      <td>0.1750</td>\n",
              "      <td>1.320510e+03</td>\n",
              "      <td>5.777790e+08</td>\n",
              "      <td>0.02</td>\n",
              "      <td>0.2890</td>\n",
              "    </tr>\n",
              "    <tr>\n",
              "      <th>WLMM4</th>\n",
              "      <td>25.97</td>\n",
              "      <td>9.35</td>\n",
              "      <td>1.64</td>\n",
              "      <td>0.609</td>\n",
              "      <td>0.0375</td>\n",
              "      <td>1.347</td>\n",
              "      <td>3.25</td>\n",
              "      <td>9.42</td>\n",
              "      <td>4.09</td>\n",
              "      <td>8.54</td>\n",
              "      <td>8.21</td>\n",
              "      <td>0.0647</td>\n",
              "      <td>0.0652</td>\n",
              "      <td>5.59</td>\n",
              "      <td>0.1710</td>\n",
              "      <td>0.1750</td>\n",
              "      <td>2.784290e+04</td>\n",
              "      <td>5.777790e+08</td>\n",
              "      <td>0.02</td>\n",
              "      <td>0.2890</td>\n",
              "    </tr>\n",
              "    <tr>\n",
              "      <th>WSON33</th>\n",
              "      <td>67.00</td>\n",
              "      <td>8.07</td>\n",
              "      <td>0.98</td>\n",
              "      <td>1.067</td>\n",
              "      <td>0.0000</td>\n",
              "      <td>0.400</td>\n",
              "      <td>13.41</td>\n",
              "      <td>2.42</td>\n",
              "      <td>-0.89</td>\n",
              "      <td>5.08</td>\n",
              "      <td>5.08</td>\n",
              "      <td>0.4414</td>\n",
              "      <td>0.1358</td>\n",
              "      <td>1.26</td>\n",
              "      <td>0.1836</td>\n",
              "      <td>0.1217</td>\n",
              "      <td>0.000000e+00</td>\n",
              "      <td>2.148530e+09</td>\n",
              "      <td>1.21</td>\n",
              "      <td>0.0523</td>\n",
              "    </tr>\n",
              "    <tr>\n",
              "      <th>YDUQ3</th>\n",
              "      <td>12.76</td>\n",
              "      <td>363.97</td>\n",
              "      <td>1.26</td>\n",
              "      <td>0.881</td>\n",
              "      <td>0.0099</td>\n",
              "      <td>0.399</td>\n",
              "      <td>3.69</td>\n",
              "      <td>7.74</td>\n",
              "      <td>-0.99</td>\n",
              "      <td>15.92</td>\n",
              "      <td>6.57</td>\n",
              "      <td>0.1139</td>\n",
              "      <td>0.0025</td>\n",
              "      <td>1.64</td>\n",
              "      <td>0.0621</td>\n",
              "      <td>0.0035</td>\n",
              "      <td>5.617590e+07</td>\n",
              "      <td>3.137430e+09</td>\n",
              "      <td>1.80</td>\n",
              "      <td>0.0632</td>\n",
              "    </tr>\n",
              "  </tbody>\n",
              "</table>\n",
              "<p>623 rows × 20 columns</p>\n",
              "</div>\n",
              "      <button class=\"colab-df-convert\" onclick=\"convertToInteractive('df-7652729d-f154-402e-8824-d91658857fc7')\"\n",
              "              title=\"Convert this dataframe to an interactive table.\"\n",
              "              style=\"display:none;\">\n",
              "        \n",
              "  <svg xmlns=\"http://www.w3.org/2000/svg\" height=\"24px\"viewBox=\"0 0 24 24\"\n",
              "       width=\"24px\">\n",
              "    <path d=\"M0 0h24v24H0V0z\" fill=\"none\"/>\n",
              "    <path d=\"M18.56 5.44l.94 2.06.94-2.06 2.06-.94-2.06-.94-.94-2.06-.94 2.06-2.06.94zm-11 1L8.5 8.5l.94-2.06 2.06-.94-2.06-.94L8.5 2.5l-.94 2.06-2.06.94zm10 10l.94 2.06.94-2.06 2.06-.94-2.06-.94-.94-2.06-.94 2.06-2.06.94z\"/><path d=\"M17.41 7.96l-1.37-1.37c-.4-.4-.92-.59-1.43-.59-.52 0-1.04.2-1.43.59L10.3 9.45l-7.72 7.72c-.78.78-.78 2.05 0 2.83L4 21.41c.39.39.9.59 1.41.59.51 0 1.02-.2 1.41-.59l7.78-7.78 2.81-2.81c.8-.78.8-2.07 0-2.86zM5.41 20L4 18.59l7.72-7.72 1.47 1.35L5.41 20z\"/>\n",
              "  </svg>\n",
              "      </button>\n",
              "      \n",
              "  <style>\n",
              "    .colab-df-container {\n",
              "      display:flex;\n",
              "      flex-wrap:wrap;\n",
              "      gap: 12px;\n",
              "    }\n",
              "\n",
              "    .colab-df-convert {\n",
              "      background-color: #E8F0FE;\n",
              "      border: none;\n",
              "      border-radius: 50%;\n",
              "      cursor: pointer;\n",
              "      display: none;\n",
              "      fill: #1967D2;\n",
              "      height: 32px;\n",
              "      padding: 0 0 0 0;\n",
              "      width: 32px;\n",
              "    }\n",
              "\n",
              "    .colab-df-convert:hover {\n",
              "      background-color: #E2EBFA;\n",
              "      box-shadow: 0px 1px 2px rgba(60, 64, 67, 0.3), 0px 1px 3px 1px rgba(60, 64, 67, 0.15);\n",
              "      fill: #174EA6;\n",
              "    }\n",
              "\n",
              "    [theme=dark] .colab-df-convert {\n",
              "      background-color: #3B4455;\n",
              "      fill: #D2E3FC;\n",
              "    }\n",
              "\n",
              "    [theme=dark] .colab-df-convert:hover {\n",
              "      background-color: #434B5C;\n",
              "      box-shadow: 0px 1px 3px 1px rgba(0, 0, 0, 0.15);\n",
              "      filter: drop-shadow(0px 1px 2px rgba(0, 0, 0, 0.3));\n",
              "      fill: #FFFFFF;\n",
              "    }\n",
              "  </style>\n",
              "\n",
              "      <script>\n",
              "        const buttonEl =\n",
              "          document.querySelector('#df-7652729d-f154-402e-8824-d91658857fc7 button.colab-df-convert');\n",
              "        buttonEl.style.display =\n",
              "          google.colab.kernel.accessAllowed ? 'block' : 'none';\n",
              "\n",
              "        async function convertToInteractive(key) {\n",
              "          const element = document.querySelector('#df-7652729d-f154-402e-8824-d91658857fc7');\n",
              "          const dataTable =\n",
              "            await google.colab.kernel.invokeFunction('convertToInteractive',\n",
              "                                                     [key], {});\n",
              "          if (!dataTable) return;\n",
              "\n",
              "          const docLinkHtml = 'Like what you see? Visit the ' +\n",
              "            '<a target=\"_blank\" href=https://colab.research.google.com/notebooks/data_table.ipynb>data table notebook</a>'\n",
              "            + ' to learn more about interactive tables.';\n",
              "          element.innerHTML = '';\n",
              "          dataTable['output_type'] = 'display_data';\n",
              "          await google.colab.output.renderOutput(dataTable, element);\n",
              "          const docLink = document.createElement('div');\n",
              "          docLink.innerHTML = docLinkHtml;\n",
              "          element.appendChild(docLink);\n",
              "        }\n",
              "      </script>\n",
              "    </div>\n",
              "  </div>\n",
              "  "
            ]
          },
          "metadata": {},
          "execution_count": 14
        }
      ]
    },
    {
      "cell_type": "markdown",
      "source": [
        "## Retornar papel específico"
      ],
      "metadata": {
        "id": "5J0Jb3z_dUSe"
      }
    },
    {
      "cell_type": "code",
      "source": [
        "fundamentus.get_papel('WEGE3')"
      ],
      "metadata": {
        "colab": {
          "base_uri": "https://localhost:8080/",
          "height": 209
        },
        "id": "hR_0ITwCde3-",
        "outputId": "3b970e93-3f9f-4877-991a-243e020cbb6b"
      },
      "execution_count": 15,
      "outputs": [
        {
          "output_type": "execute_result",
          "data": {
            "text/plain": [
              "       Papel   Tipo       Empresa                    Setor  \\\n",
              "WEGE3  WEGE3  ON N1  WEG SA ON N1  Máquinas e Equipamentos   \n",
              "\n",
              "                             Subsetor Cotacao Data_ult_cot Min_52_sem  \\\n",
              "WEGE3  Motores, Compressores e Outros   28.81   2022-08-26      22.68   \n",
              "\n",
              "      Max_52_sem Vol_med_2m  ...  Ativo_Circulante   Div_Bruta Div_Liquida  \\\n",
              "WEGE3      40.69  204007000  ...       17567000000  2853830000  -218622000   \n",
              "\n",
              "        Patrim_Liq Receita_Liquida_12m    EBIT_12m Lucro_Liquido_12m  \\\n",
              "WEGE3  13413900000         26752100000  4680650000        3543840000   \n",
              "\n",
              "      Receita_Liquida_3m     EBIT_3m Lucro_Liquido_3m  \n",
              "WEGE3         7185790000  1246860000        912965000  \n",
              "\n",
              "[1 rows x 48 columns]"
            ],
            "text/html": [
              "\n",
              "  <div id=\"df-6b43febf-86c3-4bfb-bfda-7388a5fe698a\">\n",
              "    <div class=\"colab-df-container\">\n",
              "      <div>\n",
              "<style scoped>\n",
              "    .dataframe tbody tr th:only-of-type {\n",
              "        vertical-align: middle;\n",
              "    }\n",
              "\n",
              "    .dataframe tbody tr th {\n",
              "        vertical-align: top;\n",
              "    }\n",
              "\n",
              "    .dataframe thead th {\n",
              "        text-align: right;\n",
              "    }\n",
              "</style>\n",
              "<table border=\"1\" class=\"dataframe\">\n",
              "  <thead>\n",
              "    <tr style=\"text-align: right;\">\n",
              "      <th></th>\n",
              "      <th>Papel</th>\n",
              "      <th>Tipo</th>\n",
              "      <th>Empresa</th>\n",
              "      <th>Setor</th>\n",
              "      <th>Subsetor</th>\n",
              "      <th>Cotacao</th>\n",
              "      <th>Data_ult_cot</th>\n",
              "      <th>Min_52_sem</th>\n",
              "      <th>Max_52_sem</th>\n",
              "      <th>Vol_med_2m</th>\n",
              "      <th>...</th>\n",
              "      <th>Ativo_Circulante</th>\n",
              "      <th>Div_Bruta</th>\n",
              "      <th>Div_Liquida</th>\n",
              "      <th>Patrim_Liq</th>\n",
              "      <th>Receita_Liquida_12m</th>\n",
              "      <th>EBIT_12m</th>\n",
              "      <th>Lucro_Liquido_12m</th>\n",
              "      <th>Receita_Liquida_3m</th>\n",
              "      <th>EBIT_3m</th>\n",
              "      <th>Lucro_Liquido_3m</th>\n",
              "    </tr>\n",
              "  </thead>\n",
              "  <tbody>\n",
              "    <tr>\n",
              "      <th>WEGE3</th>\n",
              "      <td>WEGE3</td>\n",
              "      <td>ON N1</td>\n",
              "      <td>WEG SA ON N1</td>\n",
              "      <td>Máquinas e Equipamentos</td>\n",
              "      <td>Motores, Compressores e Outros</td>\n",
              "      <td>28.81</td>\n",
              "      <td>2022-08-26</td>\n",
              "      <td>22.68</td>\n",
              "      <td>40.69</td>\n",
              "      <td>204007000</td>\n",
              "      <td>...</td>\n",
              "      <td>17567000000</td>\n",
              "      <td>2853830000</td>\n",
              "      <td>-218622000</td>\n",
              "      <td>13413900000</td>\n",
              "      <td>26752100000</td>\n",
              "      <td>4680650000</td>\n",
              "      <td>3543840000</td>\n",
              "      <td>7185790000</td>\n",
              "      <td>1246860000</td>\n",
              "      <td>912965000</td>\n",
              "    </tr>\n",
              "  </tbody>\n",
              "</table>\n",
              "<p>1 rows × 48 columns</p>\n",
              "</div>\n",
              "      <button class=\"colab-df-convert\" onclick=\"convertToInteractive('df-6b43febf-86c3-4bfb-bfda-7388a5fe698a')\"\n",
              "              title=\"Convert this dataframe to an interactive table.\"\n",
              "              style=\"display:none;\">\n",
              "        \n",
              "  <svg xmlns=\"http://www.w3.org/2000/svg\" height=\"24px\"viewBox=\"0 0 24 24\"\n",
              "       width=\"24px\">\n",
              "    <path d=\"M0 0h24v24H0V0z\" fill=\"none\"/>\n",
              "    <path d=\"M18.56 5.44l.94 2.06.94-2.06 2.06-.94-2.06-.94-.94-2.06-.94 2.06-2.06.94zm-11 1L8.5 8.5l.94-2.06 2.06-.94-2.06-.94L8.5 2.5l-.94 2.06-2.06.94zm10 10l.94 2.06.94-2.06 2.06-.94-2.06-.94-.94-2.06-.94 2.06-2.06.94z\"/><path d=\"M17.41 7.96l-1.37-1.37c-.4-.4-.92-.59-1.43-.59-.52 0-1.04.2-1.43.59L10.3 9.45l-7.72 7.72c-.78.78-.78 2.05 0 2.83L4 21.41c.39.39.9.59 1.41.59.51 0 1.02-.2 1.41-.59l7.78-7.78 2.81-2.81c.8-.78.8-2.07 0-2.86zM5.41 20L4 18.59l7.72-7.72 1.47 1.35L5.41 20z\"/>\n",
              "  </svg>\n",
              "      </button>\n",
              "      \n",
              "  <style>\n",
              "    .colab-df-container {\n",
              "      display:flex;\n",
              "      flex-wrap:wrap;\n",
              "      gap: 12px;\n",
              "    }\n",
              "\n",
              "    .colab-df-convert {\n",
              "      background-color: #E8F0FE;\n",
              "      border: none;\n",
              "      border-radius: 50%;\n",
              "      cursor: pointer;\n",
              "      display: none;\n",
              "      fill: #1967D2;\n",
              "      height: 32px;\n",
              "      padding: 0 0 0 0;\n",
              "      width: 32px;\n",
              "    }\n",
              "\n",
              "    .colab-df-convert:hover {\n",
              "      background-color: #E2EBFA;\n",
              "      box-shadow: 0px 1px 2px rgba(60, 64, 67, 0.3), 0px 1px 3px 1px rgba(60, 64, 67, 0.15);\n",
              "      fill: #174EA6;\n",
              "    }\n",
              "\n",
              "    [theme=dark] .colab-df-convert {\n",
              "      background-color: #3B4455;\n",
              "      fill: #D2E3FC;\n",
              "    }\n",
              "\n",
              "    [theme=dark] .colab-df-convert:hover {\n",
              "      background-color: #434B5C;\n",
              "      box-shadow: 0px 1px 3px 1px rgba(0, 0, 0, 0.15);\n",
              "      filter: drop-shadow(0px 1px 2px rgba(0, 0, 0, 0.3));\n",
              "      fill: #FFFFFF;\n",
              "    }\n",
              "  </style>\n",
              "\n",
              "      <script>\n",
              "        const buttonEl =\n",
              "          document.querySelector('#df-6b43febf-86c3-4bfb-bfda-7388a5fe698a button.colab-df-convert');\n",
              "        buttonEl.style.display =\n",
              "          google.colab.kernel.accessAllowed ? 'block' : 'none';\n",
              "\n",
              "        async function convertToInteractive(key) {\n",
              "          const element = document.querySelector('#df-6b43febf-86c3-4bfb-bfda-7388a5fe698a');\n",
              "          const dataTable =\n",
              "            await google.colab.kernel.invokeFunction('convertToInteractive',\n",
              "                                                     [key], {});\n",
              "          if (!dataTable) return;\n",
              "\n",
              "          const docLinkHtml = 'Like what you see? Visit the ' +\n",
              "            '<a target=\"_blank\" href=https://colab.research.google.com/notebooks/data_table.ipynb>data table notebook</a>'\n",
              "            + ' to learn more about interactive tables.';\n",
              "          element.innerHTML = '';\n",
              "          dataTable['output_type'] = 'display_data';\n",
              "          await google.colab.output.renderOutput(dataTable, element);\n",
              "          const docLink = document.createElement('div');\n",
              "          docLink.innerHTML = docLinkHtml;\n",
              "          element.appendChild(docLink);\n",
              "        }\n",
              "      </script>\n",
              "    </div>\n",
              "  </div>\n",
              "  "
            ]
          },
          "metadata": {},
          "execution_count": 15
        }
      ]
    },
    {
      "cell_type": "markdown",
      "source": [
        "## Setores"
      ],
      "metadata": {
        "id": "RmglvURsdfTO"
      }
    },
    {
      "cell_type": "markdown",
      "source": [
        "Os setores podem ser encontrados aqui:\n",
        "https://github.com/mv/fundamentus/blob/1cab1cf965d99c02d05faa90807ebe7381cbc784/src/fundamentus/setor.py#L56"
      ],
      "metadata": {
        "id": "uqe3sW1-doTO"
      }
    },
    {
      "cell_type": "code",
      "source": [
        "fundamentus.list_papel_setor(1)  # finance"
      ],
      "metadata": {
        "colab": {
          "base_uri": "https://localhost:8080/"
        },
        "id": "oh9iPgFYdtPt",
        "outputId": "efe6ea24-0a77-47bf-de19-737c9cb29f75"
      },
      "execution_count": 23,
      "outputs": [
        {
          "output_type": "execute_result",
          "data": {
            "text/plain": [
              "['AGXY3', 'FRTA3', 'AGRO3', 'SLCE3', 'TTEN3', 'SOJA3']"
            ]
          },
          "metadata": {},
          "execution_count": 23
        }
      ]
    },
    {
      "cell_type": "code",
      "source": [
        "print(fin)"
      ],
      "metadata": {
        "colab": {
          "base_uri": "https://localhost:8080/"
        },
        "id": "ioPZmijueBMW",
        "outputId": "2fa2a528-a2f5-4cf2-a816-70d55e8391da"
      },
      "execution_count": 22,
      "outputs": [
        {
          "output_type": "stream",
          "name": "stdout",
          "text": [
            "['AGXY3', 'FRTA3', 'AGRO3', 'SLCE3', 'TTEN3', 'SOJA3']\n"
          ]
        }
      ]
    },
    {
      "cell_type": "markdown",
      "source": [
        "O setor precisa corresponder ao que aparece no site do Fundamentus:\n",
        "http://www.fundamentus.com.br/resultado.php?setor=1"
      ],
      "metadata": {
        "id": "m_ySMVO0eFQe"
      }
    },
    {
      "cell_type": "markdown",
      "source": [
        "22 agora é para indústrias"
      ],
      "metadata": {
        "id": "MGYJYq_hfIXw"
      }
    },
    {
      "cell_type": "code",
      "source": [
        "fundamentus.get_setor_data()"
      ],
      "metadata": {
        "colab": {
          "base_uri": "https://localhost:8080/",
          "height": 170
        },
        "id": "4FQz7DYIgHLG",
        "outputId": "664b7939-ae5f-4e4c-8b1c-cd617166574d"
      },
      "execution_count": 26,
      "outputs": [
        {
          "output_type": "error",
          "ename": "AttributeError",
          "evalue": "ignored",
          "traceback": [
            "\u001b[0;31m---------------------------------------------------------------------------\u001b[0m",
            "\u001b[0;31mAttributeError\u001b[0m                            Traceback (most recent call last)",
            "\u001b[0;32m<ipython-input-26-0496da17b23f>\u001b[0m in \u001b[0;36m<module>\u001b[0;34m\u001b[0m\n\u001b[0;32m----> 1\u001b[0;31m \u001b[0mfundamentus\u001b[0m\u001b[0;34m.\u001b[0m\u001b[0mget_setor_data\u001b[0m\u001b[0;34m(\u001b[0m\u001b[0;34m)\u001b[0m\u001b[0;34m\u001b[0m\u001b[0;34m\u001b[0m\u001b[0m\n\u001b[0m",
            "\u001b[0;31mAttributeError\u001b[0m: module 'fundamentus' has no attribute 'get_setor_data'"
          ]
        }
      ]
    },
    {
      "cell_type": "code",
      "source": [
        "from fundamentus import setor"
      ],
      "metadata": {
        "id": "DU4dXEixiB8H"
      },
      "execution_count": 47,
      "outputs": []
    },
    {
      "cell_type": "code",
      "source": [
        "setor.get_setor_data(1)"
      ],
      "metadata": {
        "colab": {
          "base_uri": "https://localhost:8080/",
          "height": 170
        },
        "id": "GnI9Ze1QiyiX",
        "outputId": "2ea30158-397e-44ec-c692-0d4955a75839"
      },
      "execution_count": 48,
      "outputs": [
        {
          "output_type": "error",
          "ename": "AttributeError",
          "evalue": "ignored",
          "traceback": [
            "\u001b[0;31m---------------------------------------------------------------------------\u001b[0m",
            "\u001b[0;31mAttributeError\u001b[0m                            Traceback (most recent call last)",
            "\u001b[0;32m<ipython-input-48-500b5705e87c>\u001b[0m in \u001b[0;36m<module>\u001b[0;34m\u001b[0m\n\u001b[0;32m----> 1\u001b[0;31m \u001b[0msetor\u001b[0m\u001b[0;34m.\u001b[0m\u001b[0mget_setor_data\u001b[0m\u001b[0;34m(\u001b[0m\u001b[0;36m1\u001b[0m\u001b[0;34m)\u001b[0m\u001b[0;34m\u001b[0m\u001b[0;34m\u001b[0m\u001b[0m\n\u001b[0m",
            "\u001b[0;31mAttributeError\u001b[0m: module 'fundamentus.setor' has no attribute 'get_setor_data'"
          ]
        }
      ]
    },
    {
      "cell_type": "markdown",
      "source": [
        "Exemplo do porquê conhecer o código fonte é tão importante"
      ],
      "metadata": {
        "id": "somSobJclh2T"
      }
    },
    {
      "cell_type": "code",
      "source": [
        "def get_setor_data(setor=None):\n",
        "    \"\"\"\n",
        "    Setor: ...\n",
        "    Output:\n",
        "      List\n",
        "    \"\"\"\n",
        "\n",
        "    ## GET: setor\n",
        "    url = 'http://www.fundamentus.com.br/resultado.php?setor={}'.format(setor)\n",
        "\n",
        "    hdr = {'User-agent': 'Mozilla/5.0 (Windows; U; Windows NT 6.1; rv:2.2) Gecko/20110201' ,\n",
        "           'Accept': 'text/html, text/plain, text/css, text/sgml, */*;q=0.01' ,\n",
        "           'Accept-Encoding': 'gzip, deflate' ,\n",
        "           }\n",
        "\n",
        "    with requests_cache.enabled():\n",
        "        content = requests.get(url, headers=hdr)\n",
        "\n",
        "        if content.from_cache:\n",
        "            logging.debug('.../resultado.php?setor={}: [CACHED]'.format(setor))\n",
        "        else:\n",
        "            logging.debug('.../resultado.php?setor={}: sleeping...'.format(setor))\n",
        "            time.sleep(.500) # 500 ms\n",
        "\n",
        "\n",
        "    ## parse + load\n",
        "    df = pd.read_html(content.text, decimal=\",\", thousands='.')[0]\n",
        "\n",
        "    ##\n",
        "    return list(df['Papel'])"
      ],
      "metadata": {
        "id": "avDSzRHmi2U_"
      },
      "execution_count": 44,
      "outputs": []
    },
    {
      "cell_type": "code",
      "source": [
        "get_setor_data(4)"
      ],
      "metadata": {
        "colab": {
          "base_uri": "https://localhost:8080/"
        },
        "id": "agcgHFi1i8W_",
        "outputId": "0d907a9d-35e0-4d25-e10f-f90db374d02a"
      },
      "execution_count": 51,
      "outputs": [
        {
          "output_type": "execute_result",
          "data": {
            "text/plain": [
              "['HAPV3',\n",
              " 'DASA3',\n",
              " 'AALR3',\n",
              " 'KRSA3',\n",
              " 'QUAL3',\n",
              " 'ODPV3',\n",
              " 'PARD3',\n",
              " 'FLRY3',\n",
              " 'MATD3',\n",
              " 'ONCO3',\n",
              " 'RDOR3']"
            ]
          },
          "metadata": {},
          "execution_count": 51
        }
      ]
    },
    {
      "cell_type": "markdown",
      "source": [
        "## Módulo \"Detalhes\"\n",
        "\n",
        "https://github.com/mv/fundamentus/blob/1cab1cf965d99c02d05faa90807ebe7381cbc784/src/fundamentus/detalhes.py"
      ],
      "metadata": {
        "id": "OrVXC0FqnQZZ"
      }
    },
    {
      "cell_type": "code",
      "source": [
        "fundamentus.get_detalhes_raw(papel='WEGE3')"
      ],
      "metadata": {
        "colab": {
          "base_uri": "https://localhost:8080/"
        },
        "id": "s-lmrHcYnLnk",
        "outputId": "d40d833b-53d1-4654-beed-441cfc0e8658"
      },
      "execution_count": 59,
      "outputs": [
        {
          "output_type": "execute_result",
          "data": {
            "text/plain": [
              "[           0                               1                2           3\n",
              " 0     ?Papel                           WEGE3         ?Cotação       28.81\n",
              " 1      ?Tipo                           ON N1    ?Data últ cot  26/08/2022\n",
              " 2   ?Empresa                    WEG SA ON N1      ?Min 52 sem       22.68\n",
              " 3     ?Setor         Máquinas e Equipamentos      ?Max 52 sem       40.69\n",
              " 4  ?Subsetor  Motores, Compressores e Outros  ?Vol $ méd (2m)   204007000,\n",
              "                    0             1                        2           3\n",
              " 0  ?Valor de mercado  120925000000  ?Últ balanço processado  30/06/2022\n",
              " 1    ?Valor da firma  120706000000              ?Nro. Ações  4197320000,\n",
              "              0           1                             2  \\\n",
              " 0   Oscilações  Oscilações  Indicadores fundamentalistas   \n",
              " 1          Dia      -0,48%                          ?P/L   \n",
              " 2          Mês       2,75%                         ?P/VP   \n",
              " 3      30 dias       9,96%                       ?P/EBIT   \n",
              " 4     12 meses     -20,40%                          ?PSR   \n",
              " 5         2022     -11,38%                     ?P/Ativos   \n",
              " 6         2021     -12,02%                  ?P/Cap. Giro   \n",
              " 7         2020     120,53%              ?P/Ativ Circ Liq   \n",
              " 8         2019     100,56%                   ?Div. Yield   \n",
              " 9         2018      -3,84%                  ?EV / EBITDA   \n",
              " 10        2017      62,51%                    ?EV / EBIT   \n",
              " 11         NaN         NaN               ?Cres. Rec (5a)   \n",
              " \n",
              "                                3                             4  \\\n",
              " 0   Indicadores fundamentalistas  Indicadores fundamentalistas   \n",
              " 1                          34.12                          ?LPA   \n",
              " 2                           9.01                          ?VPA   \n",
              " 3                          25.84                  ?Marg. Bruta   \n",
              " 4                           4.52                   ?Marg. EBIT   \n",
              " 5                           4.67                ?Marg. Líquida   \n",
              " 6                          16.90                 ?EBIT / Ativo   \n",
              " 7                          22.05                         ?ROIC   \n",
              " 8                           1,6%                          ?ROE   \n",
              " 9                          23.12                ?Liquidez Corr   \n",
              " 10                         25.79               ?Div Br/ Patrim   \n",
              " 11                         26,1%                  ?Giro Ativos   \n",
              " \n",
              "                                5  \n",
              " 0   Indicadores fundamentalistas  \n",
              " 1                           0.84  \n",
              " 2                           3.20  \n",
              " 3                          27,9%  \n",
              " 4                          17,5%  \n",
              " 5                          13,5%  \n",
              " 6                          18,1%  \n",
              " 7                          22,8%  \n",
              " 8                          26,4%  \n",
              " 9                           1.69  \n",
              " 10                          0.21  \n",
              " 11                          1.03  ,\n",
              "                            0                          1  \\\n",
              " 0  Dados Balanço Patrimonial  Dados Balanço Patrimonial   \n",
              " 1                     ?Ativo                25882400000   \n",
              " 2          ?Disponibilidades                 3072450000   \n",
              " 3          ?Ativo Circulante                17567000000   \n",
              " \n",
              "                            2                          3  \n",
              " 0  Dados Balanço Patrimonial  Dados Balanço Patrimonial  \n",
              " 1                ?Dív. Bruta                 2853830000  \n",
              " 2              ?Dív. Líquida                 -218622000  \n",
              " 3               ?Patrim. Líq                13413900000  ,\n",
              "                                     0                                   1  \\\n",
              " 0  Dados demonstrativos de resultados  Dados demonstrativos de resultados   \n",
              " 1                    Últimos 12 meses                    Últimos 12 meses   \n",
              " 2                    ?Receita Líquida                         26752100000   \n",
              " 3                               ?EBIT                          4680650000   \n",
              " 4                      ?Lucro Líquido                          3543840000   \n",
              " \n",
              "                                     2                                   3  \n",
              " 0  Dados demonstrativos de resultados  Dados demonstrativos de resultados  \n",
              " 1                     Últimos 3 meses                     Últimos 3 meses  \n",
              " 2                    ?Receita Líquida                          7185790000  \n",
              " 3                               ?EBIT                          1246860000  \n",
              " 4                      ?Lucro Líquido                           912965000  ]"
            ]
          },
          "metadata": {},
          "execution_count": 59
        }
      ]
    },
    {
      "cell_type": "code",
      "source": [
        "fundamentus.get_detalhes()"
      ],
      "metadata": {
        "colab": {
          "base_uri": "https://localhost:8080/",
          "height": 170
        },
        "id": "iDE8JlZrmUk8",
        "outputId": "23f83c84-d130-47d7-9733-24e7a316b99e"
      },
      "execution_count": 56,
      "outputs": [
        {
          "output_type": "error",
          "ename": "AttributeError",
          "evalue": "ignored",
          "traceback": [
            "\u001b[0;31m---------------------------------------------------------------------------\u001b[0m",
            "\u001b[0;31mAttributeError\u001b[0m                            Traceback (most recent call last)",
            "\u001b[0;32m<ipython-input-56-49bebf462b9b>\u001b[0m in \u001b[0;36m<module>\u001b[0;34m\u001b[0m\n\u001b[0;32m----> 1\u001b[0;31m \u001b[0mfundamentus\u001b[0m\u001b[0;34m.\u001b[0m\u001b[0mget_detalhes\u001b[0m\u001b[0;34m(\u001b[0m\u001b[0;34m)\u001b[0m\u001b[0;34m\u001b[0m\u001b[0;34m\u001b[0m\u001b[0m\n\u001b[0m",
            "\u001b[0;31mAttributeError\u001b[0m: module 'fundamentus' has no attribute 'get_detalhes'"
          ]
        }
      ]
    },
    {
      "cell_type": "code",
      "source": [
        "fundamentus.get_detalhes_list(['WEGE3'])"
      ],
      "metadata": {
        "colab": {
          "base_uri": "https://localhost:8080/",
          "height": 170
        },
        "id": "lsWrqJiumJfT",
        "outputId": "da48ee00-1e9d-45ea-cdc0-a8ae220b07ec"
      },
      "execution_count": 55,
      "outputs": [
        {
          "output_type": "error",
          "ename": "AttributeError",
          "evalue": "ignored",
          "traceback": [
            "\u001b[0;31m---------------------------------------------------------------------------\u001b[0m",
            "\u001b[0;31mAttributeError\u001b[0m                            Traceback (most recent call last)",
            "\u001b[0;32m<ipython-input-55-12ee73720fce>\u001b[0m in \u001b[0;36m<module>\u001b[0;34m\u001b[0m\n\u001b[0;32m----> 1\u001b[0;31m \u001b[0mfundamentus\u001b[0m\u001b[0;34m.\u001b[0m\u001b[0mget_detalhes_list\u001b[0m\u001b[0;34m(\u001b[0m\u001b[0;34m[\u001b[0m\u001b[0;34m'WEGE3'\u001b[0m\u001b[0;34m]\u001b[0m\u001b[0;34m)\u001b[0m\u001b[0;34m\u001b[0m\u001b[0;34m\u001b[0m\u001b[0m\n\u001b[0m",
            "\u001b[0;31mAttributeError\u001b[0m: module 'fundamentus' has no attribute 'get_detalhes_list'"
          ]
        }
      ]
    },
    {
      "cell_type": "code",
      "source": [
        "fundamentus.get_detalhes_papel('WEGE3')"
      ],
      "metadata": {
        "colab": {
          "base_uri": "https://localhost:8080/",
          "height": 209
        },
        "id": "0U8RnH6ji-y_",
        "outputId": "51d24704-f5f0-4981-fecb-5aeb5b603781"
      },
      "execution_count": 53,
      "outputs": [
        {
          "output_type": "execute_result",
          "data": {
            "text/plain": [
              "       Papel   Tipo       Empresa                    Setor  \\\n",
              "WEGE3  WEGE3  ON N1  WEG SA ON N1  Máquinas e Equipamentos   \n",
              "\n",
              "                             Subsetor Cotacao Data_ult_cot Min_52_sem  \\\n",
              "WEGE3  Motores, Compressores e Outros   28.81   2022-08-26      22.68   \n",
              "\n",
              "      Max_52_sem Vol_med_2m  ...  Ativo_Circulante   Div_Bruta Div_Liquida  \\\n",
              "WEGE3      40.69  204007000  ...       17567000000  2853830000  -218622000   \n",
              "\n",
              "        Patrim_Liq Receita_Liquida_12m    EBIT_12m Lucro_Liquido_12m  \\\n",
              "WEGE3  13413900000         26752100000  4680650000        3543840000   \n",
              "\n",
              "      Receita_Liquida_3m     EBIT_3m Lucro_Liquido_3m  \n",
              "WEGE3         7185790000  1246860000        912965000  \n",
              "\n",
              "[1 rows x 48 columns]"
            ],
            "text/html": [
              "\n",
              "  <div id=\"df-db4d0d1f-c883-4a10-a26f-e7a97bfa7663\">\n",
              "    <div class=\"colab-df-container\">\n",
              "      <div>\n",
              "<style scoped>\n",
              "    .dataframe tbody tr th:only-of-type {\n",
              "        vertical-align: middle;\n",
              "    }\n",
              "\n",
              "    .dataframe tbody tr th {\n",
              "        vertical-align: top;\n",
              "    }\n",
              "\n",
              "    .dataframe thead th {\n",
              "        text-align: right;\n",
              "    }\n",
              "</style>\n",
              "<table border=\"1\" class=\"dataframe\">\n",
              "  <thead>\n",
              "    <tr style=\"text-align: right;\">\n",
              "      <th></th>\n",
              "      <th>Papel</th>\n",
              "      <th>Tipo</th>\n",
              "      <th>Empresa</th>\n",
              "      <th>Setor</th>\n",
              "      <th>Subsetor</th>\n",
              "      <th>Cotacao</th>\n",
              "      <th>Data_ult_cot</th>\n",
              "      <th>Min_52_sem</th>\n",
              "      <th>Max_52_sem</th>\n",
              "      <th>Vol_med_2m</th>\n",
              "      <th>...</th>\n",
              "      <th>Ativo_Circulante</th>\n",
              "      <th>Div_Bruta</th>\n",
              "      <th>Div_Liquida</th>\n",
              "      <th>Patrim_Liq</th>\n",
              "      <th>Receita_Liquida_12m</th>\n",
              "      <th>EBIT_12m</th>\n",
              "      <th>Lucro_Liquido_12m</th>\n",
              "      <th>Receita_Liquida_3m</th>\n",
              "      <th>EBIT_3m</th>\n",
              "      <th>Lucro_Liquido_3m</th>\n",
              "    </tr>\n",
              "  </thead>\n",
              "  <tbody>\n",
              "    <tr>\n",
              "      <th>WEGE3</th>\n",
              "      <td>WEGE3</td>\n",
              "      <td>ON N1</td>\n",
              "      <td>WEG SA ON N1</td>\n",
              "      <td>Máquinas e Equipamentos</td>\n",
              "      <td>Motores, Compressores e Outros</td>\n",
              "      <td>28.81</td>\n",
              "      <td>2022-08-26</td>\n",
              "      <td>22.68</td>\n",
              "      <td>40.69</td>\n",
              "      <td>204007000</td>\n",
              "      <td>...</td>\n",
              "      <td>17567000000</td>\n",
              "      <td>2853830000</td>\n",
              "      <td>-218622000</td>\n",
              "      <td>13413900000</td>\n",
              "      <td>26752100000</td>\n",
              "      <td>4680650000</td>\n",
              "      <td>3543840000</td>\n",
              "      <td>7185790000</td>\n",
              "      <td>1246860000</td>\n",
              "      <td>912965000</td>\n",
              "    </tr>\n",
              "  </tbody>\n",
              "</table>\n",
              "<p>1 rows × 48 columns</p>\n",
              "</div>\n",
              "      <button class=\"colab-df-convert\" onclick=\"convertToInteractive('df-db4d0d1f-c883-4a10-a26f-e7a97bfa7663')\"\n",
              "              title=\"Convert this dataframe to an interactive table.\"\n",
              "              style=\"display:none;\">\n",
              "        \n",
              "  <svg xmlns=\"http://www.w3.org/2000/svg\" height=\"24px\"viewBox=\"0 0 24 24\"\n",
              "       width=\"24px\">\n",
              "    <path d=\"M0 0h24v24H0V0z\" fill=\"none\"/>\n",
              "    <path d=\"M18.56 5.44l.94 2.06.94-2.06 2.06-.94-2.06-.94-.94-2.06-.94 2.06-2.06.94zm-11 1L8.5 8.5l.94-2.06 2.06-.94-2.06-.94L8.5 2.5l-.94 2.06-2.06.94zm10 10l.94 2.06.94-2.06 2.06-.94-2.06-.94-.94-2.06-.94 2.06-2.06.94z\"/><path d=\"M17.41 7.96l-1.37-1.37c-.4-.4-.92-.59-1.43-.59-.52 0-1.04.2-1.43.59L10.3 9.45l-7.72 7.72c-.78.78-.78 2.05 0 2.83L4 21.41c.39.39.9.59 1.41.59.51 0 1.02-.2 1.41-.59l7.78-7.78 2.81-2.81c.8-.78.8-2.07 0-2.86zM5.41 20L4 18.59l7.72-7.72 1.47 1.35L5.41 20z\"/>\n",
              "  </svg>\n",
              "      </button>\n",
              "      \n",
              "  <style>\n",
              "    .colab-df-container {\n",
              "      display:flex;\n",
              "      flex-wrap:wrap;\n",
              "      gap: 12px;\n",
              "    }\n",
              "\n",
              "    .colab-df-convert {\n",
              "      background-color: #E8F0FE;\n",
              "      border: none;\n",
              "      border-radius: 50%;\n",
              "      cursor: pointer;\n",
              "      display: none;\n",
              "      fill: #1967D2;\n",
              "      height: 32px;\n",
              "      padding: 0 0 0 0;\n",
              "      width: 32px;\n",
              "    }\n",
              "\n",
              "    .colab-df-convert:hover {\n",
              "      background-color: #E2EBFA;\n",
              "      box-shadow: 0px 1px 2px rgba(60, 64, 67, 0.3), 0px 1px 3px 1px rgba(60, 64, 67, 0.15);\n",
              "      fill: #174EA6;\n",
              "    }\n",
              "\n",
              "    [theme=dark] .colab-df-convert {\n",
              "      background-color: #3B4455;\n",
              "      fill: #D2E3FC;\n",
              "    }\n",
              "\n",
              "    [theme=dark] .colab-df-convert:hover {\n",
              "      background-color: #434B5C;\n",
              "      box-shadow: 0px 1px 3px 1px rgba(0, 0, 0, 0.15);\n",
              "      filter: drop-shadow(0px 1px 2px rgba(0, 0, 0, 0.3));\n",
              "      fill: #FFFFFF;\n",
              "    }\n",
              "  </style>\n",
              "\n",
              "      <script>\n",
              "        const buttonEl =\n",
              "          document.querySelector('#df-db4d0d1f-c883-4a10-a26f-e7a97bfa7663 button.colab-df-convert');\n",
              "        buttonEl.style.display =\n",
              "          google.colab.kernel.accessAllowed ? 'block' : 'none';\n",
              "\n",
              "        async function convertToInteractive(key) {\n",
              "          const element = document.querySelector('#df-db4d0d1f-c883-4a10-a26f-e7a97bfa7663');\n",
              "          const dataTable =\n",
              "            await google.colab.kernel.invokeFunction('convertToInteractive',\n",
              "                                                     [key], {});\n",
              "          if (!dataTable) return;\n",
              "\n",
              "          const docLinkHtml = 'Like what you see? Visit the ' +\n",
              "            '<a target=\"_blank\" href=https://colab.research.google.com/notebooks/data_table.ipynb>data table notebook</a>'\n",
              "            + ' to learn more about interactive tables.';\n",
              "          element.innerHTML = '';\n",
              "          dataTable['output_type'] = 'display_data';\n",
              "          await google.colab.output.renderOutput(dataTable, element);\n",
              "          const docLink = document.createElement('div');\n",
              "          docLink.innerHTML = docLinkHtml;\n",
              "          element.appendChild(docLink);\n",
              "        }\n",
              "      </script>\n",
              "    </div>\n",
              "  </div>\n",
              "  "
            ]
          },
          "metadata": {},
          "execution_count": 53
        }
      ]
    },
    {
      "cell_type": "markdown",
      "source": [
        "## Método \"Papel\"\n",
        "\n",
        "Nenhum método desse módulo aqui está funcionando: https://github.com/mv/fundamentus/blob/1cab1cf965d99c02d05faa90807ebe7381cbc784/src/fundamentus/papel.py"
      ],
      "metadata": {
        "id": "YapjNQrnm0xw"
      }
    },
    {
      "cell_type": "code",
      "source": [
        "fundamentus.get_list_papel()"
      ],
      "metadata": {
        "colab": {
          "base_uri": "https://localhost:8080/",
          "height": 170
        },
        "id": "HvdKy3EqmGn4",
        "outputId": "44e113c0-9bf6-4c6c-f95f-b4383f10765c"
      },
      "execution_count": 57,
      "outputs": [
        {
          "output_type": "error",
          "ename": "AttributeError",
          "evalue": "ignored",
          "traceback": [
            "\u001b[0;31m---------------------------------------------------------------------------\u001b[0m",
            "\u001b[0;31mAttributeError\u001b[0m                            Traceback (most recent call last)",
            "\u001b[0;32m<ipython-input-57-790e87273699>\u001b[0m in \u001b[0;36m<module>\u001b[0;34m\u001b[0m\n\u001b[0;32m----> 1\u001b[0;31m \u001b[0mfundamentus\u001b[0m\u001b[0;34m.\u001b[0m\u001b[0mget_list_papel\u001b[0m\u001b[0;34m(\u001b[0m\u001b[0;34m)\u001b[0m\u001b[0;34m\u001b[0m\u001b[0;34m\u001b[0m\u001b[0m\n\u001b[0m",
            "\u001b[0;31mAttributeError\u001b[0m: module 'fundamentus' has no attribute 'get_list_papel'"
          ]
        }
      ]
    },
    {
      "cell_type": "code",
      "source": [
        "fundamentus.get_df_papel()"
      ],
      "metadata": {
        "colab": {
          "base_uri": "https://localhost:8080/",
          "height": 170
        },
        "id": "mK8df8s8mocR",
        "outputId": "330d52d8-f6ed-4694-efa2-b0b685434607"
      },
      "execution_count": 58,
      "outputs": [
        {
          "output_type": "error",
          "ename": "AttributeError",
          "evalue": "ignored",
          "traceback": [
            "\u001b[0;31m---------------------------------------------------------------------------\u001b[0m",
            "\u001b[0;31mAttributeError\u001b[0m                            Traceback (most recent call last)",
            "\u001b[0;32m<ipython-input-58-3e41f17e7661>\u001b[0m in \u001b[0;36m<module>\u001b[0;34m\u001b[0m\n\u001b[0;32m----> 1\u001b[0;31m \u001b[0mfundamentus\u001b[0m\u001b[0;34m.\u001b[0m\u001b[0mget_df_papel\u001b[0m\u001b[0;34m(\u001b[0m\u001b[0;34m)\u001b[0m\u001b[0;34m\u001b[0m\u001b[0;34m\u001b[0m\u001b[0m\n\u001b[0m",
            "\u001b[0;31mAttributeError\u001b[0m: module 'fundamentus' has no attribute 'get_df_papel'"
          ]
        }
      ]
    },
    {
      "cell_type": "code",
      "source": [
        "from urllib.request import urlopen\n",
        "from bs4 import BeautifulSoup\n",
        "\n",
        "from urllib.request import Request, urlopen\n",
        "\n",
        "req = Request(\n",
        "    url='https://www.fundamentus.com.br/graficos.php?papel=MGLU3&tipo=1', \n",
        "    headers={'User-Agent': 'Mozilla/5.0'}\n",
        ")\n",
        "webpage = urlopen(req).read()\n",
        "  \n",
        "soup = BeautifulSoup(webpage, 'html.parser')\n",
        "images = soup.find_all('img')\n",
        "  \n",
        "for item in images:\n",
        "    print(item['src'])"
      ],
      "metadata": {
        "colab": {
          "base_uri": "https://localhost:8080/"
        },
        "id": "xErKJPoQmwqI",
        "outputId": "201c7d9b-c64c-4240-efa1-2d44f78596ff"
      },
      "execution_count": 95,
      "outputs": [
        {
          "output_type": "stream",
          "name": "stdout",
          "text": [
            "https://www.facebook.com/tr?id=180895865796070&ev=PageView&noscript=1\n",
            "img/logo.gif\n",
            "graficos3.php?codcvm=22470&tipo=1&chk=100579\n",
            "graficos3.php?codcvm=22470&tipo=2&chk=100579\n",
            "graficos3.php?codcvm=22470&tipo=3&chk=100579\n"
          ]
        }
      ]
    },
    {
      "cell_type": "code",
      "source": [
        "url = 'https://www.fundamentus.com.br/' + images[2]['src'] + '.png'"
      ],
      "metadata": {
        "id": "eRz_NXC_pw6d"
      },
      "execution_count": 96,
      "outputs": []
    },
    {
      "cell_type": "code",
      "source": [
        "url = 'https://media.geeksforgeeks.org/wp-content/post-ads-banner/2022-07-27-23-40-15-image.png'"
      ],
      "metadata": {
        "id": "30HYok7YqbDQ"
      },
      "execution_count": 85,
      "outputs": []
    },
    {
      "cell_type": "code",
      "source": [
        "url"
      ],
      "metadata": {
        "colab": {
          "base_uri": "https://localhost:8080/",
          "height": 36
        },
        "id": "pBU9PfL0sbgC",
        "outputId": "570875cf-f6b2-466a-ad57-450e6e9bcda9"
      },
      "execution_count": 98,
      "outputs": [
        {
          "output_type": "execute_result",
          "data": {
            "text/plain": [
              "'https://www.fundamentus.com.br/graficos3.php?codcvm=22470&tipo=1&chk=100579.png'"
            ],
            "application/vnd.google.colaboratory.intrinsic+json": {
              "type": "string"
            }
          },
          "metadata": {},
          "execution_count": 98
        }
      ]
    },
    {
      "cell_type": "code",
      "source": [
        "Image.open(requests.get(url, stream=True).raw)"
      ],
      "metadata": {
        "colab": {
          "base_uri": "https://localhost:8080/",
          "height": 296
        },
        "id": "CYriAYLPqx0R",
        "outputId": "937bd9db-dff8-43b9-e543-db9690457d24"
      },
      "execution_count": 97,
      "outputs": [
        {
          "output_type": "error",
          "ename": "UnidentifiedImageError",
          "evalue": "ignored",
          "traceback": [
            "\u001b[0;31m---------------------------------------------------------------------------\u001b[0m",
            "\u001b[0;31mUnidentifiedImageError\u001b[0m                    Traceback (most recent call last)",
            "\u001b[0;32m<ipython-input-97-6245257baec6>\u001b[0m in \u001b[0;36m<module>\u001b[0;34m\u001b[0m\n\u001b[0;32m----> 1\u001b[0;31m \u001b[0mImage\u001b[0m\u001b[0;34m.\u001b[0m\u001b[0mopen\u001b[0m\u001b[0;34m(\u001b[0m\u001b[0mrequests\u001b[0m\u001b[0;34m.\u001b[0m\u001b[0mget\u001b[0m\u001b[0;34m(\u001b[0m\u001b[0murl\u001b[0m\u001b[0;34m,\u001b[0m \u001b[0mstream\u001b[0m\u001b[0;34m=\u001b[0m\u001b[0;32mTrue\u001b[0m\u001b[0;34m)\u001b[0m\u001b[0;34m.\u001b[0m\u001b[0mraw\u001b[0m\u001b[0;34m)\u001b[0m\u001b[0;34m\u001b[0m\u001b[0;34m\u001b[0m\u001b[0m\n\u001b[0m",
            "\u001b[0;32m/usr/local/lib/python3.7/dist-packages/PIL/Image.py\u001b[0m in \u001b[0;36mopen\u001b[0;34m(fp, mode)\u001b[0m\n\u001b[1;32m   2894\u001b[0m         \u001b[0mwarnings\u001b[0m\u001b[0;34m.\u001b[0m\u001b[0mwarn\u001b[0m\u001b[0;34m(\u001b[0m\u001b[0mmessage\u001b[0m\u001b[0;34m)\u001b[0m\u001b[0;34m\u001b[0m\u001b[0;34m\u001b[0m\u001b[0m\n\u001b[1;32m   2895\u001b[0m     raise UnidentifiedImageError(\n\u001b[0;32m-> 2896\u001b[0;31m         \u001b[0;34m\"cannot identify image file %r\"\u001b[0m \u001b[0;34m%\u001b[0m \u001b[0;34m(\u001b[0m\u001b[0mfilename\u001b[0m \u001b[0;32mif\u001b[0m \u001b[0mfilename\u001b[0m \u001b[0;32melse\u001b[0m \u001b[0mfp\u001b[0m\u001b[0;34m)\u001b[0m\u001b[0;34m\u001b[0m\u001b[0;34m\u001b[0m\u001b[0m\n\u001b[0m\u001b[1;32m   2897\u001b[0m     )\n\u001b[1;32m   2898\u001b[0m \u001b[0;34m\u001b[0m\u001b[0m\n",
            "\u001b[0;31mUnidentifiedImageError\u001b[0m: cannot identify image file <_io.BytesIO object at 0x7f7e42e7d2f0>"
          ]
        }
      ]
    },
    {
      "cell_type": "code",
      "source": [
        "url"
      ],
      "metadata": {
        "colab": {
          "base_uri": "https://localhost:8080/",
          "height": 36
        },
        "id": "mXpRtR_grZyS",
        "outputId": "caaa8140-5e9b-4acc-d2dd-8e95b246ec81"
      },
      "execution_count": 92,
      "outputs": [
        {
          "output_type": "execute_result",
          "data": {
            "text/plain": [
              "'https://www.fundamentus.com.br/graficos3.php?codcvm=22470&tipo=1&chk=100579'"
            ],
            "application/vnd.google.colaboratory.intrinsic+json": {
              "type": "string"
            }
          },
          "metadata": {},
          "execution_count": 92
        }
      ]
    },
    {
      "cell_type": "code",
      "source": [
        "req = Request(\n",
        "    url=url, \n",
        "    headers={'User-Agent': 'Mozilla/5.0'}\n",
        ")\n",
        "webpage = urlopen(req).read()\n",
        "  \n",
        "soup = BeautifulSoup(webpage, 'html.parser')"
      ],
      "metadata": {
        "id": "hWz5LYwGrOIR"
      },
      "execution_count": 90,
      "outputs": []
    },
    {
      "cell_type": "code",
      "source": [
        "soup"
      ],
      "metadata": {
        "colab": {
          "base_uri": "https://localhost:8080/"
        },
        "id": "pKH9U7TzrWAl",
        "outputId": "613f76e4-ab24-45ab-b2fb-c2ed1ffbec99"
      },
      "execution_count": 91,
      "outputs": [
        {
          "output_type": "execute_result",
          "data": {
            "text/plain": [
              "Ativo nao encontrado."
            ]
          },
          "metadata": {},
          "execution_count": 91
        }
      ]
    },
    {
      "cell_type": "code",
      "source": [
        "\n",
        "\n",
        "from PIL import Image\n",
        "import requests\n",
        "from io import BytesIO\n",
        "\n",
        "response = requests.get(url)\n",
        "img = Image.open(BytesIO(response.content))"
      ],
      "metadata": {
        "colab": {
          "base_uri": "https://localhost:8080/",
          "height": 333
        },
        "id": "vY5TE8QDqP7Q",
        "outputId": "eec89671-4bbd-4cc2-e99c-64e5fa1a22dc"
      },
      "execution_count": 99,
      "outputs": [
        {
          "output_type": "error",
          "ename": "UnidentifiedImageError",
          "evalue": "ignored",
          "traceback": [
            "\u001b[0;31m---------------------------------------------------------------------------\u001b[0m",
            "\u001b[0;31mUnidentifiedImageError\u001b[0m                    Traceback (most recent call last)",
            "\u001b[0;32m<ipython-input-99-38755409e66b>\u001b[0m in \u001b[0;36m<module>\u001b[0;34m\u001b[0m\n\u001b[1;32m      4\u001b[0m \u001b[0;34m\u001b[0m\u001b[0m\n\u001b[1;32m      5\u001b[0m \u001b[0mresponse\u001b[0m \u001b[0;34m=\u001b[0m \u001b[0mrequests\u001b[0m\u001b[0;34m.\u001b[0m\u001b[0mget\u001b[0m\u001b[0;34m(\u001b[0m\u001b[0murl\u001b[0m\u001b[0;34m)\u001b[0m\u001b[0;34m\u001b[0m\u001b[0;34m\u001b[0m\u001b[0m\n\u001b[0;32m----> 6\u001b[0;31m \u001b[0mimg\u001b[0m \u001b[0;34m=\u001b[0m \u001b[0mImage\u001b[0m\u001b[0;34m.\u001b[0m\u001b[0mopen\u001b[0m\u001b[0;34m(\u001b[0m\u001b[0mBytesIO\u001b[0m\u001b[0;34m(\u001b[0m\u001b[0mresponse\u001b[0m\u001b[0;34m.\u001b[0m\u001b[0mcontent\u001b[0m\u001b[0;34m)\u001b[0m\u001b[0;34m)\u001b[0m\u001b[0;34m\u001b[0m\u001b[0;34m\u001b[0m\u001b[0m\n\u001b[0m",
            "\u001b[0;32m/usr/local/lib/python3.7/dist-packages/PIL/Image.py\u001b[0m in \u001b[0;36mopen\u001b[0;34m(fp, mode)\u001b[0m\n\u001b[1;32m   2894\u001b[0m         \u001b[0mwarnings\u001b[0m\u001b[0;34m.\u001b[0m\u001b[0mwarn\u001b[0m\u001b[0;34m(\u001b[0m\u001b[0mmessage\u001b[0m\u001b[0;34m)\u001b[0m\u001b[0;34m\u001b[0m\u001b[0;34m\u001b[0m\u001b[0m\n\u001b[1;32m   2895\u001b[0m     raise UnidentifiedImageError(\n\u001b[0;32m-> 2896\u001b[0;31m         \u001b[0;34m\"cannot identify image file %r\"\u001b[0m \u001b[0;34m%\u001b[0m \u001b[0;34m(\u001b[0m\u001b[0mfilename\u001b[0m \u001b[0;32mif\u001b[0m \u001b[0mfilename\u001b[0m \u001b[0;32melse\u001b[0m \u001b[0mfp\u001b[0m\u001b[0;34m)\u001b[0m\u001b[0;34m\u001b[0m\u001b[0;34m\u001b[0m\u001b[0m\n\u001b[0m\u001b[1;32m   2897\u001b[0m     )\n\u001b[1;32m   2898\u001b[0m \u001b[0;34m\u001b[0m\u001b[0m\n",
            "\u001b[0;31mUnidentifiedImageError\u001b[0m: cannot identify image file <_io.BytesIO object at 0x7f7e43d395f0>"
          ]
        }
      ]
    },
    {
      "cell_type": "code",
      "source": [
        "import io"
      ],
      "metadata": {
        "id": "4NeFSjGBs3iR"
      },
      "execution_count": 100,
      "outputs": []
    },
    {
      "cell_type": "code",
      "source": [
        "url = 'https://www.fundamentus.com.br/' + images[2]['src']\n",
        "\n",
        "byteImgIO = io.BytesIO()\n",
        "byteImg = Image.open(url)"
      ],
      "metadata": {
        "colab": {
          "base_uri": "https://localhost:8080/",
          "height": 333
        },
        "id": "TiMUr-6jtT6q",
        "outputId": "c61b2fae-af62-4151-9d5d-4d84facc5fa9"
      },
      "execution_count": 103,
      "outputs": [
        {
          "output_type": "error",
          "ename": "FileNotFoundError",
          "evalue": "ignored",
          "traceback": [
            "\u001b[0;31m---------------------------------------------------------------------------\u001b[0m",
            "\u001b[0;31mFileNotFoundError\u001b[0m                         Traceback (most recent call last)",
            "\u001b[0;32m<ipython-input-103-f148364b0467>\u001b[0m in \u001b[0;36m<module>\u001b[0;34m\u001b[0m\n\u001b[1;32m      2\u001b[0m \u001b[0;34m\u001b[0m\u001b[0m\n\u001b[1;32m      3\u001b[0m \u001b[0mbyteImgIO\u001b[0m \u001b[0;34m=\u001b[0m \u001b[0mio\u001b[0m\u001b[0;34m.\u001b[0m\u001b[0mBytesIO\u001b[0m\u001b[0;34m(\u001b[0m\u001b[0;34m)\u001b[0m\u001b[0;34m\u001b[0m\u001b[0;34m\u001b[0m\u001b[0m\n\u001b[0;32m----> 4\u001b[0;31m \u001b[0mbyteImg\u001b[0m \u001b[0;34m=\u001b[0m \u001b[0mImage\u001b[0m\u001b[0;34m.\u001b[0m\u001b[0mopen\u001b[0m\u001b[0;34m(\u001b[0m\u001b[0murl\u001b[0m\u001b[0;34m)\u001b[0m\u001b[0;34m\u001b[0m\u001b[0;34m\u001b[0m\u001b[0m\n\u001b[0m",
            "\u001b[0;32m/usr/local/lib/python3.7/dist-packages/PIL/Image.py\u001b[0m in \u001b[0;36mopen\u001b[0;34m(fp, mode)\u001b[0m\n\u001b[1;32m   2841\u001b[0m \u001b[0;34m\u001b[0m\u001b[0m\n\u001b[1;32m   2842\u001b[0m     \u001b[0;32mif\u001b[0m \u001b[0mfilename\u001b[0m\u001b[0;34m:\u001b[0m\u001b[0;34m\u001b[0m\u001b[0;34m\u001b[0m\u001b[0m\n\u001b[0;32m-> 2843\u001b[0;31m         \u001b[0mfp\u001b[0m \u001b[0;34m=\u001b[0m \u001b[0mbuiltins\u001b[0m\u001b[0;34m.\u001b[0m\u001b[0mopen\u001b[0m\u001b[0;34m(\u001b[0m\u001b[0mfilename\u001b[0m\u001b[0;34m,\u001b[0m \u001b[0;34m\"rb\"\u001b[0m\u001b[0;34m)\u001b[0m\u001b[0;34m\u001b[0m\u001b[0;34m\u001b[0m\u001b[0m\n\u001b[0m\u001b[1;32m   2844\u001b[0m         \u001b[0mexclusive_fp\u001b[0m \u001b[0;34m=\u001b[0m \u001b[0;32mTrue\u001b[0m\u001b[0;34m\u001b[0m\u001b[0;34m\u001b[0m\u001b[0m\n\u001b[1;32m   2845\u001b[0m \u001b[0;34m\u001b[0m\u001b[0m\n",
            "\u001b[0;31mFileNotFoundError\u001b[0m: [Errno 2] No such file or directory: 'https://www.fundamentus.com.br/graficos3.php?codcvm=22470&tipo=1&chk=100579'"
          ]
        }
      ]
    },
    {
      "cell_type": "code",
      "source": [
        "\n",
        "byteImg.save(byteImgIO, \"PNG\")\n",
        "byteImgIO.seek(0)\n",
        "byteImg = byteImgIO.read()"
      ],
      "metadata": {
        "colab": {
          "base_uri": "https://localhost:8080/",
          "height": 369
        },
        "id": "fN04UFLWszva",
        "outputId": "13966615-40b1-4764-bda3-4a5afbd1c80c"
      },
      "execution_count": 101,
      "outputs": [
        {
          "output_type": "error",
          "ename": "FileNotFoundError",
          "evalue": "ignored",
          "traceback": [
            "\u001b[0;31m---------------------------------------------------------------------------\u001b[0m",
            "\u001b[0;31mFileNotFoundError\u001b[0m                         Traceback (most recent call last)",
            "\u001b[0;32m<ipython-input-101-267d2d6027e8>\u001b[0m in \u001b[0;36m<module>\u001b[0;34m\u001b[0m\n\u001b[1;32m      1\u001b[0m \u001b[0mbyteImgIO\u001b[0m \u001b[0;34m=\u001b[0m \u001b[0mio\u001b[0m\u001b[0;34m.\u001b[0m\u001b[0mBytesIO\u001b[0m\u001b[0;34m(\u001b[0m\u001b[0;34m)\u001b[0m\u001b[0;34m\u001b[0m\u001b[0;34m\u001b[0m\u001b[0m\n\u001b[0;32m----> 2\u001b[0;31m \u001b[0mbyteImg\u001b[0m \u001b[0;34m=\u001b[0m \u001b[0mImage\u001b[0m\u001b[0;34m.\u001b[0m\u001b[0mopen\u001b[0m\u001b[0;34m(\u001b[0m\u001b[0murl\u001b[0m\u001b[0;34m)\u001b[0m\u001b[0;34m\u001b[0m\u001b[0;34m\u001b[0m\u001b[0m\n\u001b[0m\u001b[1;32m      3\u001b[0m \u001b[0mbyteImg\u001b[0m\u001b[0;34m.\u001b[0m\u001b[0msave\u001b[0m\u001b[0;34m(\u001b[0m\u001b[0mbyteImgIO\u001b[0m\u001b[0;34m,\u001b[0m \u001b[0;34m\"PNG\"\u001b[0m\u001b[0;34m)\u001b[0m\u001b[0;34m\u001b[0m\u001b[0;34m\u001b[0m\u001b[0m\n\u001b[1;32m      4\u001b[0m \u001b[0mbyteImgIO\u001b[0m\u001b[0;34m.\u001b[0m\u001b[0mseek\u001b[0m\u001b[0;34m(\u001b[0m\u001b[0;36m0\u001b[0m\u001b[0;34m)\u001b[0m\u001b[0;34m\u001b[0m\u001b[0;34m\u001b[0m\u001b[0m\n\u001b[1;32m      5\u001b[0m \u001b[0mbyteImg\u001b[0m \u001b[0;34m=\u001b[0m \u001b[0mbyteImgIO\u001b[0m\u001b[0;34m.\u001b[0m\u001b[0mread\u001b[0m\u001b[0;34m(\u001b[0m\u001b[0;34m)\u001b[0m\u001b[0;34m\u001b[0m\u001b[0;34m\u001b[0m\u001b[0m\n",
            "\u001b[0;32m/usr/local/lib/python3.7/dist-packages/PIL/Image.py\u001b[0m in \u001b[0;36mopen\u001b[0;34m(fp, mode)\u001b[0m\n\u001b[1;32m   2841\u001b[0m \u001b[0;34m\u001b[0m\u001b[0m\n\u001b[1;32m   2842\u001b[0m     \u001b[0;32mif\u001b[0m \u001b[0mfilename\u001b[0m\u001b[0;34m:\u001b[0m\u001b[0;34m\u001b[0m\u001b[0;34m\u001b[0m\u001b[0m\n\u001b[0;32m-> 2843\u001b[0;31m         \u001b[0mfp\u001b[0m \u001b[0;34m=\u001b[0m \u001b[0mbuiltins\u001b[0m\u001b[0;34m.\u001b[0m\u001b[0mopen\u001b[0m\u001b[0;34m(\u001b[0m\u001b[0mfilename\u001b[0m\u001b[0;34m,\u001b[0m \u001b[0;34m\"rb\"\u001b[0m\u001b[0;34m)\u001b[0m\u001b[0;34m\u001b[0m\u001b[0;34m\u001b[0m\u001b[0m\n\u001b[0m\u001b[1;32m   2844\u001b[0m         \u001b[0mexclusive_fp\u001b[0m \u001b[0;34m=\u001b[0m \u001b[0;32mTrue\u001b[0m\u001b[0;34m\u001b[0m\u001b[0;34m\u001b[0m\u001b[0m\n\u001b[1;32m   2845\u001b[0m \u001b[0;34m\u001b[0m\u001b[0m\n",
            "\u001b[0;31mFileNotFoundError\u001b[0m: [Errno 2] No such file or directory: 'https://www.fundamentus.com.br/graficos3.php?codcvm=22470&tipo=1&chk=100579.png'"
          ]
        }
      ]
    },
    {
      "cell_type": "code",
      "source": [
        "dataBytesIO = io.BytesIO(byteImg)\n",
        "Image.open(dataBytesIO)"
      ],
      "metadata": {
        "id": "PjZ_IEFNtTb8"
      },
      "execution_count": null,
      "outputs": []
    },
    {
      "cell_type": "code",
      "source": [
        "img"
      ],
      "metadata": {
        "colab": {
          "base_uri": "https://localhost:8080/",
          "height": 118
        },
        "id": "2mI7gkAXqjgp",
        "outputId": "328c0608-03f5-454e-e161-9e357fa46930"
      },
      "execution_count": 81,
      "outputs": [
        {
          "output_type": "execute_result",
          "data": {
            "text/plain": [
              "<PIL.JpegImagePlugin.JpegImageFile image mode=RGB size=100x101 at 0x7F7E42E715D0>"
            ],
            "image/png": "[encoded data removed]"
          },
          "metadata": {},
          "execution_count": 81
        }
      ]
    },
    {
      "cell_type": "code",
      "source": [
        "from urllib.request import urlopen\n",
        "from bs4 import BeautifulSoup\n",
        "  \n",
        "htmldata = urlopen('https://www.geeksforgeeks.org/')\n",
        "soup = BeautifulSoup(htmldata, 'html.parser')\n",
        "images = soup.find_all('img')\n",
        "  \n",
        "for item in images:\n",
        "    print(item['src'])"
      ],
      "metadata": {
        "colab": {
          "base_uri": "https://localhost:8080/"
        },
        "id": "HaMPYCGyo2NR",
        "outputId": "12d8ec93-9128-4898-cf7b-b14941650e53"
      },
      "execution_count": 64,
      "outputs": [
        {
          "output_type": "stream",
          "name": "stdout",
          "text": [
            "https://media.geeksforgeeks.org/wp-content/cdn-uploads/write_ndi_20210312.svg\n",
            "https://media.geeksforgeeks.org/wp-content/cdn-uploads/practice_ndi_20210312.svg\n",
            "https://media.geeksforgeeks.org/wp-content/cdn-uploads/premium_ndi_20210312.svg\n",
            "https://media.geeksforgeeks.org/wp-content/cdn-uploads/jobs_ndi_20210312.svg\n",
            "https://media.geeksforgeeks.org/wp-content/cdn-uploads/20220805183149/image16.png\n",
            "https://videocdn.geeksforgeeks.org/geeksforgeeks/HowtoConvertaStringrepresentationofListintoList/HowtoConvertaStringrepresentationofListintoList20220826113613-small.png\n",
            "https://videocdn.geeksforgeeks.org/geeksforgeeks/CountoccurrencesofcharacterinStringusingHashMapinJava/CountoccurrencesofacharacterinStringusingHashMapinJava20220826163357-small.png\n",
            "https://videocdn.geeksforgeeks.org/geeksforgeeks/CProgramtoReverseaNumber/Reverseofanumber20220826114505-small.png\n",
            "https://videocdn.geeksforgeeks.org/geeksforgeeks/LinearDiscriminantAnalysisLDAMathematicalIntuitionMachineLearning/LinearDiscriminantAnalysisLDAMachineLearningImplementation20220826110637-small.png\n",
            "https://videocdn.geeksforgeeks.org/geeksforgeeks/PythonProgramtoCheckifaVariableisString/PythonProgramtoCheckifaVariableisString20220825144808-small.png\n",
            "https://videocdn.geeksforgeeks.org/geeksforgeeks/FindcuberootofanumberCProgram/Findcuberootofanumber20220825132854-small.png\n",
            "https://videocdn.geeksforgeeks.org/geeksforgeeks/CProgramtoPrintTriangularPatternsofAlphabets/CProgramfortriangularpatternsofalphabets20220825132503-small.png\n",
            "https://videocdn.geeksforgeeks.org/geeksforgeeks/LiangBarskyLineClippingAlgorithmComputerGraphics/LiangBarskyLineClippingAlgorithmComputerGraphics20220825130454-small.png\n",
            "https://videocdn.geeksforgeeks.org/geeksforgeeks/PasswordvalidationinPython/PasswordvalidationinPython20220824124012-small.png\n",
            "https://videocdn.geeksforgeeks.org/geeksforgeeks/CProgramForPrinting180DegreeRotationofSimplePyramid/CProgramForPrinting180DegreeRotationofSimplePyramid20220824181705-small.png\n",
            "https://media.geeksforgeeks.org/wp-content/post-ads-banner/2021-12-29-11-18-16-DSA_Ad_icon (1).png\n",
            "https://media.geeksforgeeks.org/wp-content/post-ads-banner/2021-12-29-16-30-50-CIP_Icon.png\n",
            "https://media.geeksforgeeks.org/wp-content/post-ads-banner/2022-07-27-23-40-15-image.png\n",
            "\n"
          ]
        }
      ]
    },
    {
      "cell_type": "code",
      "source": [],
      "metadata": {
        "id": "-F75XfoBplDh"
      },
      "execution_count": null,
      "outputs": []
    }
  ]
}