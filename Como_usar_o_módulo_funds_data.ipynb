{
  "nbformat": 4,
  "nbformat_minor": 0,
  "metadata": {
    "colab": {
      "provenance": [],
      "authorship_tag": "ABX9TyNZhS7NEMu+mYj+N7h6jjm4",
      "include_colab_link": true
    },
    "kernelspec": {
      "name": "python3",
      "display_name": "Python 3"
    },
    "language_info": {
      "name": "python"
    }
  },
  "cells": [
    {
      "cell_type": "markdown",
      "metadata": {
        "id": "view-in-github",
        "colab_type": "text"
      },
      "source": [
        "<a href=\"https://colab.research.google.com/github/victorncg/financas_quantitativas/blob/main/Como_usar_o_m%C3%B3dulo_funds_data.ipynb\" target=\"_parent\"><img src=\"https://colab.research.google.com/assets/colab-badge.svg\" alt=\"Open In Colab\"/></a>"
      ]
    },
    {
      "cell_type": "markdown",
      "source": [
        "<center><img src = \"https://github.com/Trading-com-Dados/pmf/blob/main/logotipo-trading-com-dados.svg?raw=true\" width = \"200\">\n",
        "\n",
        "\n",
        "\n",
        "---\n",
        "\n"
      ],
      "metadata": {
        "id": "K__IzbxLJLN_"
      }
    },
    {
      "cell_type": "markdown",
      "source": [
        "# **Guia de como utilizar o módulo funds_data da biblioteca tradingcomdados**"
      ],
      "metadata": {
        "id": "IZb1osgKI9SA"
      }
    },
    {
      "cell_type": "markdown",
      "source": [
        "## 1. Instalando e importando a biblioteca"
      ],
      "metadata": {
        "id": "UvH7NcQKFz3K"
      }
    },
    {
      "cell_type": "code",
      "source": [
        "# Caso apareça um erro na primeira tentativa de instalação, reinicie sua sessão e tente instalar novamente.\n",
        "# Caso o problema persista, desinstale a biblioteca numpy (a própria instalação da lib tradingcomdados vai reinstalar a numpy)\n",
        "!pip install tradingcomdados"
      ],
      "metadata": {
        "id": "_J9D8R3La6SV",
        "colab": {
          "base_uri": "https://localhost:8080/"
        },
        "outputId": "502072c5-7443-4d6f-aa25-9718fd35b731"
      },
      "execution_count": 1,
      "outputs": [
        {
          "output_type": "stream",
          "name": "stdout",
          "text": [
            "Requirement already satisfied: tradingcomdados in /usr/local/lib/python3.10/dist-packages (1.3.2)\n",
            "Requirement already satisfied: pandas==1.5.3 in /usr/local/lib/python3.10/dist-packages (from tradingcomdados) (1.5.3)\n",
            "Requirement already satisfied: requests==2.27.1 in /usr/local/lib/python3.10/dist-packages (from tradingcomdados) (2.27.1)\n",
            "Requirement already satisfied: requests-oauthlib==1.3.1 in /usr/local/lib/python3.10/dist-packages (from tradingcomdados) (1.3.1)\n",
            "Requirement already satisfied: requests-unixsocket==0.2.0 in /usr/local/lib/python3.10/dist-packages (from tradingcomdados) (0.2.0)\n",
            "Requirement already satisfied: numpy==1.23.2 in /usr/local/lib/python3.10/dist-packages (from tradingcomdados) (1.23.2)\n",
            "Requirement already satisfied: joblib==1.1.1 in /usr/local/lib/python3.10/dist-packages (from tradingcomdados) (1.1.1)\n",
            "Requirement already satisfied: scikit-learn==1.2.1 in /usr/local/lib/python3.10/dist-packages (from tradingcomdados) (1.2.1)\n",
            "Requirement already satisfied: python-dateutil>=2.8.1 in /usr/local/lib/python3.10/dist-packages (from pandas==1.5.3->tradingcomdados) (2.8.2)\n",
            "Requirement already satisfied: pytz>=2020.1 in /usr/local/lib/python3.10/dist-packages (from pandas==1.5.3->tradingcomdados) (2023.4)\n",
            "Requirement already satisfied: urllib3<1.27,>=1.21.1 in /usr/local/lib/python3.10/dist-packages (from requests==2.27.1->tradingcomdados) (1.26.18)\n",
            "Requirement already satisfied: certifi>=2017.4.17 in /usr/local/lib/python3.10/dist-packages (from requests==2.27.1->tradingcomdados) (2024.2.2)\n",
            "Requirement already satisfied: charset-normalizer~=2.0.0 in /usr/local/lib/python3.10/dist-packages (from requests==2.27.1->tradingcomdados) (2.0.12)\n",
            "Requirement already satisfied: idna<4,>=2.5 in /usr/local/lib/python3.10/dist-packages (from requests==2.27.1->tradingcomdados) (3.6)\n",
            "Requirement already satisfied: oauthlib>=3.0.0 in /usr/local/lib/python3.10/dist-packages (from requests-oauthlib==1.3.1->tradingcomdados) (3.2.2)\n",
            "Requirement already satisfied: scipy>=1.3.2 in /usr/local/lib/python3.10/dist-packages (from scikit-learn==1.2.1->tradingcomdados) (1.11.4)\n",
            "Requirement already satisfied: threadpoolctl>=2.0.0 in /usr/local/lib/python3.10/dist-packages (from scikit-learn==1.2.1->tradingcomdados) (3.3.0)\n",
            "Requirement already satisfied: six>=1.5 in /usr/local/lib/python3.10/dist-packages (from python-dateutil>=2.8.1->pandas==1.5.3->tradingcomdados) (1.16.0)\n"
          ]
        }
      ]
    },
    {
      "cell_type": "code",
      "source": [
        "from tradingcomdados import funds_data as fd\n",
        "import pandas as pd"
      ],
      "metadata": {
        "id": "jthhDYONYjgT"
      },
      "execution_count": 7,
      "outputs": []
    },
    {
      "cell_type": "markdown",
      "source": [
        "## 2. Extraindo todos os fundos"
      ],
      "metadata": {
        "id": "XmYhEKB6qWk6"
      }
    },
    {
      "cell_type": "markdown",
      "source": [
        "Determine uma data de início e fim para coleta dos dados.\n",
        "\n",
        "Ajuste o parâmetro \"verbose\" para exibir ou não o progresso da extração."
      ],
      "metadata": {
        "id": "1s13y_P4Ftgz"
      }
    },
    {
      "cell_type": "code",
      "source": [
        "fd.get_fund_data('2023-01-01', '2023-03-31', verbose = False)"
      ],
      "metadata": {
        "colab": {
          "base_uri": "https://localhost:8080/",
          "height": 423
        },
        "id": "Cqf4SQ3dZfte",
        "outputId": "2ae23705-5f91-49e6-c799-c4aacae497af"
      },
      "execution_count": null,
      "outputs": [
        {
          "output_type": "execute_result",
          "data": {
            "text/plain": [
              "        TP_FUNDO          CNPJ_FUNDO  DT_COMPTC     VL_TOTAL   VL_QUOTA  \\\n",
              "0             FI  00.017.024/0001-53 2023-01-02   1101835.91  30.974427   \n",
              "1             FI  00.017.024/0001-53 2023-01-03   1102410.18  30.988913   \n",
              "2             FI  00.017.024/0001-53 2023-01-04   1102994.24  31.003303   \n",
              "3             FI  00.017.024/0001-53 2023-01-05   1103561.75  31.017294   \n",
              "4             FI  00.017.024/0001-53 2023-01-06   1103794.86  31.030820   \n",
              "...          ...                 ...        ...          ...        ...   \n",
              "1555587       FI  97.929.213/0001-34 2023-03-27  79057838.48  10.439501   \n",
              "1555588       FI  97.929.213/0001-34 2023-03-28  79160950.67  10.453004   \n",
              "1555589       FI  97.929.213/0001-34 2023-03-29  79183843.56  10.455952   \n",
              "1555590       FI  97.929.213/0001-34 2023-03-30  79365876.59  10.479840   \n",
              "1555591       FI  97.929.213/0001-34 2023-03-31  79380059.66  10.481641   \n",
              "\n",
              "         VL_PATRIM_LIQ  CAPTC_DIA  RESG_DIA  NR_COTST  \n",
              "0           1104834.84        0.0       0.0         1  \n",
              "1           1105351.56        0.0       0.0         1  \n",
              "2           1105864.82        0.0       0.0         1  \n",
              "3           1106363.87        0.0       0.0         1  \n",
              "4           1106846.36        0.0       0.0         1  \n",
              "...                ...        ...       ...       ...  \n",
              "1555587    79333122.73        0.0       0.0         2  \n",
              "1555588    79435739.98        0.0       0.0         2  \n",
              "1555589    79458137.44        0.0       0.0         2  \n",
              "1555590    79639674.92        0.0       0.0         2  \n",
              "1555591    79653361.56        0.0       0.0         2  \n",
              "\n",
              "[1555592 rows x 9 columns]"
            ],
            "text/html": [
              "\n",
              "  <div id=\"df-b9ac910c-24e7-4b43-9d31-327c995fb547\" class=\"colab-df-container\">\n",
              "    <div>\n",
              "<style scoped>\n",
              "    .dataframe tbody tr th:only-of-type {\n",
              "        vertical-align: middle;\n",
              "    }\n",
              "\n",
              "    .dataframe tbody tr th {\n",
              "        vertical-align: top;\n",
              "    }\n",
              "\n",
              "    .dataframe thead th {\n",
              "        text-align: right;\n",
              "    }\n",
              "</style>\n",
              "<table border=\"1\" class=\"dataframe\">\n",
              "  <thead>\n",
              "    <tr style=\"text-align: right;\">\n",
              "      <th></th>\n",
              "      <th>TP_FUNDO</th>\n",
              "      <th>CNPJ_FUNDO</th>\n",
              "      <th>DT_COMPTC</th>\n",
              "      <th>VL_TOTAL</th>\n",
              "      <th>VL_QUOTA</th>\n",
              "      <th>VL_PATRIM_LIQ</th>\n",
              "      <th>CAPTC_DIA</th>\n",
              "      <th>RESG_DIA</th>\n",
              "      <th>NR_COTST</th>\n",
              "    </tr>\n",
              "  </thead>\n",
              "  <tbody>\n",
              "    <tr>\n",
              "      <th>0</th>\n",
              "      <td>FI</td>\n",
              "      <td>00.017.024/0001-53</td>\n",
              "      <td>2023-01-02</td>\n",
              "      <td>1101835.91</td>\n",
              "      <td>30.974427</td>\n",
              "      <td>1104834.84</td>\n",
              "      <td>0.0</td>\n",
              "      <td>0.0</td>\n",
              "      <td>1</td>\n",
              "    </tr>\n",
              "    <tr>\n",
              "      <th>1</th>\n",
              "      <td>FI</td>\n",
              "      <td>00.017.024/0001-53</td>\n",
              "      <td>2023-01-03</td>\n",
              "      <td>1102410.18</td>\n",
              "      <td>30.988913</td>\n",
              "      <td>1105351.56</td>\n",
              "      <td>0.0</td>\n",
              "      <td>0.0</td>\n",
              "      <td>1</td>\n",
              "    </tr>\n",
              "    <tr>\n",
              "      <th>2</th>\n",
              "      <td>FI</td>\n",
              "      <td>00.017.024/0001-53</td>\n",
              "      <td>2023-01-04</td>\n",
              "      <td>1102994.24</td>\n",
              "      <td>31.003303</td>\n",
              "      <td>1105864.82</td>\n",
              "      <td>0.0</td>\n",
              "      <td>0.0</td>\n",
              "      <td>1</td>\n",
              "    </tr>\n",
              "    <tr>\n",
              "      <th>3</th>\n",
              "      <td>FI</td>\n",
              "      <td>00.017.024/0001-53</td>\n",
              "      <td>2023-01-05</td>\n",
              "      <td>1103561.75</td>\n",
              "      <td>31.017294</td>\n",
              "      <td>1106363.87</td>\n",
              "      <td>0.0</td>\n",
              "      <td>0.0</td>\n",
              "      <td>1</td>\n",
              "    </tr>\n",
              "    <tr>\n",
              "      <th>4</th>\n",
              "      <td>FI</td>\n",
              "      <td>00.017.024/0001-53</td>\n",
              "      <td>2023-01-06</td>\n",
              "      <td>1103794.86</td>\n",
              "      <td>31.030820</td>\n",
              "      <td>1106846.36</td>\n",
              "      <td>0.0</td>\n",
              "      <td>0.0</td>\n",
              "      <td>1</td>\n",
              "    </tr>\n",
              "    <tr>\n",
              "      <th>...</th>\n",
              "      <td>...</td>\n",
              "      <td>...</td>\n",
              "      <td>...</td>\n",
              "      <td>...</td>\n",
              "      <td>...</td>\n",
              "      <td>...</td>\n",
              "      <td>...</td>\n",
              "      <td>...</td>\n",
              "      <td>...</td>\n",
              "    </tr>\n",
              "    <tr>\n",
              "      <th>1555587</th>\n",
              "      <td>FI</td>\n",
              "      <td>97.929.213/0001-34</td>\n",
              "      <td>2023-03-27</td>\n",
              "      <td>79057838.48</td>\n",
              "      <td>10.439501</td>\n",
              "      <td>79333122.73</td>\n",
              "      <td>0.0</td>\n",
              "      <td>0.0</td>\n",
              "      <td>2</td>\n",
              "    </tr>\n",
              "    <tr>\n",
              "      <th>1555588</th>\n",
              "      <td>FI</td>\n",
              "      <td>97.929.213/0001-34</td>\n",
              "      <td>2023-03-28</td>\n",
              "      <td>79160950.67</td>\n",
              "      <td>10.453004</td>\n",
              "      <td>79435739.98</td>\n",
              "      <td>0.0</td>\n",
              "      <td>0.0</td>\n",
              "      <td>2</td>\n",
              "    </tr>\n",
              "    <tr>\n",
              "      <th>1555589</th>\n",
              "      <td>FI</td>\n",
              "      <td>97.929.213/0001-34</td>\n",
              "      <td>2023-03-29</td>\n",
              "      <td>79183843.56</td>\n",
              "      <td>10.455952</td>\n",
              "      <td>79458137.44</td>\n",
              "      <td>0.0</td>\n",
              "      <td>0.0</td>\n",
              "      <td>2</td>\n",
              "    </tr>\n",
              "    <tr>\n",
              "      <th>1555590</th>\n",
              "      <td>FI</td>\n",
              "      <td>97.929.213/0001-34</td>\n",
              "      <td>2023-03-30</td>\n",
              "      <td>79365876.59</td>\n",
              "      <td>10.479840</td>\n",
              "      <td>79639674.92</td>\n",
              "      <td>0.0</td>\n",
              "      <td>0.0</td>\n",
              "      <td>2</td>\n",
              "    </tr>\n",
              "    <tr>\n",
              "      <th>1555591</th>\n",
              "      <td>FI</td>\n",
              "      <td>97.929.213/0001-34</td>\n",
              "      <td>2023-03-31</td>\n",
              "      <td>79380059.66</td>\n",
              "      <td>10.481641</td>\n",
              "      <td>79653361.56</td>\n",
              "      <td>0.0</td>\n",
              "      <td>0.0</td>\n",
              "      <td>2</td>\n",
              "    </tr>\n",
              "  </tbody>\n",
              "</table>\n",
              "<p>1555592 rows × 9 columns</p>\n",
              "</div>\n",
              "    <div class=\"colab-df-buttons\">\n",
              "\n",
              "  <div class=\"colab-df-container\">\n",
              "    <button class=\"colab-df-convert\" onclick=\"convertToInteractive('df-b9ac910c-24e7-4b43-9d31-327c995fb547')\"\n",
              "            title=\"Convert this dataframe to an interactive table.\"\n",
              "            style=\"display:none;\">\n",
              "\n",
              "  <svg xmlns=\"http://www.w3.org/2000/svg\" height=\"24px\" viewBox=\"0 -960 960 960\">\n",
              "    <path d=\"M120-120v-720h720v720H120Zm60-500h600v-160H180v160Zm220 220h160v-160H400v160Zm0 220h160v-160H400v160ZM180-400h160v-160H180v160Zm440 0h160v-160H620v160ZM180-180h160v-160H180v160Zm440 0h160v-160H620v160Z\"/>\n",
              "  </svg>\n",
              "    </button>\n",
              "\n",
              "  <style>\n",
              "    .colab-df-container {\n",
              "      display:flex;\n",
              "      gap: 12px;\n",
              "    }\n",
              "\n",
              "    .colab-df-convert {\n",
              "      background-color: #E8F0FE;\n",
              "      border: none;\n",
              "      border-radius: 50%;\n",
              "      cursor: pointer;\n",
              "      display: none;\n",
              "      fill: #1967D2;\n",
              "      height: 32px;\n",
              "      padding: 0 0 0 0;\n",
              "      width: 32px;\n",
              "    }\n",
              "\n",
              "    .colab-df-convert:hover {\n",
              "      background-color: #E2EBFA;\n",
              "      box-shadow: 0px 1px 2px rgba(60, 64, 67, 0.3), 0px 1px 3px 1px rgba(60, 64, 67, 0.15);\n",
              "      fill: #174EA6;\n",
              "    }\n",
              "\n",
              "    .colab-df-buttons div {\n",
              "      margin-bottom: 4px;\n",
              "    }\n",
              "\n",
              "    [theme=dark] .colab-df-convert {\n",
              "      background-color: #3B4455;\n",
              "      fill: #D2E3FC;\n",
              "    }\n",
              "\n",
              "    [theme=dark] .colab-df-convert:hover {\n",
              "      background-color: #434B5C;\n",
              "      box-shadow: 0px 1px 3px 1px rgba(0, 0, 0, 0.15);\n",
              "      filter: drop-shadow(0px 1px 2px rgba(0, 0, 0, 0.3));\n",
              "      fill: #FFFFFF;\n",
              "    }\n",
              "  </style>\n",
              "\n",
              "    <script>\n",
              "      const buttonEl =\n",
              "        document.querySelector('#df-b9ac910c-24e7-4b43-9d31-327c995fb547 button.colab-df-convert');\n",
              "      buttonEl.style.display =\n",
              "        google.colab.kernel.accessAllowed ? 'block' : 'none';\n",
              "\n",
              "      async function convertToInteractive(key) {\n",
              "        const element = document.querySelector('#df-b9ac910c-24e7-4b43-9d31-327c995fb547');\n",
              "        const dataTable =\n",
              "          await google.colab.kernel.invokeFunction('convertToInteractive',\n",
              "                                                    [key], {});\n",
              "        if (!dataTable) return;\n",
              "\n",
              "        const docLinkHtml = 'Like what you see? Visit the ' +\n",
              "          '<a target=\"_blank\" href=https://colab.research.google.com/notebooks/data_table.ipynb>data table notebook</a>'\n",
              "          + ' to learn more about interactive tables.';\n",
              "        element.innerHTML = '';\n",
              "        dataTable['output_type'] = 'display_data';\n",
              "        await google.colab.output.renderOutput(dataTable, element);\n",
              "        const docLink = document.createElement('div');\n",
              "        docLink.innerHTML = docLinkHtml;\n",
              "        element.appendChild(docLink);\n",
              "      }\n",
              "    </script>\n",
              "  </div>\n",
              "\n",
              "\n",
              "<div id=\"df-ed472a78-fa5f-4b5d-b0b4-bec8a5955091\">\n",
              "  <button class=\"colab-df-quickchart\" onclick=\"quickchart('df-ed472a78-fa5f-4b5d-b0b4-bec8a5955091')\"\n",
              "            title=\"Suggest charts\"\n",
              "            style=\"display:none;\">\n",
              "\n",
              "<svg xmlns=\"http://www.w3.org/2000/svg\" height=\"24px\"viewBox=\"0 0 24 24\"\n",
              "     width=\"24px\">\n",
              "    <g>\n",
              "        <path d=\"M19 3H5c-1.1 0-2 .9-2 2v14c0 1.1.9 2 2 2h14c1.1 0 2-.9 2-2V5c0-1.1-.9-2-2-2zM9 17H7v-7h2v7zm4 0h-2V7h2v10zm4 0h-2v-4h2v4z\"/>\n",
              "    </g>\n",
              "</svg>\n",
              "  </button>\n",
              "\n",
              "<style>\n",
              "  .colab-df-quickchart {\n",
              "      --bg-color: #E8F0FE;\n",
              "      --fill-color: #1967D2;\n",
              "      --hover-bg-color: #E2EBFA;\n",
              "      --hover-fill-color: #174EA6;\n",
              "      --disabled-fill-color: #AAA;\n",
              "      --disabled-bg-color: #DDD;\n",
              "  }\n",
              "\n",
              "  [theme=dark] .colab-df-quickchart {\n",
              "      --bg-color: #3B4455;\n",
              "      --fill-color: #D2E3FC;\n",
              "      --hover-bg-color: #434B5C;\n",
              "      --hover-fill-color: #FFFFFF;\n",
              "      --disabled-bg-color: #3B4455;\n",
              "      --disabled-fill-color: #666;\n",
              "  }\n",
              "\n",
              "  .colab-df-quickchart {\n",
              "    background-color: var(--bg-color);\n",
              "    border: none;\n",
              "    border-radius: 50%;\n",
              "    cursor: pointer;\n",
              "    display: none;\n",
              "    fill: var(--fill-color);\n",
              "    height: 32px;\n",
              "    padding: 0;\n",
              "    width: 32px;\n",
              "  }\n",
              "\n",
              "  .colab-df-quickchart:hover {\n",
              "    background-color: var(--hover-bg-color);\n",
              "    box-shadow: 0 1px 2px rgba(60, 64, 67, 0.3), 0 1px 3px 1px rgba(60, 64, 67, 0.15);\n",
              "    fill: var(--button-hover-fill-color);\n",
              "  }\n",
              "\n",
              "  .colab-df-quickchart-complete:disabled,\n",
              "  .colab-df-quickchart-complete:disabled:hover {\n",
              "    background-color: var(--disabled-bg-color);\n",
              "    fill: var(--disabled-fill-color);\n",
              "    box-shadow: none;\n",
              "  }\n",
              "\n",
              "  .colab-df-spinner {\n",
              "    border: 2px solid var(--fill-color);\n",
              "    border-color: transparent;\n",
              "    border-bottom-color: var(--fill-color);\n",
              "    animation:\n",
              "      spin 1s steps(1) infinite;\n",
              "  }\n",
              "\n",
              "  @keyframes spin {\n",
              "    0% {\n",
              "      border-color: transparent;\n",
              "      border-bottom-color: var(--fill-color);\n",
              "      border-left-color: var(--fill-color);\n",
              "    }\n",
              "    20% {\n",
              "      border-color: transparent;\n",
              "      border-left-color: var(--fill-color);\n",
              "      border-top-color: var(--fill-color);\n",
              "    }\n",
              "    30% {\n",
              "      border-color: transparent;\n",
              "      border-left-color: var(--fill-color);\n",
              "      border-top-color: var(--fill-color);\n",
              "      border-right-color: var(--fill-color);\n",
              "    }\n",
              "    40% {\n",
              "      border-color: transparent;\n",
              "      border-right-color: var(--fill-color);\n",
              "      border-top-color: var(--fill-color);\n",
              "    }\n",
              "    60% {\n",
              "      border-color: transparent;\n",
              "      border-right-color: var(--fill-color);\n",
              "    }\n",
              "    80% {\n",
              "      border-color: transparent;\n",
              "      border-right-color: var(--fill-color);\n",
              "      border-bottom-color: var(--fill-color);\n",
              "    }\n",
              "    90% {\n",
              "      border-color: transparent;\n",
              "      border-bottom-color: var(--fill-color);\n",
              "    }\n",
              "  }\n",
              "</style>\n",
              "\n",
              "  <script>\n",
              "    async function quickchart(key) {\n",
              "      const quickchartButtonEl =\n",
              "        document.querySelector('#' + key + ' button');\n",
              "      quickchartButtonEl.disabled = true;  // To prevent multiple clicks.\n",
              "      quickchartButtonEl.classList.add('colab-df-spinner');\n",
              "      try {\n",
              "        const charts = await google.colab.kernel.invokeFunction(\n",
              "            'suggestCharts', [key], {});\n",
              "      } catch (error) {\n",
              "        console.error('Error during call to suggestCharts:', error);\n",
              "      }\n",
              "      quickchartButtonEl.classList.remove('colab-df-spinner');\n",
              "      quickchartButtonEl.classList.add('colab-df-quickchart-complete');\n",
              "    }\n",
              "    (() => {\n",
              "      let quickchartButtonEl =\n",
              "        document.querySelector('#df-ed472a78-fa5f-4b5d-b0b4-bec8a5955091 button');\n",
              "      quickchartButtonEl.style.display =\n",
              "        google.colab.kernel.accessAllowed ? 'block' : 'none';\n",
              "    })();\n",
              "  </script>\n",
              "</div>\n",
              "    </div>\n",
              "  </div>\n"
            ],
            "application/vnd.google.colaboratory.intrinsic+json": {
              "type": "dataframe"
            }
          },
          "metadata": {},
          "execution_count": 2
        }
      ]
    },
    {
      "cell_type": "code",
      "source": [
        "dados_fundos = fd.get_fund_data('2023-01-01', '2023-05-31', verbose = True)"
      ],
      "metadata": {
        "colab": {
          "base_uri": "https://localhost:8080/"
        },
        "id": "UzHFshvwGMyU",
        "outputId": "a119cec6-0883-44e4-fd90-47de05f42daf"
      },
      "execution_count": 3,
      "outputs": [
        {
          "output_type": "stream",
          "name": "stdout",
          "text": [
            "Extraction of month January 2023 finished\n",
            "Extraction of month February 2023 finished\n",
            "Extraction of month March 2023 finished\n",
            "Extraction of month April 2023 finished\n",
            "Extraction of month May 2023 finished\n",
            "Process took 16.16671395301819 seconds\n"
          ]
        }
      ]
    },
    {
      "cell_type": "markdown",
      "source": [
        "## 3. Obtendo um fundo específico"
      ],
      "metadata": {
        "id": "yG6V5I_rrlW5"
      }
    },
    {
      "cell_type": "markdown",
      "source": [
        "Por exemplo, vamos obter os dados do ALASKA INSTITUCIONAL FIA"
      ],
      "metadata": {
        "id": "1WElR3YfGw18"
      }
    },
    {
      "cell_type": "code",
      "source": [
        "alaska = fd.get_fund_data('2022-01-01', '2024-03-14', cnpj = '26.673.556/0001-32', verbose = True)"
      ],
      "metadata": {
        "colab": {
          "base_uri": "https://localhost:8080/"
        },
        "id": "13SVfQXRqS3g",
        "outputId": "7ce04958-2816-48db-c4d6-6c138ba2d924"
      },
      "execution_count": 12,
      "outputs": [
        {
          "output_type": "stream",
          "name": "stdout",
          "text": [
            "Extraction of month January 2022 finished\n",
            "Extraction of month February 2022 finished\n",
            "Extraction of month March 2022 finished\n",
            "Extraction of month April 2022 finished\n",
            "Extraction of month May 2022 finished\n",
            "Extraction of month June 2022 finished\n",
            "Extraction of month July 2022 finished\n",
            "Extraction of month August 2022 finished\n",
            "Extraction of month September 2022 finished\n",
            "Extraction of month October 2022 finished\n",
            "Extraction of month November 2022 finished\n",
            "Extraction of month December 2022 finished\n",
            "Extraction of month January 2023 finished\n",
            "Extraction of month February 2023 finished\n",
            "Extraction of month March 2023 finished\n",
            "Extraction of month April 2023 finished\n",
            "Extraction of month May 2023 finished\n",
            "Extraction of month June 2023 finished\n",
            "Extraction of month July 2023 finished\n",
            "Extraction of month August 2023 finished\n",
            "Extraction of month September 2023 finished\n",
            "Extraction of month October 2023 finished\n",
            "Extraction of month November 2023 finished\n",
            "Extraction of month December 2023 finished\n",
            "Extraction of month January 2024 finished\n",
            "Extraction of month February 2024 finished\n",
            "Extraction of month March 2024 finished\n",
            "Process took 86.83933663368225 seconds\n"
          ]
        }
      ]
    },
    {
      "cell_type": "markdown",
      "source": [
        "## 4. Análise dos dados"
      ],
      "metadata": {
        "id": "CeAzlKYZHDix"
      }
    },
    {
      "cell_type": "markdown",
      "source": [
        "Plotando a variação da cota"
      ],
      "metadata": {
        "id": "7kKPARfNHE8P"
      }
    },
    {
      "cell_type": "code",
      "source": [
        "alaska.index = pd.to_datetime(alaska.DT_COMPTC)"
      ],
      "metadata": {
        "id": "CIIFimCtHHTu"
      },
      "execution_count": 13,
      "outputs": []
    },
    {
      "cell_type": "code",
      "source": [
        "alaska.VL_QUOTA.plot();"
      ],
      "metadata": {
        "colab": {
          "base_uri": "https://localhost:8080/",
          "height": 433
        },
        "id": "LS4kRPM-HQon",
        "outputId": "313ba2fa-3676-4c25-f522-f44e5c7ae4a6"
      },
      "execution_count": 14,
      "outputs": [
        {
          "output_type": "display_data",
          "data": {
            "text/plain": [
              "<Figure size 640x480 with 1 Axes>"
            ],
            "image/png": "[encoded data removed]"
          },
          "metadata": {}
        }
      ]
    },
    {
      "cell_type": "markdown",
      "source": [
        "Variação do número de cotistas"
      ],
      "metadata": {
        "id": "SLOPkjw6HVEP"
      }
    },
    {
      "cell_type": "code",
      "source": [
        "alaska.NR_COTST.plot();"
      ],
      "metadata": {
        "colab": {
          "base_uri": "https://localhost:8080/",
          "height": 433
        },
        "id": "CbbjHsHiHZI3",
        "outputId": "47433cff-f2c5-4fd6-b172-f75ff2b3c2c9"
      },
      "execution_count": 15,
      "outputs": [
        {
          "output_type": "display_data",
          "data": {
            "text/plain": [
              "<Figure size 640x480 with 1 Axes>"
            ],
            "image/png": "[encoded data removed]"
          },
          "metadata": {}
        }
      ]
    },
    {
      "cell_type": "markdown",
      "source": [
        "Variação do Patrimônio Líquido"
      ],
      "metadata": {
        "id": "SBhZ6VTuHcfu"
      }
    },
    {
      "cell_type": "code",
      "source": [
        "alaska.VL_PATRIM_LIQ.plot();"
      ],
      "metadata": {
        "colab": {
          "base_uri": "https://localhost:8080/",
          "height": 448
        },
        "id": "H6UsS1wiHiY-",
        "outputId": "a2c28b03-39f3-4545-bd8a-4246bb319b4d"
      },
      "execution_count": 16,
      "outputs": [
        {
          "output_type": "display_data",
          "data": {
            "text/plain": [
              "<Figure size 640x480 with 1 Axes>"
            ],
            "image/png": "[encoded data removed]"
          },
          "metadata": {}
        }
      ]
    },
    {
      "cell_type": "code",
      "source": [],
      "metadata": {
        "id": "kS0Yjq0YHk_W"
      },
      "execution_count": null,
      "outputs": []
    }
  ]
}