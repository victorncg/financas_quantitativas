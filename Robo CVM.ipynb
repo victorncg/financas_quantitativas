{
 "cells": [
  {
   "cell_type": "markdown",
   "metadata": {},
   "source": [
    "1 . Bibliotecas"
   ]
  },
  {
   "cell_type": "code",
   "execution_count": 2,
   "metadata": {},
   "outputs": [
    {
     "name": "stdout",
     "output_type": "stream",
     "text": [
      "Requirement already satisfied: selenium in c:\\users\\55119\\anaconda3\\lib\\site-packages (3.141.0)\n",
      "Requirement already satisfied: urllib3 in c:\\users\\55119\\anaconda3\\lib\\site-packages (from selenium) (1.24.2)\n"
     ]
    }
   ],
   "source": [
    "!pip install selenium"
   ]
  },
  {
   "cell_type": "code",
   "execution_count": 3,
   "metadata": {},
   "outputs": [],
   "source": [
    "from selenium import webdriver\n",
    "import sys\n",
    "import time\n",
    "import zipfile\n",
    "import pandas as pd\n",
    "import os"
   ]
  },
  {
   "cell_type": "code",
   "execution_count": 4,
   "metadata": {},
   "outputs": [],
   "source": [
    "current_path = os.getcwd()"
   ]
  },
  {
   "cell_type": "code",
   "execution_count": 5,
   "metadata": {},
   "outputs": [
    {
     "data": {
      "text/plain": [
       "'C:\\\\Users\\\\55119\\\\Desktop\\\\ROBO CVM'"
      ]
     },
     "execution_count": 5,
     "metadata": {},
     "output_type": "execute_result"
    }
   ],
   "source": [
    "current_path"
   ]
  },
  {
   "cell_type": "code",
   "execution_count": null,
   "metadata": {},
   "outputs": [],
   "source": [
    "#2 Teste com Chromedriver"
   ]
  },
  {
   "cell_type": "code",
   "execution_count": 6,
   "metadata": {},
   "outputs": [
    {
     "data": {
      "text/plain": [
       "'C:\\\\Users\\\\55119\\\\Desktop\\\\ROBO CVM\\\\webdriver\\\\chromedriver.exe'"
      ]
     },
     "execution_count": 6,
     "metadata": {},
     "output_type": "execute_result"
    }
   ],
   "source": [
    "current_path + \"\\\\webdriver\\\\chromedriver.exe\""
   ]
  },
  {
   "cell_type": "code",
   "execution_count": 7,
   "metadata": {},
   "outputs": [],
   "source": [
    "driver = webdriver.Chrome(current_path + \"\\\\webdriver\\\\chromedriver.exe\")\n",
    "\n",
    "driver.get('https://www.google.com/')\n",
    "\n",
    "#Espere 5 segundos\n",
    "time.sleep(5)\n",
    "\n",
    "#Agora vamos tentar passar um comando de pesquisa\n",
    "search_box = driver.find_element_by_name('q')\n",
    "search_box.send_keys('Chromedriver')\n",
    "search_box.submit()\n",
    "\n",
    "#Espere mais 5 segundos\n",
    "time.sleep(5)\n",
    "\n",
    "driver.quit()\n"
   ]
  },
  {
   "cell_type": "markdown",
   "metadata": {},
   "source": [
    "WEBSCRAPING DA CVM"
   ]
  },
  {
   "cell_type": "markdown",
   "metadata": {},
   "source": [
    "Esse robô será feito com as seguintes etapas:\n",
    "1. Função init\n",
    "2. Função webscraping\n",
    "   a. Verificaçao do diretorio de destino e limpeza, caso seja neccessário\n",
    "   b. acionar o nosso webdriver \n",
    "   c. Determinar um intervalo de tempo que queremos baixar os arquivos\n",
    "   d. solicitar que o webdriver baixe os arquivos\n",
    "   e. vamos retirar os arquivos .csv de dentro das pastas zipadas e vamos apagar as pastas zipadas\n",
    "3. Função importação\n",
    "   a. Determinar quais arquivos serão abertos\n",
    "   b. Concatenar tudo num data frame só\n",
    "   c. Fazer adaptações necessárias e retornar o data frame final"
   ]
  },
  {
   "cell_type": "markdown",
   "metadata": {},
   "source": [
    "A Verificaçao do diretorio"
   ]
  },
  {
   "cell_type": "code",
   "execution_count": 8,
   "metadata": {},
   "outputs": [],
   "source": [
    "path = current_path + '\\\\files'"
   ]
  },
  {
   "cell_type": "code",
   "execution_count": 9,
   "metadata": {},
   "outputs": [
    {
     "data": {
      "text/plain": [
       "'C:\\\\Users\\\\55119\\\\Desktop\\\\ROBO CVM\\\\files'"
      ]
     },
     "execution_count": 9,
     "metadata": {},
     "output_type": "execute_result"
    }
   ],
   "source": [
    "path"
   ]
  },
  {
   "cell_type": "code",
   "execution_count": 10,
   "metadata": {},
   "outputs": [
    {
     "name": "stdout",
     "output_type": "stream",
     "text": [
      "Diretorio Existe\n",
      "Removendo arquivo  itr_cia_aberta_2018.csv\n",
      "Removendo arquivo  itr_cia_aberta_2019.csv\n",
      "Removendo arquivo  itr_cia_aberta_2020.csv\n",
      "Removendo arquivo  itr_cia_aberta_BPA_con_2018.csv\n",
      "Removendo arquivo  itr_cia_aberta_BPA_con_2019.csv\n",
      "Removendo arquivo  itr_cia_aberta_BPA_con_2020.csv\n",
      "Removendo arquivo  itr_cia_aberta_BPA_ind_2018.csv\n",
      "Removendo arquivo  itr_cia_aberta_BPA_ind_2019.csv\n",
      "Removendo arquivo  itr_cia_aberta_BPA_ind_2020.csv\n",
      "Removendo arquivo  itr_cia_aberta_BPP_con_2018.csv\n",
      "Removendo arquivo  itr_cia_aberta_BPP_con_2019.csv\n",
      "Removendo arquivo  itr_cia_aberta_BPP_con_2020.csv\n",
      "Removendo arquivo  itr_cia_aberta_BPP_ind_2018.csv\n",
      "Removendo arquivo  itr_cia_aberta_BPP_ind_2019.csv\n",
      "Removendo arquivo  itr_cia_aberta_BPP_ind_2020.csv\n",
      "Removendo arquivo  itr_cia_aberta_DFC_MD_con_2018.csv\n",
      "Removendo arquivo  itr_cia_aberta_DFC_MD_con_2019.csv\n",
      "Removendo arquivo  itr_cia_aberta_DFC_MD_con_2020.csv\n",
      "Removendo arquivo  itr_cia_aberta_DFC_MD_ind_2018.csv\n",
      "Removendo arquivo  itr_cia_aberta_DFC_MD_ind_2019.csv\n",
      "Removendo arquivo  itr_cia_aberta_DFC_MD_ind_2020.csv\n",
      "Removendo arquivo  itr_cia_aberta_DFC_MI_con_2018.csv\n",
      "Removendo arquivo  itr_cia_aberta_DFC_MI_con_2019.csv\n",
      "Removendo arquivo  itr_cia_aberta_DFC_MI_con_2020.csv\n",
      "Removendo arquivo  itr_cia_aberta_DFC_MI_ind_2018.csv\n",
      "Removendo arquivo  itr_cia_aberta_DFC_MI_ind_2019.csv\n",
      "Removendo arquivo  itr_cia_aberta_DFC_MI_ind_2020.csv\n",
      "Removendo arquivo  itr_cia_aberta_DMPL_con_2018.csv\n",
      "Removendo arquivo  itr_cia_aberta_DMPL_con_2019.csv\n",
      "Removendo arquivo  itr_cia_aberta_DMPL_con_2020.csv\n",
      "Removendo arquivo  itr_cia_aberta_DMPL_ind_2018.csv\n",
      "Removendo arquivo  itr_cia_aberta_DMPL_ind_2019.csv\n",
      "Removendo arquivo  itr_cia_aberta_DMPL_ind_2020.csv\n",
      "Removendo arquivo  itr_cia_aberta_DRE_con_2018.csv\n",
      "Removendo arquivo  itr_cia_aberta_DRE_con_2019.csv\n",
      "Removendo arquivo  itr_cia_aberta_DRE_con_2020.csv\n",
      "Removendo arquivo  itr_cia_aberta_DRE_ind_2018.csv\n",
      "Removendo arquivo  itr_cia_aberta_DRE_ind_2019.csv\n",
      "Removendo arquivo  itr_cia_aberta_DRE_ind_2020.csv\n",
      "Removendo arquivo  itr_cia_aberta_DVA_con_2018.csv\n",
      "Removendo arquivo  itr_cia_aberta_DVA_con_2019.csv\n",
      "Removendo arquivo  itr_cia_aberta_DVA_con_2020.csv\n",
      "Removendo arquivo  itr_cia_aberta_DVA_ind_2018.csv\n",
      "Removendo arquivo  itr_cia_aberta_DVA_ind_2019.csv\n",
      "Removendo arquivo  itr_cia_aberta_DVA_ind_2020.csv\n"
     ]
    }
   ],
   "source": [
    "if os.path.isdir(path):  #Verificamos se o diretorio existe\n",
    "    print(\"Diretorio Existe\")\n",
    "    \n",
    "    #Caso o diretorio exista vamos limpa-lo se houver arquivos\n",
    "    if(len(os.listdir(path))>0): #Ha arquivos nesse diretorio?\n",
    "        \n",
    "        for i in os.listdir(path):\n",
    "            print(\"Removendo arquivo \", i)\n",
    "            os.remove(f'{path}/{i}')\n",
    "    \n",
    "else:\n",
    "    print(\"Diretorio nao existe\")\n",
    "    #cria diretorio que nao existia\n",
    "    os.mkdir(path)\n"
   ]
  },
  {
   "cell_type": "markdown",
   "metadata": {},
   "source": [
    "ACIONAR NOSSO WEBDRIVER"
   ]
  },
  {
   "cell_type": "code",
   "execution_count": 11,
   "metadata": {},
   "outputs": [],
   "source": [
    "driver = current_path + '\\\\webdriver\\\\chromedriver.exe'\n",
    "url = 'http://dados.cvm.gov.br/dados/CIA_ABERTA/DOC/ITR/DADOS/'"
   ]
  },
  {
   "cell_type": "code",
   "execution_count": 12,
   "metadata": {},
   "outputs": [],
   "source": [
    "chrome_options= webdriver.ChromeOptions()"
   ]
  },
  {
   "cell_type": "code",
   "execution_count": 13,
   "metadata": {},
   "outputs": [],
   "source": [
    "prefs = {'download.default_directory':path}\n",
    "chrome_options.add_experimental_option('prefs', prefs)"
   ]
  },
  {
   "cell_type": "code",
   "execution_count": 14,
   "metadata": {},
   "outputs": [
    {
     "name": "stderr",
     "output_type": "stream",
     "text": [
      "C:\\Users\\55119\\Anaconda3\\lib\\site-packages\\ipykernel_launcher.py:1: DeprecationWarning: use options instead of chrome_options\n",
      "  \"\"\"Entry point for launching an IPython kernel.\n"
     ]
    }
   ],
   "source": [
    "browser = webdriver.Chrome(driver, chrome_options=chrome_options)\n",
    "browser.get(url)"
   ]
  },
  {
   "cell_type": "markdown",
   "metadata": {},
   "source": [
    "Determinar o intervalo de tempo que queremos baixar os arquivos\n",
    "OBS: construir o label e o diretorio de equivalencia na pag da CVM"
   ]
  },
  {
   "cell_type": "code",
   "execution_count": 15,
   "metadata": {},
   "outputs": [],
   "source": [
    "ini = '01/01/2018'\n",
    "fim = '01/01/2021'"
   ]
  },
  {
   "cell_type": "code",
   "execution_count": 16,
   "metadata": {},
   "outputs": [
    {
     "data": {
      "text/plain": [
       "'2018'"
      ]
     },
     "execution_count": 16,
     "metadata": {},
     "output_type": "execute_result"
    }
   ],
   "source": [
    "ini[-4:]"
   ]
  },
  {
   "cell_type": "code",
   "execution_count": 17,
   "metadata": {},
   "outputs": [
    {
     "data": {
      "text/plain": [
       "'2021'"
      ]
     },
     "execution_count": 17,
     "metadata": {},
     "output_type": "execute_result"
    }
   ],
   "source": [
    "fim[-4:]"
   ]
  },
  {
   "cell_type": "code",
   "execution_count": 18,
   "metadata": {},
   "outputs": [],
   "source": [
    "ano_ini = int(ini[-4:])"
   ]
  },
  {
   "cell_type": "code",
   "execution_count": 19,
   "metadata": {},
   "outputs": [
    {
     "data": {
      "text/plain": [
       "2018"
      ]
     },
     "execution_count": 19,
     "metadata": {},
     "output_type": "execute_result"
    }
   ],
   "source": [
    "ano_ini"
   ]
  },
  {
   "cell_type": "code",
   "execution_count": 20,
   "metadata": {},
   "outputs": [],
   "source": [
    "ano_fim = int(fim[-4:])"
   ]
  },
  {
   "cell_type": "code",
   "execution_count": 21,
   "metadata": {},
   "outputs": [
    {
     "data": {
      "text/plain": [
       "2021"
      ]
     },
     "execution_count": 21,
     "metadata": {},
     "output_type": "execute_result"
    }
   ],
   "source": [
    "ano_fim"
   ]
  },
  {
   "cell_type": "code",
   "execution_count": 22,
   "metadata": {},
   "outputs": [],
   "source": [
    "c = 4 + (ano_ini - 2011)"
   ]
  },
  {
   "cell_type": "code",
   "execution_count": 23,
   "metadata": {},
   "outputs": [
    {
     "data": {
      "text/plain": [
       "11"
      ]
     },
     "execution_count": 23,
     "metadata": {},
     "output_type": "execute_result"
    }
   ],
   "source": [
    "c"
   ]
  },
  {
   "cell_type": "code",
   "execution_count": 24,
   "metadata": {},
   "outputs": [],
   "source": [
    "cf = 4 + (ano_fim - 2011)"
   ]
  },
  {
   "cell_type": "code",
   "execution_count": 25,
   "metadata": {},
   "outputs": [
    {
     "data": {
      "text/plain": [
       "14"
      ]
     },
     "execution_count": 25,
     "metadata": {},
     "output_type": "execute_result"
    }
   ],
   "source": [
    "cf"
   ]
  },
  {
   "cell_type": "markdown",
   "metadata": {},
   "source": [
    "Solicitando que o webdriver baixe os arquivos"
   ]
  },
  {
   "cell_type": "code",
   "execution_count": 26,
   "metadata": {},
   "outputs": [],
   "source": [
    "while True:\n",
    "    \n",
    "    try:\n",
    "        browser.find_element_by_xpath(f'//*[@id=\"indexlist\"]/tbody/tr[{c}]').click()\n",
    "        time.sleep(5)\n",
    "        c += 1\n",
    "        \n",
    "        if c == cf:\n",
    "            break\n",
    "        \n",
    "    except:\n",
    "        break  "
   ]
  },
  {
   "cell_type": "markdown",
   "metadata": {},
   "source": [
    "Retirando os arquivos .csv de dentro das pastas zipadas e vamos apagar as pastas zipadas"
   ]
  },
  {
   "cell_type": "code",
   "execution_count": 27,
   "metadata": {},
   "outputs": [
    {
     "name": "stdout",
     "output_type": "stream",
     "text": [
      "Passo 2 de 4 - Download dos arquivos concluído\n",
      "Passo 3 de 4 - Iniciando processo de Unzip das pastas\n",
      "Passo 4 de 4 - Todos os arquivos .csv foram unzipados\n"
     ]
    }
   ],
   "source": [
    "while True:\n",
    "    if len([x for x in os.listdir(path) if('.zip.crdownload' in x)]) > 0:\n",
    "        pass\n",
    "    else:\n",
    "        break\n",
    "        \n",
    "print('Passo 2 de 4 - Download dos arquivos concluído')\n",
    "print('Passo 3 de 4 - Iniciando processo de Unzip das pastas')\n",
    "\n",
    "extension = '.zip'\n",
    "\n",
    "for item in os.listdir(path): # Loop para percorrer todos os arquivos que estão na pasta \"files\"\n",
    "    if item.endswith(extension): # Verifica se o arquivo é .zip\n",
    "        path = os.path.abspath(path)\n",
    "        zipref = zipfile.ZipFile(path + '\\\\' + item) # Criando objeto zipfile\n",
    "        zipref.extractall(path) # Extraindo arquivo para diretório\n",
    "        zipref.close() # Fecha o arquivo zipado\n",
    "        os.remove(path + '\\\\' + item) # Deleta cada um dos zips\n",
    "\n",
    "print('Passo 4 de 4 - Todos os arquivos .csv foram unzipados')"
   ]
  },
  {
   "cell_type": "code",
   "execution_count": 28,
   "metadata": {},
   "outputs": [
    {
     "data": {
      "text/plain": [
       "'C:\\\\Users\\\\55119\\\\Desktop\\\\ROBO CVM\\\\files'"
      ]
     },
     "execution_count": 28,
     "metadata": {},
     "output_type": "execute_result"
    }
   ],
   "source": [
    "path"
   ]
  },
  {
   "cell_type": "markdown",
   "metadata": {},
   "source": [
    "Função importação"
   ]
  },
  {
   "cell_type": "markdown",
   "metadata": {},
   "source": [
    "Determinar quais arquivos serão abertos"
   ]
  },
  {
   "cell_type": "code",
   "execution_count": 29,
   "metadata": {},
   "outputs": [],
   "source": [
    "ext = 1"
   ]
  },
  {
   "cell_type": "markdown",
   "metadata": {},
   "source": [
    "Se o usuário especificar ext como 0, o scraping não será feito, apenas a importação para o Python\n",
    "Se o usuário colocar ext = 1, toda a rotina será executada"
   ]
  },
  {
   "cell_type": "code",
   "execution_count": 30,
   "metadata": {},
   "outputs": [
    {
     "ename": "NameError",
     "evalue": "name 'cvm' is not defined",
     "output_type": "error",
     "traceback": [
      "\u001b[1;31m---------------------------------------------------------------------------\u001b[0m",
      "\u001b[1;31mNameError\u001b[0m                                 Traceback (most recent call last)",
      "\u001b[1;32m<ipython-input-30-d043da672266>\u001b[0m in \u001b[0;36m<module>\u001b[1;34m\u001b[0m\n\u001b[0;32m      1\u001b[0m \u001b[1;32mif\u001b[0m \u001b[0mext\u001b[0m \u001b[1;33m==\u001b[0m\u001b[1;36m1\u001b[0m\u001b[1;33m:\u001b[0m\u001b[1;33m\u001b[0m\u001b[1;33m\u001b[0m\u001b[0m\n\u001b[1;32m----> 2\u001b[1;33m     \u001b[0mcvm\u001b[0m\u001b[1;33m.\u001b[0m\u001b[0mscraping_df\u001b[0m\u001b[1;33m(\u001b[0m\u001b[1;33m)\u001b[0m\u001b[1;33m\u001b[0m\u001b[1;33m\u001b[0m\u001b[0m\n\u001b[0m\u001b[0;32m      3\u001b[0m \u001b[1;32melif\u001b[0m \u001b[0mext\u001b[0m \u001b[1;33m==\u001b[0m\u001b[1;36m0\u001b[0m\u001b[1;33m:\u001b[0m\u001b[1;33m\u001b[0m\u001b[1;33m\u001b[0m\u001b[0m\n\u001b[0;32m      4\u001b[0m     \u001b[1;32mpass\u001b[0m\u001b[1;33m\u001b[0m\u001b[1;33m\u001b[0m\u001b[0m\n",
      "\u001b[1;31mNameError\u001b[0m: name 'cvm' is not defined"
     ]
    }
   ],
   "source": [
    "if ext ==1:\n",
    "    cvm.scraping_df()\n",
    "elif ext ==0:\n",
    "    pass"
   ]
  },
  {
   "cell_type": "code",
   "execution_count": 32,
   "metadata": {},
   "outputs": [],
   "source": [
    "filename = []\n",
    "\n",
    "ini = '01/01/2018' \n",
    "fim = '01/01/2021'\n",
    "\n",
    "ano_ini = ini[-4:]\n",
    "ano_fim = fim[-4:]\n",
    "\n",
    "dfp = ['DRE', 'BPA']\n",
    "\n",
    "if ano_ini == ano_fim:\n",
    "    periodo = [ano_ini, None]\n",
    "else:\n",
    "    periodo = [ano_ini, ano_fim]\n",
    "    lista_anos = list(range(int(periodo[0]), int(periodo[1])+1))\n",
    "    \n",
    "    \n",
    "for d in dfp:\n",
    "    for p in lista_anos:\n",
    "        filename += [x for x in os.listdir(path) if (d in x) and (str(p) in x)]"
   ]
  },
  {
   "cell_type": "markdown",
   "metadata": {},
   "source": [
    " Concatenar tudo num data frame só"
   ]
  },
  {
   "cell_type": "code",
   "execution_count": 33,
   "metadata": {},
   "outputs": [
    {
     "data": {
      "text/plain": [
       "['itr_cia_aberta_DRE_con_2018.csv',\n",
       " 'itr_cia_aberta_DRE_ind_2018.csv',\n",
       " 'itr_cia_aberta_DRE_con_2019.csv',\n",
       " 'itr_cia_aberta_DRE_ind_2019.csv',\n",
       " 'itr_cia_aberta_DRE_con_2020.csv',\n",
       " 'itr_cia_aberta_DRE_ind_2020.csv',\n",
       " 'itr_cia_aberta_BPA_con_2018.csv',\n",
       " 'itr_cia_aberta_BPA_ind_2018.csv',\n",
       " 'itr_cia_aberta_BPA_con_2019.csv',\n",
       " 'itr_cia_aberta_BPA_ind_2019.csv',\n",
       " 'itr_cia_aberta_BPA_con_2020.csv',\n",
       " 'itr_cia_aberta_BPA_ind_2020.csv']"
      ]
     },
     "execution_count": 33,
     "metadata": {},
     "output_type": "execute_result"
    }
   ],
   "source": [
    "filename"
   ]
  },
  {
   "cell_type": "code",
   "execution_count": 34,
   "metadata": {},
   "outputs": [
    {
     "data": {
      "text/plain": [
       "'C:\\\\Users\\\\55119\\\\Desktop\\\\ROBO CVM\\\\files\\\\itr_cia_aberta_DRE_ind_2018.csv'"
      ]
     },
     "execution_count": 34,
     "metadata": {},
     "output_type": "execute_result"
    }
   ],
   "source": [
    "path + \"\\\\\" + filename[1]"
   ]
  },
  {
   "cell_type": "code",
   "execution_count": 35,
   "metadata": {},
   "outputs": [
    {
     "data": {
      "text/plain": [
       "'C:\\\\Users\\\\55119\\\\Desktop\\\\ROBO CVM\\\\files\\\\itr_cia_aberta_DRE_ind_2018.csv'"
      ]
     },
     "execution_count": 35,
     "metadata": {},
     "output_type": "execute_result"
    }
   ],
   "source": [
    "f\"{path}\\\\{filename[1]}\""
   ]
  },
  {
   "cell_type": "code",
   "execution_count": 36,
   "metadata": {},
   "outputs": [],
   "source": [
    "for i in filename:\n",
    "    df = pd.read_csv(f\"{path}\\\\{i}\", sep = ';', encoding = 'cp1252')\n",
    "    try:\n",
    "        df_concat = pd.concat([df_concat,df], ignore_index = True)\n",
    "    except:\n",
    "        df_concat = df"
   ]
  },
  {
   "cell_type": "code",
   "execution_count": 37,
   "metadata": {},
   "outputs": [
    {
     "data": {
      "text/plain": [
       "(2109860, 15)"
      ]
     },
     "execution_count": 37,
     "metadata": {},
     "output_type": "execute_result"
    }
   ],
   "source": [
    "df_concat.shape"
   ]
  },
  {
   "cell_type": "code",
   "execution_count": 45,
   "metadata": {},
   "outputs": [
    {
     "data": {
      "text/html": [
       "<div>\n",
       "<style scoped>\n",
       "    .dataframe tbody tr th:only-of-type {\n",
       "        vertical-align: middle;\n",
       "    }\n",
       "\n",
       "    .dataframe tbody tr th {\n",
       "        vertical-align: top;\n",
       "    }\n",
       "\n",
       "    .dataframe thead th {\n",
       "        text-align: right;\n",
       "    }\n",
       "</style>\n",
       "<table border=\"1\" class=\"dataframe\">\n",
       "  <thead>\n",
       "    <tr style=\"text-align: right;\">\n",
       "      <th></th>\n",
       "      <th>CNPJ_CIA</th>\n",
       "      <th>DT_REFER</th>\n",
       "      <th>VERSAO</th>\n",
       "      <th>DENOM_CIA</th>\n",
       "      <th>CD_CVM</th>\n",
       "      <th>GRUPO_DFP</th>\n",
       "      <th>MOEDA</th>\n",
       "      <th>ESCALA_MOEDA</th>\n",
       "      <th>ORDEM_EXERC</th>\n",
       "      <th>DT_INI_EXERC</th>\n",
       "      <th>DT_FIM_EXERC</th>\n",
       "      <th>CD_CONTA</th>\n",
       "      <th>DS_CONTA</th>\n",
       "      <th>VL_CONTA</th>\n",
       "      <th>ST_CONTA_FIXA</th>\n",
       "    </tr>\n",
       "  </thead>\n",
       "  <tbody>\n",
       "    <tr>\n",
       "      <th>0</th>\n",
       "      <td>00.001.180/0001-26</td>\n",
       "      <td>2018-03-31</td>\n",
       "      <td>1</td>\n",
       "      <td>CENTRAIS ELET BRAS S.A. - ELETROBRAS</td>\n",
       "      <td>2437</td>\n",
       "      <td>DF Consolidado - Demonstração do Resultado</td>\n",
       "      <td>REAL</td>\n",
       "      <td>MIL</td>\n",
       "      <td>PENÚLTIMO</td>\n",
       "      <td>2017-01-01</td>\n",
       "      <td>2017-03-31</td>\n",
       "      <td>3.01</td>\n",
       "      <td>Receita de Venda de Bens e/ou Serviços</td>\n",
       "      <td>8862044.0</td>\n",
       "      <td>S</td>\n",
       "    </tr>\n",
       "    <tr>\n",
       "      <th>1</th>\n",
       "      <td>00.001.180/0001-26</td>\n",
       "      <td>2018-03-31</td>\n",
       "      <td>1</td>\n",
       "      <td>CENTRAIS ELET BRAS S.A. - ELETROBRAS</td>\n",
       "      <td>2437</td>\n",
       "      <td>DF Consolidado - Demonstração do Resultado</td>\n",
       "      <td>REAL</td>\n",
       "      <td>MIL</td>\n",
       "      <td>ÚLTIMO</td>\n",
       "      <td>2018-01-01</td>\n",
       "      <td>2018-03-31</td>\n",
       "      <td>3.01</td>\n",
       "      <td>Receita de Venda de Bens e/ou Serviços</td>\n",
       "      <td>8592581.0</td>\n",
       "      <td>S</td>\n",
       "    </tr>\n",
       "    <tr>\n",
       "      <th>2</th>\n",
       "      <td>00.001.180/0001-26</td>\n",
       "      <td>2018-03-31</td>\n",
       "      <td>1</td>\n",
       "      <td>CENTRAIS ELET BRAS S.A. - ELETROBRAS</td>\n",
       "      <td>2437</td>\n",
       "      <td>DF Consolidado - Demonstração do Resultado</td>\n",
       "      <td>REAL</td>\n",
       "      <td>MIL</td>\n",
       "      <td>PENÚLTIMO</td>\n",
       "      <td>2017-01-01</td>\n",
       "      <td>2017-03-31</td>\n",
       "      <td>3.02</td>\n",
       "      <td>Custo dos Bens e/ou Serviços Vendidos</td>\n",
       "      <td>-3417264.0</td>\n",
       "      <td>S</td>\n",
       "    </tr>\n",
       "    <tr>\n",
       "      <th>3</th>\n",
       "      <td>00.001.180/0001-26</td>\n",
       "      <td>2018-03-31</td>\n",
       "      <td>1</td>\n",
       "      <td>CENTRAIS ELET BRAS S.A. - ELETROBRAS</td>\n",
       "      <td>2437</td>\n",
       "      <td>DF Consolidado - Demonstração do Resultado</td>\n",
       "      <td>REAL</td>\n",
       "      <td>MIL</td>\n",
       "      <td>ÚLTIMO</td>\n",
       "      <td>2018-01-01</td>\n",
       "      <td>2018-03-31</td>\n",
       "      <td>3.02</td>\n",
       "      <td>Custo dos Bens e/ou Serviços Vendidos</td>\n",
       "      <td>-3750040.0</td>\n",
       "      <td>S</td>\n",
       "    </tr>\n",
       "    <tr>\n",
       "      <th>4</th>\n",
       "      <td>00.001.180/0001-26</td>\n",
       "      <td>2018-03-31</td>\n",
       "      <td>1</td>\n",
       "      <td>CENTRAIS ELET BRAS S.A. - ELETROBRAS</td>\n",
       "      <td>2437</td>\n",
       "      <td>DF Consolidado - Demonstração do Resultado</td>\n",
       "      <td>REAL</td>\n",
       "      <td>MIL</td>\n",
       "      <td>PENÚLTIMO</td>\n",
       "      <td>2017-01-01</td>\n",
       "      <td>2017-03-31</td>\n",
       "      <td>3.02.01</td>\n",
       "      <td>Energia comprada para revenda</td>\n",
       "      <td>-2602297.0</td>\n",
       "      <td>N</td>\n",
       "    </tr>\n",
       "  </tbody>\n",
       "</table>\n",
       "</div>"
      ],
      "text/plain": [
       "             CNPJ_CIA    DT_REFER  VERSAO  \\\n",
       "0  00.001.180/0001-26  2018-03-31       1   \n",
       "1  00.001.180/0001-26  2018-03-31       1   \n",
       "2  00.001.180/0001-26  2018-03-31       1   \n",
       "3  00.001.180/0001-26  2018-03-31       1   \n",
       "4  00.001.180/0001-26  2018-03-31       1   \n",
       "\n",
       "                              DENOM_CIA  CD_CVM  \\\n",
       "0  CENTRAIS ELET BRAS S.A. - ELETROBRAS    2437   \n",
       "1  CENTRAIS ELET BRAS S.A. - ELETROBRAS    2437   \n",
       "2  CENTRAIS ELET BRAS S.A. - ELETROBRAS    2437   \n",
       "3  CENTRAIS ELET BRAS S.A. - ELETROBRAS    2437   \n",
       "4  CENTRAIS ELET BRAS S.A. - ELETROBRAS    2437   \n",
       "\n",
       "                                    GRUPO_DFP MOEDA ESCALA_MOEDA ORDEM_EXERC  \\\n",
       "0  DF Consolidado - Demonstração do Resultado  REAL          MIL   PENÚLTIMO   \n",
       "1  DF Consolidado - Demonstração do Resultado  REAL          MIL      ÚLTIMO   \n",
       "2  DF Consolidado - Demonstração do Resultado  REAL          MIL   PENÚLTIMO   \n",
       "3  DF Consolidado - Demonstração do Resultado  REAL          MIL      ÚLTIMO   \n",
       "4  DF Consolidado - Demonstração do Resultado  REAL          MIL   PENÚLTIMO   \n",
       "\n",
       "  DT_INI_EXERC DT_FIM_EXERC CD_CONTA                                DS_CONTA  \\\n",
       "0   2017-01-01   2017-03-31     3.01  Receita de Venda de Bens e/ou Serviços   \n",
       "1   2018-01-01   2018-03-31     3.01  Receita de Venda de Bens e/ou Serviços   \n",
       "2   2017-01-01   2017-03-31     3.02   Custo dos Bens e/ou Serviços Vendidos   \n",
       "3   2018-01-01   2018-03-31     3.02   Custo dos Bens e/ou Serviços Vendidos   \n",
       "4   2017-01-01   2017-03-31  3.02.01           Energia comprada para revenda   \n",
       "\n",
       "    VL_CONTA ST_CONTA_FIXA  \n",
       "0  8862044.0             S  \n",
       "1  8592581.0             S  \n",
       "2 -3417264.0             S  \n",
       "3 -3750040.0             S  \n",
       "4 -2602297.0             N  "
      ]
     },
     "execution_count": 45,
     "metadata": {},
     "output_type": "execute_result"
    }
   ],
   "source": [
    "df_concat.head()"
   ]
  },
  {
   "cell_type": "markdown",
   "metadata": {},
   "source": [
    "c. Fazer adaptações necessárias e retornar o data frame final"
   ]
  },
  {
   "cell_type": "code",
   "execution_count": 38,
   "metadata": {},
   "outputs": [
    {
     "data": {
      "text/plain": [
       "CNPJ_CIA          object\n",
       "DT_REFER          object\n",
       "VERSAO             int64\n",
       "DENOM_CIA         object\n",
       "CD_CVM             int64\n",
       "GRUPO_DFP         object\n",
       "MOEDA             object\n",
       "ESCALA_MOEDA      object\n",
       "ORDEM_EXERC       object\n",
       "DT_INI_EXERC      object\n",
       "DT_FIM_EXERC      object\n",
       "CD_CONTA          object\n",
       "DS_CONTA          object\n",
       "VL_CONTA         float64\n",
       "ST_CONTA_FIXA     object\n",
       "dtype: object"
      ]
     },
     "execution_count": 38,
     "metadata": {},
     "output_type": "execute_result"
    }
   ],
   "source": [
    "df_concat.dtypes"
   ]
  },
  {
   "cell_type": "code",
   "execution_count": 39,
   "metadata": {},
   "outputs": [],
   "source": [
    "df_concat['DT_INI_EXERC'] = pd.to_datetime(df_concat['DT_INI_EXERC'], format = ('%Y-%m-%d'))\n",
    "df_concat['DT_FIM_EXERC'] = pd.to_datetime(df_concat['DT_FIM_EXERC'], format = ('%Y-%m-%d'))"
   ]
  },
  {
   "cell_type": "code",
   "execution_count": 40,
   "metadata": {},
   "outputs": [
    {
     "data": {
      "text/plain": [
       "CNPJ_CIA                 object\n",
       "DT_REFER                 object\n",
       "VERSAO                    int64\n",
       "DENOM_CIA                object\n",
       "CD_CVM                    int64\n",
       "GRUPO_DFP                object\n",
       "MOEDA                    object\n",
       "ESCALA_MOEDA             object\n",
       "ORDEM_EXERC              object\n",
       "DT_INI_EXERC     datetime64[ns]\n",
       "DT_FIM_EXERC     datetime64[ns]\n",
       "CD_CONTA                 object\n",
       "DS_CONTA                 object\n",
       "VL_CONTA                float64\n",
       "ST_CONTA_FIXA            object\n",
       "dtype: object"
      ]
     },
     "execution_count": 40,
     "metadata": {},
     "output_type": "execute_result"
    }
   ],
   "source": [
    "df_concat.dtypes"
   ]
  },
  {
   "cell_type": "code",
   "execution_count": 41,
   "metadata": {},
   "outputs": [
    {
     "data": {
      "text/plain": [
       "'01/01/2018'"
      ]
     },
     "execution_count": 41,
     "metadata": {},
     "output_type": "execute_result"
    }
   ],
   "source": [
    "ini"
   ]
  },
  {
   "cell_type": "code",
   "execution_count": 42,
   "metadata": {},
   "outputs": [
    {
     "data": {
      "text/plain": [
       "'01/01/2021'"
      ]
     },
     "execution_count": 42,
     "metadata": {},
     "output_type": "execute_result"
    }
   ],
   "source": [
    "fim"
   ]
  },
  {
   "cell_type": "code",
   "execution_count": 43,
   "metadata": {},
   "outputs": [
    {
     "data": {
      "text/plain": [
       "'2018'"
      ]
     },
     "execution_count": 43,
     "metadata": {},
     "output_type": "execute_result"
    }
   ],
   "source": [
    "ini[-4:]"
   ]
  },
  {
   "cell_type": "code",
   "execution_count": 44,
   "metadata": {},
   "outputs": [],
   "source": [
    "df_concat['DT_INI_EXERC'] = pd.to_datetime(df_concat['DT_INI_EXERC'], format = ('%Y-%m-%d'))\n",
    "df_concat['DT_FIM_EXERC'] = pd.to_datetime(df_concat['DT_FIM_EXERC'], format = ('%Y-%m-%d'))\n",
    "\n",
    "ini_log =  f'{ini[-4:]}-{ini[3:5]}-{ini[0:2]}'\n",
    "fim_log =  f'{fim[-4:]}-{fim[3:5]}-{fim[0:2]}'\n",
    "\n",
    "df_final = df_concat.loc[(df_concat['DT_FIM_EXERC'] >= ini_log) & (df_concat['DT_FIM_EXERC'] <= fim_log)]"
   ]
  },
  {
   "cell_type": "code",
   "execution_count": 45,
   "metadata": {},
   "outputs": [
    {
     "data": {
      "text/plain": [
       "'2021-01-01'"
      ]
     },
     "execution_count": 45,
     "metadata": {},
     "output_type": "execute_result"
    }
   ],
   "source": [
    "fim_log"
   ]
  },
  {
   "cell_type": "code",
   "execution_count": 46,
   "metadata": {},
   "outputs": [
    {
     "data": {
      "text/plain": [
       "(1775178, 15)"
      ]
     },
     "execution_count": 46,
     "metadata": {},
     "output_type": "execute_result"
    }
   ],
   "source": [
    "df_final.shape"
   ]
  },
  {
   "cell_type": "code",
   "execution_count": 47,
   "metadata": {},
   "outputs": [
    {
     "data": {
      "text/html": [
       "<div>\n",
       "<style scoped>\n",
       "    .dataframe tbody tr th:only-of-type {\n",
       "        vertical-align: middle;\n",
       "    }\n",
       "\n",
       "    .dataframe tbody tr th {\n",
       "        vertical-align: top;\n",
       "    }\n",
       "\n",
       "    .dataframe thead th {\n",
       "        text-align: right;\n",
       "    }\n",
       "</style>\n",
       "<table border=\"1\" class=\"dataframe\">\n",
       "  <thead>\n",
       "    <tr style=\"text-align: right;\">\n",
       "      <th></th>\n",
       "      <th>CNPJ_CIA</th>\n",
       "      <th>DT_REFER</th>\n",
       "      <th>VERSAO</th>\n",
       "      <th>DENOM_CIA</th>\n",
       "      <th>CD_CVM</th>\n",
       "      <th>GRUPO_DFP</th>\n",
       "      <th>MOEDA</th>\n",
       "      <th>ESCALA_MOEDA</th>\n",
       "      <th>ORDEM_EXERC</th>\n",
       "      <th>DT_INI_EXERC</th>\n",
       "      <th>DT_FIM_EXERC</th>\n",
       "      <th>CD_CONTA</th>\n",
       "      <th>DS_CONTA</th>\n",
       "      <th>VL_CONTA</th>\n",
       "      <th>ST_CONTA_FIXA</th>\n",
       "    </tr>\n",
       "  </thead>\n",
       "  <tbody>\n",
       "    <tr>\n",
       "      <th>1</th>\n",
       "      <td>00.001.180/0001-26</td>\n",
       "      <td>2018-03-31</td>\n",
       "      <td>1</td>\n",
       "      <td>CENTRAIS ELET BRAS S.A. - ELETROBRAS</td>\n",
       "      <td>2437</td>\n",
       "      <td>DF Consolidado - Demonstração do Resultado</td>\n",
       "      <td>REAL</td>\n",
       "      <td>MIL</td>\n",
       "      <td>ÚLTIMO</td>\n",
       "      <td>2018-01-01</td>\n",
       "      <td>2018-03-31</td>\n",
       "      <td>3.01</td>\n",
       "      <td>Receita de Venda de Bens e/ou Serviços</td>\n",
       "      <td>8592581.0</td>\n",
       "      <td>S</td>\n",
       "    </tr>\n",
       "    <tr>\n",
       "      <th>3</th>\n",
       "      <td>00.001.180/0001-26</td>\n",
       "      <td>2018-03-31</td>\n",
       "      <td>1</td>\n",
       "      <td>CENTRAIS ELET BRAS S.A. - ELETROBRAS</td>\n",
       "      <td>2437</td>\n",
       "      <td>DF Consolidado - Demonstração do Resultado</td>\n",
       "      <td>REAL</td>\n",
       "      <td>MIL</td>\n",
       "      <td>ÚLTIMO</td>\n",
       "      <td>2018-01-01</td>\n",
       "      <td>2018-03-31</td>\n",
       "      <td>3.02</td>\n",
       "      <td>Custo dos Bens e/ou Serviços Vendidos</td>\n",
       "      <td>-3750040.0</td>\n",
       "      <td>S</td>\n",
       "    </tr>\n",
       "    <tr>\n",
       "      <th>5</th>\n",
       "      <td>00.001.180/0001-26</td>\n",
       "      <td>2018-03-31</td>\n",
       "      <td>1</td>\n",
       "      <td>CENTRAIS ELET BRAS S.A. - ELETROBRAS</td>\n",
       "      <td>2437</td>\n",
       "      <td>DF Consolidado - Demonstração do Resultado</td>\n",
       "      <td>REAL</td>\n",
       "      <td>MIL</td>\n",
       "      <td>ÚLTIMO</td>\n",
       "      <td>2018-01-01</td>\n",
       "      <td>2018-03-31</td>\n",
       "      <td>3.02.01</td>\n",
       "      <td>Energia comprada para revenda</td>\n",
       "      <td>-2492307.0</td>\n",
       "      <td>N</td>\n",
       "    </tr>\n",
       "    <tr>\n",
       "      <th>7</th>\n",
       "      <td>00.001.180/0001-26</td>\n",
       "      <td>2018-03-31</td>\n",
       "      <td>1</td>\n",
       "      <td>CENTRAIS ELET BRAS S.A. - ELETROBRAS</td>\n",
       "      <td>2437</td>\n",
       "      <td>DF Consolidado - Demonstração do Resultado</td>\n",
       "      <td>REAL</td>\n",
       "      <td>MIL</td>\n",
       "      <td>ÚLTIMO</td>\n",
       "      <td>2018-01-01</td>\n",
       "      <td>2018-03-31</td>\n",
       "      <td>3.02.02</td>\n",
       "      <td>Encargos sobre o uso da rede elétrica</td>\n",
       "      <td>-446629.0</td>\n",
       "      <td>N</td>\n",
       "    </tr>\n",
       "    <tr>\n",
       "      <th>9</th>\n",
       "      <td>00.001.180/0001-26</td>\n",
       "      <td>2018-03-31</td>\n",
       "      <td>1</td>\n",
       "      <td>CENTRAIS ELET BRAS S.A. - ELETROBRAS</td>\n",
       "      <td>2437</td>\n",
       "      <td>DF Consolidado - Demonstração do Resultado</td>\n",
       "      <td>REAL</td>\n",
       "      <td>MIL</td>\n",
       "      <td>ÚLTIMO</td>\n",
       "      <td>2018-01-01</td>\n",
       "      <td>2018-03-31</td>\n",
       "      <td>3.02.03</td>\n",
       "      <td>Combustível para produção de energia elétrica</td>\n",
       "      <td>-477444.0</td>\n",
       "      <td>N</td>\n",
       "    </tr>\n",
       "  </tbody>\n",
       "</table>\n",
       "</div>"
      ],
      "text/plain": [
       "             CNPJ_CIA    DT_REFER  VERSAO  \\\n",
       "1  00.001.180/0001-26  2018-03-31       1   \n",
       "3  00.001.180/0001-26  2018-03-31       1   \n",
       "5  00.001.180/0001-26  2018-03-31       1   \n",
       "7  00.001.180/0001-26  2018-03-31       1   \n",
       "9  00.001.180/0001-26  2018-03-31       1   \n",
       "\n",
       "                              DENOM_CIA  CD_CVM  \\\n",
       "1  CENTRAIS ELET BRAS S.A. - ELETROBRAS    2437   \n",
       "3  CENTRAIS ELET BRAS S.A. - ELETROBRAS    2437   \n",
       "5  CENTRAIS ELET BRAS S.A. - ELETROBRAS    2437   \n",
       "7  CENTRAIS ELET BRAS S.A. - ELETROBRAS    2437   \n",
       "9  CENTRAIS ELET BRAS S.A. - ELETROBRAS    2437   \n",
       "\n",
       "                                    GRUPO_DFP MOEDA ESCALA_MOEDA ORDEM_EXERC  \\\n",
       "1  DF Consolidado - Demonstração do Resultado  REAL          MIL      ÚLTIMO   \n",
       "3  DF Consolidado - Demonstração do Resultado  REAL          MIL      ÚLTIMO   \n",
       "5  DF Consolidado - Demonstração do Resultado  REAL          MIL      ÚLTIMO   \n",
       "7  DF Consolidado - Demonstração do Resultado  REAL          MIL      ÚLTIMO   \n",
       "9  DF Consolidado - Demonstração do Resultado  REAL          MIL      ÚLTIMO   \n",
       "\n",
       "  DT_INI_EXERC DT_FIM_EXERC CD_CONTA  \\\n",
       "1   2018-01-01   2018-03-31     3.01   \n",
       "3   2018-01-01   2018-03-31     3.02   \n",
       "5   2018-01-01   2018-03-31  3.02.01   \n",
       "7   2018-01-01   2018-03-31  3.02.02   \n",
       "9   2018-01-01   2018-03-31  3.02.03   \n",
       "\n",
       "                                        DS_CONTA   VL_CONTA ST_CONTA_FIXA  \n",
       "1         Receita de Venda de Bens e/ou Serviços  8592581.0             S  \n",
       "3          Custo dos Bens e/ou Serviços Vendidos -3750040.0             S  \n",
       "5                  Energia comprada para revenda -2492307.0             N  \n",
       "7          Encargos sobre o uso da rede elétrica  -446629.0             N  \n",
       "9  Combustível para produção de energia elétrica  -477444.0             N  "
      ]
     },
     "execution_count": 47,
     "metadata": {},
     "output_type": "execute_result"
    }
   ],
   "source": [
    "df_final.head()"
   ]
  },
  {
   "cell_type": "code",
   "execution_count": 48,
   "metadata": {},
   "outputs": [
    {
     "data": {
      "text/plain": [
       "Index(['CNPJ_CIA', 'DT_REFER', 'VERSAO', 'DENOM_CIA', 'CD_CVM', 'GRUPO_DFP',\n",
       "       'MOEDA', 'ESCALA_MOEDA', 'ORDEM_EXERC', 'DT_INI_EXERC', 'DT_FIM_EXERC',\n",
       "       'CD_CONTA', 'DS_CONTA', 'VL_CONTA', 'ST_CONTA_FIXA'],\n",
       "      dtype='object')"
      ]
     },
     "execution_count": 48,
     "metadata": {},
     "output_type": "execute_result"
    }
   ],
   "source": [
    "df_final.columns"
   ]
  },
  {
   "cell_type": "markdown",
   "metadata": {},
   "source": [
    "CRIANDO A CLASSE FINAL"
   ]
  },
  {
   "cell_type": "code",
   "execution_count": 49,
   "metadata": {},
   "outputs": [],
   "source": [
    "class CVM_Extractor:\n",
    "    \n",
    "    def __init__(self, ext, ini,fim):\n",
    "        self.dir_download = current_path + '\\\\files'\n",
    "        self.driver = current_path + '\\\\webdriver\\\\chromedriver.exe'\n",
    "        self.url = 'http://dados.cvm.gov.br/dados/CIA_ABERTA/DOC/ITR/DADOS/'\n",
    "        self.ini = ini\n",
    "        self.fim = fim\n",
    "        self.ext = ext\n",
    "        \n",
    "    def scraping_df(self):\n",
    "        if os.path.isdir(self.dir_download): #Verificamos se o diretório existe\n",
    "            print(\"Diretório Existe\")\n",
    "    \n",
    "            # Caso o diretório exista, vamos limpá-lo se houver arquivos\n",
    "            if(len(os.listdir(self.dir_download))>0): # Há arquivos nesse diretório?\n",
    "        \n",
    "                for i in os.listdir(self.dir_download):\n",
    "                    print(\"Removendo arquivo \", i)\n",
    "                    os.remove(f'{self.dir_download}/{i}')\n",
    "    \n",
    "        else:\n",
    "            print(\"Diretório não existe\")\n",
    "    \n",
    "            # Cria diretório que não existia\n",
    "            os.mkdir(self.dir_download)\n",
    "            \n",
    "        chrome_options= webdriver.ChromeOptions()\n",
    "\n",
    "        prefs = {'download.default_directory':self.dir_download}\n",
    "        chrome_options.add_experimental_option('prefs', prefs)\n",
    "\n",
    "        browser = webdriver.Chrome(self.driver, chrome_options=chrome_options)\n",
    "\n",
    "        print('Passo 1 de 4 - Extração dos arquivos zipados da CVM')\n",
    "        browser.get(self.url)\n",
    "        \n",
    "        ano_ini = int(self.ini[-4:])\n",
    "        ano_fim = int(self.fim[-4:])\n",
    "\n",
    "        c = 4 + (ano_ini - 2011)\n",
    "        cf = 4 + (ano_fim - 2011)\n",
    "        \n",
    "        while True:\n",
    "\n",
    "            try:\n",
    "                browser.find_element_by_xpath(f'//*[@id=\"indexlist\"]/tbody/tr[{c}]').click()\n",
    "                time.sleep(5)\n",
    "                c += 1\n",
    "\n",
    "                if c == cf:\n",
    "                    break\n",
    "\n",
    "            except:\n",
    "                break       \n",
    "        \n",
    "        while True:\n",
    "            if len([x for x in os.listdir(self.dir_download) if('.zip.crdownload' in x)]) > 0:\n",
    "                pass\n",
    "            else:\n",
    "                break\n",
    "\n",
    "        print('Passo 2 de 4 - Download dos arquivos concluído')\n",
    "        print('Passo 3 de 4 - Iniciando processo de Unzip das pastas')\n",
    "\n",
    "        extension = '.zip'\n",
    "\n",
    "        for item in os.listdir(self.dir_download): # Loop para percorrer todos os arquivos que estão na pasta \"files\"\n",
    "            if item.endswith(extension): # Verifica se o arquivo é .zip\n",
    "                self.dir_download = os.path.abspath(self.dir_download)\n",
    "                zipref = zipfile.ZipFile(self.dir_download + '\\\\' + item) # Criando objeto zipfile\n",
    "                zipref.extractall(self.dir_download) # Extraindo arquivo para diretório\n",
    "                zipref.close() # Fecha o arquivo zipado\n",
    "                os.remove(self.dir_download + '\\\\' + item) # Deleta cada um dos zips\n",
    "\n",
    "        print('Passo 4 de 4 - Todos os arquivos .csv foram unzipados')\n",
    "        \n",
    "    def import_df(self, dfp):\n",
    "        if self.ext ==1:\n",
    "            self.scraping_df()\n",
    "        elif self.ext ==0:\n",
    "            pass\n",
    "        \n",
    "        filename = []\n",
    "\n",
    "        ini = self.ini \n",
    "        fim = self.fim\n",
    "\n",
    "        ano_ini = ini[-4:]\n",
    "        ano_fim = fim[-4:]\n",
    "\n",
    "        if ano_ini == ano_fim:\n",
    "            periodo = [ano_ini, None]\n",
    "        else:\n",
    "            periodo = [ano_ini, ano_fim]\n",
    "            lista_anos = list(range(int(periodo[0]), int(periodo[1])+1))\n",
    "\n",
    "\n",
    "        for d in dfp:\n",
    "            for p in lista_anos:\n",
    "                filename += [x for x in os.listdir(self.dir_download) if (d in x) and (str(p) in x)]\n",
    "        \n",
    "        for i in filename:\n",
    "            df = pd.read_csv(f\"{path}\\\\{i}\", sep = ';', encoding = 'cp1252')\n",
    "            try:\n",
    "                df_concat = pd.concat([df_concat,df], ignore_index = True)\n",
    "            except:\n",
    "                df_concat = df\n",
    "        \n",
    "        df_concat['DT_INI_EXERC'] = pd.to_datetime(df_concat['DT_INI_EXERC'], format = ('%Y-%m-%d'))\n",
    "        df_concat['DT_FIM_EXERC'] = pd.to_datetime(df_concat['DT_FIM_EXERC'], format = ('%Y-%m-%d'))\n",
    "\n",
    "        ini_log =  f'{ini[-4:]}-{ini[3:5]}-{ini[0:2]}'\n",
    "        fim_log =  f'{fim[-4:]}-{fim[3:5]}-{fim[0:2]}'\n",
    "\n",
    "        df_final = df_concat.loc[(df_concat['DT_FIM_EXERC'] >= ini_log) & (df_concat['DT_FIM_EXERC'] <= fim_log)]\n",
    "        \n",
    "        return df_final    \n",
    "                "
   ]
  },
  {
   "cell_type": "code",
   "execution_count": 50,
   "metadata": {},
   "outputs": [],
   "source": [
    "cvm = CVM_Extractor(0, '01/01/2018','01/01/2021')"
   ]
  },
  {
   "cell_type": "code",
   "execution_count": 51,
   "metadata": {},
   "outputs": [
    {
     "data": {
      "text/plain": [
       "<__main__.CVM_Extractor at 0x28b00123fd0>"
      ]
     },
     "execution_count": 51,
     "metadata": {},
     "output_type": "execute_result"
    }
   ],
   "source": [
    "cvm"
   ]
  },
  {
   "cell_type": "code",
   "execution_count": null,
   "metadata": {},
   "outputs": [],
   "source": [
    "##Exportar o DF final para csv"
   ]
  },
  {
   "cell_type": "code",
   "execution_count": 52,
   "metadata": {},
   "outputs": [],
   "source": [
    "csv_final = df_final.to_csv(index=False)"
   ]
  },
  {
   "cell_type": "code",
   "execution_count": 53,
   "metadata": {},
   "outputs": [],
   "source": [
    "#Salvando arquivo como pickle\n",
    "\n",
    "import pickle "
   ]
  },
  {
   "cell_type": "code",
   "execution_count": 54,
   "metadata": {},
   "outputs": [],
   "source": [
    "nome = 'dfbalancodre.pkl'"
   ]
  },
  {
   "cell_type": "code",
   "execution_count": 55,
   "metadata": {},
   "outputs": [],
   "source": [
    "#salvando o df_final como pickle\n",
    "\n",
    "pickle.dump(df_final,\n",
    "           open(nome,'wb'))"
   ]
  }
 ],
 "metadata": {
  "kernelspec": {
   "display_name": "Python 3",
   "language": "python",
   "name": "python3"
  },
  "language_info": {
   "codemirror_mode": {
    "name": "ipython",
    "version": 3
   },
   "file_extension": ".py",
   "mimetype": "text/x-python",
   "name": "python",
   "nbconvert_exporter": "python",
   "pygments_lexer": "ipython3",
   "version": "3.8.5"
  }
 },
 "nbformat": 4,
 "nbformat_minor": 2
}
