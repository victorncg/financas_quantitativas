{
 "cells": [
  {
   "cell_type": "code",
   "execution_count": 1,
   "metadata": {},
   "outputs": [],
   "source": [
    "import os"
   ]
  },
  {
   "cell_type": "code",
   "execution_count": 5,
   "metadata": {},
   "outputs": [],
   "source": [
    "path = os.getcwd()"
   ]
  },
  {
   "cell_type": "code",
   "execution_count": 6,
   "metadata": {},
   "outputs": [
    {
     "data": {
      "text/plain": [
       "'C:\\\\Users\\\\victo'"
      ]
     },
     "execution_count": 6,
     "metadata": {},
     "output_type": "execute_result"
    }
   ],
   "source": [
    "path"
   ]
  },
  {
   "cell_type": "code",
   "execution_count": 7,
   "metadata": {},
   "outputs": [],
   "source": [
    "novo_path = path + '\\\\Arquivos'"
   ]
  },
  {
   "cell_type": "code",
   "execution_count": 8,
   "metadata": {},
   "outputs": [
    {
     "data": {
      "text/plain": [
       "'C:\\\\Users\\\\victo\\\\Arquivos'"
      ]
     },
     "execution_count": 8,
     "metadata": {},
     "output_type": "execute_result"
    }
   ],
   "source": [
    "novo_path"
   ]
  },
  {
   "cell_type": "code",
   "execution_count": 9,
   "metadata": {},
   "outputs": [],
   "source": [
    "os.chdir(novo_path)"
   ]
  },
  {
   "cell_type": "code",
   "execution_count": 10,
   "metadata": {},
   "outputs": [
    {
     "data": {
      "text/plain": [
       "'C:\\\\Users\\\\victo\\\\Arquivos'"
      ]
     },
     "execution_count": 10,
     "metadata": {},
     "output_type": "execute_result"
    }
   ],
   "source": [
    " os.getcwd()"
   ]
  },
  {
   "cell_type": "code",
   "execution_count": 11,
   "metadata": {},
   "outputs": [],
   "source": [
    "import pandas as pd"
   ]
  },
  {
   "cell_type": "code",
   "execution_count": 12,
   "metadata": {},
   "outputs": [],
   "source": [
    "arquivo = pd.read_csv('WEGE3.SA.csv')"
   ]
  },
  {
   "cell_type": "code",
   "execution_count": 13,
   "metadata": {},
   "outputs": [
    {
     "data": {
      "text/html": [
       "<div>\n",
       "<style scoped>\n",
       "    .dataframe tbody tr th:only-of-type {\n",
       "        vertical-align: middle;\n",
       "    }\n",
       "\n",
       "    .dataframe tbody tr th {\n",
       "        vertical-align: top;\n",
       "    }\n",
       "\n",
       "    .dataframe thead th {\n",
       "        text-align: right;\n",
       "    }\n",
       "</style>\n",
       "<table border=\"1\" class=\"dataframe\">\n",
       "  <thead>\n",
       "    <tr style=\"text-align: right;\">\n",
       "      <th></th>\n",
       "      <th>Date</th>\n",
       "      <th>Open</th>\n",
       "      <th>High</th>\n",
       "      <th>Low</th>\n",
       "      <th>Close</th>\n",
       "      <th>Adj Close</th>\n",
       "      <th>Volume</th>\n",
       "    </tr>\n",
       "  </thead>\n",
       "  <tbody>\n",
       "    <tr>\n",
       "      <th>0</th>\n",
       "      <td>2017-07-24</td>\n",
       "      <td>7.392307</td>\n",
       "      <td>7.473076</td>\n",
       "      <td>7.261538</td>\n",
       "      <td>7.426923</td>\n",
       "      <td>7.051007</td>\n",
       "      <td>2638220.0</td>\n",
       "    </tr>\n",
       "    <tr>\n",
       "      <th>1</th>\n",
       "      <td>2017-07-25</td>\n",
       "      <td>7.476923</td>\n",
       "      <td>7.476923</td>\n",
       "      <td>7.307692</td>\n",
       "      <td>7.369230</td>\n",
       "      <td>6.996235</td>\n",
       "      <td>2505880.0</td>\n",
       "    </tr>\n",
       "    <tr>\n",
       "      <th>2</th>\n",
       "      <td>2017-07-26</td>\n",
       "      <td>7.323076</td>\n",
       "      <td>7.442307</td>\n",
       "      <td>7.276923</td>\n",
       "      <td>7.326923</td>\n",
       "      <td>6.956069</td>\n",
       "      <td>2112240.0</td>\n",
       "    </tr>\n",
       "    <tr>\n",
       "      <th>3</th>\n",
       "      <td>2017-07-27</td>\n",
       "      <td>7.388461</td>\n",
       "      <td>7.419230</td>\n",
       "      <td>7.223076</td>\n",
       "      <td>7.269230</td>\n",
       "      <td>6.901296</td>\n",
       "      <td>1910480.0</td>\n",
       "    </tr>\n",
       "    <tr>\n",
       "      <th>4</th>\n",
       "      <td>2017-07-28</td>\n",
       "      <td>7.261538</td>\n",
       "      <td>7.296153</td>\n",
       "      <td>7.165384</td>\n",
       "      <td>7.200000</td>\n",
       "      <td>6.835570</td>\n",
       "      <td>2866760.0</td>\n",
       "    </tr>\n",
       "  </tbody>\n",
       "</table>\n",
       "</div>"
      ],
      "text/plain": [
       "         Date      Open      High       Low     Close  Adj Close     Volume\n",
       "0  2017-07-24  7.392307  7.473076  7.261538  7.426923   7.051007  2638220.0\n",
       "1  2017-07-25  7.476923  7.476923  7.307692  7.369230   6.996235  2505880.0\n",
       "2  2017-07-26  7.323076  7.442307  7.276923  7.326923   6.956069  2112240.0\n",
       "3  2017-07-27  7.388461  7.419230  7.223076  7.269230   6.901296  1910480.0\n",
       "4  2017-07-28  7.261538  7.296153  7.165384  7.200000   6.835570  2866760.0"
      ]
     },
     "execution_count": 13,
     "metadata": {},
     "output_type": "execute_result"
    }
   ],
   "source": [
    "arquivo.head()"
   ]
  },
  {
   "cell_type": "code",
   "execution_count": 14,
   "metadata": {},
   "outputs": [
    {
     "data": {
      "text/plain": [
       "<AxesSubplot:>"
      ]
     },
     "execution_count": 14,
     "metadata": {},
     "output_type": "execute_result"
    },
    {
     "data": {
      "image/png": "[encoded data removed]",
      "text/plain": [
       "<Figure size 432x288 with 1 Axes>"
      ]
     },
     "metadata": {
      "needs_background": "light"
     },
     "output_type": "display_data"
    }
   ],
   "source": [
    "arquivo.Close.plot()"
   ]
  },
  {
   "cell_type": "markdown",
   "metadata": {},
   "source": [
    "Modificar os nomes das colunas de adjusted close"
   ]
  },
  {
   "cell_type": "code",
   "execution_count": 16,
   "metadata": {},
   "outputs": [
    {
     "data": {
      "text/html": [
       "<img src=\"https://www.thecrazyprogrammer.com/wp-content/uploads/2019/05/Joins-in-SQL-Inner-Outer-Left-and-Right-Join.jpg\"/>"
      ],
      "text/plain": [
       "<IPython.core.display.Image object>"
      ]
     },
     "execution_count": 16,
     "metadata": {},
     "output_type": "execute_result"
    }
   ],
   "source": [
    "from IPython.display import Image\n",
    "Image(url ='https://www.thecrazyprogrammer.com/wp-content/uploads/2019/05/Joins-in-SQL-Inner-Outer-Left-and-Right-Join.jpg') "
   ]
  },
  {
   "cell_type": "markdown",
   "metadata": {},
   "source": [
    "## E se tivéssemos data frames em outras pastas?"
   ]
  },
  {
   "cell_type": "code",
   "execution_count": 17,
   "metadata": {},
   "outputs": [],
   "source": [
    "ibov = pd.read_csv('C:\\\\Users\\\\victo\\\\Downloads\\\\Baixados\\\\Bovespa.csv')"
   ]
  },
  {
   "cell_type": "code",
   "execution_count": 18,
   "metadata": {},
   "outputs": [
    {
     "data": {
      "text/html": [
       "<div>\n",
       "<style scoped>\n",
       "    .dataframe tbody tr th:only-of-type {\n",
       "        vertical-align: middle;\n",
       "    }\n",
       "\n",
       "    .dataframe tbody tr th {\n",
       "        vertical-align: top;\n",
       "    }\n",
       "\n",
       "    .dataframe thead th {\n",
       "        text-align: right;\n",
       "    }\n",
       "</style>\n",
       "<table border=\"1\" class=\"dataframe\">\n",
       "  <thead>\n",
       "    <tr style=\"text-align: right;\">\n",
       "      <th></th>\n",
       "      <th>Date</th>\n",
       "      <th>ABCB4</th>\n",
       "      <th>BBAS3</th>\n",
       "      <th>BBDC4</th>\n",
       "      <th>BPAN4</th>\n",
       "      <th>BTOW3</th>\n",
       "      <th>CGAS3</th>\n",
       "      <th>CMIG4</th>\n",
       "      <th>CSNA3</th>\n",
       "      <th>CYRE3</th>\n",
       "      <th>...</th>\n",
       "      <th>POMO4</th>\n",
       "      <th>QGEP3</th>\n",
       "      <th>RAPT4</th>\n",
       "      <th>SAPR4</th>\n",
       "      <th>SBSP3</th>\n",
       "      <th>SUZB5</th>\n",
       "      <th>TUPY3</th>\n",
       "      <th>USIM5</th>\n",
       "      <th>VALE5</th>\n",
       "      <th>WEGE3</th>\n",
       "    </tr>\n",
       "  </thead>\n",
       "  <tbody>\n",
       "    <tr>\n",
       "      <th>0</th>\n",
       "      <td>6/5/2012</td>\n",
       "      <td>5.778904</td>\n",
       "      <td>13.193346</td>\n",
       "      <td>14.825962</td>\n",
       "      <td>NaN</td>\n",
       "      <td>4.67417</td>\n",
       "      <td>21.089613</td>\n",
       "      <td>16.403233</td>\n",
       "      <td>9.799454</td>\n",
       "      <td>13.011072</td>\n",
       "      <td>...</td>\n",
       "      <td>3.559332</td>\n",
       "      <td>7.938090</td>\n",
       "      <td>6.136378</td>\n",
       "      <td>4.945431</td>\n",
       "      <td>19.482090</td>\n",
       "      <td>4.228104</td>\n",
       "      <td>18.623053</td>\n",
       "      <td>7.724799</td>\n",
       "      <td>28.628716</td>\n",
       "      <td>6.314218</td>\n",
       "    </tr>\n",
       "    <tr>\n",
       "      <th>1</th>\n",
       "      <td>6/6/2012</td>\n",
       "      <td>5.784656</td>\n",
       "      <td>13.474055</td>\n",
       "      <td>15.421063</td>\n",
       "      <td>NaN</td>\n",
       "      <td>4.95184</td>\n",
       "      <td>21.367132</td>\n",
       "      <td>17.082111</td>\n",
       "      <td>9.838496</td>\n",
       "      <td>13.979592</td>\n",
       "      <td>...</td>\n",
       "      <td>3.727821</td>\n",
       "      <td>8.013066</td>\n",
       "      <td>6.316431</td>\n",
       "      <td>4.918369</td>\n",
       "      <td>19.842842</td>\n",
       "      <td>4.291890</td>\n",
       "      <td>18.852964</td>\n",
       "      <td>7.456715</td>\n",
       "      <td>29.472841</td>\n",
       "      <td>6.454251</td>\n",
       "    </tr>\n",
       "    <tr>\n",
       "      <th>2</th>\n",
       "      <td>6/8/2012</td>\n",
       "      <td>5.836405</td>\n",
       "      <td>13.488092</td>\n",
       "      <td>15.457347</td>\n",
       "      <td>NaN</td>\n",
       "      <td>5.08142</td>\n",
       "      <td>22.088638</td>\n",
       "      <td>17.082111</td>\n",
       "      <td>9.799454</td>\n",
       "      <td>14.025277</td>\n",
       "      <td>...</td>\n",
       "      <td>3.694127</td>\n",
       "      <td>7.825626</td>\n",
       "      <td>6.338035</td>\n",
       "      <td>5.256635</td>\n",
       "      <td>19.926100</td>\n",
       "      <td>4.437686</td>\n",
       "      <td>18.535686</td>\n",
       "      <td>7.635437</td>\n",
       "      <td>29.727674</td>\n",
       "      <td>6.368317</td>\n",
       "    </tr>\n",
       "    <tr>\n",
       "      <th>3</th>\n",
       "      <td>6/11/2012</td>\n",
       "      <td>5.922663</td>\n",
       "      <td>13.614412</td>\n",
       "      <td>15.628112</td>\n",
       "      <td>NaN</td>\n",
       "      <td>5.09993</td>\n",
       "      <td>22.088638</td>\n",
       "      <td>17.120369</td>\n",
       "      <td>9.705755</td>\n",
       "      <td>13.723758</td>\n",
       "      <td>...</td>\n",
       "      <td>3.753094</td>\n",
       "      <td>7.413257</td>\n",
       "      <td>6.482082</td>\n",
       "      <td>5.195747</td>\n",
       "      <td>20.203676</td>\n",
       "      <td>4.237216</td>\n",
       "      <td>17.629826</td>\n",
       "      <td>7.883664</td>\n",
       "      <td>29.377279</td>\n",
       "      <td>6.368317</td>\n",
       "    </tr>\n",
       "    <tr>\n",
       "      <th>4</th>\n",
       "      <td>6/12/2012</td>\n",
       "      <td>5.876658</td>\n",
       "      <td>13.614412</td>\n",
       "      <td>15.886813</td>\n",
       "      <td>NaN</td>\n",
       "      <td>5.34984</td>\n",
       "      <td>22.088638</td>\n",
       "      <td>17.689350</td>\n",
       "      <td>9.736986</td>\n",
       "      <td>13.632388</td>\n",
       "      <td>...</td>\n",
       "      <td>3.799433</td>\n",
       "      <td>7.413257</td>\n",
       "      <td>6.482082</td>\n",
       "      <td>5.202512</td>\n",
       "      <td>20.739265</td>\n",
       "      <td>4.146093</td>\n",
       "      <td>17.933311</td>\n",
       "      <td>7.754586</td>\n",
       "      <td>30.038250</td>\n",
       "      <td>6.365140</td>\n",
       "    </tr>\n",
       "  </tbody>\n",
       "</table>\n",
       "<p>5 rows × 34 columns</p>\n",
       "</div>"
      ],
      "text/plain": [
       "        Date     ABCB4      BBAS3      BBDC4  BPAN4    BTOW3      CGAS3  \\\n",
       "0   6/5/2012  5.778904  13.193346  14.825962    NaN  4.67417  21.089613   \n",
       "1   6/6/2012  5.784656  13.474055  15.421063    NaN  4.95184  21.367132   \n",
       "2   6/8/2012  5.836405  13.488092  15.457347    NaN  5.08142  22.088638   \n",
       "3  6/11/2012  5.922663  13.614412  15.628112    NaN  5.09993  22.088638   \n",
       "4  6/12/2012  5.876658  13.614412  15.886813    NaN  5.34984  22.088638   \n",
       "\n",
       "       CMIG4     CSNA3      CYRE3  ...     POMO4     QGEP3     RAPT4  \\\n",
       "0  16.403233  9.799454  13.011072  ...  3.559332  7.938090  6.136378   \n",
       "1  17.082111  9.838496  13.979592  ...  3.727821  8.013066  6.316431   \n",
       "2  17.082111  9.799454  14.025277  ...  3.694127  7.825626  6.338035   \n",
       "3  17.120369  9.705755  13.723758  ...  3.753094  7.413257  6.482082   \n",
       "4  17.689350  9.736986  13.632388  ...  3.799433  7.413257  6.482082   \n",
       "\n",
       "      SAPR4      SBSP3     SUZB5      TUPY3     USIM5      VALE5     WEGE3  \n",
       "0  4.945431  19.482090  4.228104  18.623053  7.724799  28.628716  6.314218  \n",
       "1  4.918369  19.842842  4.291890  18.852964  7.456715  29.472841  6.454251  \n",
       "2  5.256635  19.926100  4.437686  18.535686  7.635437  29.727674  6.368317  \n",
       "3  5.195747  20.203676  4.237216  17.629826  7.883664  29.377279  6.368317  \n",
       "4  5.202512  20.739265  4.146093  17.933311  7.754586  30.038250  6.365140  \n",
       "\n",
       "[5 rows x 34 columns]"
      ]
     },
     "execution_count": 18,
     "metadata": {},
     "output_type": "execute_result"
    }
   ],
   "source": [
    "ibov.head()"
   ]
  },
  {
   "cell_type": "code",
   "execution_count": 19,
   "metadata": {},
   "outputs": [
    {
     "data": {
      "text/plain": [
       "<AxesSubplot:>"
      ]
     },
     "execution_count": 19,
     "metadata": {},
     "output_type": "execute_result"
    },
    {
     "data": {
      "image/png": "[encoded data removed]",
      "text/plain": [
       "<Figure size 432x288 with 1 Axes>"
      ]
     },
     "metadata": {
      "needs_background": "light"
     },
     "output_type": "display_data"
    }
   ],
   "source": [
    "ibov.WEGE3.plot()"
   ]
  },
  {
   "cell_type": "markdown",
   "metadata": {},
   "source": [
    "Ou poderíamos ter mudado o diretório de trabalho primeiro (não aconselhável)"
   ]
  },
  {
   "cell_type": "code",
   "execution_count": 20,
   "metadata": {},
   "outputs": [],
   "source": [
    "os.chdir('C:\\\\Users\\\\victo\\\\Downloads\\\\Baixados\\\\')"
   ]
  },
  {
   "cell_type": "code",
   "execution_count": 21,
   "metadata": {},
   "outputs": [
    {
     "data": {
      "text/plain": [
       "'C:\\\\Users\\\\victo\\\\Downloads\\\\Baixados'"
      ]
     },
     "execution_count": 21,
     "metadata": {},
     "output_type": "execute_result"
    }
   ],
   "source": [
    " os.getcwd()"
   ]
  },
  {
   "cell_type": "code",
   "execution_count": 22,
   "metadata": {},
   "outputs": [],
   "source": [
    "ibov_2 = pd.read_csv('Bovespa.csv')"
   ]
  },
  {
   "cell_type": "code",
   "execution_count": 23,
   "metadata": {},
   "outputs": [
    {
     "data": {
      "text/html": [
       "<div>\n",
       "<style scoped>\n",
       "    .dataframe tbody tr th:only-of-type {\n",
       "        vertical-align: middle;\n",
       "    }\n",
       "\n",
       "    .dataframe tbody tr th {\n",
       "        vertical-align: top;\n",
       "    }\n",
       "\n",
       "    .dataframe thead th {\n",
       "        text-align: right;\n",
       "    }\n",
       "</style>\n",
       "<table border=\"1\" class=\"dataframe\">\n",
       "  <thead>\n",
       "    <tr style=\"text-align: right;\">\n",
       "      <th></th>\n",
       "      <th>Date</th>\n",
       "      <th>ABCB4</th>\n",
       "      <th>BBAS3</th>\n",
       "      <th>BBDC4</th>\n",
       "      <th>BPAN4</th>\n",
       "      <th>BTOW3</th>\n",
       "      <th>CGAS3</th>\n",
       "      <th>CMIG4</th>\n",
       "      <th>CSNA3</th>\n",
       "      <th>CYRE3</th>\n",
       "      <th>...</th>\n",
       "      <th>POMO4</th>\n",
       "      <th>QGEP3</th>\n",
       "      <th>RAPT4</th>\n",
       "      <th>SAPR4</th>\n",
       "      <th>SBSP3</th>\n",
       "      <th>SUZB5</th>\n",
       "      <th>TUPY3</th>\n",
       "      <th>USIM5</th>\n",
       "      <th>VALE5</th>\n",
       "      <th>WEGE3</th>\n",
       "    </tr>\n",
       "  </thead>\n",
       "  <tbody>\n",
       "    <tr>\n",
       "      <th>0</th>\n",
       "      <td>6/5/2012</td>\n",
       "      <td>5.778904</td>\n",
       "      <td>13.193346</td>\n",
       "      <td>14.825962</td>\n",
       "      <td>NaN</td>\n",
       "      <td>4.67417</td>\n",
       "      <td>21.089613</td>\n",
       "      <td>16.403233</td>\n",
       "      <td>9.799454</td>\n",
       "      <td>13.011072</td>\n",
       "      <td>...</td>\n",
       "      <td>3.559332</td>\n",
       "      <td>7.938090</td>\n",
       "      <td>6.136378</td>\n",
       "      <td>4.945431</td>\n",
       "      <td>19.482090</td>\n",
       "      <td>4.228104</td>\n",
       "      <td>18.623053</td>\n",
       "      <td>7.724799</td>\n",
       "      <td>28.628716</td>\n",
       "      <td>6.314218</td>\n",
       "    </tr>\n",
       "    <tr>\n",
       "      <th>1</th>\n",
       "      <td>6/6/2012</td>\n",
       "      <td>5.784656</td>\n",
       "      <td>13.474055</td>\n",
       "      <td>15.421063</td>\n",
       "      <td>NaN</td>\n",
       "      <td>4.95184</td>\n",
       "      <td>21.367132</td>\n",
       "      <td>17.082111</td>\n",
       "      <td>9.838496</td>\n",
       "      <td>13.979592</td>\n",
       "      <td>...</td>\n",
       "      <td>3.727821</td>\n",
       "      <td>8.013066</td>\n",
       "      <td>6.316431</td>\n",
       "      <td>4.918369</td>\n",
       "      <td>19.842842</td>\n",
       "      <td>4.291890</td>\n",
       "      <td>18.852964</td>\n",
       "      <td>7.456715</td>\n",
       "      <td>29.472841</td>\n",
       "      <td>6.454251</td>\n",
       "    </tr>\n",
       "    <tr>\n",
       "      <th>2</th>\n",
       "      <td>6/8/2012</td>\n",
       "      <td>5.836405</td>\n",
       "      <td>13.488092</td>\n",
       "      <td>15.457347</td>\n",
       "      <td>NaN</td>\n",
       "      <td>5.08142</td>\n",
       "      <td>22.088638</td>\n",
       "      <td>17.082111</td>\n",
       "      <td>9.799454</td>\n",
       "      <td>14.025277</td>\n",
       "      <td>...</td>\n",
       "      <td>3.694127</td>\n",
       "      <td>7.825626</td>\n",
       "      <td>6.338035</td>\n",
       "      <td>5.256635</td>\n",
       "      <td>19.926100</td>\n",
       "      <td>4.437686</td>\n",
       "      <td>18.535686</td>\n",
       "      <td>7.635437</td>\n",
       "      <td>29.727674</td>\n",
       "      <td>6.368317</td>\n",
       "    </tr>\n",
       "    <tr>\n",
       "      <th>3</th>\n",
       "      <td>6/11/2012</td>\n",
       "      <td>5.922663</td>\n",
       "      <td>13.614412</td>\n",
       "      <td>15.628112</td>\n",
       "      <td>NaN</td>\n",
       "      <td>5.09993</td>\n",
       "      <td>22.088638</td>\n",
       "      <td>17.120369</td>\n",
       "      <td>9.705755</td>\n",
       "      <td>13.723758</td>\n",
       "      <td>...</td>\n",
       "      <td>3.753094</td>\n",
       "      <td>7.413257</td>\n",
       "      <td>6.482082</td>\n",
       "      <td>5.195747</td>\n",
       "      <td>20.203676</td>\n",
       "      <td>4.237216</td>\n",
       "      <td>17.629826</td>\n",
       "      <td>7.883664</td>\n",
       "      <td>29.377279</td>\n",
       "      <td>6.368317</td>\n",
       "    </tr>\n",
       "    <tr>\n",
       "      <th>4</th>\n",
       "      <td>6/12/2012</td>\n",
       "      <td>5.876658</td>\n",
       "      <td>13.614412</td>\n",
       "      <td>15.886813</td>\n",
       "      <td>NaN</td>\n",
       "      <td>5.34984</td>\n",
       "      <td>22.088638</td>\n",
       "      <td>17.689350</td>\n",
       "      <td>9.736986</td>\n",
       "      <td>13.632388</td>\n",
       "      <td>...</td>\n",
       "      <td>3.799433</td>\n",
       "      <td>7.413257</td>\n",
       "      <td>6.482082</td>\n",
       "      <td>5.202512</td>\n",
       "      <td>20.739265</td>\n",
       "      <td>4.146093</td>\n",
       "      <td>17.933311</td>\n",
       "      <td>7.754586</td>\n",
       "      <td>30.038250</td>\n",
       "      <td>6.365140</td>\n",
       "    </tr>\n",
       "  </tbody>\n",
       "</table>\n",
       "<p>5 rows × 34 columns</p>\n",
       "</div>"
      ],
      "text/plain": [
       "        Date     ABCB4      BBAS3      BBDC4  BPAN4    BTOW3      CGAS3  \\\n",
       "0   6/5/2012  5.778904  13.193346  14.825962    NaN  4.67417  21.089613   \n",
       "1   6/6/2012  5.784656  13.474055  15.421063    NaN  4.95184  21.367132   \n",
       "2   6/8/2012  5.836405  13.488092  15.457347    NaN  5.08142  22.088638   \n",
       "3  6/11/2012  5.922663  13.614412  15.628112    NaN  5.09993  22.088638   \n",
       "4  6/12/2012  5.876658  13.614412  15.886813    NaN  5.34984  22.088638   \n",
       "\n",
       "       CMIG4     CSNA3      CYRE3  ...     POMO4     QGEP3     RAPT4  \\\n",
       "0  16.403233  9.799454  13.011072  ...  3.559332  7.938090  6.136378   \n",
       "1  17.082111  9.838496  13.979592  ...  3.727821  8.013066  6.316431   \n",
       "2  17.082111  9.799454  14.025277  ...  3.694127  7.825626  6.338035   \n",
       "3  17.120369  9.705755  13.723758  ...  3.753094  7.413257  6.482082   \n",
       "4  17.689350  9.736986  13.632388  ...  3.799433  7.413257  6.482082   \n",
       "\n",
       "      SAPR4      SBSP3     SUZB5      TUPY3     USIM5      VALE5     WEGE3  \n",
       "0  4.945431  19.482090  4.228104  18.623053  7.724799  28.628716  6.314218  \n",
       "1  4.918369  19.842842  4.291890  18.852964  7.456715  29.472841  6.454251  \n",
       "2  5.256635  19.926100  4.437686  18.535686  7.635437  29.727674  6.368317  \n",
       "3  5.195747  20.203676  4.237216  17.629826  7.883664  29.377279  6.368317  \n",
       "4  5.202512  20.739265  4.146093  17.933311  7.754586  30.038250  6.365140  \n",
       "\n",
       "[5 rows x 34 columns]"
      ]
     },
     "execution_count": 23,
     "metadata": {},
     "output_type": "execute_result"
    }
   ],
   "source": [
    "ibov_2.head()"
   ]
  },
  {
   "cell_type": "markdown",
   "metadata": {},
   "source": [
    "Vamos extrair dados de outras fontes"
   ]
  },
  {
   "cell_type": "code",
   "execution_count": 24,
   "metadata": {},
   "outputs": [],
   "source": [
    "import yfinance as yf"
   ]
  },
  {
   "cell_type": "code",
   "execution_count": 26,
   "metadata": {},
   "outputs": [
    {
     "name": "stdout",
     "output_type": "stream",
     "text": [
      "[*********************100%***********************]  1 of 1 completed\n"
     ]
    }
   ],
   "source": [
    "lren = yf.download('LREN3.SA', start = '2017-01-01', end = '2021-07-20')"
   ]
  },
  {
   "cell_type": "code",
   "execution_count": 27,
   "metadata": {},
   "outputs": [
    {
     "data": {
      "text/html": [
       "<div>\n",
       "<style scoped>\n",
       "    .dataframe tbody tr th:only-of-type {\n",
       "        vertical-align: middle;\n",
       "    }\n",
       "\n",
       "    .dataframe tbody tr th {\n",
       "        vertical-align: top;\n",
       "    }\n",
       "\n",
       "    .dataframe thead th {\n",
       "        text-align: right;\n",
       "    }\n",
       "</style>\n",
       "<table border=\"1\" class=\"dataframe\">\n",
       "  <thead>\n",
       "    <tr style=\"text-align: right;\">\n",
       "      <th></th>\n",
       "      <th>Open</th>\n",
       "      <th>High</th>\n",
       "      <th>Low</th>\n",
       "      <th>Close</th>\n",
       "      <th>Adj Close</th>\n",
       "      <th>Volume</th>\n",
       "    </tr>\n",
       "    <tr>\n",
       "      <th>Date</th>\n",
       "      <th></th>\n",
       "      <th></th>\n",
       "      <th></th>\n",
       "      <th></th>\n",
       "      <th></th>\n",
       "      <th></th>\n",
       "    </tr>\n",
       "  </thead>\n",
       "  <tbody>\n",
       "    <tr>\n",
       "      <th>2017-01-02</th>\n",
       "      <td>18.925619</td>\n",
       "      <td>19.165289</td>\n",
       "      <td>18.851238</td>\n",
       "      <td>19.123966</td>\n",
       "      <td>17.808636</td>\n",
       "      <td>671066</td>\n",
       "    </tr>\n",
       "    <tr>\n",
       "      <th>2017-01-03</th>\n",
       "      <td>19.256199</td>\n",
       "      <td>19.834709</td>\n",
       "      <td>18.958677</td>\n",
       "      <td>19.710743</td>\n",
       "      <td>18.355059</td>\n",
       "      <td>2952521</td>\n",
       "    </tr>\n",
       "    <tr>\n",
       "      <th>2017-01-04</th>\n",
       "      <td>19.793388</td>\n",
       "      <td>19.991735</td>\n",
       "      <td>19.330578</td>\n",
       "      <td>19.537189</td>\n",
       "      <td>18.193445</td>\n",
       "      <td>2649900</td>\n",
       "    </tr>\n",
       "    <tr>\n",
       "      <th>2017-01-05</th>\n",
       "      <td>19.619835</td>\n",
       "      <td>19.743801</td>\n",
       "      <td>19.314049</td>\n",
       "      <td>19.355371</td>\n",
       "      <td>18.024128</td>\n",
       "      <td>3559215</td>\n",
       "    </tr>\n",
       "    <tr>\n",
       "      <th>2017-01-06</th>\n",
       "      <td>19.355371</td>\n",
       "      <td>19.355371</td>\n",
       "      <td>18.958677</td>\n",
       "      <td>19.132231</td>\n",
       "      <td>17.816334</td>\n",
       "      <td>2122219</td>\n",
       "    </tr>\n",
       "  </tbody>\n",
       "</table>\n",
       "</div>"
      ],
      "text/plain": [
       "                 Open       High        Low      Close  Adj Close   Volume\n",
       "Date                                                                      \n",
       "2017-01-02  18.925619  19.165289  18.851238  19.123966  17.808636   671066\n",
       "2017-01-03  19.256199  19.834709  18.958677  19.710743  18.355059  2952521\n",
       "2017-01-04  19.793388  19.991735  19.330578  19.537189  18.193445  2649900\n",
       "2017-01-05  19.619835  19.743801  19.314049  19.355371  18.024128  3559215\n",
       "2017-01-06  19.355371  19.355371  18.958677  19.132231  17.816334  2122219"
      ]
     },
     "execution_count": 27,
     "metadata": {},
     "output_type": "execute_result"
    }
   ],
   "source": [
    "lren.head()"
   ]
  },
  {
   "cell_type": "code",
   "execution_count": 28,
   "metadata": {},
   "outputs": [
    {
     "data": {
      "text/plain": [
       "<AxesSubplot:xlabel='Date'>"
      ]
     },
     "execution_count": 28,
     "metadata": {},
     "output_type": "execute_result"
    },
    {
     "data": {
      "image/png": "[encoded data removed]",
      "text/plain": [
       "<Figure size 432x288 with 1 Axes>"
      ]
     },
     "metadata": {
      "needs_background": "light"
     },
     "output_type": "display_data"
    }
   ],
   "source": [
    "lren.Close.plot()"
   ]
  },
  {
   "cell_type": "markdown",
   "metadata": {},
   "source": [
    "Modificar os nomes das colunas de adjusted close"
   ]
  },
  {
   "cell_type": "code",
   "execution_count": 30,
   "metadata": {},
   "outputs": [],
   "source": [
    "arquivo.rename(columns = {'Adj Close': 'WEGE3'}, inplace = True)"
   ]
  },
  {
   "cell_type": "code",
   "execution_count": 31,
   "metadata": {},
   "outputs": [
    {
     "data": {
      "text/html": [
       "<div>\n",
       "<style scoped>\n",
       "    .dataframe tbody tr th:only-of-type {\n",
       "        vertical-align: middle;\n",
       "    }\n",
       "\n",
       "    .dataframe tbody tr th {\n",
       "        vertical-align: top;\n",
       "    }\n",
       "\n",
       "    .dataframe thead th {\n",
       "        text-align: right;\n",
       "    }\n",
       "</style>\n",
       "<table border=\"1\" class=\"dataframe\">\n",
       "  <thead>\n",
       "    <tr style=\"text-align: right;\">\n",
       "      <th></th>\n",
       "      <th>Date</th>\n",
       "      <th>Open</th>\n",
       "      <th>High</th>\n",
       "      <th>Low</th>\n",
       "      <th>Close</th>\n",
       "      <th>WEGE3</th>\n",
       "      <th>Volume</th>\n",
       "    </tr>\n",
       "  </thead>\n",
       "  <tbody>\n",
       "    <tr>\n",
       "      <th>0</th>\n",
       "      <td>2017-07-24</td>\n",
       "      <td>7.392307</td>\n",
       "      <td>7.473076</td>\n",
       "      <td>7.261538</td>\n",
       "      <td>7.426923</td>\n",
       "      <td>7.051007</td>\n",
       "      <td>2638220.0</td>\n",
       "    </tr>\n",
       "    <tr>\n",
       "      <th>1</th>\n",
       "      <td>2017-07-25</td>\n",
       "      <td>7.476923</td>\n",
       "      <td>7.476923</td>\n",
       "      <td>7.307692</td>\n",
       "      <td>7.369230</td>\n",
       "      <td>6.996235</td>\n",
       "      <td>2505880.0</td>\n",
       "    </tr>\n",
       "    <tr>\n",
       "      <th>2</th>\n",
       "      <td>2017-07-26</td>\n",
       "      <td>7.323076</td>\n",
       "      <td>7.442307</td>\n",
       "      <td>7.276923</td>\n",
       "      <td>7.326923</td>\n",
       "      <td>6.956069</td>\n",
       "      <td>2112240.0</td>\n",
       "    </tr>\n",
       "    <tr>\n",
       "      <th>3</th>\n",
       "      <td>2017-07-27</td>\n",
       "      <td>7.388461</td>\n",
       "      <td>7.419230</td>\n",
       "      <td>7.223076</td>\n",
       "      <td>7.269230</td>\n",
       "      <td>6.901296</td>\n",
       "      <td>1910480.0</td>\n",
       "    </tr>\n",
       "    <tr>\n",
       "      <th>4</th>\n",
       "      <td>2017-07-28</td>\n",
       "      <td>7.261538</td>\n",
       "      <td>7.296153</td>\n",
       "      <td>7.165384</td>\n",
       "      <td>7.200000</td>\n",
       "      <td>6.835570</td>\n",
       "      <td>2866760.0</td>\n",
       "    </tr>\n",
       "  </tbody>\n",
       "</table>\n",
       "</div>"
      ],
      "text/plain": [
       "         Date      Open      High       Low     Close     WEGE3     Volume\n",
       "0  2017-07-24  7.392307  7.473076  7.261538  7.426923  7.051007  2638220.0\n",
       "1  2017-07-25  7.476923  7.476923  7.307692  7.369230  6.996235  2505880.0\n",
       "2  2017-07-26  7.323076  7.442307  7.276923  7.326923  6.956069  2112240.0\n",
       "3  2017-07-27  7.388461  7.419230  7.223076  7.269230  6.901296  1910480.0\n",
       "4  2017-07-28  7.261538  7.296153  7.165384  7.200000  6.835570  2866760.0"
      ]
     },
     "execution_count": 31,
     "metadata": {},
     "output_type": "execute_result"
    }
   ],
   "source": [
    "arquivo.head()"
   ]
  },
  {
   "cell_type": "code",
   "execution_count": 32,
   "metadata": {},
   "outputs": [],
   "source": [
    "lren.rename(columns = {'Adj Close': 'LREN3'}, inplace = True)"
   ]
  },
  {
   "cell_type": "code",
   "execution_count": 33,
   "metadata": {},
   "outputs": [
    {
     "data": {
      "text/html": [
       "<div>\n",
       "<style scoped>\n",
       "    .dataframe tbody tr th:only-of-type {\n",
       "        vertical-align: middle;\n",
       "    }\n",
       "\n",
       "    .dataframe tbody tr th {\n",
       "        vertical-align: top;\n",
       "    }\n",
       "\n",
       "    .dataframe thead th {\n",
       "        text-align: right;\n",
       "    }\n",
       "</style>\n",
       "<table border=\"1\" class=\"dataframe\">\n",
       "  <thead>\n",
       "    <tr style=\"text-align: right;\">\n",
       "      <th></th>\n",
       "      <th>Open</th>\n",
       "      <th>High</th>\n",
       "      <th>Low</th>\n",
       "      <th>Close</th>\n",
       "      <th>LREN3</th>\n",
       "      <th>Volume</th>\n",
       "    </tr>\n",
       "    <tr>\n",
       "      <th>Date</th>\n",
       "      <th></th>\n",
       "      <th></th>\n",
       "      <th></th>\n",
       "      <th></th>\n",
       "      <th></th>\n",
       "      <th></th>\n",
       "    </tr>\n",
       "  </thead>\n",
       "  <tbody>\n",
       "    <tr>\n",
       "      <th>2017-01-02</th>\n",
       "      <td>18.925619</td>\n",
       "      <td>19.165289</td>\n",
       "      <td>18.851238</td>\n",
       "      <td>19.123966</td>\n",
       "      <td>17.808636</td>\n",
       "      <td>671066</td>\n",
       "    </tr>\n",
       "    <tr>\n",
       "      <th>2017-01-03</th>\n",
       "      <td>19.256199</td>\n",
       "      <td>19.834709</td>\n",
       "      <td>18.958677</td>\n",
       "      <td>19.710743</td>\n",
       "      <td>18.355059</td>\n",
       "      <td>2952521</td>\n",
       "    </tr>\n",
       "    <tr>\n",
       "      <th>2017-01-04</th>\n",
       "      <td>19.793388</td>\n",
       "      <td>19.991735</td>\n",
       "      <td>19.330578</td>\n",
       "      <td>19.537189</td>\n",
       "      <td>18.193445</td>\n",
       "      <td>2649900</td>\n",
       "    </tr>\n",
       "    <tr>\n",
       "      <th>2017-01-05</th>\n",
       "      <td>19.619835</td>\n",
       "      <td>19.743801</td>\n",
       "      <td>19.314049</td>\n",
       "      <td>19.355371</td>\n",
       "      <td>18.024128</td>\n",
       "      <td>3559215</td>\n",
       "    </tr>\n",
       "    <tr>\n",
       "      <th>2017-01-06</th>\n",
       "      <td>19.355371</td>\n",
       "      <td>19.355371</td>\n",
       "      <td>18.958677</td>\n",
       "      <td>19.132231</td>\n",
       "      <td>17.816334</td>\n",
       "      <td>2122219</td>\n",
       "    </tr>\n",
       "  </tbody>\n",
       "</table>\n",
       "</div>"
      ],
      "text/plain": [
       "                 Open       High        Low      Close      LREN3   Volume\n",
       "Date                                                                      \n",
       "2017-01-02  18.925619  19.165289  18.851238  19.123966  17.808636   671066\n",
       "2017-01-03  19.256199  19.834709  18.958677  19.710743  18.355059  2952521\n",
       "2017-01-04  19.793388  19.991735  19.330578  19.537189  18.193445  2649900\n",
       "2017-01-05  19.619835  19.743801  19.314049  19.355371  18.024128  3559215\n",
       "2017-01-06  19.355371  19.355371  18.958677  19.132231  17.816334  2122219"
      ]
     },
     "execution_count": 33,
     "metadata": {},
     "output_type": "execute_result"
    }
   ],
   "source": [
    "lren.head()"
   ]
  },
  {
   "cell_type": "code",
   "execution_count": 34,
   "metadata": {},
   "outputs": [
    {
     "ename": "ValueError",
     "evalue": "You are trying to merge on object and datetime64[ns] columns. If you wish to proceed you should use pd.concat",
     "output_type": "error",
     "traceback": [
      "\u001b[1;31m---------------------------------------------------------------------------\u001b[0m",
      "\u001b[1;31mValueError\u001b[0m                                Traceback (most recent call last)",
      "\u001b[1;32m<ipython-input-34-9d626f531b51>\u001b[0m in \u001b[0;36m<module>\u001b[1;34m\u001b[0m\n\u001b[1;32m----> 1\u001b[1;33m \u001b[0mnovo\u001b[0m \u001b[1;33m=\u001b[0m \u001b[0mpd\u001b[0m\u001b[1;33m.\u001b[0m\u001b[0mmerge\u001b[0m\u001b[1;33m(\u001b[0m\u001b[0marquivo\u001b[0m\u001b[1;33m,\u001b[0m \u001b[0mlren\u001b[0m\u001b[1;33m,\u001b[0m \u001b[0mhow\u001b[0m \u001b[1;33m=\u001b[0m \u001b[1;34m'inner'\u001b[0m\u001b[1;33m,\u001b[0m \u001b[0mon\u001b[0m \u001b[1;33m=\u001b[0m \u001b[1;34m'Date'\u001b[0m\u001b[1;33m)\u001b[0m\u001b[1;33m\u001b[0m\u001b[1;33m\u001b[0m\u001b[0m\n\u001b[0m",
      "\u001b[1;32mC:\\ProgramData\\Anaconda3\\lib\\site-packages\\pandas\\core\\reshape\\merge.py\u001b[0m in \u001b[0;36mmerge\u001b[1;34m(left, right, how, on, left_on, right_on, left_index, right_index, sort, suffixes, copy, indicator, validate)\u001b[0m\n\u001b[0;32m     72\u001b[0m     \u001b[0mvalidate\u001b[0m\u001b[1;33m=\u001b[0m\u001b[1;32mNone\u001b[0m\u001b[1;33m,\u001b[0m\u001b[1;33m\u001b[0m\u001b[1;33m\u001b[0m\u001b[0m\n\u001b[0;32m     73\u001b[0m ) -> \"DataFrame\":\n\u001b[1;32m---> 74\u001b[1;33m     op = _MergeOperation(\n\u001b[0m\u001b[0;32m     75\u001b[0m         \u001b[0mleft\u001b[0m\u001b[1;33m,\u001b[0m\u001b[1;33m\u001b[0m\u001b[1;33m\u001b[0m\u001b[0m\n\u001b[0;32m     76\u001b[0m         \u001b[0mright\u001b[0m\u001b[1;33m,\u001b[0m\u001b[1;33m\u001b[0m\u001b[1;33m\u001b[0m\u001b[0m\n",
      "\u001b[1;32mC:\\ProgramData\\Anaconda3\\lib\\site-packages\\pandas\\core\\reshape\\merge.py\u001b[0m in \u001b[0;36m__init__\u001b[1;34m(self, left, right, how, on, left_on, right_on, axis, left_index, right_index, sort, suffixes, copy, indicator, validate)\u001b[0m\n\u001b[0;32m    654\u001b[0m         \u001b[1;31m# validate the merge keys dtypes. We may need to coerce\u001b[0m\u001b[1;33m\u001b[0m\u001b[1;33m\u001b[0m\u001b[1;33m\u001b[0m\u001b[0m\n\u001b[0;32m    655\u001b[0m         \u001b[1;31m# to avoid incompatible dtypes\u001b[0m\u001b[1;33m\u001b[0m\u001b[1;33m\u001b[0m\u001b[1;33m\u001b[0m\u001b[0m\n\u001b[1;32m--> 656\u001b[1;33m         \u001b[0mself\u001b[0m\u001b[1;33m.\u001b[0m\u001b[0m_maybe_coerce_merge_keys\u001b[0m\u001b[1;33m(\u001b[0m\u001b[1;33m)\u001b[0m\u001b[1;33m\u001b[0m\u001b[1;33m\u001b[0m\u001b[0m\n\u001b[0m\u001b[0;32m    657\u001b[0m \u001b[1;33m\u001b[0m\u001b[0m\n\u001b[0;32m    658\u001b[0m         \u001b[1;31m# If argument passed to validate,\u001b[0m\u001b[1;33m\u001b[0m\u001b[1;33m\u001b[0m\u001b[1;33m\u001b[0m\u001b[0m\n",
      "\u001b[1;32mC:\\ProgramData\\Anaconda3\\lib\\site-packages\\pandas\\core\\reshape\\merge.py\u001b[0m in \u001b[0;36m_maybe_coerce_merge_keys\u001b[1;34m(self)\u001b[0m\n\u001b[0;32m   1169\u001b[0m                 \u001b[1;32mraise\u001b[0m \u001b[0mValueError\u001b[0m\u001b[1;33m(\u001b[0m\u001b[0mmsg\u001b[0m\u001b[1;33m)\u001b[0m\u001b[1;33m\u001b[0m\u001b[1;33m\u001b[0m\u001b[0m\n\u001b[0;32m   1170\u001b[0m             \u001b[1;32melif\u001b[0m \u001b[1;32mnot\u001b[0m \u001b[0mneeds_i8_conversion\u001b[0m\u001b[1;33m(\u001b[0m\u001b[0mlk\u001b[0m\u001b[1;33m.\u001b[0m\u001b[0mdtype\u001b[0m\u001b[1;33m)\u001b[0m \u001b[1;32mand\u001b[0m \u001b[0mneeds_i8_conversion\u001b[0m\u001b[1;33m(\u001b[0m\u001b[0mrk\u001b[0m\u001b[1;33m.\u001b[0m\u001b[0mdtype\u001b[0m\u001b[1;33m)\u001b[0m\u001b[1;33m:\u001b[0m\u001b[1;33m\u001b[0m\u001b[1;33m\u001b[0m\u001b[0m\n\u001b[1;32m-> 1171\u001b[1;33m                 \u001b[1;32mraise\u001b[0m \u001b[0mValueError\u001b[0m\u001b[1;33m(\u001b[0m\u001b[0mmsg\u001b[0m\u001b[1;33m)\u001b[0m\u001b[1;33m\u001b[0m\u001b[1;33m\u001b[0m\u001b[0m\n\u001b[0m\u001b[0;32m   1172\u001b[0m             elif is_datetime64tz_dtype(lk.dtype) and not is_datetime64tz_dtype(\n\u001b[0;32m   1173\u001b[0m                 \u001b[0mrk\u001b[0m\u001b[1;33m.\u001b[0m\u001b[0mdtype\u001b[0m\u001b[1;33m\u001b[0m\u001b[1;33m\u001b[0m\u001b[0m\n",
      "\u001b[1;31mValueError\u001b[0m: You are trying to merge on object and datetime64[ns] columns. If you wish to proceed you should use pd.concat"
     ]
    }
   ],
   "source": [
    "novo = pd.merge(arquivo, lren, how = 'inner', on = 'Date')"
   ]
  },
  {
   "cell_type": "markdown",
   "metadata": {},
   "source": [
    "Esse erro aconteceu porque o primeiro dataframe não está reconhecendo a primeira coluna como Data"
   ]
  },
  {
   "cell_type": "markdown",
   "metadata": {},
   "source": [
    "Podemos pesquisar no Stack Overflow"
   ]
  },
  {
   "cell_type": "code",
   "execution_count": 37,
   "metadata": {},
   "outputs": [],
   "source": [
    "arquivo['Date'] =  pd.to_datetime(arquivo['Date'], format='%Y-%m-%d')"
   ]
  },
  {
   "cell_type": "code",
   "execution_count": 39,
   "metadata": {},
   "outputs": [
    {
     "data": {
      "text/html": [
       "<div>\n",
       "<style scoped>\n",
       "    .dataframe tbody tr th:only-of-type {\n",
       "        vertical-align: middle;\n",
       "    }\n",
       "\n",
       "    .dataframe tbody tr th {\n",
       "        vertical-align: top;\n",
       "    }\n",
       "\n",
       "    .dataframe thead th {\n",
       "        text-align: right;\n",
       "    }\n",
       "</style>\n",
       "<table border=\"1\" class=\"dataframe\">\n",
       "  <thead>\n",
       "    <tr style=\"text-align: right;\">\n",
       "      <th></th>\n",
       "      <th>Date</th>\n",
       "      <th>Open</th>\n",
       "      <th>High</th>\n",
       "      <th>Low</th>\n",
       "      <th>Close</th>\n",
       "      <th>WEGE3</th>\n",
       "      <th>Volume</th>\n",
       "    </tr>\n",
       "  </thead>\n",
       "  <tbody>\n",
       "    <tr>\n",
       "      <th>0</th>\n",
       "      <td>2017-07-24</td>\n",
       "      <td>7.392307</td>\n",
       "      <td>7.473076</td>\n",
       "      <td>7.261538</td>\n",
       "      <td>7.426923</td>\n",
       "      <td>7.051007</td>\n",
       "      <td>2638220.0</td>\n",
       "    </tr>\n",
       "    <tr>\n",
       "      <th>1</th>\n",
       "      <td>2017-07-25</td>\n",
       "      <td>7.476923</td>\n",
       "      <td>7.476923</td>\n",
       "      <td>7.307692</td>\n",
       "      <td>7.369230</td>\n",
       "      <td>6.996235</td>\n",
       "      <td>2505880.0</td>\n",
       "    </tr>\n",
       "    <tr>\n",
       "      <th>2</th>\n",
       "      <td>2017-07-26</td>\n",
       "      <td>7.323076</td>\n",
       "      <td>7.442307</td>\n",
       "      <td>7.276923</td>\n",
       "      <td>7.326923</td>\n",
       "      <td>6.956069</td>\n",
       "      <td>2112240.0</td>\n",
       "    </tr>\n",
       "    <tr>\n",
       "      <th>3</th>\n",
       "      <td>2017-07-27</td>\n",
       "      <td>7.388461</td>\n",
       "      <td>7.419230</td>\n",
       "      <td>7.223076</td>\n",
       "      <td>7.269230</td>\n",
       "      <td>6.901296</td>\n",
       "      <td>1910480.0</td>\n",
       "    </tr>\n",
       "    <tr>\n",
       "      <th>4</th>\n",
       "      <td>2017-07-28</td>\n",
       "      <td>7.261538</td>\n",
       "      <td>7.296153</td>\n",
       "      <td>7.165384</td>\n",
       "      <td>7.200000</td>\n",
       "      <td>6.835570</td>\n",
       "      <td>2866760.0</td>\n",
       "    </tr>\n",
       "  </tbody>\n",
       "</table>\n",
       "</div>"
      ],
      "text/plain": [
       "        Date      Open      High       Low     Close     WEGE3     Volume\n",
       "0 2017-07-24  7.392307  7.473076  7.261538  7.426923  7.051007  2638220.0\n",
       "1 2017-07-25  7.476923  7.476923  7.307692  7.369230  6.996235  2505880.0\n",
       "2 2017-07-26  7.323076  7.442307  7.276923  7.326923  6.956069  2112240.0\n",
       "3 2017-07-27  7.388461  7.419230  7.223076  7.269230  6.901296  1910480.0\n",
       "4 2017-07-28  7.261538  7.296153  7.165384  7.200000  6.835570  2866760.0"
      ]
     },
     "execution_count": 39,
     "metadata": {},
     "output_type": "execute_result"
    }
   ],
   "source": [
    "arquivo.head()"
   ]
  },
  {
   "cell_type": "code",
   "execution_count": 40,
   "metadata": {},
   "outputs": [],
   "source": [
    "novo = pd.merge(arquivo, lren, how = 'inner', on = 'Date')"
   ]
  },
  {
   "cell_type": "code",
   "execution_count": 41,
   "metadata": {},
   "outputs": [
    {
     "data": {
      "text/html": [
       "<div>\n",
       "<style scoped>\n",
       "    .dataframe tbody tr th:only-of-type {\n",
       "        vertical-align: middle;\n",
       "    }\n",
       "\n",
       "    .dataframe tbody tr th {\n",
       "        vertical-align: top;\n",
       "    }\n",
       "\n",
       "    .dataframe thead th {\n",
       "        text-align: right;\n",
       "    }\n",
       "</style>\n",
       "<table border=\"1\" class=\"dataframe\">\n",
       "  <thead>\n",
       "    <tr style=\"text-align: right;\">\n",
       "      <th></th>\n",
       "      <th>Date</th>\n",
       "      <th>Open_x</th>\n",
       "      <th>High_x</th>\n",
       "      <th>Low_x</th>\n",
       "      <th>Close_x</th>\n",
       "      <th>WEGE3</th>\n",
       "      <th>Volume_x</th>\n",
       "      <th>Open_y</th>\n",
       "      <th>High_y</th>\n",
       "      <th>Low_y</th>\n",
       "      <th>Close_y</th>\n",
       "      <th>LREN3</th>\n",
       "      <th>Volume_y</th>\n",
       "    </tr>\n",
       "  </thead>\n",
       "  <tbody>\n",
       "    <tr>\n",
       "      <th>0</th>\n",
       "      <td>2017-07-24</td>\n",
       "      <td>7.392307</td>\n",
       "      <td>7.473076</td>\n",
       "      <td>7.261538</td>\n",
       "      <td>7.426923</td>\n",
       "      <td>7.051007</td>\n",
       "      <td>2638220.0</td>\n",
       "      <td>26.681818</td>\n",
       "      <td>27.209089</td>\n",
       "      <td>26.618181</td>\n",
       "      <td>27.145454</td>\n",
       "      <td>25.518030</td>\n",
       "      <td>1717540</td>\n",
       "    </tr>\n",
       "    <tr>\n",
       "      <th>1</th>\n",
       "      <td>2017-07-25</td>\n",
       "      <td>7.476923</td>\n",
       "      <td>7.476923</td>\n",
       "      <td>7.307692</td>\n",
       "      <td>7.369230</td>\n",
       "      <td>6.996235</td>\n",
       "      <td>2505880.0</td>\n",
       "      <td>27.227272</td>\n",
       "      <td>27.536364</td>\n",
       "      <td>27.227272</td>\n",
       "      <td>27.454544</td>\n",
       "      <td>25.808586</td>\n",
       "      <td>3742200</td>\n",
       "    </tr>\n",
       "    <tr>\n",
       "      <th>2</th>\n",
       "      <td>2017-07-26</td>\n",
       "      <td>7.323076</td>\n",
       "      <td>7.442307</td>\n",
       "      <td>7.276923</td>\n",
       "      <td>7.326923</td>\n",
       "      <td>6.956069</td>\n",
       "      <td>2112240.0</td>\n",
       "      <td>27.436363</td>\n",
       "      <td>27.436363</td>\n",
       "      <td>26.272726</td>\n",
       "      <td>26.545454</td>\n",
       "      <td>24.953999</td>\n",
       "      <td>5012920</td>\n",
       "    </tr>\n",
       "    <tr>\n",
       "      <th>3</th>\n",
       "      <td>2017-07-27</td>\n",
       "      <td>7.388461</td>\n",
       "      <td>7.419230</td>\n",
       "      <td>7.223076</td>\n",
       "      <td>7.269230</td>\n",
       "      <td>6.901296</td>\n",
       "      <td>1910480.0</td>\n",
       "      <td>26.818180</td>\n",
       "      <td>26.863636</td>\n",
       "      <td>26.454544</td>\n",
       "      <td>26.781818</td>\n",
       "      <td>25.176191</td>\n",
       "      <td>1738990</td>\n",
       "    </tr>\n",
       "    <tr>\n",
       "      <th>4</th>\n",
       "      <td>2017-07-28</td>\n",
       "      <td>7.261538</td>\n",
       "      <td>7.296153</td>\n",
       "      <td>7.165384</td>\n",
       "      <td>7.200000</td>\n",
       "      <td>6.835570</td>\n",
       "      <td>2866760.0</td>\n",
       "      <td>26.490910</td>\n",
       "      <td>26.845453</td>\n",
       "      <td>26.463636</td>\n",
       "      <td>26.845453</td>\n",
       "      <td>25.236010</td>\n",
       "      <td>2355980</td>\n",
       "    </tr>\n",
       "  </tbody>\n",
       "</table>\n",
       "</div>"
      ],
      "text/plain": [
       "        Date    Open_x    High_x     Low_x   Close_x     WEGE3   Volume_x  \\\n",
       "0 2017-07-24  7.392307  7.473076  7.261538  7.426923  7.051007  2638220.0   \n",
       "1 2017-07-25  7.476923  7.476923  7.307692  7.369230  6.996235  2505880.0   \n",
       "2 2017-07-26  7.323076  7.442307  7.276923  7.326923  6.956069  2112240.0   \n",
       "3 2017-07-27  7.388461  7.419230  7.223076  7.269230  6.901296  1910480.0   \n",
       "4 2017-07-28  7.261538  7.296153  7.165384  7.200000  6.835570  2866760.0   \n",
       "\n",
       "      Open_y     High_y      Low_y    Close_y      LREN3  Volume_y  \n",
       "0  26.681818  27.209089  26.618181  27.145454  25.518030   1717540  \n",
       "1  27.227272  27.536364  27.227272  27.454544  25.808586   3742200  \n",
       "2  27.436363  27.436363  26.272726  26.545454  24.953999   5012920  \n",
       "3  26.818180  26.863636  26.454544  26.781818  25.176191   1738990  \n",
       "4  26.490910  26.845453  26.463636  26.845453  25.236010   2355980  "
      ]
     },
     "execution_count": 41,
     "metadata": {},
     "output_type": "execute_result"
    }
   ],
   "source": [
    "novo.head()"
   ]
  },
  {
   "cell_type": "code",
   "execution_count": 44,
   "metadata": {},
   "outputs": [],
   "source": [
    "cotacoes = novo[['Date','WEGE3', 'LREN3']]"
   ]
  },
  {
   "cell_type": "code",
   "execution_count": 45,
   "metadata": {},
   "outputs": [],
   "source": [
    "cotacoes.index = cotacoes['Date']"
   ]
  },
  {
   "cell_type": "code",
   "execution_count": 46,
   "metadata": {},
   "outputs": [
    {
     "data": {
      "text/html": [
       "<div>\n",
       "<style scoped>\n",
       "    .dataframe tbody tr th:only-of-type {\n",
       "        vertical-align: middle;\n",
       "    }\n",
       "\n",
       "    .dataframe tbody tr th {\n",
       "        vertical-align: top;\n",
       "    }\n",
       "\n",
       "    .dataframe thead th {\n",
       "        text-align: right;\n",
       "    }\n",
       "</style>\n",
       "<table border=\"1\" class=\"dataframe\">\n",
       "  <thead>\n",
       "    <tr style=\"text-align: right;\">\n",
       "      <th></th>\n",
       "      <th>Date</th>\n",
       "      <th>WEGE3</th>\n",
       "      <th>LREN3</th>\n",
       "    </tr>\n",
       "    <tr>\n",
       "      <th>Date</th>\n",
       "      <th></th>\n",
       "      <th></th>\n",
       "      <th></th>\n",
       "    </tr>\n",
       "  </thead>\n",
       "  <tbody>\n",
       "    <tr>\n",
       "      <th>2017-07-24</th>\n",
       "      <td>2017-07-24</td>\n",
       "      <td>7.051007</td>\n",
       "      <td>25.518030</td>\n",
       "    </tr>\n",
       "    <tr>\n",
       "      <th>2017-07-25</th>\n",
       "      <td>2017-07-25</td>\n",
       "      <td>6.996235</td>\n",
       "      <td>25.808586</td>\n",
       "    </tr>\n",
       "    <tr>\n",
       "      <th>2017-07-26</th>\n",
       "      <td>2017-07-26</td>\n",
       "      <td>6.956069</td>\n",
       "      <td>24.953999</td>\n",
       "    </tr>\n",
       "    <tr>\n",
       "      <th>2017-07-27</th>\n",
       "      <td>2017-07-27</td>\n",
       "      <td>6.901296</td>\n",
       "      <td>25.176191</td>\n",
       "    </tr>\n",
       "    <tr>\n",
       "      <th>2017-07-28</th>\n",
       "      <td>2017-07-28</td>\n",
       "      <td>6.835570</td>\n",
       "      <td>25.236010</td>\n",
       "    </tr>\n",
       "  </tbody>\n",
       "</table>\n",
       "</div>"
      ],
      "text/plain": [
       "                 Date     WEGE3      LREN3\n",
       "Date                                      \n",
       "2017-07-24 2017-07-24  7.051007  25.518030\n",
       "2017-07-25 2017-07-25  6.996235  25.808586\n",
       "2017-07-26 2017-07-26  6.956069  24.953999\n",
       "2017-07-27 2017-07-27  6.901296  25.176191\n",
       "2017-07-28 2017-07-28  6.835570  25.236010"
      ]
     },
     "execution_count": 46,
     "metadata": {},
     "output_type": "execute_result"
    }
   ],
   "source": [
    "cotacoes.head()"
   ]
  },
  {
   "cell_type": "code",
   "execution_count": 47,
   "metadata": {},
   "outputs": [
    {
     "name": "stderr",
     "output_type": "stream",
     "text": [
      "C:\\ProgramData\\Anaconda3\\lib\\site-packages\\pandas\\core\\frame.py:4163: SettingWithCopyWarning: \n",
      "A value is trying to be set on a copy of a slice from a DataFrame\n",
      "\n",
      "See the caveats in the documentation: https://pandas.pydata.org/pandas-docs/stable/user_guide/indexing.html#returning-a-view-versus-a-copy\n",
      "  return super().drop(\n"
     ]
    }
   ],
   "source": [
    "cotacoes.drop(['Date'], axis = 1, inplace = True)"
   ]
  },
  {
   "cell_type": "code",
   "execution_count": 48,
   "metadata": {},
   "outputs": [
    {
     "data": {
      "text/html": [
       "<div>\n",
       "<style scoped>\n",
       "    .dataframe tbody tr th:only-of-type {\n",
       "        vertical-align: middle;\n",
       "    }\n",
       "\n",
       "    .dataframe tbody tr th {\n",
       "        vertical-align: top;\n",
       "    }\n",
       "\n",
       "    .dataframe thead th {\n",
       "        text-align: right;\n",
       "    }\n",
       "</style>\n",
       "<table border=\"1\" class=\"dataframe\">\n",
       "  <thead>\n",
       "    <tr style=\"text-align: right;\">\n",
       "      <th></th>\n",
       "      <th>WEGE3</th>\n",
       "      <th>LREN3</th>\n",
       "    </tr>\n",
       "    <tr>\n",
       "      <th>Date</th>\n",
       "      <th></th>\n",
       "      <th></th>\n",
       "    </tr>\n",
       "  </thead>\n",
       "  <tbody>\n",
       "    <tr>\n",
       "      <th>2017-07-24</th>\n",
       "      <td>7.051007</td>\n",
       "      <td>25.518030</td>\n",
       "    </tr>\n",
       "    <tr>\n",
       "      <th>2017-07-25</th>\n",
       "      <td>6.996235</td>\n",
       "      <td>25.808586</td>\n",
       "    </tr>\n",
       "    <tr>\n",
       "      <th>2017-07-26</th>\n",
       "      <td>6.956069</td>\n",
       "      <td>24.953999</td>\n",
       "    </tr>\n",
       "    <tr>\n",
       "      <th>2017-07-27</th>\n",
       "      <td>6.901296</td>\n",
       "      <td>25.176191</td>\n",
       "    </tr>\n",
       "    <tr>\n",
       "      <th>2017-07-28</th>\n",
       "      <td>6.835570</td>\n",
       "      <td>25.236010</td>\n",
       "    </tr>\n",
       "  </tbody>\n",
       "</table>\n",
       "</div>"
      ],
      "text/plain": [
       "               WEGE3      LREN3\n",
       "Date                           \n",
       "2017-07-24  7.051007  25.518030\n",
       "2017-07-25  6.996235  25.808586\n",
       "2017-07-26  6.956069  24.953999\n",
       "2017-07-27  6.901296  25.176191\n",
       "2017-07-28  6.835570  25.236010"
      ]
     },
     "execution_count": 48,
     "metadata": {},
     "output_type": "execute_result"
    }
   ],
   "source": [
    "cotacoes.head()"
   ]
  },
  {
   "cell_type": "code",
   "execution_count": 49,
   "metadata": {},
   "outputs": [
    {
     "data": {
      "image/png": "[encoded data removed]",
      "text/plain": [
       "<Figure size 432x288 with 1 Axes>"
      ]
     },
     "metadata": {
      "needs_background": "light"
     },
     "output_type": "display_data"
    }
   ],
   "source": [
    "cotacoes.plot();"
   ]
  },
  {
   "cell_type": "code",
   "execution_count": 50,
   "metadata": {},
   "outputs": [
    {
     "name": "stdout",
     "output_type": "stream",
     "text": [
      "Collecting sweetviz\n",
      "  Downloading sweetviz-2.1.3-py3-none-any.whl (15.1 MB)\n",
      "Collecting importlib-resources>=1.2.0\n",
      "  Downloading importlib_resources-5.2.0-py3-none-any.whl (27 kB)\n",
      "Requirement already satisfied: scipy>=1.3.2 in c:\\programdata\\anaconda3\\lib\\site-packages (from sweetviz) (1.5.2)\n",
      "Requirement already satisfied: numpy>=1.16.0 in c:\\programdata\\anaconda3\\lib\\site-packages (from sweetviz) (1.19.2)\n",
      "Requirement already satisfied: tqdm>=4.43.0 in c:\\programdata\\anaconda3\\lib\\site-packages (from sweetviz) (4.50.2)\n",
      "Requirement already satisfied: jinja2>=2.11.1 in c:\\programdata\\anaconda3\\lib\\site-packages (from sweetviz) (2.11.2)\n",
      "Requirement already satisfied: pandas!=1.0.0,!=1.0.1,!=1.0.2,>=0.25.3 in c:\\programdata\\anaconda3\\lib\\site-packages (from sweetviz) (1.1.3)\n",
      "Requirement already satisfied: matplotlib>=3.1.3 in c:\\programdata\\anaconda3\\lib\\site-packages (from sweetviz) (3.3.2)\n",
      "Requirement already satisfied: zipp>=3.1.0; python_version < \"3.10\" in c:\\programdata\\anaconda3\\lib\\site-packages (from importlib-resources>=1.2.0->sweetviz) (3.4.0)\n",
      "Requirement already satisfied: MarkupSafe>=0.23 in c:\\programdata\\anaconda3\\lib\\site-packages (from jinja2>=2.11.1->sweetviz) (1.1.1)\n",
      "Requirement already satisfied: pytz>=2017.2 in c:\\programdata\\anaconda3\\lib\\site-packages (from pandas!=1.0.0,!=1.0.1,!=1.0.2,>=0.25.3->sweetviz) (2020.1)\n",
      "Requirement already satisfied: python-dateutil>=2.7.3 in c:\\programdata\\anaconda3\\lib\\site-packages (from pandas!=1.0.0,!=1.0.1,!=1.0.2,>=0.25.3->sweetviz) (2.8.1)\n",
      "Requirement already satisfied: certifi>=2020.06.20 in c:\\programdata\\anaconda3\\lib\\site-packages (from matplotlib>=3.1.3->sweetviz) (2020.6.20)\n",
      "Requirement already satisfied: cycler>=0.10 in c:\\programdata\\anaconda3\\lib\\site-packages (from matplotlib>=3.1.3->sweetviz) (0.10.0)\n",
      "Requirement already satisfied: kiwisolver>=1.0.1 in c:\\programdata\\anaconda3\\lib\\site-packages (from matplotlib>=3.1.3->sweetviz) (1.3.0)\n",
      "Requirement already satisfied: pillow>=6.2.0 in c:\\programdata\\anaconda3\\lib\\site-packages (from matplotlib>=3.1.3->sweetviz) (8.0.1)\n",
      "Requirement already satisfied: pyparsing!=2.0.4,!=2.1.2,!=2.1.6,>=2.0.3 in c:\\programdata\\anaconda3\\lib\\site-packages (from matplotlib>=3.1.3->sweetviz) (2.4.7)\n",
      "Requirement already satisfied: six>=1.5 in c:\\programdata\\anaconda3\\lib\\site-packages (from python-dateutil>=2.7.3->pandas!=1.0.0,!=1.0.1,!=1.0.2,>=0.25.3->sweetviz) (1.15.0)\n",
      "Installing collected packages: importlib-resources, sweetviz\n",
      "Successfully installed importlib-resources-5.2.0 sweetviz-2.1.3\n"
     ]
    }
   ],
   "source": [
    "!pip install sweetviz"
   ]
  },
  {
   "cell_type": "code",
   "execution_count": 51,
   "metadata": {},
   "outputs": [],
   "source": [
    "# importing sweetviz\n",
    "import sweetviz as sv"
   ]
  },
  {
   "cell_type": "code",
   "execution_count": 53,
   "metadata": {},
   "outputs": [
    {
     "data": {
      "application/vnd.jupyter.widget-view+json": {
       "model_id": "1aca4425bec94f4d9d65fc6d1eeeeb39",
       "version_major": 2,
       "version_minor": 0
      },
      "text/plain": [
       "HBox(children=(HTML(value=''), FloatProgress(value=0.0, layout=Layout(flex='2'), max=3.0), HTML(value='')), la…"
      ]
     },
     "metadata": {},
     "output_type": "display_data"
    },
    {
     "name": "stdout",
     "output_type": "stream",
     "text": [
      "\n"
     ]
    }
   ],
   "source": [
    "\n",
    "#analyzing the dataset\n",
    "advert_report = sv.analyze(cotacoes)"
   ]
  },
  {
   "cell_type": "code",
   "execution_count": 54,
   "metadata": {},
   "outputs": [
    {
     "name": "stdout",
     "output_type": "stream",
     "text": [
      "Report Advertising.html was generated! NOTEBOOK/COLAB USERS: the web browser MAY not pop up, regardless, the report IS saved in your notebook/colab files.\n"
     ]
    }
   ],
   "source": [
    "#display the report\n",
    "advert_report.show_html('Advertising.html')"
   ]
  },
  {
   "cell_type": "code",
   "execution_count": 55,
   "metadata": {},
   "outputs": [
    {
     "data": {
      "text/plain": [
       "<AxesSubplot:>"
      ]
     },
     "execution_count": 55,
     "metadata": {},
     "output_type": "execute_result"
    },
    {
     "data": {
      "image/png": "[encoded data removed]",
      "text/plain": [
       "<Figure size 600x400 with 1 Axes>"
      ]
     },
     "metadata": {},
     "output_type": "display_data"
    }
   ],
   "source": [
    "cotacoes.WEGE3.hist()"
   ]
  },
  {
   "cell_type": "code",
   "execution_count": 56,
   "metadata": {},
   "outputs": [
    {
     "data": {
      "text/plain": [
       "<AxesSubplot:>"
      ]
     },
     "execution_count": 56,
     "metadata": {},
     "output_type": "execute_result"
    },
    {
     "data": {
      "image/png": "[encoded data removed]",
      "text/plain": [
       "<Figure size 600x400 with 1 Axes>"
      ]
     },
     "metadata": {},
     "output_type": "display_data"
    }
   ],
   "source": [
    "cotacoes.LREN3.hist()"
   ]
  },
  {
   "cell_type": "markdown",
   "metadata": {},
   "source": [
    "Colocar aqui conceitos:\n",
    "    rETORNO\n",
    "    voltalilidade\n",
    "    normalização"
   ]
  },
  {
   "cell_type": "markdown",
   "metadata": {},
   "source": [
    "Função para extrair métricas estatísticas disso"
   ]
  },
  {
   "cell_type": "markdown",
   "metadata": {},
   "source": [
    "Para cada um deles, colocar visualização em janelas (continua)"
   ]
  },
  {
   "cell_type": "code",
   "execution_count": null,
   "metadata": {},
   "outputs": [],
   "source": []
  }
 ],
 "metadata": {
  "kernelspec": {
   "display_name": "Python 3",
   "language": "python",
   "name": "python3"
  },
  "language_info": {
   "codemirror_mode": {
    "name": "ipython",
    "version": 3
   },
   "file_extension": ".py",
   "mimetype": "text/x-python",
   "name": "python",
   "nbconvert_exporter": "python",
   "pygments_lexer": "ipython3",
   "version": "3.8.5"
  }
 },
 "nbformat": 4,
 "nbformat_minor": 4
}
