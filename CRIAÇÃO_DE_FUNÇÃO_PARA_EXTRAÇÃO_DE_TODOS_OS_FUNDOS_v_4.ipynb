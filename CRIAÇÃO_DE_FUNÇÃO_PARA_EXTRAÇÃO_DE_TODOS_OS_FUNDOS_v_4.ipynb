{
  "nbformat": 4,
  "nbformat_minor": 0,
  "metadata": {
    "colab": {
      "provenance": [],
      "authorship_tag": "ABX9TyOyu+If0CVr1fcxCl6RYSB+",
      "include_colab_link": true
    },
    "kernelspec": {
      "name": "python3",
      "display_name": "Python 3"
    },
    "language_info": {
      "name": "python"
    }
  },
  "cells": [
    {
      "cell_type": "markdown",
      "metadata": {
        "id": "view-in-github",
        "colab_type": "text"
      },
      "source": [
        "<a href=\"https://colab.research.google.com/github/victorncg/financas_quantitativas/blob/main/CRIA%C3%87%C3%83O_DE_FUN%C3%87%C3%83O_PARA_EXTRA%C3%87%C3%83O_DE_TODOS_OS_FUNDOS_v_4.ipynb\" target=\"_parent\"><img src=\"https://colab.research.google.com/assets/colab-badge.svg\" alt=\"Open In Colab\"/></a>"
      ]
    },
    {
      "cell_type": "markdown",
      "source": [
        "<img src = \"https://github.com/Trading-com-Dados/pmf/blob/main/logotipo-trading-com-dados.svg?raw=true\" width = \"300\">"
      ],
      "metadata": {
        "id": "rFENq-Itv6vN"
      }
    },
    {
      "cell_type": "markdown",
      "source": [
        "# **Como extrair dados de cotas de fundos sem baixar nenhum arquivo**"
      ],
      "metadata": {
        "id": "-wWwu2-GqBM_"
      }
    },
    {
      "cell_type": "markdown",
      "source": [
        "## 1. Importação das bibliotecas"
      ],
      "metadata": {
        "id": "weKzGIq_vz_t"
      }
    },
    {
      "cell_type": "markdown",
      "source": [
        "Para esta tarefa, vamos precisar apenas da biblioteca pandas"
      ],
      "metadata": {
        "id": "01ikhZTZwjek"
      }
    },
    {
      "cell_type": "code",
      "source": [
        "import pandas as pd"
      ],
      "metadata": {
        "id": "uGxi9Yryv2pa"
      },
      "execution_count": 1,
      "outputs": []
    },
    {
      "cell_type": "markdown",
      "source": [
        "## 3. Realizando a extração dos dados"
      ],
      "metadata": {
        "id": "T1xZm_4WzG9r"
      }
    },
    {
      "cell_type": "markdown",
      "source": [
        "Criação de função para determinar a lista com períodos entre início e fim"
      ],
      "metadata": {
        "id": "DBO1Fz2260Ln"
      }
    },
    {
      "cell_type": "code",
      "source": [
        "start_date = '2022-01-23'\n",
        "end_date = '2022-02-14'"
      ],
      "metadata": {
        "id": "UnZFzL0nPQJQ"
      },
      "execution_count": 31,
      "outputs": []
    },
    {
      "cell_type": "code",
      "source": [
        "from datetime import datetime\n",
        "\n",
        "datetime.strptime(start_date, '%Y-%m-%d').year"
      ],
      "metadata": {
        "colab": {
          "base_uri": "https://localhost:8080/"
        },
        "id": "lER6j44HPzYm",
        "outputId": "50eec3b4-502d-4a5a-a2fd-dda8bf02eb96"
      },
      "execution_count": 32,
      "outputs": [
        {
          "output_type": "execute_result",
          "data": {
            "text/plain": [
              "2022"
            ]
          },
          "metadata": {},
          "execution_count": 32
        }
      ]
    },
    {
      "cell_type": "code",
      "source": [
        "def create_interval(start_date, end_date):\n",
        "\n",
        "  b = list()\n",
        "\n",
        "  end = str(datetime.strptime(end_date, '%Y-%m-%d').year) + '{:02d}'.format(datetime.strptime(end_date, '%Y-%m-%d').month +1)\n",
        "\n",
        "  for year in range(int(datetime.strptime(start_date, '%Y-%m-%d').year), int(datetime.strptime(end_date, '%Y-%m-%d').year)+1):\n",
        "\n",
        "    for month in range(1,13):\n",
        "\n",
        "      a = '{:02d}{:02d}'.format(year, month)\n",
        "\n",
        "      if a == end:\n",
        "        break\n",
        "\n",
        "      b.append(a)\n",
        "\n",
        "    if a == end:\n",
        "        break\n",
        "\n",
        "    year = year +1\n",
        "\n",
        "  return b"
      ],
      "metadata": {
        "id": "TFlwU8PX7CCl"
      },
      "execution_count": 51,
      "outputs": []
    },
    {
      "cell_type": "code",
      "source": [
        "lista = create_interval(start_date, end_date)"
      ],
      "metadata": {
        "id": "wmlCq8s4HYPm"
      },
      "execution_count": 52,
      "outputs": []
    },
    {
      "cell_type": "code",
      "source": [
        "lista"
      ],
      "metadata": {
        "colab": {
          "base_uri": "https://localhost:8080/"
        },
        "id": "nBl1oaBVRMtR",
        "outputId": "7cf59b85-9927-4aff-ff66-b91ba692bbd3"
      },
      "execution_count": 53,
      "outputs": [
        {
          "output_type": "execute_result",
          "data": {
            "text/plain": [
              "['202201', '202202']"
            ]
          },
          "metadata": {},
          "execution_count": 53
        }
      ]
    },
    {
      "cell_type": "code",
      "source": [
        "def busca_informe_simples_cvm(ano, mes):\n",
        "  url = 'http://dados.cvm.gov.br/dados/FI/DOC/INF_DIARIO/DADOS/inf_diario_fi_{:02d}{:02d}.zip'.format(ano, mes)\n",
        "  return pd.read_csv(url, sep=';', compression='zip')"
      ],
      "metadata": {
        "id": "faW1EGnUweBl"
      },
      "execution_count": 4,
      "outputs": []
    },
    {
      "cell_type": "markdown",
      "source": [
        "Execução"
      ],
      "metadata": {
        "id": "NJaOwGKmGosM"
      }
    },
    {
      "cell_type": "code",
      "source": [
        "def extract_fund_data(dates_list):\n",
        "\n",
        "  import time\n",
        "\n",
        "  import pandas as pd\n",
        "\n",
        "  import datetime\n",
        "\n",
        "  start_time = time.time()\n",
        "\n",
        "  # Initialize an empty list to store individual DataFrames\n",
        "  dataframes = []\n",
        "\n",
        "  # Iterate through the files in the folder\n",
        "  for i in dates_list:\n",
        "\n",
        "    url_pre = f'https://dados.cvm.gov.br/dados/FI/DOC/INF_DIARIO/DADOS/inf_diario_fi_{i}.zip'\n",
        "\n",
        "    df_loc = pd.read_csv(url_pre, sep=';', compression='zip')\n",
        "\n",
        "    s = datetime.datetime.strptime(i, \"%Y%m\")\n",
        "\n",
        "    date = s.strftime('%B %Y')\n",
        "\n",
        "    print(\"Extraction of month\",date,\"finished\")\n",
        "\n",
        "    # Append the DataFrame to the list\n",
        "    dataframes.append(df_loc)\n",
        "\n",
        "  # Combine all DataFrames in the list into one large DataFrame\n",
        "  combined_df = pd.concat(dataframes, ignore_index=True)\n",
        "\n",
        "  print(\"Process took %s seconds\" % (time.time() - start_time))\n",
        "\n",
        "  return combined_df"
      ],
      "metadata": {
        "id": "hzjppIGdDeYo"
      },
      "execution_count": 5,
      "outputs": []
    },
    {
      "cell_type": "code",
      "source": [
        "extract_fund_data(lista)"
      ],
      "metadata": {
        "colab": {
          "base_uri": "https://localhost:8080/",
          "height": 475
        },
        "id": "ZCC7m0knEnam",
        "outputId": "9739f56a-efa3-49d4-aec8-91ce916bd6ab"
      },
      "execution_count": 6,
      "outputs": [
        {
          "output_type": "stream",
          "name": "stdout",
          "text": [
            "Extraction of month January 2022 finished\n",
            "Extraction of month February 2022 finished\n",
            "Process took 5.476681232452393 seconds\n"
          ]
        },
        {
          "output_type": "execute_result",
          "data": {
            "text/plain": [
              "       TP_FUNDO          CNPJ_FUNDO   DT_COMPTC     VL_TOTAL   VL_QUOTA  \\\n",
              "0            FI  00.017.024/0001-53  2022-01-03   1075476.00  28.110273   \n",
              "1            FI  00.017.024/0001-53  2022-01-04   1075873.10  28.118682   \n",
              "2            FI  00.017.024/0001-53  2022-01-05   1076280.19  28.127768   \n",
              "3            FI  00.017.024/0001-53  2022-01-06   1076680.92  28.137115   \n",
              "4            FI  00.017.024/0001-53  2022-01-07   1073899.79  28.146295   \n",
              "...         ...                 ...         ...          ...        ...   \n",
              "918292       FI  97.929.213/0001-34  2022-02-21  71068851.28   9.350865   \n",
              "918293       FI  97.929.213/0001-34  2022-02-22  71123077.75   9.357950   \n",
              "918294       FI  97.929.213/0001-34  2022-02-23  71199491.30   9.367954   \n",
              "918295       FI  97.929.213/0001-34  2022-02-24  71230906.84   9.372037   \n",
              "918296       FI  97.929.213/0001-34  2022-02-25  71462069.89   9.402405   \n",
              "\n",
              "        VL_PATRIM_LIQ  CAPTC_DIA  RESG_DIA  NR_COTST  \n",
              "0          1078462.74        0.0      0.00         1  \n",
              "1          1078785.36        0.0      0.00         1  \n",
              "2          1079133.95        0.0      0.00         1  \n",
              "3          1079492.53        0.0      0.00         1  \n",
              "4          1076721.79        0.0   3122.94         1  \n",
              "...               ...        ...       ...       ...  \n",
              "918292    71060227.06        0.0      0.00         2  \n",
              "918293    71114066.69        0.0      0.00         2  \n",
              "918294    71190093.12        0.0      0.00         2  \n",
              "918295    71221121.41        0.0      0.00         2  \n",
              "918296    71451896.28        0.0      0.00         2  \n",
              "\n",
              "[918297 rows x 9 columns]"
            ],
            "text/html": [
              "\n",
              "  <div id=\"df-2ad1bd0f-b336-4a7d-a583-773a2ddec1b5\" class=\"colab-df-container\">\n",
              "    <div>\n",
              "<style scoped>\n",
              "    .dataframe tbody tr th:only-of-type {\n",
              "        vertical-align: middle;\n",
              "    }\n",
              "\n",
              "    .dataframe tbody tr th {\n",
              "        vertical-align: top;\n",
              "    }\n",
              "\n",
              "    .dataframe thead th {\n",
              "        text-align: right;\n",
              "    }\n",
              "</style>\n",
              "<table border=\"1\" class=\"dataframe\">\n",
              "  <thead>\n",
              "    <tr style=\"text-align: right;\">\n",
              "      <th></th>\n",
              "      <th>TP_FUNDO</th>\n",
              "      <th>CNPJ_FUNDO</th>\n",
              "      <th>DT_COMPTC</th>\n",
              "      <th>VL_TOTAL</th>\n",
              "      <th>VL_QUOTA</th>\n",
              "      <th>VL_PATRIM_LIQ</th>\n",
              "      <th>CAPTC_DIA</th>\n",
              "      <th>RESG_DIA</th>\n",
              "      <th>NR_COTST</th>\n",
              "    </tr>\n",
              "  </thead>\n",
              "  <tbody>\n",
              "    <tr>\n",
              "      <th>0</th>\n",
              "      <td>FI</td>\n",
              "      <td>00.017.024/0001-53</td>\n",
              "      <td>2022-01-03</td>\n",
              "      <td>1075476.00</td>\n",
              "      <td>28.110273</td>\n",
              "      <td>1078462.74</td>\n",
              "      <td>0.0</td>\n",
              "      <td>0.00</td>\n",
              "      <td>1</td>\n",
              "    </tr>\n",
              "    <tr>\n",
              "      <th>1</th>\n",
              "      <td>FI</td>\n",
              "      <td>00.017.024/0001-53</td>\n",
              "      <td>2022-01-04</td>\n",
              "      <td>1075873.10</td>\n",
              "      <td>28.118682</td>\n",
              "      <td>1078785.36</td>\n",
              "      <td>0.0</td>\n",
              "      <td>0.00</td>\n",
              "      <td>1</td>\n",
              "    </tr>\n",
              "    <tr>\n",
              "      <th>2</th>\n",
              "      <td>FI</td>\n",
              "      <td>00.017.024/0001-53</td>\n",
              "      <td>2022-01-05</td>\n",
              "      <td>1076280.19</td>\n",
              "      <td>28.127768</td>\n",
              "      <td>1079133.95</td>\n",
              "      <td>0.0</td>\n",
              "      <td>0.00</td>\n",
              "      <td>1</td>\n",
              "    </tr>\n",
              "    <tr>\n",
              "      <th>3</th>\n",
              "      <td>FI</td>\n",
              "      <td>00.017.024/0001-53</td>\n",
              "      <td>2022-01-06</td>\n",
              "      <td>1076680.92</td>\n",
              "      <td>28.137115</td>\n",
              "      <td>1079492.53</td>\n",
              "      <td>0.0</td>\n",
              "      <td>0.00</td>\n",
              "      <td>1</td>\n",
              "    </tr>\n",
              "    <tr>\n",
              "      <th>4</th>\n",
              "      <td>FI</td>\n",
              "      <td>00.017.024/0001-53</td>\n",
              "      <td>2022-01-07</td>\n",
              "      <td>1073899.79</td>\n",
              "      <td>28.146295</td>\n",
              "      <td>1076721.79</td>\n",
              "      <td>0.0</td>\n",
              "      <td>3122.94</td>\n",
              "      <td>1</td>\n",
              "    </tr>\n",
              "    <tr>\n",
              "      <th>...</th>\n",
              "      <td>...</td>\n",
              "      <td>...</td>\n",
              "      <td>...</td>\n",
              "      <td>...</td>\n",
              "      <td>...</td>\n",
              "      <td>...</td>\n",
              "      <td>...</td>\n",
              "      <td>...</td>\n",
              "      <td>...</td>\n",
              "    </tr>\n",
              "    <tr>\n",
              "      <th>918292</th>\n",
              "      <td>FI</td>\n",
              "      <td>97.929.213/0001-34</td>\n",
              "      <td>2022-02-21</td>\n",
              "      <td>71068851.28</td>\n",
              "      <td>9.350865</td>\n",
              "      <td>71060227.06</td>\n",
              "      <td>0.0</td>\n",
              "      <td>0.00</td>\n",
              "      <td>2</td>\n",
              "    </tr>\n",
              "    <tr>\n",
              "      <th>918293</th>\n",
              "      <td>FI</td>\n",
              "      <td>97.929.213/0001-34</td>\n",
              "      <td>2022-02-22</td>\n",
              "      <td>71123077.75</td>\n",
              "      <td>9.357950</td>\n",
              "      <td>71114066.69</td>\n",
              "      <td>0.0</td>\n",
              "      <td>0.00</td>\n",
              "      <td>2</td>\n",
              "    </tr>\n",
              "    <tr>\n",
              "      <th>918294</th>\n",
              "      <td>FI</td>\n",
              "      <td>97.929.213/0001-34</td>\n",
              "      <td>2022-02-23</td>\n",
              "      <td>71199491.30</td>\n",
              "      <td>9.367954</td>\n",
              "      <td>71190093.12</td>\n",
              "      <td>0.0</td>\n",
              "      <td>0.00</td>\n",
              "      <td>2</td>\n",
              "    </tr>\n",
              "    <tr>\n",
              "      <th>918295</th>\n",
              "      <td>FI</td>\n",
              "      <td>97.929.213/0001-34</td>\n",
              "      <td>2022-02-24</td>\n",
              "      <td>71230906.84</td>\n",
              "      <td>9.372037</td>\n",
              "      <td>71221121.41</td>\n",
              "      <td>0.0</td>\n",
              "      <td>0.00</td>\n",
              "      <td>2</td>\n",
              "    </tr>\n",
              "    <tr>\n",
              "      <th>918296</th>\n",
              "      <td>FI</td>\n",
              "      <td>97.929.213/0001-34</td>\n",
              "      <td>2022-02-25</td>\n",
              "      <td>71462069.89</td>\n",
              "      <td>9.402405</td>\n",
              "      <td>71451896.28</td>\n",
              "      <td>0.0</td>\n",
              "      <td>0.00</td>\n",
              "      <td>2</td>\n",
              "    </tr>\n",
              "  </tbody>\n",
              "</table>\n",
              "<p>918297 rows × 9 columns</p>\n",
              "</div>\n",
              "    <div class=\"colab-df-buttons\">\n",
              "\n",
              "  <div class=\"colab-df-container\">\n",
              "    <button class=\"colab-df-convert\" onclick=\"convertToInteractive('df-2ad1bd0f-b336-4a7d-a583-773a2ddec1b5')\"\n",
              "            title=\"Convert this dataframe to an interactive table.\"\n",
              "            style=\"display:none;\">\n",
              "\n",
              "  <svg xmlns=\"http://www.w3.org/2000/svg\" height=\"24px\" viewBox=\"0 -960 960 960\">\n",
              "    <path d=\"M120-120v-720h720v720H120Zm60-500h600v-160H180v160Zm220 220h160v-160H400v160Zm0 220h160v-160H400v160ZM180-400h160v-160H180v160Zm440 0h160v-160H620v160ZM180-180h160v-160H180v160Zm440 0h160v-160H620v160Z\"/>\n",
              "  </svg>\n",
              "    </button>\n",
              "\n",
              "  <style>\n",
              "    .colab-df-container {\n",
              "      display:flex;\n",
              "      gap: 12px;\n",
              "    }\n",
              "\n",
              "    .colab-df-convert {\n",
              "      background-color: #E8F0FE;\n",
              "      border: none;\n",
              "      border-radius: 50%;\n",
              "      cursor: pointer;\n",
              "      display: none;\n",
              "      fill: #1967D2;\n",
              "      height: 32px;\n",
              "      padding: 0 0 0 0;\n",
              "      width: 32px;\n",
              "    }\n",
              "\n",
              "    .colab-df-convert:hover {\n",
              "      background-color: #E2EBFA;\n",
              "      box-shadow: 0px 1px 2px rgba(60, 64, 67, 0.3), 0px 1px 3px 1px rgba(60, 64, 67, 0.15);\n",
              "      fill: #174EA6;\n",
              "    }\n",
              "\n",
              "    .colab-df-buttons div {\n",
              "      margin-bottom: 4px;\n",
              "    }\n",
              "\n",
              "    [theme=dark] .colab-df-convert {\n",
              "      background-color: #3B4455;\n",
              "      fill: #D2E3FC;\n",
              "    }\n",
              "\n",
              "    [theme=dark] .colab-df-convert:hover {\n",
              "      background-color: #434B5C;\n",
              "      box-shadow: 0px 1px 3px 1px rgba(0, 0, 0, 0.15);\n",
              "      filter: drop-shadow(0px 1px 2px rgba(0, 0, 0, 0.3));\n",
              "      fill: #FFFFFF;\n",
              "    }\n",
              "  </style>\n",
              "\n",
              "    <script>\n",
              "      const buttonEl =\n",
              "        document.querySelector('#df-2ad1bd0f-b336-4a7d-a583-773a2ddec1b5 button.colab-df-convert');\n",
              "      buttonEl.style.display =\n",
              "        google.colab.kernel.accessAllowed ? 'block' : 'none';\n",
              "\n",
              "      async function convertToInteractive(key) {\n",
              "        const element = document.querySelector('#df-2ad1bd0f-b336-4a7d-a583-773a2ddec1b5');\n",
              "        const dataTable =\n",
              "          await google.colab.kernel.invokeFunction('convertToInteractive',\n",
              "                                                    [key], {});\n",
              "        if (!dataTable) return;\n",
              "\n",
              "        const docLinkHtml = 'Like what you see? Visit the ' +\n",
              "          '<a target=\"_blank\" href=https://colab.research.google.com/notebooks/data_table.ipynb>data table notebook</a>'\n",
              "          + ' to learn more about interactive tables.';\n",
              "        element.innerHTML = '';\n",
              "        dataTable['output_type'] = 'display_data';\n",
              "        await google.colab.output.renderOutput(dataTable, element);\n",
              "        const docLink = document.createElement('div');\n",
              "        docLink.innerHTML = docLinkHtml;\n",
              "        element.appendChild(docLink);\n",
              "      }\n",
              "    </script>\n",
              "  </div>\n",
              "\n",
              "\n",
              "<div id=\"df-4f5d0b63-ad77-46c0-ade4-ac0e34dd73e4\">\n",
              "  <button class=\"colab-df-quickchart\" onclick=\"quickchart('df-4f5d0b63-ad77-46c0-ade4-ac0e34dd73e4')\"\n",
              "            title=\"Suggest charts\"\n",
              "            style=\"display:none;\">\n",
              "\n",
              "<svg xmlns=\"http://www.w3.org/2000/svg\" height=\"24px\"viewBox=\"0 0 24 24\"\n",
              "     width=\"24px\">\n",
              "    <g>\n",
              "        <path d=\"M19 3H5c-1.1 0-2 .9-2 2v14c0 1.1.9 2 2 2h14c1.1 0 2-.9 2-2V5c0-1.1-.9-2-2-2zM9 17H7v-7h2v7zm4 0h-2V7h2v10zm4 0h-2v-4h2v4z\"/>\n",
              "    </g>\n",
              "</svg>\n",
              "  </button>\n",
              "\n",
              "<style>\n",
              "  .colab-df-quickchart {\n",
              "      --bg-color: #E8F0FE;\n",
              "      --fill-color: #1967D2;\n",
              "      --hover-bg-color: #E2EBFA;\n",
              "      --hover-fill-color: #174EA6;\n",
              "      --disabled-fill-color: #AAA;\n",
              "      --disabled-bg-color: #DDD;\n",
              "  }\n",
              "\n",
              "  [theme=dark] .colab-df-quickchart {\n",
              "      --bg-color: #3B4455;\n",
              "      --fill-color: #D2E3FC;\n",
              "      --hover-bg-color: #434B5C;\n",
              "      --hover-fill-color: #FFFFFF;\n",
              "      --disabled-bg-color: #3B4455;\n",
              "      --disabled-fill-color: #666;\n",
              "  }\n",
              "\n",
              "  .colab-df-quickchart {\n",
              "    background-color: var(--bg-color);\n",
              "    border: none;\n",
              "    border-radius: 50%;\n",
              "    cursor: pointer;\n",
              "    display: none;\n",
              "    fill: var(--fill-color);\n",
              "    height: 32px;\n",
              "    padding: 0;\n",
              "    width: 32px;\n",
              "  }\n",
              "\n",
              "  .colab-df-quickchart:hover {\n",
              "    background-color: var(--hover-bg-color);\n",
              "    box-shadow: 0 1px 2px rgba(60, 64, 67, 0.3), 0 1px 3px 1px rgba(60, 64, 67, 0.15);\n",
              "    fill: var(--button-hover-fill-color);\n",
              "  }\n",
              "\n",
              "  .colab-df-quickchart-complete:disabled,\n",
              "  .colab-df-quickchart-complete:disabled:hover {\n",
              "    background-color: var(--disabled-bg-color);\n",
              "    fill: var(--disabled-fill-color);\n",
              "    box-shadow: none;\n",
              "  }\n",
              "\n",
              "  .colab-df-spinner {\n",
              "    border: 2px solid var(--fill-color);\n",
              "    border-color: transparent;\n",
              "    border-bottom-color: var(--fill-color);\n",
              "    animation:\n",
              "      spin 1s steps(1) infinite;\n",
              "  }\n",
              "\n",
              "  @keyframes spin {\n",
              "    0% {\n",
              "      border-color: transparent;\n",
              "      border-bottom-color: var(--fill-color);\n",
              "      border-left-color: var(--fill-color);\n",
              "    }\n",
              "    20% {\n",
              "      border-color: transparent;\n",
              "      border-left-color: var(--fill-color);\n",
              "      border-top-color: var(--fill-color);\n",
              "    }\n",
              "    30% {\n",
              "      border-color: transparent;\n",
              "      border-left-color: var(--fill-color);\n",
              "      border-top-color: var(--fill-color);\n",
              "      border-right-color: var(--fill-color);\n",
              "    }\n",
              "    40% {\n",
              "      border-color: transparent;\n",
              "      border-right-color: var(--fill-color);\n",
              "      border-top-color: var(--fill-color);\n",
              "    }\n",
              "    60% {\n",
              "      border-color: transparent;\n",
              "      border-right-color: var(--fill-color);\n",
              "    }\n",
              "    80% {\n",
              "      border-color: transparent;\n",
              "      border-right-color: var(--fill-color);\n",
              "      border-bottom-color: var(--fill-color);\n",
              "    }\n",
              "    90% {\n",
              "      border-color: transparent;\n",
              "      border-bottom-color: var(--fill-color);\n",
              "    }\n",
              "  }\n",
              "</style>\n",
              "\n",
              "  <script>\n",
              "    async function quickchart(key) {\n",
              "      const quickchartButtonEl =\n",
              "        document.querySelector('#' + key + ' button');\n",
              "      quickchartButtonEl.disabled = true;  // To prevent multiple clicks.\n",
              "      quickchartButtonEl.classList.add('colab-df-spinner');\n",
              "      try {\n",
              "        const charts = await google.colab.kernel.invokeFunction(\n",
              "            'suggestCharts', [key], {});\n",
              "      } catch (error) {\n",
              "        console.error('Error during call to suggestCharts:', error);\n",
              "      }\n",
              "      quickchartButtonEl.classList.remove('colab-df-spinner');\n",
              "      quickchartButtonEl.classList.add('colab-df-quickchart-complete');\n",
              "    }\n",
              "    (() => {\n",
              "      let quickchartButtonEl =\n",
              "        document.querySelector('#df-4f5d0b63-ad77-46c0-ade4-ac0e34dd73e4 button');\n",
              "      quickchartButtonEl.style.display =\n",
              "        google.colab.kernel.accessAllowed ? 'block' : 'none';\n",
              "    })();\n",
              "  </script>\n",
              "</div>\n",
              "    </div>\n",
              "  </div>\n"
            ],
            "application/vnd.google.colaboratory.intrinsic+json": {
              "type": "dataframe"
            }
          },
          "metadata": {},
          "execution_count": 6
        }
      ]
    },
    {
      "cell_type": "markdown",
      "source": [
        "Terceira função: filtro por fundo e por data"
      ],
      "metadata": {
        "id": "PhsQYEMpOq_3"
      }
    },
    {
      "cell_type": "code",
      "source": [
        "def get_fund_data(start, end, cnpj:object = None):\n",
        "\n",
        "  interval = create_interval(start, end)\n",
        "\n",
        "  data_fund = extract_fund_data(interval)\n",
        "\n",
        "  data_fund['DT_COMPTC'] = pd.to_datetime(data_fund['DT_COMPTC'])\n",
        "\n",
        "  mask = (data_fund['DT_COMPTC'] >= start) & (data_fund['DT_COMPTC'] <= end)\n",
        "\n",
        "  data_fund = data_fund.loc[mask]\n",
        "\n",
        "  if cnpj != None:\n",
        "\n",
        "    data_fund = data_fund[data_fund['CNPJ_FUNDO'] == cnpj]\n",
        "\n",
        "  else:\n",
        "\n",
        "    data_fund = data_fund\n",
        "\n",
        "  return data_fund"
      ],
      "metadata": {
        "id": "LRm7iRoRSnHg"
      },
      "execution_count": 60,
      "outputs": []
    },
    {
      "cell_type": "code",
      "source": [
        "end_date"
      ],
      "metadata": {
        "colab": {
          "base_uri": "https://localhost:8080/",
          "height": 36
        },
        "id": "1515rI8yUHVR",
        "outputId": "216d3aa7-0eb4-4741-f722-5c223b57ad42"
      },
      "execution_count": 63,
      "outputs": [
        {
          "output_type": "execute_result",
          "data": {
            "text/plain": [
              "'2022-02-14'"
            ],
            "application/vnd.google.colaboratory.intrinsic+json": {
              "type": "string"
            }
          },
          "metadata": {},
          "execution_count": 63
        }
      ]
    },
    {
      "cell_type": "code",
      "source": [
        "fundo_especifico = get_fund_data(start_date, end_date, cnpj = '97.929.213/0001-34')"
      ],
      "metadata": {
        "colab": {
          "base_uri": "https://localhost:8080/"
        },
        "id": "f0GgsUKgOuH0",
        "outputId": "b0a9a9aa-ab00-4223-baba-db592bc3f89c"
      },
      "execution_count": 66,
      "outputs": [
        {
          "output_type": "stream",
          "name": "stdout",
          "text": [
            "Extraction of month January 2022 finished\n",
            "Extraction of month February 2022 finished\n",
            "Process took 7.025640249252319 seconds\n"
          ]
        }
      ]
    },
    {
      "cell_type": "code",
      "source": [
        "fundo_especifico.index = pd.to_datetime(fundo_especifico['DT_COMPTC'])"
      ],
      "metadata": {
        "id": "OMeeVU4gUYD9"
      },
      "execution_count": 67,
      "outputs": []
    },
    {
      "cell_type": "code",
      "source": [
        "fundo_especifico.VL_QUOTA.plot();"
      ],
      "metadata": {
        "colab": {
          "base_uri": "https://localhost:8080/",
          "height": 486
        },
        "id": "5_rR4HAsUelb",
        "outputId": "a303fdde-6e48-42a8-f765-48b65313c8f3"
      },
      "execution_count": 69,
      "outputs": [
        {
          "output_type": "display_data",
          "data": {
            "text/plain": [
              "<Figure size 640x480 with 1 Axes>"
            ],
            "image/png": "[encoded data removed]"
          },
          "metadata": {}
        }
      ]
    },
    {
      "cell_type": "code",
      "source": [
        "data_fund.shape"
      ],
      "metadata": {
        "colab": {
          "base_uri": "https://localhost:8080/"
        },
        "id": "1ak5I110O0Me",
        "outputId": "8b0ae4d0-1087-47ca-9dec-1f138c747cd6"
      },
      "execution_count": 9,
      "outputs": [
        {
          "output_type": "execute_result",
          "data": {
            "text/plain": [
              "(918297, 9)"
            ]
          },
          "metadata": {},
          "execution_count": 9
        }
      ]
    },
    {
      "cell_type": "code",
      "source": [],
      "metadata": {
        "id": "pN0wWflYO21s"
      },
      "execution_count": 10,
      "outputs": []
    },
    {
      "cell_type": "code",
      "source": [],
      "metadata": {
        "id": "YbdxaGcOPD9Z"
      },
      "execution_count": 15,
      "outputs": []
    },
    {
      "cell_type": "code",
      "source": [],
      "metadata": {
        "colab": {
          "base_uri": "https://localhost:8080/",
          "height": 423
        },
        "id": "5L1HedAaPXno",
        "outputId": "d2dddbf6-2708-4618-bd44-9589d79badcd"
      },
      "execution_count": 16,
      "outputs": [
        {
          "output_type": "execute_result",
          "data": {
            "text/plain": [
              "       TP_FUNDO          CNPJ_FUNDO  DT_COMPTC     VL_TOTAL   VL_QUOTA  \\\n",
              "15           FI  00.017.024/0001-53 2022-01-24   1077456.56  28.246141   \n",
              "16           FI  00.017.024/0001-53 2022-01-25   1077811.08  28.255126   \n",
              "17           FI  00.017.024/0001-53 2022-01-26   1078200.77  28.263627   \n",
              "18           FI  00.017.024/0001-53 2022-01-27   1078588.10  28.271853   \n",
              "19           FI  00.017.024/0001-53 2022-01-28   1078955.27  28.280033   \n",
              "...         ...                 ...        ...          ...        ...   \n",
              "918283       FI  97.929.213/0001-34 2022-02-08  68881368.20   9.343917   \n",
              "918284       FI  97.929.213/0001-34 2022-02-09  71055450.27   9.349451   \n",
              "918285       FI  97.929.213/0001-34 2022-02-10  71175251.10   9.365165   \n",
              "918286       FI  97.929.213/0001-34 2022-02-11  71119813.47   9.357819   \n",
              "918287       FI  97.929.213/0001-34 2022-02-14  71233959.43   9.372789   \n",
              "\n",
              "        VL_PATRIM_LIQ  CAPTC_DIA  RESG_DIA  NR_COTST  \n",
              "15         1080541.36        0.0       0.0         1  \n",
              "16         1080885.09        0.0       0.0         1  \n",
              "17         1081210.26        0.0       0.0         1  \n",
              "18         1081524.95        0.0       0.0         1  \n",
              "19         1081837.86        0.0       0.0         1  \n",
              "...               ...        ...       ...       ...  \n",
              "918283    71007425.25        0.0       0.0         2  \n",
              "918284    71049481.29        0.0       0.0         2  \n",
              "918285    71168894.62        0.0       0.0         2  \n",
              "918286    71113070.15        0.0       0.0         2  \n",
              "918287    71226831.57        0.0       0.0         2  \n",
              "\n",
              "[367410 rows x 9 columns]"
            ],
            "text/html": [
              "\n",
              "  <div id=\"df-abefe672-0ec2-42b9-b793-01b6eaf6ad0b\" class=\"colab-df-container\">\n",
              "    <div>\n",
              "<style scoped>\n",
              "    .dataframe tbody tr th:only-of-type {\n",
              "        vertical-align: middle;\n",
              "    }\n",
              "\n",
              "    .dataframe tbody tr th {\n",
              "        vertical-align: top;\n",
              "    }\n",
              "\n",
              "    .dataframe thead th {\n",
              "        text-align: right;\n",
              "    }\n",
              "</style>\n",
              "<table border=\"1\" class=\"dataframe\">\n",
              "  <thead>\n",
              "    <tr style=\"text-align: right;\">\n",
              "      <th></th>\n",
              "      <th>TP_FUNDO</th>\n",
              "      <th>CNPJ_FUNDO</th>\n",
              "      <th>DT_COMPTC</th>\n",
              "      <th>VL_TOTAL</th>\n",
              "      <th>VL_QUOTA</th>\n",
              "      <th>VL_PATRIM_LIQ</th>\n",
              "      <th>CAPTC_DIA</th>\n",
              "      <th>RESG_DIA</th>\n",
              "      <th>NR_COTST</th>\n",
              "    </tr>\n",
              "  </thead>\n",
              "  <tbody>\n",
              "    <tr>\n",
              "      <th>15</th>\n",
              "      <td>FI</td>\n",
              "      <td>00.017.024/0001-53</td>\n",
              "      <td>2022-01-24</td>\n",
              "      <td>1077456.56</td>\n",
              "      <td>28.246141</td>\n",
              "      <td>1080541.36</td>\n",
              "      <td>0.0</td>\n",
              "      <td>0.0</td>\n",
              "      <td>1</td>\n",
              "    </tr>\n",
              "    <tr>\n",
              "      <th>16</th>\n",
              "      <td>FI</td>\n",
              "      <td>00.017.024/0001-53</td>\n",
              "      <td>2022-01-25</td>\n",
              "      <td>1077811.08</td>\n",
              "      <td>28.255126</td>\n",
              "      <td>1080885.09</td>\n",
              "      <td>0.0</td>\n",
              "      <td>0.0</td>\n",
              "      <td>1</td>\n",
              "    </tr>\n",
              "    <tr>\n",
              "      <th>17</th>\n",
              "      <td>FI</td>\n",
              "      <td>00.017.024/0001-53</td>\n",
              "      <td>2022-01-26</td>\n",
              "      <td>1078200.77</td>\n",
              "      <td>28.263627</td>\n",
              "      <td>1081210.26</td>\n",
              "      <td>0.0</td>\n",
              "      <td>0.0</td>\n",
              "      <td>1</td>\n",
              "    </tr>\n",
              "    <tr>\n",
              "      <th>18</th>\n",
              "      <td>FI</td>\n",
              "      <td>00.017.024/0001-53</td>\n",
              "      <td>2022-01-27</td>\n",
              "      <td>1078588.10</td>\n",
              "      <td>28.271853</td>\n",
              "      <td>1081524.95</td>\n",
              "      <td>0.0</td>\n",
              "      <td>0.0</td>\n",
              "      <td>1</td>\n",
              "    </tr>\n",
              "    <tr>\n",
              "      <th>19</th>\n",
              "      <td>FI</td>\n",
              "      <td>00.017.024/0001-53</td>\n",
              "      <td>2022-01-28</td>\n",
              "      <td>1078955.27</td>\n",
              "      <td>28.280033</td>\n",
              "      <td>1081837.86</td>\n",
              "      <td>0.0</td>\n",
              "      <td>0.0</td>\n",
              "      <td>1</td>\n",
              "    </tr>\n",
              "    <tr>\n",
              "      <th>...</th>\n",
              "      <td>...</td>\n",
              "      <td>...</td>\n",
              "      <td>...</td>\n",
              "      <td>...</td>\n",
              "      <td>...</td>\n",
              "      <td>...</td>\n",
              "      <td>...</td>\n",
              "      <td>...</td>\n",
              "      <td>...</td>\n",
              "    </tr>\n",
              "    <tr>\n",
              "      <th>918283</th>\n",
              "      <td>FI</td>\n",
              "      <td>97.929.213/0001-34</td>\n",
              "      <td>2022-02-08</td>\n",
              "      <td>68881368.20</td>\n",
              "      <td>9.343917</td>\n",
              "      <td>71007425.25</td>\n",
              "      <td>0.0</td>\n",
              "      <td>0.0</td>\n",
              "      <td>2</td>\n",
              "    </tr>\n",
              "    <tr>\n",
              "      <th>918284</th>\n",
              "      <td>FI</td>\n",
              "      <td>97.929.213/0001-34</td>\n",
              "      <td>2022-02-09</td>\n",
              "      <td>71055450.27</td>\n",
              "      <td>9.349451</td>\n",
              "      <td>71049481.29</td>\n",
              "      <td>0.0</td>\n",
              "      <td>0.0</td>\n",
              "      <td>2</td>\n",
              "    </tr>\n",
              "    <tr>\n",
              "      <th>918285</th>\n",
              "      <td>FI</td>\n",
              "      <td>97.929.213/0001-34</td>\n",
              "      <td>2022-02-10</td>\n",
              "      <td>71175251.10</td>\n",
              "      <td>9.365165</td>\n",
              "      <td>71168894.62</td>\n",
              "      <td>0.0</td>\n",
              "      <td>0.0</td>\n",
              "      <td>2</td>\n",
              "    </tr>\n",
              "    <tr>\n",
              "      <th>918286</th>\n",
              "      <td>FI</td>\n",
              "      <td>97.929.213/0001-34</td>\n",
              "      <td>2022-02-11</td>\n",
              "      <td>71119813.47</td>\n",
              "      <td>9.357819</td>\n",
              "      <td>71113070.15</td>\n",
              "      <td>0.0</td>\n",
              "      <td>0.0</td>\n",
              "      <td>2</td>\n",
              "    </tr>\n",
              "    <tr>\n",
              "      <th>918287</th>\n",
              "      <td>FI</td>\n",
              "      <td>97.929.213/0001-34</td>\n",
              "      <td>2022-02-14</td>\n",
              "      <td>71233959.43</td>\n",
              "      <td>9.372789</td>\n",
              "      <td>71226831.57</td>\n",
              "      <td>0.0</td>\n",
              "      <td>0.0</td>\n",
              "      <td>2</td>\n",
              "    </tr>\n",
              "  </tbody>\n",
              "</table>\n",
              "<p>367410 rows × 9 columns</p>\n",
              "</div>\n",
              "    <div class=\"colab-df-buttons\">\n",
              "\n",
              "  <div class=\"colab-df-container\">\n",
              "    <button class=\"colab-df-convert\" onclick=\"convertToInteractive('df-abefe672-0ec2-42b9-b793-01b6eaf6ad0b')\"\n",
              "            title=\"Convert this dataframe to an interactive table.\"\n",
              "            style=\"display:none;\">\n",
              "\n",
              "  <svg xmlns=\"http://www.w3.org/2000/svg\" height=\"24px\" viewBox=\"0 -960 960 960\">\n",
              "    <path d=\"M120-120v-720h720v720H120Zm60-500h600v-160H180v160Zm220 220h160v-160H400v160Zm0 220h160v-160H400v160ZM180-400h160v-160H180v160Zm440 0h160v-160H620v160ZM180-180h160v-160H180v160Zm440 0h160v-160H620v160Z\"/>\n",
              "  </svg>\n",
              "    </button>\n",
              "\n",
              "  <style>\n",
              "    .colab-df-container {\n",
              "      display:flex;\n",
              "      gap: 12px;\n",
              "    }\n",
              "\n",
              "    .colab-df-convert {\n",
              "      background-color: #E8F0FE;\n",
              "      border: none;\n",
              "      border-radius: 50%;\n",
              "      cursor: pointer;\n",
              "      display: none;\n",
              "      fill: #1967D2;\n",
              "      height: 32px;\n",
              "      padding: 0 0 0 0;\n",
              "      width: 32px;\n",
              "    }\n",
              "\n",
              "    .colab-df-convert:hover {\n",
              "      background-color: #E2EBFA;\n",
              "      box-shadow: 0px 1px 2px rgba(60, 64, 67, 0.3), 0px 1px 3px 1px rgba(60, 64, 67, 0.15);\n",
              "      fill: #174EA6;\n",
              "    }\n",
              "\n",
              "    .colab-df-buttons div {\n",
              "      margin-bottom: 4px;\n",
              "    }\n",
              "\n",
              "    [theme=dark] .colab-df-convert {\n",
              "      background-color: #3B4455;\n",
              "      fill: #D2E3FC;\n",
              "    }\n",
              "\n",
              "    [theme=dark] .colab-df-convert:hover {\n",
              "      background-color: #434B5C;\n",
              "      box-shadow: 0px 1px 3px 1px rgba(0, 0, 0, 0.15);\n",
              "      filter: drop-shadow(0px 1px 2px rgba(0, 0, 0, 0.3));\n",
              "      fill: #FFFFFF;\n",
              "    }\n",
              "  </style>\n",
              "\n",
              "    <script>\n",
              "      const buttonEl =\n",
              "        document.querySelector('#df-abefe672-0ec2-42b9-b793-01b6eaf6ad0b button.colab-df-convert');\n",
              "      buttonEl.style.display =\n",
              "        google.colab.kernel.accessAllowed ? 'block' : 'none';\n",
              "\n",
              "      async function convertToInteractive(key) {\n",
              "        const element = document.querySelector('#df-abefe672-0ec2-42b9-b793-01b6eaf6ad0b');\n",
              "        const dataTable =\n",
              "          await google.colab.kernel.invokeFunction('convertToInteractive',\n",
              "                                                    [key], {});\n",
              "        if (!dataTable) return;\n",
              "\n",
              "        const docLinkHtml = 'Like what you see? Visit the ' +\n",
              "          '<a target=\"_blank\" href=https://colab.research.google.com/notebooks/data_table.ipynb>data table notebook</a>'\n",
              "          + ' to learn more about interactive tables.';\n",
              "        element.innerHTML = '';\n",
              "        dataTable['output_type'] = 'display_data';\n",
              "        await google.colab.output.renderOutput(dataTable, element);\n",
              "        const docLink = document.createElement('div');\n",
              "        docLink.innerHTML = docLinkHtml;\n",
              "        element.appendChild(docLink);\n",
              "      }\n",
              "    </script>\n",
              "  </div>\n",
              "\n",
              "\n",
              "<div id=\"df-67325c63-2843-40c8-835d-bc2e47a5b123\">\n",
              "  <button class=\"colab-df-quickchart\" onclick=\"quickchart('df-67325c63-2843-40c8-835d-bc2e47a5b123')\"\n",
              "            title=\"Suggest charts\"\n",
              "            style=\"display:none;\">\n",
              "\n",
              "<svg xmlns=\"http://www.w3.org/2000/svg\" height=\"24px\"viewBox=\"0 0 24 24\"\n",
              "     width=\"24px\">\n",
              "    <g>\n",
              "        <path d=\"M19 3H5c-1.1 0-2 .9-2 2v14c0 1.1.9 2 2 2h14c1.1 0 2-.9 2-2V5c0-1.1-.9-2-2-2zM9 17H7v-7h2v7zm4 0h-2V7h2v10zm4 0h-2v-4h2v4z\"/>\n",
              "    </g>\n",
              "</svg>\n",
              "  </button>\n",
              "\n",
              "<style>\n",
              "  .colab-df-quickchart {\n",
              "      --bg-color: #E8F0FE;\n",
              "      --fill-color: #1967D2;\n",
              "      --hover-bg-color: #E2EBFA;\n",
              "      --hover-fill-color: #174EA6;\n",
              "      --disabled-fill-color: #AAA;\n",
              "      --disabled-bg-color: #DDD;\n",
              "  }\n",
              "\n",
              "  [theme=dark] .colab-df-quickchart {\n",
              "      --bg-color: #3B4455;\n",
              "      --fill-color: #D2E3FC;\n",
              "      --hover-bg-color: #434B5C;\n",
              "      --hover-fill-color: #FFFFFF;\n",
              "      --disabled-bg-color: #3B4455;\n",
              "      --disabled-fill-color: #666;\n",
              "  }\n",
              "\n",
              "  .colab-df-quickchart {\n",
              "    background-color: var(--bg-color);\n",
              "    border: none;\n",
              "    border-radius: 50%;\n",
              "    cursor: pointer;\n",
              "    display: none;\n",
              "    fill: var(--fill-color);\n",
              "    height: 32px;\n",
              "    padding: 0;\n",
              "    width: 32px;\n",
              "  }\n",
              "\n",
              "  .colab-df-quickchart:hover {\n",
              "    background-color: var(--hover-bg-color);\n",
              "    box-shadow: 0 1px 2px rgba(60, 64, 67, 0.3), 0 1px 3px 1px rgba(60, 64, 67, 0.15);\n",
              "    fill: var(--button-hover-fill-color);\n",
              "  }\n",
              "\n",
              "  .colab-df-quickchart-complete:disabled,\n",
              "  .colab-df-quickchart-complete:disabled:hover {\n",
              "    background-color: var(--disabled-bg-color);\n",
              "    fill: var(--disabled-fill-color);\n",
              "    box-shadow: none;\n",
              "  }\n",
              "\n",
              "  .colab-df-spinner {\n",
              "    border: 2px solid var(--fill-color);\n",
              "    border-color: transparent;\n",
              "    border-bottom-color: var(--fill-color);\n",
              "    animation:\n",
              "      spin 1s steps(1) infinite;\n",
              "  }\n",
              "\n",
              "  @keyframes spin {\n",
              "    0% {\n",
              "      border-color: transparent;\n",
              "      border-bottom-color: var(--fill-color);\n",
              "      border-left-color: var(--fill-color);\n",
              "    }\n",
              "    20% {\n",
              "      border-color: transparent;\n",
              "      border-left-color: var(--fill-color);\n",
              "      border-top-color: var(--fill-color);\n",
              "    }\n",
              "    30% {\n",
              "      border-color: transparent;\n",
              "      border-left-color: var(--fill-color);\n",
              "      border-top-color: var(--fill-color);\n",
              "      border-right-color: var(--fill-color);\n",
              "    }\n",
              "    40% {\n",
              "      border-color: transparent;\n",
              "      border-right-color: var(--fill-color);\n",
              "      border-top-color: var(--fill-color);\n",
              "    }\n",
              "    60% {\n",
              "      border-color: transparent;\n",
              "      border-right-color: var(--fill-color);\n",
              "    }\n",
              "    80% {\n",
              "      border-color: transparent;\n",
              "      border-right-color: var(--fill-color);\n",
              "      border-bottom-color: var(--fill-color);\n",
              "    }\n",
              "    90% {\n",
              "      border-color: transparent;\n",
              "      border-bottom-color: var(--fill-color);\n",
              "    }\n",
              "  }\n",
              "</style>\n",
              "\n",
              "  <script>\n",
              "    async function quickchart(key) {\n",
              "      const quickchartButtonEl =\n",
              "        document.querySelector('#' + key + ' button');\n",
              "      quickchartButtonEl.disabled = true;  // To prevent multiple clicks.\n",
              "      quickchartButtonEl.classList.add('colab-df-spinner');\n",
              "      try {\n",
              "        const charts = await google.colab.kernel.invokeFunction(\n",
              "            'suggestCharts', [key], {});\n",
              "      } catch (error) {\n",
              "        console.error('Error during call to suggestCharts:', error);\n",
              "      }\n",
              "      quickchartButtonEl.classList.remove('colab-df-spinner');\n",
              "      quickchartButtonEl.classList.add('colab-df-quickchart-complete');\n",
              "    }\n",
              "    (() => {\n",
              "      let quickchartButtonEl =\n",
              "        document.querySelector('#df-67325c63-2843-40c8-835d-bc2e47a5b123 button');\n",
              "      quickchartButtonEl.style.display =\n",
              "        google.colab.kernel.accessAllowed ? 'block' : 'none';\n",
              "    })();\n",
              "  </script>\n",
              "</div>\n",
              "    </div>\n",
              "  </div>\n"
            ],
            "application/vnd.google.colaboratory.intrinsic+json": {
              "type": "dataframe"
            }
          },
          "metadata": {},
          "execution_count": 16
        }
      ]
    },
    {
      "cell_type": "markdown",
      "source": [
        "## Filtrando um fundo específico"
      ],
      "metadata": {
        "id": "bd0r6rs5F3O6"
      }
    },
    {
      "cell_type": "code",
      "source": [
        "fundo = combined_df[combined_df['CNPJ_FUNDO']=='42.592.302/0001-46']"
      ],
      "metadata": {
        "id": "37L9shg-F5kV"
      },
      "execution_count": 57,
      "outputs": []
    },
    {
      "cell_type": "code",
      "source": [
        "fundo.shape"
      ],
      "metadata": {
        "colab": {
          "base_uri": "https://localhost:8080/"
        },
        "id": "gekWYEEEIK9b",
        "outputId": "ce48028e-ddfa-46e9-c964-01f0b09cd3c2"
      },
      "execution_count": 58,
      "outputs": [
        {
          "output_type": "execute_result",
          "data": {
            "text/plain": [
              "(111, 9)"
            ]
          },
          "metadata": {},
          "execution_count": 58
        }
      ]
    },
    {
      "cell_type": "code",
      "source": [
        "fundo.index = fundo.DT_COMPTC"
      ],
      "metadata": {
        "id": "e7cnvp2CGGw9"
      },
      "execution_count": 59,
      "outputs": []
    },
    {
      "cell_type": "code",
      "source": [
        "fundo.index = pd.to_datetime(fundo.index)"
      ],
      "metadata": {
        "id": "tdAqFDuTGR0Z"
      },
      "execution_count": 60,
      "outputs": []
    },
    {
      "cell_type": "code",
      "source": [
        "fundo.VL_QUOTA.plot();"
      ],
      "metadata": {
        "colab": {
          "base_uri": "https://localhost:8080/",
          "height": 433
        },
        "id": "OncUNqJrGVWK",
        "outputId": "95f2e8fb-8280-47c1-8eaa-04dfda86678b"
      },
      "execution_count": 61,
      "outputs": [
        {
          "output_type": "display_data",
          "data": {
            "text/plain": [
              "<Figure size 640x480 with 1 Axes>"
            ],
            "image/png": "[encoded data removed]"
          },
          "metadata": {}
        }
      ]
    },
    {
      "cell_type": "markdown",
      "source": [
        "## Calculando a média das variáveis para os fundos"
      ],
      "metadata": {
        "id": "iVnIR6XW_1x9"
      }
    },
    {
      "cell_type": "code",
      "source": [
        "medias_fundos = combined_df.groupby(by='CNPJ_FUNDO', axis = 0).mean()"
      ],
      "metadata": {
        "colab": {
          "base_uri": "https://localhost:8080/"
        },
        "id": "NGX1rzrXI1Xk",
        "outputId": "88e0df7f-b0e4-451a-b287-7cdebb0bb4ae"
      },
      "execution_count": 47,
      "outputs": [
        {
          "output_type": "stream",
          "name": "stderr",
          "text": [
            "<ipython-input-47-a4e4ae70c6c0>:1: FutureWarning: The default value of numeric_only in DataFrameGroupBy.mean is deprecated. In a future version, numeric_only will default to False. Either specify numeric_only or select only columns which should be valid for the function.\n",
            "  medias_fundos = combined_df.groupby(by='CNPJ_FUNDO', axis = 0).mean()\n"
          ]
        }
      ]
    },
    {
      "cell_type": "markdown",
      "source": [
        "Ordendando por patrimônio líquido para encontrar os 10 maiores"
      ],
      "metadata": {
        "id": "x_fQmRX1z3Ua"
      }
    },
    {
      "cell_type": "code",
      "source": [
        "medias_fundos.sort_values('VL_PATRIM_LIQ', ascending = False).head(10)"
      ],
      "metadata": {
        "colab": {
          "base_uri": "https://localhost:8080/",
          "height": 394
        },
        "id": "4tPVz1GczpG8",
        "outputId": "b2e18b0c-1ec7-484a-f67f-0213b08e2d2a"
      },
      "execution_count": 51,
      "outputs": [
        {
          "output_type": "execute_result",
          "data": {
            "text/plain": [
              "                        VL_TOTAL    VL_QUOTA  VL_PATRIM_LIQ     CAPTC_DIA  \\\n",
              "CNPJ_FUNDO                                                                  \n",
              "07.593.972/0001-86  1.415207e+11    5.409349   1.415205e+11  5.019939e+08   \n",
              "46.133.770/0001-03  1.261913e+11  110.339495   1.261905e+11  2.830644e+09   \n",
              "42.592.315/0001-15  1.146619e+11    1.122379   1.146604e+11  2.688451e+09   \n",
              "00.822.055/0001-87  1.027470e+11   48.897018   1.027460e+11  5.600910e+07   \n",
              "27.146.328/0001-77  9.968775e+10    1.453948   9.968703e+10  2.671138e+09   \n",
              "01.597.187/0001-15  9.768394e+10  298.636041   9.769317e+10  8.216319e+08   \n",
              "01.608.573/0001-65  9.615857e+10   17.818203   9.615206e+10  2.155706e+09   \n",
              "42.592.302/0001-46  6.604199e+10    1.039479   6.604217e+10  2.058049e+09   \n",
              "10.583.909/0001-73  5.860690e+10    3.463509   5.861018e+10  7.932518e+07   \n",
              "03.737.219/0001-66  5.743780e+10    5.580568   5.745368e+10  9.242646e+06   \n",
              "\n",
              "                        RESG_DIA      NR_COTST  \n",
              "CNPJ_FUNDO                                      \n",
              "07.593.972/0001-86  4.720940e+08    290.847985  \n",
              "46.133.770/0001-03  2.543103e+09      1.000000  \n",
              "42.592.315/0001-15  2.288651e+09  29714.637363  \n",
              "00.822.055/0001-87  5.981409e+07      1.001832  \n",
              "27.146.328/0001-77  2.775336e+09     10.554945  \n",
              "01.597.187/0001-15  8.621388e+08     47.543956  \n",
              "01.608.573/0001-65  2.415963e+09     36.990842  \n",
              "42.592.302/0001-46  2.240862e+09      1.009009  \n",
              "10.583.909/0001-73  2.215670e+07     72.823853  \n",
              "03.737.219/0001-66  2.725618e+07      9.291209  "
            ],
            "text/html": [
              "\n",
              "  <div id=\"df-d29a514f-f48e-41a6-9669-a2ea5ae73efc\" class=\"colab-df-container\">\n",
              "    <div>\n",
              "<style scoped>\n",
              "    .dataframe tbody tr th:only-of-type {\n",
              "        vertical-align: middle;\n",
              "    }\n",
              "\n",
              "    .dataframe tbody tr th {\n",
              "        vertical-align: top;\n",
              "    }\n",
              "\n",
              "    .dataframe thead th {\n",
              "        text-align: right;\n",
              "    }\n",
              "</style>\n",
              "<table border=\"1\" class=\"dataframe\">\n",
              "  <thead>\n",
              "    <tr style=\"text-align: right;\">\n",
              "      <th></th>\n",
              "      <th>VL_TOTAL</th>\n",
              "      <th>VL_QUOTA</th>\n",
              "      <th>VL_PATRIM_LIQ</th>\n",
              "      <th>CAPTC_DIA</th>\n",
              "      <th>RESG_DIA</th>\n",
              "      <th>NR_COTST</th>\n",
              "    </tr>\n",
              "    <tr>\n",
              "      <th>CNPJ_FUNDO</th>\n",
              "      <th></th>\n",
              "      <th></th>\n",
              "      <th></th>\n",
              "      <th></th>\n",
              "      <th></th>\n",
              "      <th></th>\n",
              "    </tr>\n",
              "  </thead>\n",
              "  <tbody>\n",
              "    <tr>\n",
              "      <th>07.593.972/0001-86</th>\n",
              "      <td>1.415207e+11</td>\n",
              "      <td>5.409349</td>\n",
              "      <td>1.415205e+11</td>\n",
              "      <td>5.019939e+08</td>\n",
              "      <td>4.720940e+08</td>\n",
              "      <td>290.847985</td>\n",
              "    </tr>\n",
              "    <tr>\n",
              "      <th>46.133.770/0001-03</th>\n",
              "      <td>1.261913e+11</td>\n",
              "      <td>110.339495</td>\n",
              "      <td>1.261905e+11</td>\n",
              "      <td>2.830644e+09</td>\n",
              "      <td>2.543103e+09</td>\n",
              "      <td>1.000000</td>\n",
              "    </tr>\n",
              "    <tr>\n",
              "      <th>42.592.315/0001-15</th>\n",
              "      <td>1.146619e+11</td>\n",
              "      <td>1.122379</td>\n",
              "      <td>1.146604e+11</td>\n",
              "      <td>2.688451e+09</td>\n",
              "      <td>2.288651e+09</td>\n",
              "      <td>29714.637363</td>\n",
              "    </tr>\n",
              "    <tr>\n",
              "      <th>00.822.055/0001-87</th>\n",
              "      <td>1.027470e+11</td>\n",
              "      <td>48.897018</td>\n",
              "      <td>1.027460e+11</td>\n",
              "      <td>5.600910e+07</td>\n",
              "      <td>5.981409e+07</td>\n",
              "      <td>1.001832</td>\n",
              "    </tr>\n",
              "    <tr>\n",
              "      <th>27.146.328/0001-77</th>\n",
              "      <td>9.968775e+10</td>\n",
              "      <td>1.453948</td>\n",
              "      <td>9.968703e+10</td>\n",
              "      <td>2.671138e+09</td>\n",
              "      <td>2.775336e+09</td>\n",
              "      <td>10.554945</td>\n",
              "    </tr>\n",
              "    <tr>\n",
              "      <th>01.597.187/0001-15</th>\n",
              "      <td>9.768394e+10</td>\n",
              "      <td>298.636041</td>\n",
              "      <td>9.769317e+10</td>\n",
              "      <td>8.216319e+08</td>\n",
              "      <td>8.621388e+08</td>\n",
              "      <td>47.543956</td>\n",
              "    </tr>\n",
              "    <tr>\n",
              "      <th>01.608.573/0001-65</th>\n",
              "      <td>9.615857e+10</td>\n",
              "      <td>17.818203</td>\n",
              "      <td>9.615206e+10</td>\n",
              "      <td>2.155706e+09</td>\n",
              "      <td>2.415963e+09</td>\n",
              "      <td>36.990842</td>\n",
              "    </tr>\n",
              "    <tr>\n",
              "      <th>42.592.302/0001-46</th>\n",
              "      <td>6.604199e+10</td>\n",
              "      <td>1.039479</td>\n",
              "      <td>6.604217e+10</td>\n",
              "      <td>2.058049e+09</td>\n",
              "      <td>2.240862e+09</td>\n",
              "      <td>1.009009</td>\n",
              "    </tr>\n",
              "    <tr>\n",
              "      <th>10.583.909/0001-73</th>\n",
              "      <td>5.860690e+10</td>\n",
              "      <td>3.463509</td>\n",
              "      <td>5.861018e+10</td>\n",
              "      <td>7.932518e+07</td>\n",
              "      <td>2.215670e+07</td>\n",
              "      <td>72.823853</td>\n",
              "    </tr>\n",
              "    <tr>\n",
              "      <th>03.737.219/0001-66</th>\n",
              "      <td>5.743780e+10</td>\n",
              "      <td>5.580568</td>\n",
              "      <td>5.745368e+10</td>\n",
              "      <td>9.242646e+06</td>\n",
              "      <td>2.725618e+07</td>\n",
              "      <td>9.291209</td>\n",
              "    </tr>\n",
              "  </tbody>\n",
              "</table>\n",
              "</div>\n",
              "    <div class=\"colab-df-buttons\">\n",
              "\n",
              "  <div class=\"colab-df-container\">\n",
              "    <button class=\"colab-df-convert\" onclick=\"convertToInteractive('df-d29a514f-f48e-41a6-9669-a2ea5ae73efc')\"\n",
              "            title=\"Convert this dataframe to an interactive table.\"\n",
              "            style=\"display:none;\">\n",
              "\n",
              "  <svg xmlns=\"http://www.w3.org/2000/svg\" height=\"24px\" viewBox=\"0 -960 960 960\">\n",
              "    <path d=\"M120-120v-720h720v720H120Zm60-500h600v-160H180v160Zm220 220h160v-160H400v160Zm0 220h160v-160H400v160ZM180-400h160v-160H180v160Zm440 0h160v-160H620v160ZM180-180h160v-160H180v160Zm440 0h160v-160H620v160Z\"/>\n",
              "  </svg>\n",
              "    </button>\n",
              "\n",
              "  <style>\n",
              "    .colab-df-container {\n",
              "      display:flex;\n",
              "      gap: 12px;\n",
              "    }\n",
              "\n",
              "    .colab-df-convert {\n",
              "      background-color: #E8F0FE;\n",
              "      border: none;\n",
              "      border-radius: 50%;\n",
              "      cursor: pointer;\n",
              "      display: none;\n",
              "      fill: #1967D2;\n",
              "      height: 32px;\n",
              "      padding: 0 0 0 0;\n",
              "      width: 32px;\n",
              "    }\n",
              "\n",
              "    .colab-df-convert:hover {\n",
              "      background-color: #E2EBFA;\n",
              "      box-shadow: 0px 1px 2px rgba(60, 64, 67, 0.3), 0px 1px 3px 1px rgba(60, 64, 67, 0.15);\n",
              "      fill: #174EA6;\n",
              "    }\n",
              "\n",
              "    .colab-df-buttons div {\n",
              "      margin-bottom: 4px;\n",
              "    }\n",
              "\n",
              "    [theme=dark] .colab-df-convert {\n",
              "      background-color: #3B4455;\n",
              "      fill: #D2E3FC;\n",
              "    }\n",
              "\n",
              "    [theme=dark] .colab-df-convert:hover {\n",
              "      background-color: #434B5C;\n",
              "      box-shadow: 0px 1px 3px 1px rgba(0, 0, 0, 0.15);\n",
              "      filter: drop-shadow(0px 1px 2px rgba(0, 0, 0, 0.3));\n",
              "      fill: #FFFFFF;\n",
              "    }\n",
              "  </style>\n",
              "\n",
              "    <script>\n",
              "      const buttonEl =\n",
              "        document.querySelector('#df-d29a514f-f48e-41a6-9669-a2ea5ae73efc button.colab-df-convert');\n",
              "      buttonEl.style.display =\n",
              "        google.colab.kernel.accessAllowed ? 'block' : 'none';\n",
              "\n",
              "      async function convertToInteractive(key) {\n",
              "        const element = document.querySelector('#df-d29a514f-f48e-41a6-9669-a2ea5ae73efc');\n",
              "        const dataTable =\n",
              "          await google.colab.kernel.invokeFunction('convertToInteractive',\n",
              "                                                    [key], {});\n",
              "        if (!dataTable) return;\n",
              "\n",
              "        const docLinkHtml = 'Like what you see? Visit the ' +\n",
              "          '<a target=\"_blank\" href=https://colab.research.google.com/notebooks/data_table.ipynb>data table notebook</a>'\n",
              "          + ' to learn more about interactive tables.';\n",
              "        element.innerHTML = '';\n",
              "        dataTable['output_type'] = 'display_data';\n",
              "        await google.colab.output.renderOutput(dataTable, element);\n",
              "        const docLink = document.createElement('div');\n",
              "        docLink.innerHTML = docLinkHtml;\n",
              "        element.appendChild(docLink);\n",
              "      }\n",
              "    </script>\n",
              "  </div>\n",
              "\n",
              "\n",
              "<div id=\"df-4a38838f-3ddd-4e91-a326-abe181aaf4ae\">\n",
              "  <button class=\"colab-df-quickchart\" onclick=\"quickchart('df-4a38838f-3ddd-4e91-a326-abe181aaf4ae')\"\n",
              "            title=\"Suggest charts\"\n",
              "            style=\"display:none;\">\n",
              "\n",
              "<svg xmlns=\"http://www.w3.org/2000/svg\" height=\"24px\"viewBox=\"0 0 24 24\"\n",
              "     width=\"24px\">\n",
              "    <g>\n",
              "        <path d=\"M19 3H5c-1.1 0-2 .9-2 2v14c0 1.1.9 2 2 2h14c1.1 0 2-.9 2-2V5c0-1.1-.9-2-2-2zM9 17H7v-7h2v7zm4 0h-2V7h2v10zm4 0h-2v-4h2v4z\"/>\n",
              "    </g>\n",
              "</svg>\n",
              "  </button>\n",
              "\n",
              "<style>\n",
              "  .colab-df-quickchart {\n",
              "      --bg-color: #E8F0FE;\n",
              "      --fill-color: #1967D2;\n",
              "      --hover-bg-color: #E2EBFA;\n",
              "      --hover-fill-color: #174EA6;\n",
              "      --disabled-fill-color: #AAA;\n",
              "      --disabled-bg-color: #DDD;\n",
              "  }\n",
              "\n",
              "  [theme=dark] .colab-df-quickchart {\n",
              "      --bg-color: #3B4455;\n",
              "      --fill-color: #D2E3FC;\n",
              "      --hover-bg-color: #434B5C;\n",
              "      --hover-fill-color: #FFFFFF;\n",
              "      --disabled-bg-color: #3B4455;\n",
              "      --disabled-fill-color: #666;\n",
              "  }\n",
              "\n",
              "  .colab-df-quickchart {\n",
              "    background-color: var(--bg-color);\n",
              "    border: none;\n",
              "    border-radius: 50%;\n",
              "    cursor: pointer;\n",
              "    display: none;\n",
              "    fill: var(--fill-color);\n",
              "    height: 32px;\n",
              "    padding: 0;\n",
              "    width: 32px;\n",
              "  }\n",
              "\n",
              "  .colab-df-quickchart:hover {\n",
              "    background-color: var(--hover-bg-color);\n",
              "    box-shadow: 0 1px 2px rgba(60, 64, 67, 0.3), 0 1px 3px 1px rgba(60, 64, 67, 0.15);\n",
              "    fill: var(--button-hover-fill-color);\n",
              "  }\n",
              "\n",
              "  .colab-df-quickchart-complete:disabled,\n",
              "  .colab-df-quickchart-complete:disabled:hover {\n",
              "    background-color: var(--disabled-bg-color);\n",
              "    fill: var(--disabled-fill-color);\n",
              "    box-shadow: none;\n",
              "  }\n",
              "\n",
              "  .colab-df-spinner {\n",
              "    border: 2px solid var(--fill-color);\n",
              "    border-color: transparent;\n",
              "    border-bottom-color: var(--fill-color);\n",
              "    animation:\n",
              "      spin 1s steps(1) infinite;\n",
              "  }\n",
              "\n",
              "  @keyframes spin {\n",
              "    0% {\n",
              "      border-color: transparent;\n",
              "      border-bottom-color: var(--fill-color);\n",
              "      border-left-color: var(--fill-color);\n",
              "    }\n",
              "    20% {\n",
              "      border-color: transparent;\n",
              "      border-left-color: var(--fill-color);\n",
              "      border-top-color: var(--fill-color);\n",
              "    }\n",
              "    30% {\n",
              "      border-color: transparent;\n",
              "      border-left-color: var(--fill-color);\n",
              "      border-top-color: var(--fill-color);\n",
              "      border-right-color: var(--fill-color);\n",
              "    }\n",
              "    40% {\n",
              "      border-color: transparent;\n",
              "      border-right-color: var(--fill-color);\n",
              "      border-top-color: var(--fill-color);\n",
              "    }\n",
              "    60% {\n",
              "      border-color: transparent;\n",
              "      border-right-color: var(--fill-color);\n",
              "    }\n",
              "    80% {\n",
              "      border-color: transparent;\n",
              "      border-right-color: var(--fill-color);\n",
              "      border-bottom-color: var(--fill-color);\n",
              "    }\n",
              "    90% {\n",
              "      border-color: transparent;\n",
              "      border-bottom-color: var(--fill-color);\n",
              "    }\n",
              "  }\n",
              "</style>\n",
              "\n",
              "  <script>\n",
              "    async function quickchart(key) {\n",
              "      const quickchartButtonEl =\n",
              "        document.querySelector('#' + key + ' button');\n",
              "      quickchartButtonEl.disabled = true;  // To prevent multiple clicks.\n",
              "      quickchartButtonEl.classList.add('colab-df-spinner');\n",
              "      try {\n",
              "        const charts = await google.colab.kernel.invokeFunction(\n",
              "            'suggestCharts', [key], {});\n",
              "      } catch (error) {\n",
              "        console.error('Error during call to suggestCharts:', error);\n",
              "      }\n",
              "      quickchartButtonEl.classList.remove('colab-df-spinner');\n",
              "      quickchartButtonEl.classList.add('colab-df-quickchart-complete');\n",
              "    }\n",
              "    (() => {\n",
              "      let quickchartButtonEl =\n",
              "        document.querySelector('#df-4a38838f-3ddd-4e91-a326-abe181aaf4ae button');\n",
              "      quickchartButtonEl.style.display =\n",
              "        google.colab.kernel.accessAllowed ? 'block' : 'none';\n",
              "    })();\n",
              "  </script>\n",
              "</div>\n",
              "    </div>\n",
              "  </div>\n"
            ],
            "application/vnd.google.colaboratory.intrinsic+json": {
              "type": "dataframe",
              "summary": "{\n  \"name\": \"medias_fundos\",\n  \"rows\": 10,\n  \"fields\": [\n    {\n      \"column\": \"CNPJ_FUNDO\",\n      \"properties\": {\n        \"dtype\": \"string\",\n        \"num_unique_values\": 10,\n        \"samples\": [\n          \"10.583.909/0001-73\",\n          \"46.133.770/0001-03\",\n          \"01.597.187/0001-15\"\n        ],\n        \"semantic_type\": \"\",\n        \"description\": \"\"\n      }\n    },\n    {\n      \"column\": \"VL_TOTAL\",\n      \"properties\": {\n        \"dtype\": \"number\",\n        \"std\": 28238310343.100758,\n        \"min\": 57437803281.00002,\n        \"max\": 141520744015.8658,\n        \"num_unique_values\": 10,\n        \"samples\": [\n          58606902172.29191,\n          126191340783.08855,\n          97683940120.87422\n        ],\n        \"semantic_type\": \"\",\n        \"description\": \"\"\n      }\n    },\n    {\n      \"column\": \"VL_QUOTA\",\n      \"properties\": {\n        \"dtype\": \"number\",\n        \"std\": 94.14153485787737,\n        \"min\": 1.0394793621171172,\n        \"max\": 298.63604116087913,\n        \"num_unique_values\": 10,\n        \"samples\": [\n          3.4635085161467893,\n          110.33949479061643,\n          298.63604116087913\n        ],\n        \"semantic_type\": \"\",\n        \"description\": \"\"\n      }\n    },\n    {\n      \"column\": \"VL_PATRIM_LIQ\",\n      \"properties\": {\n        \"dtype\": \"number\",\n        \"std\": 28235166902.72766,\n        \"min\": 57453680244.913826,\n        \"max\": 141520525650.1196,\n        \"num_unique_values\": 10,\n        \"samples\": [\n          58610183378.05714,\n          126190531926.27766,\n          97693174887.49287\n        ],\n        \"semantic_type\": \"\",\n        \"description\": \"\"\n      }\n    },\n    {\n      \"column\": \"CAPTC_DIA\",\n      \"properties\": {\n        \"dtype\": \"number\",\n        \"std\": 1199571807.2250435,\n        \"min\": 9242646.419322344,\n        \"max\": 2830644313.8696804,\n        \"num_unique_values\": 10,\n        \"samples\": [\n          79325183.26075229,\n          2830644313.8696804,\n          821631934.1499817\n        ],\n        \"semantic_type\": \"\",\n        \"description\": \"\"\n      }\n    },\n    {\n      \"column\": \"RESG_DIA\",\n      \"properties\": {\n        \"dtype\": \"number\",\n        \"std\": 1176051806.804091,\n        \"min\": 22156701.881486237,\n        \"max\": 2775335589.582894,\n        \"num_unique_values\": 10,\n        \"samples\": [\n          22156701.881486237,\n          2543102877.671872,\n          862138770.8610989\n        ],\n        \"semantic_type\": \"\",\n        \"description\": \"\"\n      }\n    },\n    {\n      \"column\": \"NR_COTST\",\n      \"properties\": {\n        \"dtype\": \"number\",\n        \"std\": 9380.45097537159,\n        \"min\": 1.0,\n        \"max\": 29714.637362637364,\n        \"num_unique_values\": 10,\n        \"samples\": [\n          72.82385321100918,\n          1.0,\n          47.543956043956044\n        ],\n        \"semantic_type\": \"\",\n        \"description\": \"\"\n      }\n    }\n  ]\n}"
            }
          },
          "metadata": {},
          "execution_count": 51
        }
      ]
    },
    {
      "cell_type": "markdown",
      "source": [
        "Vamos explorar algum outro fundo\n",
        "\n",
        "Exemplo: SICREDI - FUNDO DE INVESTIMENTO EM AÇÕES PETROBRAS\n",
        "\n",
        "CNPJ: 08.336.054/0001-34\n",
        "\n",
        "https://www.sicredi.com.br/site/investimentos/fundos-investimentos/fi-acoes-petrobras/"
      ],
      "metadata": {
        "id": "vqps1IGw1rG5"
      }
    },
    {
      "cell_type": "code",
      "source": [
        "fundo = dados[dados['CNPJ_FUNDO'] == '08.336.054/0001-34']\n",
        "\n",
        "fundo.VL_QUOTA.plot(title = 'SICREDI - FUNDO DE INVESTIMENTO EM AÇÕES PETROBRAS');"
      ],
      "metadata": {
        "id": "fY1kcsS61tgw",
        "colab": {
          "base_uri": "https://localhost:8080/",
          "height": 455
        },
        "outputId": "cad57f7e-e7ab-4c30-cdd5-822b2965c368"
      },
      "execution_count": null,
      "outputs": [
        {
          "output_type": "display_data",
          "data": {
            "text/plain": [
              "<Figure size 640x480 with 1 Axes>"
            ],
            "image/png": "[encoded data removed]"
          },
          "metadata": {}
        }
      ]
    }
  ]
}