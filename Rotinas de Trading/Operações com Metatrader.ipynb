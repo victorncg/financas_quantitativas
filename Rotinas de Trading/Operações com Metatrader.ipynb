{
 "cells": [
  {
   "cell_type": "markdown",
   "metadata": {},
   "source": [
    "## 1. Bibliotecas"
   ]
  },
  {
   "cell_type": "code",
   "execution_count": 1,
   "metadata": {},
   "outputs": [],
   "source": [
    "import numpy as np\n",
    "import pandas as pd\n",
    "from datetime import datetime\n",
    "import pytz\n",
    "import MetaTrader5 as mt5"
   ]
  },
  {
   "cell_type": "markdown",
   "metadata": {},
   "source": [
    "## 2. Abrindo Metatrader"
   ]
  },
  {
   "cell_type": "code",
   "execution_count": 2,
   "metadata": {},
   "outputs": [
    {
     "data": {
      "text/plain": [
       "True"
      ]
     },
     "execution_count": 2,
     "metadata": {},
     "output_type": "execute_result"
    }
   ],
   "source": [
    "mt5.initialize()"
   ]
  },
  {
   "cell_type": "markdown",
   "metadata": {},
   "source": [
    "## 3. Alguns checks antes de mandar a ordem"
   ]
  },
  {
   "cell_type": "code",
   "execution_count": 3,
   "metadata": {},
   "outputs": [
    {
     "data": {
      "text/plain": [
       "0"
      ]
     },
     "execution_count": 3,
     "metadata": {},
     "output_type": "execute_result"
    }
   ],
   "source": [
    "mt5.orders_total()"
   ]
  },
  {
   "cell_type": "code",
   "execution_count": 5,
   "metadata": {},
   "outputs": [],
   "source": [
    "mt5.orders_get('OIBR3')"
   ]
  },
  {
   "cell_type": "code",
   "execution_count": 36,
   "metadata": {},
   "outputs": [],
   "source": [
    "acao = 'OIBR3'"
   ]
  },
  {
   "cell_type": "code",
   "execution_count": 7,
   "metadata": {},
   "outputs": [],
   "source": [
    "action = mt5.ORDER_TYPE_BUY"
   ]
  },
  {
   "cell_type": "code",
   "execution_count": 37,
   "metadata": {},
   "outputs": [],
   "source": [
    "ask = mt5.symbol_info_tick(acao).ask"
   ]
  },
  {
   "cell_type": "code",
   "execution_count": 10,
   "metadata": {},
   "outputs": [
    {
     "data": {
      "text/plain": [
       "1.01"
      ]
     },
     "execution_count": 10,
     "metadata": {},
     "output_type": "execute_result"
    }
   ],
   "source": [
    "ask"
   ]
  },
  {
   "cell_type": "code",
   "execution_count": 11,
   "metadata": {},
   "outputs": [
    {
     "data": {
      "text/plain": [
       "0.0"
      ]
     },
     "execution_count": 11,
     "metadata": {},
     "output_type": "execute_result"
    }
   ],
   "source": [
    "mt5.order_calc_margin(action, acao, 100, ask)"
   ]
  },
  {
   "cell_type": "code",
   "execution_count": 38,
   "metadata": {},
   "outputs": [],
   "source": [
    "point = 0.01"
   ]
  },
  {
   "cell_type": "code",
   "execution_count": 17,
   "metadata": {},
   "outputs": [
    {
     "data": {
      "text/plain": [
       "0.98"
      ]
     },
     "execution_count": 17,
     "metadata": {},
     "output_type": "execute_result"
    }
   ],
   "source": [
    "mt5.symbol_info_tick(acao).ask-3*point"
   ]
  },
  {
   "cell_type": "code",
   "execution_count": 18,
   "metadata": {},
   "outputs": [
    {
     "data": {
      "text/plain": [
       "1.04"
      ]
     },
     "execution_count": 18,
     "metadata": {},
     "output_type": "execute_result"
    }
   ],
   "source": [
    "mt5.symbol_info_tick(acao).ask+3*point"
   ]
  },
  {
   "cell_type": "code",
   "execution_count": 19,
   "metadata": {},
   "outputs": [],
   "source": [
    "ordem =    { \n",
    "    \"action\": mt5.TRADE_ACTION_DEAL,\n",
    "    \"symbol\": acao,\n",
    "    \"volume\": 100.0,\n",
    "    \"type\": mt5.ORDER_TYPE_BUY,\n",
    "    \"price\": mt5.symbol_info_tick(acao).ask,\n",
    "    \"sl\": mt5.symbol_info_tick(acao).ask-3*point,\n",
    "    \"tp\": mt5.symbol_info_tick(acao).ask+3*point,\n",
    "    \"deviation\": 0,\n",
    "    \"magic\": 1,\n",
    "    \"comment\": \"python script\",\n",
    "    \"type_time\": mt5.ORDER_TIME_DAY,\n",
    "    \"type_filling\": mt5.ORDER_FILLING_RETURN }"
   ]
  },
  {
   "cell_type": "code",
   "execution_count": 20,
   "metadata": {},
   "outputs": [
    {
     "data": {
      "text/plain": [
       "OrderCheckResult(retcode=0, balance=0.0, equity=0.0, profit=0.0, margin=0.0, margin_free=0.0, margin_level=0.0, comment='Done', request=TradeRequest(action=1, magic=1, order=0, symbol='OIBR3', volume=100.0, price=1.01, stoplimit=0.0, sl=0.98, tp=1.04, deviation=0, type=0, type_filling=2, type_time=1, expiration=0, comment='python script', position=0, position_by=0))"
      ]
     },
     "execution_count": 20,
     "metadata": {},
     "output_type": "execute_result"
    }
   ],
   "source": [
    "mt5.order_check(ordem)"
   ]
  },
  {
   "cell_type": "markdown",
   "metadata": {},
   "source": [
    "## 4. Enviando ordem de compra"
   ]
  },
  {
   "cell_type": "code",
   "execution_count": 21,
   "metadata": {},
   "outputs": [
    {
     "data": {
      "text/plain": [
       "OrderSendResult(retcode=10009, deal=0, order=2177282777, volume=100.0, price=0.0, bid=0.0, ask=0.0, comment='Request executed', request_id=1, retcode_external=0, request=TradeRequest(action=1, magic=1, order=0, symbol='OIBR3', volume=100.0, price=1.01, stoplimit=0.0, sl=0.98, tp=1.04, deviation=0, type=0, type_filling=2, type_time=1, expiration=0, comment='python script', position=0, position_by=0))"
      ]
     },
     "execution_count": 21,
     "metadata": {},
     "output_type": "execute_result"
    }
   ],
   "source": [
    "mt5.order_send(ordem)"
   ]
  },
  {
   "cell_type": "code",
   "execution_count": 40,
   "metadata": {},
   "outputs": [
    {
     "data": {
      "text/plain": [
       "0"
      ]
     },
     "execution_count": 40,
     "metadata": {},
     "output_type": "execute_result"
    }
   ],
   "source": [
    "mt5.orders_total()"
   ]
  },
  {
   "cell_type": "code",
   "execution_count": 26,
   "metadata": {},
   "outputs": [],
   "source": [
    "inicio = datetime(2021,9,1)\n",
    "hoje = datetime.now()"
   ]
  },
  {
   "cell_type": "code",
   "execution_count": 41,
   "metadata": {},
   "outputs": [
    {
     "data": {
      "text/plain": [
       "8"
      ]
     },
     "execution_count": 41,
     "metadata": {},
     "output_type": "execute_result"
    }
   ],
   "source": [
    "mt5.history_orders_total(inicio, hoje)"
   ]
  },
  {
   "cell_type": "code",
   "execution_count": 42,
   "metadata": {},
   "outputs": [
    {
     "data": {
      "text/plain": [
       "(TradeOrder(ticket=2173572252, time_setup=1631274416, time_setup_msc=1631274416784, time_done=1631274418, time_done_msc=1631274418312, time_expiration=0, type=0, type_time=0, type_filling=2, state=5, magic=0, position_id=0, position_by_id=0, reason=0, volume_initial=100.0, volume_current=100.0, price_open=0.0, sl=1.01, tp=1.01, price_current=1.01, price_stoplimit=0.0, symbol='OIBR3', comment='[MG21] Garantia disponível de R', external_id=''),\n",
       " TradeOrder(ticket=2173572288, time_setup=1631274438, time_setup_msc=1631274438595, time_done=1631274438, time_done_msc=1631274438603, time_expiration=0, type=0, type_time=0, type_filling=2, state=5, magic=0, position_id=0, position_by_id=0, reason=0, volume_initial=100.0, volume_current=100.0, price_open=0.0, sl=0.0, tp=0.0, price_current=1.02, price_stoplimit=0.0, symbol='OIBR3', comment='[MG21] Garantia disponível de R', external_id=''),\n",
       " TradeOrder(ticket=2173572878, time_setup=1631274721, time_setup_msc=1631274721704, time_done=1631274721, time_done_msc=1631274721724, time_expiration=0, type=0, type_time=0, type_filling=2, state=4, magic=0, position_id=2173572878, position_by_id=0, reason=0, volume_initial=100.0, volume_current=0.0, price_open=0.0, sl=0.0, tp=0.0, price_current=1.01, price_stoplimit=0.0, symbol='OIBR3', comment='', external_id='001101242715|3982082'),\n",
       " TradeOrder(ticket=2176590587, time_setup=1632754212, time_setup_msc=1632754212343, time_done=1632754260, time_done_msc=1632754260419, time_expiration=0, type=2, type_time=1, type_filling=2, state=2, magic=0, position_id=0, position_by_id=0, reason=0, volume_initial=100.0, volume_current=100.0, price_open=1.02, sl=1.01, tp=1.05, price_current=1.03, price_stoplimit=0.0, symbol='OIBR3', comment='', external_id='001128854005|5758041'),\n",
       " TradeOrder(ticket=2176602516, time_setup=1632755108, time_setup_msc=1632755108647, time_done=1632755622, time_done_msc=1632755622391, time_expiration=0, type=2, type_time=1, type_filling=2, state=2, magic=0, position_id=0, position_by_id=0, reason=0, volume_initial=100.0, volume_current=100.0, price_open=1.01, sl=1.0, tp=1.04, price_current=1.01, price_stoplimit=0.0, symbol='OIBR3', comment='', external_id='001128981165|5790746'),\n",
       " TradeOrder(ticket=2176609438, time_setup=1632756294, time_setup_msc=1632756294338, time_done=1632756294, time_done_msc=1632756294365, time_expiration=0, type=0, type_time=0, type_filling=2, state=4, magic=1, position_id=2176609438, position_by_id=0, reason=3, volume_initial=100.0, volume_current=0.0, price_open=0.0, sl=0.99, tp=1.02, price_current=1.01, price_stoplimit=0.0, symbol='OIBR3', comment='python script', external_id='001129081285|5836436'),\n",
       " TradeOrder(ticket=2176615691, time_setup=1632760576, time_setup_msc=1632760576614, time_done=1632760577, time_done_msc=1632760577524, time_expiration=0, type=1, type_time=0, type_filling=1, state=4, magic=1, position_id=2176609438, position_by_id=0, reason=5, volume_initial=100.0, volume_current=0.0, price_open=1.02, sl=0.0, tp=0.0, price_current=1.02, price_stoplimit=0.0, symbol='OIBR3', comment='[tp 1.02]', external_id='001129189295|5942331'),\n",
       " TradeOrder(ticket=2177282777, time_setup=1633106794, time_setup_msc=1633106794610, time_done=1633106794, time_done_msc=1633106794633, time_expiration=0, type=0, type_time=1, type_filling=2, state=4, magic=1, position_id=2177282777, position_by_id=0, reason=3, volume_initial=100.0, volume_current=0.0, price_open=0.0, sl=0.98, tp=1.04, price_current=1.01, price_stoplimit=0.0, symbol='OIBR3', comment='python script', external_id='001137099785|5977591'))"
      ]
     },
     "execution_count": 42,
     "metadata": {},
     "output_type": "execute_result"
    }
   ],
   "source": [
    "mt5.history_orders_get(inicio, hoje)"
   ]
  },
  {
   "cell_type": "markdown",
   "metadata": {},
   "source": [
    "## 5. Posições"
   ]
  },
  {
   "cell_type": "code",
   "execution_count": 43,
   "metadata": {},
   "outputs": [
    {
     "data": {
      "text/plain": [
       "0"
      ]
     },
     "execution_count": 43,
     "metadata": {},
     "output_type": "execute_result"
    }
   ],
   "source": [
    "mt5.positions_total()"
   ]
  },
  {
   "cell_type": "code",
   "execution_count": 44,
   "metadata": {},
   "outputs": [
    {
     "data": {
      "text/plain": [
       "()"
      ]
     },
     "execution_count": 44,
     "metadata": {},
     "output_type": "execute_result"
    }
   ],
   "source": [
    "mt5.positions_get()"
   ]
  },
  {
   "cell_type": "markdown",
   "metadata": {},
   "source": [
    "## 6. Fechando posições"
   ]
  },
  {
   "cell_type": "code",
   "execution_count": 34,
   "metadata": {},
   "outputs": [],
   "source": [
    "ordem02 =    { \n",
    "    \"action\": mt5.TRADE_ACTION_DEAL,\n",
    "    \"symbol\": acao,\n",
    "    \"volume\": 100.0,\n",
    "    \"type\": mt5.ORDER_TYPE_SELL,\n",
    "    \"price\": mt5.symbol_info_tick(acao).ask,\n",
    "    \"sl\": mt5.symbol_info_tick(acao).ask-3*point,\n",
    "    \"tp\": mt5.symbol_info_tick(acao).ask+3*point,\n",
    "    \"deviation\": 0,\n",
    "    \"magic\": 2,\n",
    "    \"comment\": \"python script\",\n",
    "    \"type_time\": mt5.ORDER_TIME_DAY,\n",
    "    \"type_filling\": mt5.ORDER_FILLING_RETURN }"
   ]
  },
  {
   "cell_type": "code",
   "execution_count": 39,
   "metadata": {},
   "outputs": [
    {
     "data": {
      "text/plain": [
       "OrderSendResult(retcode=10016, deal=0, order=0, volume=0.0, price=0.0, bid=0.0, ask=0.0, comment='Invalid stops', request_id=0, retcode_external=0, request=TradeRequest(action=1, magic=2, order=0, symbol='OIBR3', volume=100.0, price=1.01, stoplimit=0.0, sl=0.98, tp=1.04, deviation=0, type=1, type_filling=2, type_time=1, expiration=0, comment='python script', position=0, position_by=0))"
      ]
     },
     "execution_count": 39,
     "metadata": {},
     "output_type": "execute_result"
    }
   ],
   "source": [
    "mt5.order_send(ordem02)"
   ]
  },
  {
   "cell_type": "code",
   "execution_count": null,
   "metadata": {},
   "outputs": [],
   "source": []
  }
 ],
 "metadata": {
  "kernelspec": {
   "display_name": "Python 3",
   "language": "python",
   "name": "python3"
  },
  "language_info": {
   "codemirror_mode": {
    "name": "ipython",
    "version": 3
   },
   "file_extension": ".py",
   "mimetype": "text/x-python",
   "name": "python",
   "nbconvert_exporter": "python",
   "pygments_lexer": "ipython3",
   "version": "3.8.5"
  }
 },
 "nbformat": 4,
 "nbformat_minor": 4
}
