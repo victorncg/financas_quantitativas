{
  "nbformat": 4,
  "nbformat_minor": 0,
  "metadata": {
    "colab": {
      "provenance": [],
      "collapsed_sections": [
        "Gz5nPouo4DVe",
        "l0U2Qr0u0ovg",
        "ZRR0uhNg09oT",
        "zC6gXpBt4Mk5",
        "-XvTNTQe3buZ",
        "LUzgcN8k4Rfx",
        "uPKVQnEMyNt0",
        "SfIqx2lyyTXU",
        "NuLXd1Et-4kT",
        "k7wiR29X2BB7"
      ],
      "authorship_tag": "ABX9TyOP50stKAUY+P0/5FksQvNz",
      "include_colab_link": true
    },
    "kernelspec": {
      "name": "python3",
      "display_name": "Python 3"
    },
    "language_info": {
      "name": "python"
    }
  },
  "cells": [
    {
      "cell_type": "markdown",
      "metadata": {
        "id": "view-in-github",
        "colab_type": "text"
      },
      "source": [
        "<a href=\"https://colab.research.google.com/github/victorncg/financas_quantitativas/blob/main/Extra%C3%A7%C3%A3o_de_Dividendos_v_02.ipynb\" target=\"_parent\"><img src=\"https://colab.research.google.com/assets/colab-badge.svg\" alt=\"Open In Colab\"/></a>"
      ]
    },
    {
      "cell_type": "markdown",
      "source": [
        "<center><img src = \"https://github.com/Trading-com-Dados/pmf/blob/main/logotipo-trading-com-dados.svg?raw=true\" width = \"200\">\n",
        "\n",
        "\n",
        "\n",
        "---\n"
      ],
      "metadata": {
        "id": "01UhjCnDy5WF"
      }
    },
    {
      "cell_type": "markdown",
      "source": [
        "Antes de começarmos:\n",
        "\n",
        "* Promoção Super Maio vai até amanhã (24/05) - aproveite para entrar na Comunidade PMF!\n",
        "* Esta live ficará aberta no YouTube por 48h, e depois vai virar conteúdo exclusivo para membros da Comunidade PMF e do canal\n",
        "* Durante a live vou anunciar um presente - continue aqui para saber qual é e como participar!\n"
      ],
      "metadata": {
        "id": "IemwpdVky_lJ"
      }
    },
    {
      "cell_type": "markdown",
      "source": [
        "<center><img src = \"https://github.com/victorncg/financas_quantitativas/blob/main/DIVIDENDOS.png?raw=true\" width = \"500\">"
      ],
      "metadata": {
        "id": "95KjvtW_yrLQ"
      }
    },
    {
      "cell_type": "markdown",
      "source": [
        "# **Tudo o que você precisa saber sobre dividendos (com Python)**"
      ],
      "metadata": {
        "id": "63IYDbz7wkBq"
      }
    },
    {
      "cell_type": "markdown",
      "source": [
        "## Teoria"
      ],
      "metadata": {
        "id": "Gz5nPouo4DVe"
      }
    },
    {
      "cell_type": "markdown",
      "source": [
        "Dividendos e juros sobre capital próprio (JCP) são duas formas de remuneração que as empresas brasileiras utilizam para distribuir parte de seus lucros aos acionistas. Vamos entender cada um deles:\n",
        "\n",
        "### Dividendos\n",
        "\n",
        "Dividendos são a parcela do lucro de uma empresa que é distribuída aos seus acionistas. Eles representam um retorno sobre o capital investido pelos acionistas na empresa. Existem alguns pontos-chave sobre os dividendos:\n",
        "\n",
        "1. **Periodicidade**: Os dividendos podem ser distribuídos periodicamente, como trimestralmente, semestralmente ou anualmente, dependendo da política de dividendos da empresa.\n",
        "2. **Obrigatoriedade**: No Brasil, a Lei das Sociedades por Ações (Lei nº 6.404/76) estabelece que as empresas devem distribuir no mínimo 25% do lucro líquido ajustado aos seus acionistas, salvo decisão em contrário tomada em assembleia.\n",
        "3. **Forma de pagamento**: Os dividendos podem ser pagos em dinheiro, ações adicionais ou outras formas, conforme a decisão da empresa.\n",
        "4. **Imposto de Renda**: No Brasil, os dividendos são isentos de imposto de renda para a pessoa física, pois já são tributados na fonte, ou seja, na empresa que os distribui.\n",
        "\n",
        "### Juros sobre Capital Próprio (JCP)\n",
        "\n",
        "Os juros sobre capital próprio são uma forma alternativa de distribuição de lucros que permite às empresas deduzirem essa despesa como um custo operacional, reduzindo assim a base de cálculo do imposto de renda e da contribuição social sobre o lucro líquido (CSLL). Alguns pontos importantes sobre o JCP são:\n",
        "\n",
        "1. **Base Legal**: O JCP é regido pela Lei nº 9.249/95.\n",
        "2. **Cálculo**: O valor do JCP é limitado a uma taxa de juros definida pela legislação, que é aplicada sobre o patrimônio líquido da empresa. Essa taxa é baseada na Taxa de Juros de Longo Prazo (TJLP).\n",
        "3. **Tributação**: Ao contrário dos dividendos, o JCP está sujeito à retenção de imposto de renda na fonte, com uma alíquota de 15% para pessoa física e jurídica.\n",
        "4. **Dedutibilidade**: Para a empresa, o JCP é uma despesa dedutível, o que significa que ele pode ser abatido do lucro tributável, proporcionando uma economia fiscal.\n",
        "\n",
        "### Comparação entre Dividendos e JCP\n",
        "\n",
        "- **Impacto Fiscal para a Empresa**: Os dividendos não são dedutíveis para a empresa, enquanto o JCP é dedutível, o que pode reduzir o imposto a pagar.\n",
        "- **Tributação para o Acionista**: Os dividendos são isentos de imposto de renda para os acionistas, enquanto o JCP sofre retenção na fonte.\n",
        "- **Flexibilidade de Uso**: As empresas podem optar por distribuir seus lucros através de uma combinação de dividendos e JCP, dependendo de sua estratégia fiscal e financeira.\n",
        "\n",
        "Esses mecanismos permitem às empresas flexibilizar a distribuição de seus lucros de forma eficiente, beneficiando tanto a empresa quanto os acionistas, conforme as condições econômicas e a legislação vigente."
      ],
      "metadata": {
        "id": "vaSeR6jdwhzi"
      }
    },
    {
      "cell_type": "markdown",
      "source": [
        "---"
      ],
      "metadata": {
        "id": "F1KmEVEu0S-S"
      }
    },
    {
      "cell_type": "markdown",
      "source": [
        "### **O que você precisa saber sobre as datas**"
      ],
      "metadata": {
        "id": "NOlVM5Em0TuZ"
      }
    },
    {
      "cell_type": "markdown",
      "source": [
        "A \"Data Com\" (ou \"Data Ex-Dividendo\") é um termo utilizado no mercado financeiro para indicar a data a partir da qual as ações de uma empresa são negociadas sem o direito aos dividendos ou juros sobre capital próprio anunciados. Vamos entender melhor o conceito:\n",
        "\n",
        "### Data Com (ou Data de Corte)\n",
        "\n",
        "A Data Com é a última data na qual um investidor precisa possuir as ações de uma empresa para ter direito a receber os dividendos ou JCP anunciados. Se um investidor comprar as ações na Data Com ou antes, ele terá direito aos proventos. No dia seguinte à Data Com, as ações são negociadas \"ex-dividendo\" (sem direito aos proventos).\n",
        "\n",
        "### Importância da Data Com\n",
        "\n",
        "1. **Determinação dos Beneficiários**: A Data Com é crucial para determinar quais acionistas terão direito aos dividendos ou JCP. Qualquer pessoa que possua ações na Data Com terá direito aos proventos, mesmo que venda as ações posteriormente.\n",
        "2. **Influência no Preço das Ações**: Após a Data Com, é comum que o preço das ações caia aproximadamente pelo valor dos dividendos ou JCP distribuídos, refletindo que os novos compradores não terão direito a esses proventos.\n",
        "\n",
        "### Exemplo Prático\n",
        "\n",
        "Suponha que uma empresa anuncie dividendos com as seguintes datas:\n",
        "- **Data Com**: 10 de junho\n",
        "- **Data Ex-Dividendo**: 11 de junho\n",
        "- **Data de Pagamento**: 25 de junho\n",
        "\n",
        "Se um investidor deseja receber os dividendos, ele precisa comprar as ações até o final do dia 10 de junho. No dia 11 de junho, as ações serão negociadas sem o direito aos dividendos (ex-dividendo). Se ele comprar as ações no dia 11 de junho ou depois, não terá direito aos dividendos anunciados.\n",
        "\n",
        "### Resumo das Datas Importantes\n",
        "\n",
        "- **Data de Declaração**: Data em que a empresa anuncia os dividendos ou JCP.\n",
        "- **Data Com (ou Data de Corte)**: Último dia em que as ações precisam ser possuídas para ter direito aos proventos.\n",
        "- **Data Ex-Dividendo**: Dia seguinte à Data Com, quando as ações começam a ser negociadas sem direito aos proventos.\n",
        "- **Data de Pagamento**: Data em que os dividendos ou JCP são efetivamente pagos aos acionistas.\n",
        "\n",
        "Compreender a Data Com é essencial para investidores que buscam obter rendimentos através de dividendos ou JCP, pois essa data determina a elegibilidade para receber esses proventos."
      ],
      "metadata": {
        "id": "ofBa3HEW0caB"
      }
    },
    {
      "cell_type": "markdown",
      "source": [
        "## Importação das bibliotecas"
      ],
      "metadata": {
        "id": "l0U2Qr0u0ovg"
      }
    },
    {
      "cell_type": "code",
      "source": [
        "from base64 import b64decode\n",
        "from base64 import b64encode\n",
        "import pandas as pd\n",
        "import requests"
      ],
      "metadata": {
        "id": "RoLwPpG5j9iY"
      },
      "execution_count": 1,
      "outputs": []
    },
    {
      "cell_type": "markdown",
      "source": [
        "Fonte dos dados\n",
        "\n",
        "https://www.b3.com.br/pt_br/produtos-e-servicos/negociacao/renda-variavel/empresas-listadas.htm\n"
      ],
      "metadata": {
        "id": "fy3s3cJEgvdL"
      }
    },
    {
      "cell_type": "markdown",
      "source": [
        "Source\n",
        "\n",
        "https://www.tradingcomdados.com.br/conteudo/artigos/8-blog/50-como-obter-o-historico-de-dividendos-e-outros-proventos-com-python-direto-do-site-da-b3\n",
        "\n",
        "Para saber mais\n",
        "\n",
        "https://riconnect.rico.com.vc/blog/dividendos/"
      ],
      "metadata": {
        "id": "cWJLcykolgDb"
      }
    },
    {
      "cell_type": "markdown",
      "source": [
        "## Request da página da B3"
      ],
      "metadata": {
        "id": "ZRR0uhNg09oT"
      }
    },
    {
      "cell_type": "code",
      "source": [
        "url_vale = 'https://sistemaswebb3-listados.b3.com.br/listedCompaniesProxy/CompanyCall/GetListedCashDividends/eyJsYW5ndWFnZSI6InB0LWJyIiwicGFnZU51bWJlciI6MSwicGFnZVNpemUiOjIwLCJ0cmFkaW5nTmFtZSI6IlZBTEUifQ=='"
      ],
      "metadata": {
        "id": "GINA1XOt1BpZ"
      },
      "execution_count": 2,
      "outputs": []
    },
    {
      "cell_type": "code",
      "source": [
        "dados_brutos = requests.get(url_vale)"
      ],
      "metadata": {
        "id": "SQqZ3eNM1tzi"
      },
      "execution_count": 3,
      "outputs": []
    },
    {
      "cell_type": "code",
      "source": [
        "dados_brutos"
      ],
      "metadata": {
        "colab": {
          "base_uri": "https://localhost:8080/"
        },
        "id": "cJ1rIEkG1wZS",
        "outputId": "8b4c15da-807f-4cb0-ffe0-299347f155ba"
      },
      "execution_count": 4,
      "outputs": [
        {
          "output_type": "execute_result",
          "data": {
            "text/plain": [
              "<Response [200]>"
            ]
          },
          "metadata": {},
          "execution_count": 4
        }
      ]
    },
    {
      "cell_type": "code",
      "source": [
        "dados_brutos.json()"
      ],
      "metadata": {
        "id": "GbRKHv9P2Cpx"
      },
      "execution_count": null,
      "outputs": []
    },
    {
      "cell_type": "code",
      "source": [
        "type(dados_brutos.json())"
      ],
      "metadata": {
        "colab": {
          "base_uri": "https://localhost:8080/"
        },
        "id": "LrJ-Jvoe2TCT",
        "outputId": "e916d2e3-ee2e-4979-c1fe-225f93fe7a96"
      },
      "execution_count": 6,
      "outputs": [
        {
          "output_type": "execute_result",
          "data": {
            "text/plain": [
              "dict"
            ]
          },
          "metadata": {},
          "execution_count": 6
        }
      ]
    },
    {
      "cell_type": "code",
      "source": [
        "dados_brutos.json()['results']"
      ],
      "metadata": {
        "id": "84UijG462jdi"
      },
      "execution_count": null,
      "outputs": []
    },
    {
      "cell_type": "code",
      "source": [
        "pd.DataFrame(dados_brutos.json()['results'])"
      ],
      "metadata": {
        "colab": {
          "base_uri": "https://localhost:8080/",
          "height": 852
        },
        "id": "maXrNWYm2moB",
        "outputId": "9503d90b-c6c1-4707-e502-af7c5e310bc8"
      },
      "execution_count": 8,
      "outputs": [
        {
          "output_type": "execute_result",
          "data": {
            "text/plain": [
              "   typeStock dateApproval    valueCash ratio  corporateAction lastDatePriorEx  \\\n",
              "0         ON   22/02/2024  2,738548374     1        DIVIDENDO      11/03/2024   \n",
              "1         ON   26/10/2023  1,565890809     1        DIVIDENDO      21/11/2023   \n",
              "2         ON   26/10/2023  0,765770758     1  JRS CAP PROPRIO      21/11/2023   \n",
              "3         ON   27/07/2023  1,918471798     1  JRS CAP PROPRIO      11/08/2023   \n",
              "4         ON   16/02/2023  1,827646129     1        DIVIDENDO      13/03/2023   \n",
              "5         ON   01/12/2022  0,292012688     1  JRS CAP PROPRIO      12/12/2022   \n",
              "6         ON   28/07/2022  2,032680337     1        DIVIDENDO      11/08/2022   \n",
              "7         ON   28/07/2022  1,539376229     1  JRS CAP PROPRIO      11/08/2022   \n",
              "8         ON   24/02/2022  3,719256588     1        DIVIDENDO      08/03/2022   \n",
              "9         ON   16/09/2021  8,197239442     1        DIVIDENDO      22/09/2021   \n",
              "10        ON   17/06/2021  0,720404889     1        DIVIDENDO      23/06/2021   \n",
              "11        ON   17/06/2021  1,469265175     1        DIVIDENDO      23/06/2021   \n",
              "12        ON   25/02/2021  3,425910336     1        DIVIDENDO      04/03/2021   \n",
              "13        ON   25/02/2021  0,835736883     1  JRS CAP PROPRIO      04/03/2021   \n",
              "14        ON   10/09/2020  1,410166173     1        DIVIDENDO      21/09/2020   \n",
              "15        ON   10/09/2020  0,997344547     1  JRS CAP PROPRIO      21/09/2020   \n",
              "16        ON   19/12/2019  1,414364369     1  JRS CAP PROPRIO      26/12/2019   \n",
              "17        ON   25/07/2018  0,171747417     1        DIVIDENDO      02/08/2018   \n",
              "18        ON   25/07/2018  1,308614127     1  JRS CAP PROPRIO      02/08/2018   \n",
              "19        ON   27/02/2018  0,488511766     1  JRS CAP PROPRIO      06/03/2018   \n",
              "\n",
              "   dateClosingPricePriorExDate closingPricePriorExDate quotedPerShares  \\\n",
              "0                   11/03/2024                   63,96               1   \n",
              "1                   21/11/2023                   77,90               1   \n",
              "2                   21/11/2023                   77,90               1   \n",
              "3                   11/08/2023                   65,51               1   \n",
              "4                   13/03/2023                   85,05               1   \n",
              "5                   12/12/2022                   86,09               1   \n",
              "6                   11/08/2022                   72,49               1   \n",
              "7                   11/08/2022                   72,49               1   \n",
              "8                   08/03/2022                  100,46               1   \n",
              "9                   22/09/2021                   87,11               1   \n",
              "10                  23/06/2021                  113,07               1   \n",
              "11                  23/06/2021                  113,07               1   \n",
              "12                  04/03/2021                   98,86               1   \n",
              "13                  04/03/2021                   98,86               1   \n",
              "14                  21/09/2020                   60,00               1   \n",
              "15                  21/09/2020                   60,00               1   \n",
              "16                  26/12/2019                   54,79               1   \n",
              "17                  02/08/2018                   52,84               1   \n",
              "18                  02/08/2018                   52,84               1   \n",
              "19                  06/03/2018                   43,49               1   \n",
              "\n",
              "   corporateActionPrice  lastDateTimePriorEx  \n",
              "0              4,281658  2024-03-11T00:00:00  \n",
              "1              2,010129  2023-11-21T00:00:00  \n",
              "2              0,983018  2023-11-21T00:00:00  \n",
              "3              2,928517  2023-08-11T00:00:00  \n",
              "4              2,148908  2023-03-13T00:00:00  \n",
              "5              0,339195  2022-12-12T00:00:00  \n",
              "6              2,804084  2022-08-11T00:00:00  \n",
              "7              2,123570  2022-08-11T00:00:00  \n",
              "8              3,702226  2022-03-08T00:00:00  \n",
              "9              9,410216  2021-09-22T00:00:00  \n",
              "10             0,637132  2021-06-23T00:00:00  \n",
              "11             1,299430  2021-06-23T00:00:00  \n",
              "12             3,465416  2021-03-04T00:00:00  \n",
              "13             0,845374  2021-03-04T00:00:00  \n",
              "14             2,350277  2020-09-21T00:00:00  \n",
              "15             1,662241  2020-09-21T00:00:00  \n",
              "16             2,581428  2019-12-26T00:00:00  \n",
              "17             0,325033  2018-08-02T00:00:00  \n",
              "18             2,476560  2018-08-02T00:00:00  \n",
              "19             1,123274  2018-03-06T00:00:00  "
            ],
            "text/html": [
              "\n",
              "  <div id=\"df-0531cb0f-c6ff-4bb2-b7be-9b1fadc067b9\" class=\"colab-df-container\">\n",
              "    <div>\n",
              "<style scoped>\n",
              "    .dataframe tbody tr th:only-of-type {\n",
              "        vertical-align: middle;\n",
              "    }\n",
              "\n",
              "    .dataframe tbody tr th {\n",
              "        vertical-align: top;\n",
              "    }\n",
              "\n",
              "    .dataframe thead th {\n",
              "        text-align: right;\n",
              "    }\n",
              "</style>\n",
              "<table border=\"1\" class=\"dataframe\">\n",
              "  <thead>\n",
              "    <tr style=\"text-align: right;\">\n",
              "      <th></th>\n",
              "      <th>typeStock</th>\n",
              "      <th>dateApproval</th>\n",
              "      <th>valueCash</th>\n",
              "      <th>ratio</th>\n",
              "      <th>corporateAction</th>\n",
              "      <th>lastDatePriorEx</th>\n",
              "      <th>dateClosingPricePriorExDate</th>\n",
              "      <th>closingPricePriorExDate</th>\n",
              "      <th>quotedPerShares</th>\n",
              "      <th>corporateActionPrice</th>\n",
              "      <th>lastDateTimePriorEx</th>\n",
              "    </tr>\n",
              "  </thead>\n",
              "  <tbody>\n",
              "    <tr>\n",
              "      <th>0</th>\n",
              "      <td>ON</td>\n",
              "      <td>22/02/2024</td>\n",
              "      <td>2,738548374</td>\n",
              "      <td>1</td>\n",
              "      <td>DIVIDENDO</td>\n",
              "      <td>11/03/2024</td>\n",
              "      <td>11/03/2024</td>\n",
              "      <td>63,96</td>\n",
              "      <td>1</td>\n",
              "      <td>4,281658</td>\n",
              "      <td>2024-03-11T00:00:00</td>\n",
              "    </tr>\n",
              "    <tr>\n",
              "      <th>1</th>\n",
              "      <td>ON</td>\n",
              "      <td>26/10/2023</td>\n",
              "      <td>1,565890809</td>\n",
              "      <td>1</td>\n",
              "      <td>DIVIDENDO</td>\n",
              "      <td>21/11/2023</td>\n",
              "      <td>21/11/2023</td>\n",
              "      <td>77,90</td>\n",
              "      <td>1</td>\n",
              "      <td>2,010129</td>\n",
              "      <td>2023-11-21T00:00:00</td>\n",
              "    </tr>\n",
              "    <tr>\n",
              "      <th>2</th>\n",
              "      <td>ON</td>\n",
              "      <td>26/10/2023</td>\n",
              "      <td>0,765770758</td>\n",
              "      <td>1</td>\n",
              "      <td>JRS CAP PROPRIO</td>\n",
              "      <td>21/11/2023</td>\n",
              "      <td>21/11/2023</td>\n",
              "      <td>77,90</td>\n",
              "      <td>1</td>\n",
              "      <td>0,983018</td>\n",
              "      <td>2023-11-21T00:00:00</td>\n",
              "    </tr>\n",
              "    <tr>\n",
              "      <th>3</th>\n",
              "      <td>ON</td>\n",
              "      <td>27/07/2023</td>\n",
              "      <td>1,918471798</td>\n",
              "      <td>1</td>\n",
              "      <td>JRS CAP PROPRIO</td>\n",
              "      <td>11/08/2023</td>\n",
              "      <td>11/08/2023</td>\n",
              "      <td>65,51</td>\n",
              "      <td>1</td>\n",
              "      <td>2,928517</td>\n",
              "      <td>2023-08-11T00:00:00</td>\n",
              "    </tr>\n",
              "    <tr>\n",
              "      <th>4</th>\n",
              "      <td>ON</td>\n",
              "      <td>16/02/2023</td>\n",
              "      <td>1,827646129</td>\n",
              "      <td>1</td>\n",
              "      <td>DIVIDENDO</td>\n",
              "      <td>13/03/2023</td>\n",
              "      <td>13/03/2023</td>\n",
              "      <td>85,05</td>\n",
              "      <td>1</td>\n",
              "      <td>2,148908</td>\n",
              "      <td>2023-03-13T00:00:00</td>\n",
              "    </tr>\n",
              "    <tr>\n",
              "      <th>5</th>\n",
              "      <td>ON</td>\n",
              "      <td>01/12/2022</td>\n",
              "      <td>0,292012688</td>\n",
              "      <td>1</td>\n",
              "      <td>JRS CAP PROPRIO</td>\n",
              "      <td>12/12/2022</td>\n",
              "      <td>12/12/2022</td>\n",
              "      <td>86,09</td>\n",
              "      <td>1</td>\n",
              "      <td>0,339195</td>\n",
              "      <td>2022-12-12T00:00:00</td>\n",
              "    </tr>\n",
              "    <tr>\n",
              "      <th>6</th>\n",
              "      <td>ON</td>\n",
              "      <td>28/07/2022</td>\n",
              "      <td>2,032680337</td>\n",
              "      <td>1</td>\n",
              "      <td>DIVIDENDO</td>\n",
              "      <td>11/08/2022</td>\n",
              "      <td>11/08/2022</td>\n",
              "      <td>72,49</td>\n",
              "      <td>1</td>\n",
              "      <td>2,804084</td>\n",
              "      <td>2022-08-11T00:00:00</td>\n",
              "    </tr>\n",
              "    <tr>\n",
              "      <th>7</th>\n",
              "      <td>ON</td>\n",
              "      <td>28/07/2022</td>\n",
              "      <td>1,539376229</td>\n",
              "      <td>1</td>\n",
              "      <td>JRS CAP PROPRIO</td>\n",
              "      <td>11/08/2022</td>\n",
              "      <td>11/08/2022</td>\n",
              "      <td>72,49</td>\n",
              "      <td>1</td>\n",
              "      <td>2,123570</td>\n",
              "      <td>2022-08-11T00:00:00</td>\n",
              "    </tr>\n",
              "    <tr>\n",
              "      <th>8</th>\n",
              "      <td>ON</td>\n",
              "      <td>24/02/2022</td>\n",
              "      <td>3,719256588</td>\n",
              "      <td>1</td>\n",
              "      <td>DIVIDENDO</td>\n",
              "      <td>08/03/2022</td>\n",
              "      <td>08/03/2022</td>\n",
              "      <td>100,46</td>\n",
              "      <td>1</td>\n",
              "      <td>3,702226</td>\n",
              "      <td>2022-03-08T00:00:00</td>\n",
              "    </tr>\n",
              "    <tr>\n",
              "      <th>9</th>\n",
              "      <td>ON</td>\n",
              "      <td>16/09/2021</td>\n",
              "      <td>8,197239442</td>\n",
              "      <td>1</td>\n",
              "      <td>DIVIDENDO</td>\n",
              "      <td>22/09/2021</td>\n",
              "      <td>22/09/2021</td>\n",
              "      <td>87,11</td>\n",
              "      <td>1</td>\n",
              "      <td>9,410216</td>\n",
              "      <td>2021-09-22T00:00:00</td>\n",
              "    </tr>\n",
              "    <tr>\n",
              "      <th>10</th>\n",
              "      <td>ON</td>\n",
              "      <td>17/06/2021</td>\n",
              "      <td>0,720404889</td>\n",
              "      <td>1</td>\n",
              "      <td>DIVIDENDO</td>\n",
              "      <td>23/06/2021</td>\n",
              "      <td>23/06/2021</td>\n",
              "      <td>113,07</td>\n",
              "      <td>1</td>\n",
              "      <td>0,637132</td>\n",
              "      <td>2021-06-23T00:00:00</td>\n",
              "    </tr>\n",
              "    <tr>\n",
              "      <th>11</th>\n",
              "      <td>ON</td>\n",
              "      <td>17/06/2021</td>\n",
              "      <td>1,469265175</td>\n",
              "      <td>1</td>\n",
              "      <td>DIVIDENDO</td>\n",
              "      <td>23/06/2021</td>\n",
              "      <td>23/06/2021</td>\n",
              "      <td>113,07</td>\n",
              "      <td>1</td>\n",
              "      <td>1,299430</td>\n",
              "      <td>2021-06-23T00:00:00</td>\n",
              "    </tr>\n",
              "    <tr>\n",
              "      <th>12</th>\n",
              "      <td>ON</td>\n",
              "      <td>25/02/2021</td>\n",
              "      <td>3,425910336</td>\n",
              "      <td>1</td>\n",
              "      <td>DIVIDENDO</td>\n",
              "      <td>04/03/2021</td>\n",
              "      <td>04/03/2021</td>\n",
              "      <td>98,86</td>\n",
              "      <td>1</td>\n",
              "      <td>3,465416</td>\n",
              "      <td>2021-03-04T00:00:00</td>\n",
              "    </tr>\n",
              "    <tr>\n",
              "      <th>13</th>\n",
              "      <td>ON</td>\n",
              "      <td>25/02/2021</td>\n",
              "      <td>0,835736883</td>\n",
              "      <td>1</td>\n",
              "      <td>JRS CAP PROPRIO</td>\n",
              "      <td>04/03/2021</td>\n",
              "      <td>04/03/2021</td>\n",
              "      <td>98,86</td>\n",
              "      <td>1</td>\n",
              "      <td>0,845374</td>\n",
              "      <td>2021-03-04T00:00:00</td>\n",
              "    </tr>\n",
              "    <tr>\n",
              "      <th>14</th>\n",
              "      <td>ON</td>\n",
              "      <td>10/09/2020</td>\n",
              "      <td>1,410166173</td>\n",
              "      <td>1</td>\n",
              "      <td>DIVIDENDO</td>\n",
              "      <td>21/09/2020</td>\n",
              "      <td>21/09/2020</td>\n",
              "      <td>60,00</td>\n",
              "      <td>1</td>\n",
              "      <td>2,350277</td>\n",
              "      <td>2020-09-21T00:00:00</td>\n",
              "    </tr>\n",
              "    <tr>\n",
              "      <th>15</th>\n",
              "      <td>ON</td>\n",
              "      <td>10/09/2020</td>\n",
              "      <td>0,997344547</td>\n",
              "      <td>1</td>\n",
              "      <td>JRS CAP PROPRIO</td>\n",
              "      <td>21/09/2020</td>\n",
              "      <td>21/09/2020</td>\n",
              "      <td>60,00</td>\n",
              "      <td>1</td>\n",
              "      <td>1,662241</td>\n",
              "      <td>2020-09-21T00:00:00</td>\n",
              "    </tr>\n",
              "    <tr>\n",
              "      <th>16</th>\n",
              "      <td>ON</td>\n",
              "      <td>19/12/2019</td>\n",
              "      <td>1,414364369</td>\n",
              "      <td>1</td>\n",
              "      <td>JRS CAP PROPRIO</td>\n",
              "      <td>26/12/2019</td>\n",
              "      <td>26/12/2019</td>\n",
              "      <td>54,79</td>\n",
              "      <td>1</td>\n",
              "      <td>2,581428</td>\n",
              "      <td>2019-12-26T00:00:00</td>\n",
              "    </tr>\n",
              "    <tr>\n",
              "      <th>17</th>\n",
              "      <td>ON</td>\n",
              "      <td>25/07/2018</td>\n",
              "      <td>0,171747417</td>\n",
              "      <td>1</td>\n",
              "      <td>DIVIDENDO</td>\n",
              "      <td>02/08/2018</td>\n",
              "      <td>02/08/2018</td>\n",
              "      <td>52,84</td>\n",
              "      <td>1</td>\n",
              "      <td>0,325033</td>\n",
              "      <td>2018-08-02T00:00:00</td>\n",
              "    </tr>\n",
              "    <tr>\n",
              "      <th>18</th>\n",
              "      <td>ON</td>\n",
              "      <td>25/07/2018</td>\n",
              "      <td>1,308614127</td>\n",
              "      <td>1</td>\n",
              "      <td>JRS CAP PROPRIO</td>\n",
              "      <td>02/08/2018</td>\n",
              "      <td>02/08/2018</td>\n",
              "      <td>52,84</td>\n",
              "      <td>1</td>\n",
              "      <td>2,476560</td>\n",
              "      <td>2018-08-02T00:00:00</td>\n",
              "    </tr>\n",
              "    <tr>\n",
              "      <th>19</th>\n",
              "      <td>ON</td>\n",
              "      <td>27/02/2018</td>\n",
              "      <td>0,488511766</td>\n",
              "      <td>1</td>\n",
              "      <td>JRS CAP PROPRIO</td>\n",
              "      <td>06/03/2018</td>\n",
              "      <td>06/03/2018</td>\n",
              "      <td>43,49</td>\n",
              "      <td>1</td>\n",
              "      <td>1,123274</td>\n",
              "      <td>2018-03-06T00:00:00</td>\n",
              "    </tr>\n",
              "  </tbody>\n",
              "</table>\n",
              "</div>\n",
              "    <div class=\"colab-df-buttons\">\n",
              "\n",
              "  <div class=\"colab-df-container\">\n",
              "    <button class=\"colab-df-convert\" onclick=\"convertToInteractive('df-0531cb0f-c6ff-4bb2-b7be-9b1fadc067b9')\"\n",
              "            title=\"Convert this dataframe to an interactive table.\"\n",
              "            style=\"display:none;\">\n",
              "\n",
              "  <svg xmlns=\"http://www.w3.org/2000/svg\" height=\"24px\" viewBox=\"0 -960 960 960\">\n",
              "    <path d=\"M120-120v-720h720v720H120Zm60-500h600v-160H180v160Zm220 220h160v-160H400v160Zm0 220h160v-160H400v160ZM180-400h160v-160H180v160Zm440 0h160v-160H620v160ZM180-180h160v-160H180v160Zm440 0h160v-160H620v160Z\"/>\n",
              "  </svg>\n",
              "    </button>\n",
              "\n",
              "  <style>\n",
              "    .colab-df-container {\n",
              "      display:flex;\n",
              "      gap: 12px;\n",
              "    }\n",
              "\n",
              "    .colab-df-convert {\n",
              "      background-color: #E8F0FE;\n",
              "      border: none;\n",
              "      border-radius: 50%;\n",
              "      cursor: pointer;\n",
              "      display: none;\n",
              "      fill: #1967D2;\n",
              "      height: 32px;\n",
              "      padding: 0 0 0 0;\n",
              "      width: 32px;\n",
              "    }\n",
              "\n",
              "    .colab-df-convert:hover {\n",
              "      background-color: #E2EBFA;\n",
              "      box-shadow: 0px 1px 2px rgba(60, 64, 67, 0.3), 0px 1px 3px 1px rgba(60, 64, 67, 0.15);\n",
              "      fill: #174EA6;\n",
              "    }\n",
              "\n",
              "    .colab-df-buttons div {\n",
              "      margin-bottom: 4px;\n",
              "    }\n",
              "\n",
              "    [theme=dark] .colab-df-convert {\n",
              "      background-color: #3B4455;\n",
              "      fill: #D2E3FC;\n",
              "    }\n",
              "\n",
              "    [theme=dark] .colab-df-convert:hover {\n",
              "      background-color: #434B5C;\n",
              "      box-shadow: 0px 1px 3px 1px rgba(0, 0, 0, 0.15);\n",
              "      filter: drop-shadow(0px 1px 2px rgba(0, 0, 0, 0.3));\n",
              "      fill: #FFFFFF;\n",
              "    }\n",
              "  </style>\n",
              "\n",
              "    <script>\n",
              "      const buttonEl =\n",
              "        document.querySelector('#df-0531cb0f-c6ff-4bb2-b7be-9b1fadc067b9 button.colab-df-convert');\n",
              "      buttonEl.style.display =\n",
              "        google.colab.kernel.accessAllowed ? 'block' : 'none';\n",
              "\n",
              "      async function convertToInteractive(key) {\n",
              "        const element = document.querySelector('#df-0531cb0f-c6ff-4bb2-b7be-9b1fadc067b9');\n",
              "        const dataTable =\n",
              "          await google.colab.kernel.invokeFunction('convertToInteractive',\n",
              "                                                    [key], {});\n",
              "        if (!dataTable) return;\n",
              "\n",
              "        const docLinkHtml = 'Like what you see? Visit the ' +\n",
              "          '<a target=\"_blank\" href=https://colab.research.google.com/notebooks/data_table.ipynb>data table notebook</a>'\n",
              "          + ' to learn more about interactive tables.';\n",
              "        element.innerHTML = '';\n",
              "        dataTable['output_type'] = 'display_data';\n",
              "        await google.colab.output.renderOutput(dataTable, element);\n",
              "        const docLink = document.createElement('div');\n",
              "        docLink.innerHTML = docLinkHtml;\n",
              "        element.appendChild(docLink);\n",
              "      }\n",
              "    </script>\n",
              "  </div>\n",
              "\n",
              "\n",
              "<div id=\"df-853d9d24-bf84-40da-a3ce-5ca3ae8d94e3\">\n",
              "  <button class=\"colab-df-quickchart\" onclick=\"quickchart('df-853d9d24-bf84-40da-a3ce-5ca3ae8d94e3')\"\n",
              "            title=\"Suggest charts\"\n",
              "            style=\"display:none;\">\n",
              "\n",
              "<svg xmlns=\"http://www.w3.org/2000/svg\" height=\"24px\"viewBox=\"0 0 24 24\"\n",
              "     width=\"24px\">\n",
              "    <g>\n",
              "        <path d=\"M19 3H5c-1.1 0-2 .9-2 2v14c0 1.1.9 2 2 2h14c1.1 0 2-.9 2-2V5c0-1.1-.9-2-2-2zM9 17H7v-7h2v7zm4 0h-2V7h2v10zm4 0h-2v-4h2v4z\"/>\n",
              "    </g>\n",
              "</svg>\n",
              "  </button>\n",
              "\n",
              "<style>\n",
              "  .colab-df-quickchart {\n",
              "      --bg-color: #E8F0FE;\n",
              "      --fill-color: #1967D2;\n",
              "      --hover-bg-color: #E2EBFA;\n",
              "      --hover-fill-color: #174EA6;\n",
              "      --disabled-fill-color: #AAA;\n",
              "      --disabled-bg-color: #DDD;\n",
              "  }\n",
              "\n",
              "  [theme=dark] .colab-df-quickchart {\n",
              "      --bg-color: #3B4455;\n",
              "      --fill-color: #D2E3FC;\n",
              "      --hover-bg-color: #434B5C;\n",
              "      --hover-fill-color: #FFFFFF;\n",
              "      --disabled-bg-color: #3B4455;\n",
              "      --disabled-fill-color: #666;\n",
              "  }\n",
              "\n",
              "  .colab-df-quickchart {\n",
              "    background-color: var(--bg-color);\n",
              "    border: none;\n",
              "    border-radius: 50%;\n",
              "    cursor: pointer;\n",
              "    display: none;\n",
              "    fill: var(--fill-color);\n",
              "    height: 32px;\n",
              "    padding: 0;\n",
              "    width: 32px;\n",
              "  }\n",
              "\n",
              "  .colab-df-quickchart:hover {\n",
              "    background-color: var(--hover-bg-color);\n",
              "    box-shadow: 0 1px 2px rgba(60, 64, 67, 0.3), 0 1px 3px 1px rgba(60, 64, 67, 0.15);\n",
              "    fill: var(--button-hover-fill-color);\n",
              "  }\n",
              "\n",
              "  .colab-df-quickchart-complete:disabled,\n",
              "  .colab-df-quickchart-complete:disabled:hover {\n",
              "    background-color: var(--disabled-bg-color);\n",
              "    fill: var(--disabled-fill-color);\n",
              "    box-shadow: none;\n",
              "  }\n",
              "\n",
              "  .colab-df-spinner {\n",
              "    border: 2px solid var(--fill-color);\n",
              "    border-color: transparent;\n",
              "    border-bottom-color: var(--fill-color);\n",
              "    animation:\n",
              "      spin 1s steps(1) infinite;\n",
              "  }\n",
              "\n",
              "  @keyframes spin {\n",
              "    0% {\n",
              "      border-color: transparent;\n",
              "      border-bottom-color: var(--fill-color);\n",
              "      border-left-color: var(--fill-color);\n",
              "    }\n",
              "    20% {\n",
              "      border-color: transparent;\n",
              "      border-left-color: var(--fill-color);\n",
              "      border-top-color: var(--fill-color);\n",
              "    }\n",
              "    30% {\n",
              "      border-color: transparent;\n",
              "      border-left-color: var(--fill-color);\n",
              "      border-top-color: var(--fill-color);\n",
              "      border-right-color: var(--fill-color);\n",
              "    }\n",
              "    40% {\n",
              "      border-color: transparent;\n",
              "      border-right-color: var(--fill-color);\n",
              "      border-top-color: var(--fill-color);\n",
              "    }\n",
              "    60% {\n",
              "      border-color: transparent;\n",
              "      border-right-color: var(--fill-color);\n",
              "    }\n",
              "    80% {\n",
              "      border-color: transparent;\n",
              "      border-right-color: var(--fill-color);\n",
              "      border-bottom-color: var(--fill-color);\n",
              "    }\n",
              "    90% {\n",
              "      border-color: transparent;\n",
              "      border-bottom-color: var(--fill-color);\n",
              "    }\n",
              "  }\n",
              "</style>\n",
              "\n",
              "  <script>\n",
              "    async function quickchart(key) {\n",
              "      const quickchartButtonEl =\n",
              "        document.querySelector('#' + key + ' button');\n",
              "      quickchartButtonEl.disabled = true;  // To prevent multiple clicks.\n",
              "      quickchartButtonEl.classList.add('colab-df-spinner');\n",
              "      try {\n",
              "        const charts = await google.colab.kernel.invokeFunction(\n",
              "            'suggestCharts', [key], {});\n",
              "      } catch (error) {\n",
              "        console.error('Error during call to suggestCharts:', error);\n",
              "      }\n",
              "      quickchartButtonEl.classList.remove('colab-df-spinner');\n",
              "      quickchartButtonEl.classList.add('colab-df-quickchart-complete');\n",
              "    }\n",
              "    (() => {\n",
              "      let quickchartButtonEl =\n",
              "        document.querySelector('#df-853d9d24-bf84-40da-a3ce-5ca3ae8d94e3 button');\n",
              "      quickchartButtonEl.style.display =\n",
              "        google.colab.kernel.accessAllowed ? 'block' : 'none';\n",
              "    })();\n",
              "  </script>\n",
              "</div>\n",
              "    </div>\n",
              "  </div>\n"
            ],
            "application/vnd.google.colaboratory.intrinsic+json": {
              "type": "dataframe",
              "summary": "{\n  \"name\": \"pd\",\n  \"rows\": 20,\n  \"fields\": [\n    {\n      \"column\": \"typeStock\",\n      \"properties\": {\n        \"dtype\": \"category\",\n        \"num_unique_values\": 1,\n        \"samples\": [\n          \"ON\"\n        ],\n        \"semantic_type\": \"\",\n        \"description\": \"\"\n      }\n    },\n    {\n      \"column\": \"dateApproval\",\n      \"properties\": {\n        \"dtype\": \"object\",\n        \"num_unique_values\": 14,\n        \"samples\": [\n          \"25/02/2021\"\n        ],\n        \"semantic_type\": \"\",\n        \"description\": \"\"\n      }\n    },\n    {\n      \"column\": \"valueCash\",\n      \"properties\": {\n        \"dtype\": \"string\",\n        \"num_unique_values\": 20,\n        \"samples\": [\n          \"2,738548374\"\n        ],\n        \"semantic_type\": \"\",\n        \"description\": \"\"\n      }\n    },\n    {\n      \"column\": \"ratio\",\n      \"properties\": {\n        \"dtype\": \"category\",\n        \"num_unique_values\": 1,\n        \"samples\": [\n          \"1\"\n        ],\n        \"semantic_type\": \"\",\n        \"description\": \"\"\n      }\n    },\n    {\n      \"column\": \"corporateAction\",\n      \"properties\": {\n        \"dtype\": \"category\",\n        \"num_unique_values\": 2,\n        \"samples\": [\n          \"JRS CAP PROPRIO\"\n        ],\n        \"semantic_type\": \"\",\n        \"description\": \"\"\n      }\n    },\n    {\n      \"column\": \"lastDatePriorEx\",\n      \"properties\": {\n        \"dtype\": \"string\",\n        \"num_unique_values\": 14,\n        \"samples\": [\n          \"04/03/2021\"\n        ],\n        \"semantic_type\": \"\",\n        \"description\": \"\"\n      }\n    },\n    {\n      \"column\": \"dateClosingPricePriorExDate\",\n      \"properties\": {\n        \"dtype\": \"string\",\n        \"num_unique_values\": 14,\n        \"samples\": [\n          \"04/03/2021\"\n        ],\n        \"semantic_type\": \"\",\n        \"description\": \"\"\n      }\n    },\n    {\n      \"column\": \"closingPricePriorExDate\",\n      \"properties\": {\n        \"dtype\": \"string\",\n        \"num_unique_values\": 14,\n        \"samples\": [\n          \"98,86\"\n        ],\n        \"semantic_type\": \"\",\n        \"description\": \"\"\n      }\n    },\n    {\n      \"column\": \"quotedPerShares\",\n      \"properties\": {\n        \"dtype\": \"category\",\n        \"num_unique_values\": 1,\n        \"samples\": [\n          \"1\"\n        ],\n        \"semantic_type\": \"\",\n        \"description\": \"\"\n      }\n    },\n    {\n      \"column\": \"corporateActionPrice\",\n      \"properties\": {\n        \"dtype\": \"string\",\n        \"num_unique_values\": 20,\n        \"samples\": [\n          \"4,281658\"\n        ],\n        \"semantic_type\": \"\",\n        \"description\": \"\"\n      }\n    },\n    {\n      \"column\": \"lastDateTimePriorEx\",\n      \"properties\": {\n        \"dtype\": \"object\",\n        \"num_unique_values\": 14,\n        \"samples\": [\n          \"2021-03-04T00:00:00\"\n        ],\n        \"semantic_type\": \"\",\n        \"description\": \"\"\n      }\n    }\n  ]\n}"
            }
          },
          "metadata": {},
          "execution_count": 8
        }
      ]
    },
    {
      "cell_type": "markdown",
      "source": [
        "O mais recente"
      ],
      "metadata": {
        "id": "Zzqh4Pis2I3i"
      }
    },
    {
      "cell_type": "code",
      "source": [
        "dividendo_quase.json()['results'][-1]"
      ],
      "metadata": {
        "colab": {
          "base_uri": "https://localhost:8080/"
        },
        "id": "ZOVLJIWF2ufC",
        "outputId": "4bc12fc2-721c-4406-db25-8cceb5bc11ea"
      },
      "execution_count": 28,
      "outputs": [
        {
          "output_type": "execute_result",
          "data": {
            "text/plain": [
              "{'typeStock': 'ON',\n",
              " 'dateApproval': '23/02/2021',\n",
              " 'valueCash': '0,349357703',\n",
              " 'ratio': '1',\n",
              " 'corporateAction': 'DIVIDENDO',\n",
              " 'lastDatePriorEx': '26/02/2021',\n",
              " 'dateClosingPricePriorExDate': '26/02/2021',\n",
              " 'closingPricePriorExDate': '78,05',\n",
              " 'quotedPerShares': '1',\n",
              " 'corporateActionPrice': '0,447608',\n",
              " 'lastDateTimePriorEx': '2021-02-26T00:00:00'}"
            ]
          },
          "metadata": {},
          "execution_count": 28
        }
      ]
    },
    {
      "cell_type": "markdown",
      "source": [
        "Teste este pipeline com outros papéis"
      ],
      "metadata": {
        "id": "aLuZ4Ixx3EFN"
      }
    },
    {
      "cell_type": "code",
      "source": [
        "url_vale = 'https://sistemaswebb3-listados.b3.com.br/listedCompaniesProxy/CompanyCall/GetListedCashDividends/eyJsYW5ndWFnZSI6InB0LWJyIiwicGFnZU51bWJlciI6MSwicGFnZVNpemUiOjIwLCJ0cmFkaW5nTmFtZSI6IlBFVFJPUklPIn0='\n",
        "dados_brutos = requests.get(url_vale)\n",
        "pd.DataFrame(dados_brutos.json()['results'])"
      ],
      "metadata": {
        "colab": {
          "base_uri": "https://localhost:8080/",
          "height": 100
        },
        "id": "_XEsFgaK3I-i",
        "outputId": "9ffadcdd-d866-42fd-c2c5-fb24f4158a43"
      },
      "execution_count": 29,
      "outputs": [
        {
          "output_type": "execute_result",
          "data": {
            "text/plain": [
              "  typeStock dateApproval  valueCash ratio corporateAction lastDatePriorEx  \\\n",
              "0        ON   08/12/2023  0,0726435     1       DIVIDENDO      13/12/2023   \n",
              "\n",
              "  dateClosingPricePriorExDate closingPricePriorExDate quotedPerShares  \\\n",
              "0                  13/12/2023                   45,30               1   \n",
              "\n",
              "  corporateActionPrice  lastDateTimePriorEx  \n",
              "0             0,160361  2023-12-13T00:00:00  "
            ],
            "text/html": [
              "\n",
              "  <div id=\"df-167d785d-005b-4cde-9668-baf24d72baac\" class=\"colab-df-container\">\n",
              "    <div>\n",
              "<style scoped>\n",
              "    .dataframe tbody tr th:only-of-type {\n",
              "        vertical-align: middle;\n",
              "    }\n",
              "\n",
              "    .dataframe tbody tr th {\n",
              "        vertical-align: top;\n",
              "    }\n",
              "\n",
              "    .dataframe thead th {\n",
              "        text-align: right;\n",
              "    }\n",
              "</style>\n",
              "<table border=\"1\" class=\"dataframe\">\n",
              "  <thead>\n",
              "    <tr style=\"text-align: right;\">\n",
              "      <th></th>\n",
              "      <th>typeStock</th>\n",
              "      <th>dateApproval</th>\n",
              "      <th>valueCash</th>\n",
              "      <th>ratio</th>\n",
              "      <th>corporateAction</th>\n",
              "      <th>lastDatePriorEx</th>\n",
              "      <th>dateClosingPricePriorExDate</th>\n",
              "      <th>closingPricePriorExDate</th>\n",
              "      <th>quotedPerShares</th>\n",
              "      <th>corporateActionPrice</th>\n",
              "      <th>lastDateTimePriorEx</th>\n",
              "    </tr>\n",
              "  </thead>\n",
              "  <tbody>\n",
              "    <tr>\n",
              "      <th>0</th>\n",
              "      <td>ON</td>\n",
              "      <td>08/12/2023</td>\n",
              "      <td>0,0726435</td>\n",
              "      <td>1</td>\n",
              "      <td>DIVIDENDO</td>\n",
              "      <td>13/12/2023</td>\n",
              "      <td>13/12/2023</td>\n",
              "      <td>45,30</td>\n",
              "      <td>1</td>\n",
              "      <td>0,160361</td>\n",
              "      <td>2023-12-13T00:00:00</td>\n",
              "    </tr>\n",
              "  </tbody>\n",
              "</table>\n",
              "</div>\n",
              "    <div class=\"colab-df-buttons\">\n",
              "\n",
              "  <div class=\"colab-df-container\">\n",
              "    <button class=\"colab-df-convert\" onclick=\"convertToInteractive('df-167d785d-005b-4cde-9668-baf24d72baac')\"\n",
              "            title=\"Convert this dataframe to an interactive table.\"\n",
              "            style=\"display:none;\">\n",
              "\n",
              "  <svg xmlns=\"http://www.w3.org/2000/svg\" height=\"24px\" viewBox=\"0 -960 960 960\">\n",
              "    <path d=\"M120-120v-720h720v720H120Zm60-500h600v-160H180v160Zm220 220h160v-160H400v160Zm0 220h160v-160H400v160ZM180-400h160v-160H180v160Zm440 0h160v-160H620v160ZM180-180h160v-160H180v160Zm440 0h160v-160H620v160Z\"/>\n",
              "  </svg>\n",
              "    </button>\n",
              "\n",
              "  <style>\n",
              "    .colab-df-container {\n",
              "      display:flex;\n",
              "      gap: 12px;\n",
              "    }\n",
              "\n",
              "    .colab-df-convert {\n",
              "      background-color: #E8F0FE;\n",
              "      border: none;\n",
              "      border-radius: 50%;\n",
              "      cursor: pointer;\n",
              "      display: none;\n",
              "      fill: #1967D2;\n",
              "      height: 32px;\n",
              "      padding: 0 0 0 0;\n",
              "      width: 32px;\n",
              "    }\n",
              "\n",
              "    .colab-df-convert:hover {\n",
              "      background-color: #E2EBFA;\n",
              "      box-shadow: 0px 1px 2px rgba(60, 64, 67, 0.3), 0px 1px 3px 1px rgba(60, 64, 67, 0.15);\n",
              "      fill: #174EA6;\n",
              "    }\n",
              "\n",
              "    .colab-df-buttons div {\n",
              "      margin-bottom: 4px;\n",
              "    }\n",
              "\n",
              "    [theme=dark] .colab-df-convert {\n",
              "      background-color: #3B4455;\n",
              "      fill: #D2E3FC;\n",
              "    }\n",
              "\n",
              "    [theme=dark] .colab-df-convert:hover {\n",
              "      background-color: #434B5C;\n",
              "      box-shadow: 0px 1px 3px 1px rgba(0, 0, 0, 0.15);\n",
              "      filter: drop-shadow(0px 1px 2px rgba(0, 0, 0, 0.3));\n",
              "      fill: #FFFFFF;\n",
              "    }\n",
              "  </style>\n",
              "\n",
              "    <script>\n",
              "      const buttonEl =\n",
              "        document.querySelector('#df-167d785d-005b-4cde-9668-baf24d72baac button.colab-df-convert');\n",
              "      buttonEl.style.display =\n",
              "        google.colab.kernel.accessAllowed ? 'block' : 'none';\n",
              "\n",
              "      async function convertToInteractive(key) {\n",
              "        const element = document.querySelector('#df-167d785d-005b-4cde-9668-baf24d72baac');\n",
              "        const dataTable =\n",
              "          await google.colab.kernel.invokeFunction('convertToInteractive',\n",
              "                                                    [key], {});\n",
              "        if (!dataTable) return;\n",
              "\n",
              "        const docLinkHtml = 'Like what you see? Visit the ' +\n",
              "          '<a target=\"_blank\" href=https://colab.research.google.com/notebooks/data_table.ipynb>data table notebook</a>'\n",
              "          + ' to learn more about interactive tables.';\n",
              "        element.innerHTML = '';\n",
              "        dataTable['output_type'] = 'display_data';\n",
              "        await google.colab.output.renderOutput(dataTable, element);\n",
              "        const docLink = document.createElement('div');\n",
              "        docLink.innerHTML = docLinkHtml;\n",
              "        element.appendChild(docLink);\n",
              "      }\n",
              "    </script>\n",
              "  </div>\n",
              "\n",
              "    </div>\n",
              "  </div>\n"
            ],
            "application/vnd.google.colaboratory.intrinsic+json": {
              "type": "dataframe",
              "summary": "{\n  \"name\": \"pd\",\n  \"rows\": 1,\n  \"fields\": [\n    {\n      \"column\": \"typeStock\",\n      \"properties\": {\n        \"dtype\": \"string\",\n        \"num_unique_values\": 1,\n        \"samples\": [\n          \"ON\"\n        ],\n        \"semantic_type\": \"\",\n        \"description\": \"\"\n      }\n    },\n    {\n      \"column\": \"dateApproval\",\n      \"properties\": {\n        \"dtype\": \"object\",\n        \"num_unique_values\": 1,\n        \"samples\": [\n          \"08/12/2023\"\n        ],\n        \"semantic_type\": \"\",\n        \"description\": \"\"\n      }\n    },\n    {\n      \"column\": \"valueCash\",\n      \"properties\": {\n        \"dtype\": \"string\",\n        \"num_unique_values\": 1,\n        \"samples\": [\n          \"0,0726435\"\n        ],\n        \"semantic_type\": \"\",\n        \"description\": \"\"\n      }\n    },\n    {\n      \"column\": \"ratio\",\n      \"properties\": {\n        \"dtype\": \"string\",\n        \"num_unique_values\": 1,\n        \"samples\": [\n          \"1\"\n        ],\n        \"semantic_type\": \"\",\n        \"description\": \"\"\n      }\n    },\n    {\n      \"column\": \"corporateAction\",\n      \"properties\": {\n        \"dtype\": \"string\",\n        \"num_unique_values\": 1,\n        \"samples\": [\n          \"DIVIDENDO\"\n        ],\n        \"semantic_type\": \"\",\n        \"description\": \"\"\n      }\n    },\n    {\n      \"column\": \"lastDatePriorEx\",\n      \"properties\": {\n        \"dtype\": \"object\",\n        \"num_unique_values\": 1,\n        \"samples\": [\n          \"13/12/2023\"\n        ],\n        \"semantic_type\": \"\",\n        \"description\": \"\"\n      }\n    },\n    {\n      \"column\": \"dateClosingPricePriorExDate\",\n      \"properties\": {\n        \"dtype\": \"object\",\n        \"num_unique_values\": 1,\n        \"samples\": [\n          \"13/12/2023\"\n        ],\n        \"semantic_type\": \"\",\n        \"description\": \"\"\n      }\n    },\n    {\n      \"column\": \"closingPricePriorExDate\",\n      \"properties\": {\n        \"dtype\": \"object\",\n        \"num_unique_values\": 1,\n        \"samples\": [\n          \"45,30\"\n        ],\n        \"semantic_type\": \"\",\n        \"description\": \"\"\n      }\n    },\n    {\n      \"column\": \"quotedPerShares\",\n      \"properties\": {\n        \"dtype\": \"string\",\n        \"num_unique_values\": 1,\n        \"samples\": [\n          \"1\"\n        ],\n        \"semantic_type\": \"\",\n        \"description\": \"\"\n      }\n    },\n    {\n      \"column\": \"corporateActionPrice\",\n      \"properties\": {\n        \"dtype\": \"string\",\n        \"num_unique_values\": 1,\n        \"samples\": [\n          \"0,160361\"\n        ],\n        \"semantic_type\": \"\",\n        \"description\": \"\"\n      }\n    },\n    {\n      \"column\": \"lastDateTimePriorEx\",\n      \"properties\": {\n        \"dtype\": \"object\",\n        \"num_unique_values\": 1,\n        \"samples\": [\n          \"2023-12-13T00:00:00\"\n        ],\n        \"semantic_type\": \"\",\n        \"description\": \"\"\n      }\n    }\n  ]\n}"
            }
          },
          "metadata": {},
          "execution_count": 29
        }
      ]
    },
    {
      "cell_type": "markdown",
      "source": [
        "## Decodificação"
      ],
      "metadata": {
        "id": "zC6gXpBt4Mk5"
      }
    },
    {
      "cell_type": "markdown",
      "source": [
        "### Perceba que o fim desta string parece ter uma informação codificada"
      ],
      "metadata": {
        "id": "-XvTNTQe3buZ"
      }
    },
    {
      "cell_type": "markdown",
      "source": [
        "Trata-se da base64"
      ],
      "metadata": {
        "id": "t7FISzcz3fBl"
      }
    },
    {
      "cell_type": "markdown",
      "source": [
        "A B3 utiliza o esquema de codificação base64 para compor URLs de request para obter dados de dividendos no seu site por várias razões técnicas e de segurança. Vamos explorar algumas dessas razões:\n",
        "\n",
        "#### 1. **Compactação e Codificação**\n",
        "\n",
        "- **Compactação**: A codificação base64 transforma dados binários em uma string ASCII, o que permite uma representação compacta e segura de informações que podem incluir caracteres especiais, espaços e outros que poderiam ser problemáticos em uma URL.\n",
        "- **Padronização**: URLs têm restrições quanto aos caracteres que podem incluir. A base64 garante que todos os dados estão em um formato seguro e padronizado que pode ser passado em uma URL sem problemas de codificação.\n",
        "\n",
        "#### 2. **Segurança e Integridade**\n",
        "\n",
        "- **Ofuscação**: Embora não seja uma medida de segurança robusta, a base64 ofusca os dados, tornando-os menos legíveis para usuários comuns. Isso adiciona uma camada mínima de proteção contra manipulações ou inspeções triviais.\n",
        "- **Verificação de Integridade**: A base64 pode ser usada para assegurar que os dados não foram corrompidos ou alterados durante a transmissão, pois qualquer alteração na string codificada resultará em uma sequência inválida ou não decodificável.\n",
        "\n",
        "#### 3. **Facilidade de Manipulação e Transmissão**\n",
        "\n",
        "- **Uniformidade**: A base64 transforma dados complexos em uma sequência uniforme de caracteres (A-Z, a-z, 0-9, +, /), facilitando a manipulação e transmissão através de sistemas que podem ter diferentes restrições ou capacidades de processamento.\n",
        "- **Compatibilidade**: Sistemas de rede, APIs e navegadores podem manipular strings base64 de maneira consistente, evitando problemas que poderiam surgir com caracteres especiais ou binários.\n",
        "\n",
        "#### 4. **Encapsulamento de Dados Complexos**\n",
        "\n",
        "- **Estruturas de Dados**: Dados complexos, como objetos JSON ou binários, podem ser convertidos para uma string base64. Isso é útil para encapsular informações estruturadas que precisam ser passadas como parâmetros de uma URL sem precisar de serialização complexa ou sem risco de perda de formatação.\n",
        "\n",
        "#### Exemplo de Uso\n",
        "\n",
        "Quando você solicita dados de dividendos do site da B3, a URL pode incluir parâmetros codificados em base64 que contêm informações sobre a consulta, como o código da ação, data e outros critérios. Ao decodificar a string base64, a B3 pode extrair esses parâmetros de maneira segura e consistente.\n",
        "\n",
        "##### Exemplo:\n",
        "\n",
        "- **URL Encodada**: `https://site.b3.com.br/dividends?data=YWJjMTIz`\n",
        "- **Base64 Decodificada**: `abc123`\n",
        "\n",
        "Neste exemplo, `YWJjMTIz` é a string base64 que representa `abc123`.\n"
      ],
      "metadata": {
        "id": "xvbezbML3xwg"
      }
    },
    {
      "cell_type": "markdown",
      "source": [
        "### Como codificar/decodificar uma string com o método base64"
      ],
      "metadata": {
        "id": "LUzgcN8k4Rfx"
      }
    },
    {
      "cell_type": "markdown",
      "source": [
        "Vamos separar o trecho codificado"
      ],
      "metadata": {
        "id": "nUHTa2J54rB9"
      }
    },
    {
      "cell_type": "code",
      "source": [
        "r = requests.get('https://sistemaswebb3-listados.b3.com.br/listedCompaniesProxy/CompanyCall/GetListedCashDividends/eyJsYW5ndWFnZSI6InB0LWJyIiwicGFnZU51bWJlciI6MSwicGFnZVNpemUiOjIwLCJ0cmFkaW5nTmFtZSI6IldFRyJ9')"
      ],
      "metadata": {
        "id": "ybWoUcHOj4kC"
      },
      "execution_count": 9,
      "outputs": []
    },
    {
      "cell_type": "code",
      "source": [
        "b64decode('eyJsYW5ndWFnZSI6InB0LWJyIiwicGFnZU51bWJlciI6MSwicGFnZVNpemUiOjIwLCJ0cmFkaW5nTmFtZSI6IldFRyJ9')"
      ],
      "metadata": {
        "colab": {
          "base_uri": "https://localhost:8080/"
        },
        "id": "S_YUkkYnkFTo",
        "outputId": "a6207488-4381-453a-d185-d44b53374722"
      },
      "execution_count": 12,
      "outputs": [
        {
          "output_type": "execute_result",
          "data": {
            "text/plain": [
              "b'{\"language\":\"pt-br\",\"pageNumber\":1,\"pageSize\":20,\"tradingName\":\"WEG\"}'"
            ]
          },
          "metadata": {},
          "execution_count": 12
        }
      ]
    },
    {
      "cell_type": "code",
      "source": [
        "b64decode('eyJsYW5ndWFnZSI6InB0LWJyIiwicGFnZU51bWJlciI6MSwicGFnZVNpemUiOjIwLCJ0cmFkaW5nTmFtZSI6IlZBTEUifQ==')"
      ],
      "metadata": {
        "colab": {
          "base_uri": "https://localhost:8080/"
        },
        "id": "ECnjkfOp4yW6",
        "outputId": "3cf557e5-8c79-442f-ea55-3995fe615b72"
      },
      "execution_count": 13,
      "outputs": [
        {
          "output_type": "execute_result",
          "data": {
            "text/plain": [
              "b'{\"language\":\"pt-br\",\"pageNumber\":1,\"pageSize\":20,\"tradingName\":\"VALE\"}'"
            ]
          },
          "metadata": {},
          "execution_count": 13
        }
      ]
    },
    {
      "cell_type": "markdown",
      "source": [
        "Conseguimos decodificar as strings!"
      ],
      "metadata": {
        "id": "bpvPm9kW476i"
      }
    },
    {
      "cell_type": "markdown",
      "source": [
        "## Codificação"
      ],
      "metadata": {
        "id": "uPKVQnEMyNt0"
      }
    },
    {
      "cell_type": "markdown",
      "source": [
        "Isso quer dizer que podemos fazer a operação inversa, isto é, passar uma string legivel e converter para ASCII"
      ],
      "metadata": {
        "id": "1Zv3Mt0b5Axs"
      }
    },
    {
      "cell_type": "code",
      "source": [
        "{\"language\":\"pt-br\",\"pageNumber\":1,\"pageSize\":20,\"tradingName\":\"TAESA\"}"
      ],
      "metadata": {
        "colab": {
          "base_uri": "https://localhost:8080/"
        },
        "id": "104WhQmpyFGy",
        "outputId": "7d85d7df-7bdc-4eed-d6c2-ec66a40644d5"
      },
      "execution_count": 61,
      "outputs": [
        {
          "output_type": "execute_result",
          "data": {
            "text/plain": [
              "{'language': 'pt-br', 'pageNumber': 1, 'pageSize': 20, 'tradingName': 'TAESA'}"
            ]
          },
          "metadata": {},
          "execution_count": 61
        }
      ]
    },
    {
      "cell_type": "code",
      "source": [
        "bytes(str({\"language\":\"pt-br\",\"pageNumber\":1,\"pageSize\":20,\"tradingName\":\"TAESA\"}), encoding = 'ascii')"
      ],
      "metadata": {
        "colab": {
          "base_uri": "https://localhost:8080/"
        },
        "id": "AJs9bEjsX60k",
        "outputId": "de424aa9-2245-4d52-f748-70bc7d8196d1"
      },
      "execution_count": 62,
      "outputs": [
        {
          "output_type": "execute_result",
          "data": {
            "text/plain": [
              "b\"{'language': 'pt-br', 'pageNumber': 1, 'pageSize': 20, 'tradingName': 'TAESA'}\""
            ]
          },
          "metadata": {},
          "execution_count": 62
        }
      ]
    },
    {
      "cell_type": "code",
      "source": [
        "request_codificado = bytes(str({\"language\":\"pt-br\",\"pageNumber\":1,\"pageSize\":20,\"tradingName\":\"TAESA\"}), encoding = 'ascii')"
      ],
      "metadata": {
        "id": "vEi8PVVcYYeY"
      },
      "execution_count": 63,
      "outputs": []
    },
    {
      "cell_type": "code",
      "source": [
        "b64encode(request_codificado).decode()"
      ],
      "metadata": {
        "colab": {
          "base_uri": "https://localhost:8080/",
          "height": 35
        },
        "id": "LB-jIJ5OYgEy",
        "outputId": "27be16c2-fee1-45f3-b522-faea5f69c100"
      },
      "execution_count": 64,
      "outputs": [
        {
          "output_type": "execute_result",
          "data": {
            "text/plain": [
              "'eydsYW5ndWFnZSc6ICdwdC1icicsICdwYWdlTnVtYmVyJzogMSwgJ3BhZ2VTaXplJzogMjAsICd0cmFkaW5nTmFtZSc6ICdUQUVTQSd9'"
            ],
            "application/vnd.google.colaboratory.intrinsic+json": {
              "type": "string"
            }
          },
          "metadata": {},
          "execution_count": 64
        }
      ]
    },
    {
      "cell_type": "code",
      "source": [
        "string = b64encode(request_codificado).decode()"
      ],
      "metadata": {
        "id": "vfGEPhcrvsuC"
      },
      "execution_count": null,
      "outputs": []
    },
    {
      "cell_type": "markdown",
      "source": [
        "## Obtenção dos dados"
      ],
      "metadata": {
        "id": "SfIqx2lyyTXU"
      }
    },
    {
      "cell_type": "markdown",
      "source": [
        "Basta jogar este trecho de string junto do resto da URL"
      ],
      "metadata": {
        "id": "fgBayzRlYlLo"
      }
    },
    {
      "cell_type": "code",
      "source": [
        "url_vale = 'https://sistemaswebb3-listados.b3.com.br/listedCompaniesProxy/CompanyCall/GetListedCashDividends/' + string\n",
        "dados_brutos = requests.get(url_vale)"
      ],
      "metadata": {
        "id": "rShFhAo8vvaC"
      },
      "execution_count": null,
      "outputs": []
    },
    {
      "cell_type": "code",
      "source": [
        "pd.DataFrame(dados_brutos.json()['results'])"
      ],
      "metadata": {
        "id": "5lEhplVIvztO"
      },
      "execution_count": null,
      "outputs": []
    },
    {
      "cell_type": "code",
      "source": [
        "params = {\"language\":\"pt-br\",\"pageNumber\":2,\"pageSize\":20,\"tradingName\":'TAESA'}\n",
        "\n",
        "bytes(str(params), encoding=\"ascii\")"
      ],
      "metadata": {
        "colab": {
          "base_uri": "https://localhost:8080/"
        },
        "id": "eLPXS11UyF7X",
        "outputId": "4dfd4125-4c07-4906-b7d9-06021c244f42"
      },
      "execution_count": 114,
      "outputs": [
        {
          "output_type": "execute_result",
          "data": {
            "text/plain": [
              "b\"{'language': 'pt-br', 'pageNumber': 2, 'pageSize': 20, 'tradingName': 'TAESA'}\""
            ]
          },
          "metadata": {},
          "execution_count": 114
        }
      ]
    },
    {
      "cell_type": "code",
      "source": [
        "string = b64encode(bytes(str(params), encoding=\"ascii\")).decode()"
      ],
      "metadata": {
        "id": "SrJUpRxWzL5f"
      },
      "execution_count": 115,
      "outputs": []
    },
    {
      "cell_type": "code",
      "source": [
        "string"
      ],
      "metadata": {
        "colab": {
          "base_uri": "https://localhost:8080/",
          "height": 35
        },
        "id": "AlP61LNX2-4w",
        "outputId": "881871b7-67e6-4fa5-a914-8b5765c1fd7e"
      },
      "execution_count": 116,
      "outputs": [
        {
          "output_type": "execute_result",
          "data": {
            "text/plain": [
              "'eydsYW5ndWFnZSc6ICdwdC1icicsICdwYWdlTnVtYmVyJzogMiwgJ3BhZ2VTaXplJzogMjAsICd0cmFkaW5nTmFtZSc6ICdUQUVTQSd9'"
            ],
            "application/vnd.google.colaboratory.intrinsic+json": {
              "type": "string"
            }
          },
          "metadata": {},
          "execution_count": 116
        }
      ]
    },
    {
      "cell_type": "code",
      "source": [
        "url_vale = 'https://sistemaswebb3-listados.b3.com.br/listedCompaniesProxy/CompanyCall/GetListedCashDividends/' + string\n",
        "dados_brutos = requests.get(url_vale)"
      ],
      "metadata": {
        "id": "fXUbNX9JzrBF"
      },
      "execution_count": 117,
      "outputs": []
    },
    {
      "cell_type": "code",
      "source": [
        "pd.DataFrame(dados_brutos.json()['results'])"
      ],
      "metadata": {
        "colab": {
          "base_uri": "https://localhost:8080/",
          "height": 852
        },
        "id": "2KnhODz7zjAW",
        "outputId": "86c2c34b-beed-40ec-d6d1-d51daf5b9008"
      },
      "execution_count": 118,
      "outputs": [
        {
          "output_type": "execute_result",
          "data": {
            "text/plain": [
              "   typeStock dateApproval      valueCash ratio  corporateAction  \\\n",
              "0         ON   11/11/2020  0,39745865966     1        DIVIDENDO   \n",
              "1         ON   11/11/2020  0,05652210279     1  JRS CAP PROPRIO   \n",
              "2         ON   12/08/2020  0,21339431382     1        DIVIDENDO   \n",
              "3         ON   12/08/2020  0,05685961985     1  JRS CAP PROPRIO   \n",
              "4         ON   14/05/2020  0,17459346518     1        DIVIDENDO   \n",
              "5         ON   14/05/2020  0,05929047221     1  JRS CAP PROPRIO   \n",
              "6         ON   30/04/2020  0,05976064924     1        DIVIDENDO   \n",
              "7         ON   11/12/2019    0,060138821     1  JRS CAP PROPRIO   \n",
              "8         ON   13/11/2019  0,11722944853     1        DIVIDENDO   \n",
              "9         ON   13/11/2019   0,0632674288     1  JRS CAP PROPRIO   \n",
              "10        ON   05/08/2019  0,17418779284     1        DIVIDENDO   \n",
              "11        ON   05/08/2019  0,06648124497     1  JRS CAP PROPRIO   \n",
              "12        ON   14/05/2019  0,01826082109     1        DIVIDENDO   \n",
              "13        ON   14/05/2019  0,07535134234     1  JRS CAP PROPRIO   \n",
              "14        ON   29/04/2019  0,05531699619     1        DIVIDENDO   \n",
              "15        ON   12/12/2018  0,13309187623     1  JRS CAP PROPRIO   \n",
              "16        ON   06/11/2018  0,23719027583     1        DIVIDENDO   \n",
              "17        ON   06/08/2018  0,08884848967     1        DIVIDENDO   \n",
              "18        ON   06/08/2018  0,07017442021     1  JRS CAP PROPRIO   \n",
              "19        ON   09/05/2018  0,18198578763     1        DIVIDENDO   \n",
              "\n",
              "   lastDatePriorEx dateClosingPricePriorExDate closingPricePriorExDate  \\\n",
              "0       16/11/2020                  16/11/2020                   11,42   \n",
              "1       16/11/2020                  16/11/2020                   11,42   \n",
              "2       17/08/2020                  17/08/2020                    9,78   \n",
              "3       17/08/2020                  17/08/2020                    9,78   \n",
              "4       19/05/2020                  19/05/2020                    9,36   \n",
              "5       19/05/2020                  19/05/2020                    9,36   \n",
              "6       06/05/2020                  06/05/2020                    9,13   \n",
              "7       16/12/2019                  16/12/2019                   10,19   \n",
              "8       19/11/2019                  19/11/2019                    9,40   \n",
              "9       19/11/2019                  19/11/2019                    9,40   \n",
              "10      08/08/2019                  08/08/2019                   10,07   \n",
              "11      08/08/2019                  08/08/2019                   10,07   \n",
              "12      17/05/2019                  17/05/2019                    8,66   \n",
              "13      17/05/2019                  17/05/2019                    8,66   \n",
              "14      03/05/2019                  03/05/2019                    9,35   \n",
              "15      17/12/2018                  17/12/2018                    8,53   \n",
              "16      09/11/2018                  09/11/2018                    8,05   \n",
              "17      09/08/2018                  09/08/2018                    7,00   \n",
              "18      09/08/2018                  09/08/2018                    7,00   \n",
              "19      14/05/2018                  14/05/2018                    6,95   \n",
              "\n",
              "   quotedPerShares corporateActionPrice  lastDateTimePriorEx  \n",
              "0                1             3,480374  2020-11-16T00:00:00  \n",
              "1                1             0,494940  2020-11-16T00:00:00  \n",
              "2                1             2,181946  2020-08-17T00:00:00  \n",
              "3                1             0,581387  2020-08-17T00:00:00  \n",
              "4                1             1,865315  2020-05-19T00:00:00  \n",
              "5                1             0,633445  2020-05-19T00:00:00  \n",
              "6                1             0,654553  2020-05-06T00:00:00  \n",
              "7                1             0,590175  2019-12-16T00:00:00  \n",
              "8                1             1,247122  2019-11-19T00:00:00  \n",
              "9                1             0,673058  2019-11-19T00:00:00  \n",
              "10               1             1,729770  2019-08-08T00:00:00  \n",
              "11               1             0,660191  2019-08-08T00:00:00  \n",
              "12               1             0,210864  2019-05-17T00:00:00  \n",
              "13               1             0,870108  2019-05-17T00:00:00  \n",
              "14               1             0,591626  2019-05-03T00:00:00  \n",
              "15               1             1,560280  2018-12-17T00:00:00  \n",
              "16               1             2,946463  2018-11-09T00:00:00  \n",
              "17               1             1,269264  2018-08-09T00:00:00  \n",
              "18               1             1,002492  2018-08-09T00:00:00  \n",
              "19               1             2,618501  2018-05-14T00:00:00  "
            ],
            "text/html": [
              "\n",
              "  <div id=\"df-cdc1c869-d7bf-4cce-9cb3-8c6be1e7fe0f\" class=\"colab-df-container\">\n",
              "    <div>\n",
              "<style scoped>\n",
              "    .dataframe tbody tr th:only-of-type {\n",
              "        vertical-align: middle;\n",
              "    }\n",
              "\n",
              "    .dataframe tbody tr th {\n",
              "        vertical-align: top;\n",
              "    }\n",
              "\n",
              "    .dataframe thead th {\n",
              "        text-align: right;\n",
              "    }\n",
              "</style>\n",
              "<table border=\"1\" class=\"dataframe\">\n",
              "  <thead>\n",
              "    <tr style=\"text-align: right;\">\n",
              "      <th></th>\n",
              "      <th>typeStock</th>\n",
              "      <th>dateApproval</th>\n",
              "      <th>valueCash</th>\n",
              "      <th>ratio</th>\n",
              "      <th>corporateAction</th>\n",
              "      <th>lastDatePriorEx</th>\n",
              "      <th>dateClosingPricePriorExDate</th>\n",
              "      <th>closingPricePriorExDate</th>\n",
              "      <th>quotedPerShares</th>\n",
              "      <th>corporateActionPrice</th>\n",
              "      <th>lastDateTimePriorEx</th>\n",
              "    </tr>\n",
              "  </thead>\n",
              "  <tbody>\n",
              "    <tr>\n",
              "      <th>0</th>\n",
              "      <td>ON</td>\n",
              "      <td>11/11/2020</td>\n",
              "      <td>0,39745865966</td>\n",
              "      <td>1</td>\n",
              "      <td>DIVIDENDO</td>\n",
              "      <td>16/11/2020</td>\n",
              "      <td>16/11/2020</td>\n",
              "      <td>11,42</td>\n",
              "      <td>1</td>\n",
              "      <td>3,480374</td>\n",
              "      <td>2020-11-16T00:00:00</td>\n",
              "    </tr>\n",
              "    <tr>\n",
              "      <th>1</th>\n",
              "      <td>ON</td>\n",
              "      <td>11/11/2020</td>\n",
              "      <td>0,05652210279</td>\n",
              "      <td>1</td>\n",
              "      <td>JRS CAP PROPRIO</td>\n",
              "      <td>16/11/2020</td>\n",
              "      <td>16/11/2020</td>\n",
              "      <td>11,42</td>\n",
              "      <td>1</td>\n",
              "      <td>0,494940</td>\n",
              "      <td>2020-11-16T00:00:00</td>\n",
              "    </tr>\n",
              "    <tr>\n",
              "      <th>2</th>\n",
              "      <td>ON</td>\n",
              "      <td>12/08/2020</td>\n",
              "      <td>0,21339431382</td>\n",
              "      <td>1</td>\n",
              "      <td>DIVIDENDO</td>\n",
              "      <td>17/08/2020</td>\n",
              "      <td>17/08/2020</td>\n",
              "      <td>9,78</td>\n",
              "      <td>1</td>\n",
              "      <td>2,181946</td>\n",
              "      <td>2020-08-17T00:00:00</td>\n",
              "    </tr>\n",
              "    <tr>\n",
              "      <th>3</th>\n",
              "      <td>ON</td>\n",
              "      <td>12/08/2020</td>\n",
              "      <td>0,05685961985</td>\n",
              "      <td>1</td>\n",
              "      <td>JRS CAP PROPRIO</td>\n",
              "      <td>17/08/2020</td>\n",
              "      <td>17/08/2020</td>\n",
              "      <td>9,78</td>\n",
              "      <td>1</td>\n",
              "      <td>0,581387</td>\n",
              "      <td>2020-08-17T00:00:00</td>\n",
              "    </tr>\n",
              "    <tr>\n",
              "      <th>4</th>\n",
              "      <td>ON</td>\n",
              "      <td>14/05/2020</td>\n",
              "      <td>0,17459346518</td>\n",
              "      <td>1</td>\n",
              "      <td>DIVIDENDO</td>\n",
              "      <td>19/05/2020</td>\n",
              "      <td>19/05/2020</td>\n",
              "      <td>9,36</td>\n",
              "      <td>1</td>\n",
              "      <td>1,865315</td>\n",
              "      <td>2020-05-19T00:00:00</td>\n",
              "    </tr>\n",
              "    <tr>\n",
              "      <th>5</th>\n",
              "      <td>ON</td>\n",
              "      <td>14/05/2020</td>\n",
              "      <td>0,05929047221</td>\n",
              "      <td>1</td>\n",
              "      <td>JRS CAP PROPRIO</td>\n",
              "      <td>19/05/2020</td>\n",
              "      <td>19/05/2020</td>\n",
              "      <td>9,36</td>\n",
              "      <td>1</td>\n",
              "      <td>0,633445</td>\n",
              "      <td>2020-05-19T00:00:00</td>\n",
              "    </tr>\n",
              "    <tr>\n",
              "      <th>6</th>\n",
              "      <td>ON</td>\n",
              "      <td>30/04/2020</td>\n",
              "      <td>0,05976064924</td>\n",
              "      <td>1</td>\n",
              "      <td>DIVIDENDO</td>\n",
              "      <td>06/05/2020</td>\n",
              "      <td>06/05/2020</td>\n",
              "      <td>9,13</td>\n",
              "      <td>1</td>\n",
              "      <td>0,654553</td>\n",
              "      <td>2020-05-06T00:00:00</td>\n",
              "    </tr>\n",
              "    <tr>\n",
              "      <th>7</th>\n",
              "      <td>ON</td>\n",
              "      <td>11/12/2019</td>\n",
              "      <td>0,060138821</td>\n",
              "      <td>1</td>\n",
              "      <td>JRS CAP PROPRIO</td>\n",
              "      <td>16/12/2019</td>\n",
              "      <td>16/12/2019</td>\n",
              "      <td>10,19</td>\n",
              "      <td>1</td>\n",
              "      <td>0,590175</td>\n",
              "      <td>2019-12-16T00:00:00</td>\n",
              "    </tr>\n",
              "    <tr>\n",
              "      <th>8</th>\n",
              "      <td>ON</td>\n",
              "      <td>13/11/2019</td>\n",
              "      <td>0,11722944853</td>\n",
              "      <td>1</td>\n",
              "      <td>DIVIDENDO</td>\n",
              "      <td>19/11/2019</td>\n",
              "      <td>19/11/2019</td>\n",
              "      <td>9,40</td>\n",
              "      <td>1</td>\n",
              "      <td>1,247122</td>\n",
              "      <td>2019-11-19T00:00:00</td>\n",
              "    </tr>\n",
              "    <tr>\n",
              "      <th>9</th>\n",
              "      <td>ON</td>\n",
              "      <td>13/11/2019</td>\n",
              "      <td>0,0632674288</td>\n",
              "      <td>1</td>\n",
              "      <td>JRS CAP PROPRIO</td>\n",
              "      <td>19/11/2019</td>\n",
              "      <td>19/11/2019</td>\n",
              "      <td>9,40</td>\n",
              "      <td>1</td>\n",
              "      <td>0,673058</td>\n",
              "      <td>2019-11-19T00:00:00</td>\n",
              "    </tr>\n",
              "    <tr>\n",
              "      <th>10</th>\n",
              "      <td>ON</td>\n",
              "      <td>05/08/2019</td>\n",
              "      <td>0,17418779284</td>\n",
              "      <td>1</td>\n",
              "      <td>DIVIDENDO</td>\n",
              "      <td>08/08/2019</td>\n",
              "      <td>08/08/2019</td>\n",
              "      <td>10,07</td>\n",
              "      <td>1</td>\n",
              "      <td>1,729770</td>\n",
              "      <td>2019-08-08T00:00:00</td>\n",
              "    </tr>\n",
              "    <tr>\n",
              "      <th>11</th>\n",
              "      <td>ON</td>\n",
              "      <td>05/08/2019</td>\n",
              "      <td>0,06648124497</td>\n",
              "      <td>1</td>\n",
              "      <td>JRS CAP PROPRIO</td>\n",
              "      <td>08/08/2019</td>\n",
              "      <td>08/08/2019</td>\n",
              "      <td>10,07</td>\n",
              "      <td>1</td>\n",
              "      <td>0,660191</td>\n",
              "      <td>2019-08-08T00:00:00</td>\n",
              "    </tr>\n",
              "    <tr>\n",
              "      <th>12</th>\n",
              "      <td>ON</td>\n",
              "      <td>14/05/2019</td>\n",
              "      <td>0,01826082109</td>\n",
              "      <td>1</td>\n",
              "      <td>DIVIDENDO</td>\n",
              "      <td>17/05/2019</td>\n",
              "      <td>17/05/2019</td>\n",
              "      <td>8,66</td>\n",
              "      <td>1</td>\n",
              "      <td>0,210864</td>\n",
              "      <td>2019-05-17T00:00:00</td>\n",
              "    </tr>\n",
              "    <tr>\n",
              "      <th>13</th>\n",
              "      <td>ON</td>\n",
              "      <td>14/05/2019</td>\n",
              "      <td>0,07535134234</td>\n",
              "      <td>1</td>\n",
              "      <td>JRS CAP PROPRIO</td>\n",
              "      <td>17/05/2019</td>\n",
              "      <td>17/05/2019</td>\n",
              "      <td>8,66</td>\n",
              "      <td>1</td>\n",
              "      <td>0,870108</td>\n",
              "      <td>2019-05-17T00:00:00</td>\n",
              "    </tr>\n",
              "    <tr>\n",
              "      <th>14</th>\n",
              "      <td>ON</td>\n",
              "      <td>29/04/2019</td>\n",
              "      <td>0,05531699619</td>\n",
              "      <td>1</td>\n",
              "      <td>DIVIDENDO</td>\n",
              "      <td>03/05/2019</td>\n",
              "      <td>03/05/2019</td>\n",
              "      <td>9,35</td>\n",
              "      <td>1</td>\n",
              "      <td>0,591626</td>\n",
              "      <td>2019-05-03T00:00:00</td>\n",
              "    </tr>\n",
              "    <tr>\n",
              "      <th>15</th>\n",
              "      <td>ON</td>\n",
              "      <td>12/12/2018</td>\n",
              "      <td>0,13309187623</td>\n",
              "      <td>1</td>\n",
              "      <td>JRS CAP PROPRIO</td>\n",
              "      <td>17/12/2018</td>\n",
              "      <td>17/12/2018</td>\n",
              "      <td>8,53</td>\n",
              "      <td>1</td>\n",
              "      <td>1,560280</td>\n",
              "      <td>2018-12-17T00:00:00</td>\n",
              "    </tr>\n",
              "    <tr>\n",
              "      <th>16</th>\n",
              "      <td>ON</td>\n",
              "      <td>06/11/2018</td>\n",
              "      <td>0,23719027583</td>\n",
              "      <td>1</td>\n",
              "      <td>DIVIDENDO</td>\n",
              "      <td>09/11/2018</td>\n",
              "      <td>09/11/2018</td>\n",
              "      <td>8,05</td>\n",
              "      <td>1</td>\n",
              "      <td>2,946463</td>\n",
              "      <td>2018-11-09T00:00:00</td>\n",
              "    </tr>\n",
              "    <tr>\n",
              "      <th>17</th>\n",
              "      <td>ON</td>\n",
              "      <td>06/08/2018</td>\n",
              "      <td>0,08884848967</td>\n",
              "      <td>1</td>\n",
              "      <td>DIVIDENDO</td>\n",
              "      <td>09/08/2018</td>\n",
              "      <td>09/08/2018</td>\n",
              "      <td>7,00</td>\n",
              "      <td>1</td>\n",
              "      <td>1,269264</td>\n",
              "      <td>2018-08-09T00:00:00</td>\n",
              "    </tr>\n",
              "    <tr>\n",
              "      <th>18</th>\n",
              "      <td>ON</td>\n",
              "      <td>06/08/2018</td>\n",
              "      <td>0,07017442021</td>\n",
              "      <td>1</td>\n",
              "      <td>JRS CAP PROPRIO</td>\n",
              "      <td>09/08/2018</td>\n",
              "      <td>09/08/2018</td>\n",
              "      <td>7,00</td>\n",
              "      <td>1</td>\n",
              "      <td>1,002492</td>\n",
              "      <td>2018-08-09T00:00:00</td>\n",
              "    </tr>\n",
              "    <tr>\n",
              "      <th>19</th>\n",
              "      <td>ON</td>\n",
              "      <td>09/05/2018</td>\n",
              "      <td>0,18198578763</td>\n",
              "      <td>1</td>\n",
              "      <td>DIVIDENDO</td>\n",
              "      <td>14/05/2018</td>\n",
              "      <td>14/05/2018</td>\n",
              "      <td>6,95</td>\n",
              "      <td>1</td>\n",
              "      <td>2,618501</td>\n",
              "      <td>2018-05-14T00:00:00</td>\n",
              "    </tr>\n",
              "  </tbody>\n",
              "</table>\n",
              "</div>\n",
              "    <div class=\"colab-df-buttons\">\n",
              "\n",
              "  <div class=\"colab-df-container\">\n",
              "    <button class=\"colab-df-convert\" onclick=\"convertToInteractive('df-cdc1c869-d7bf-4cce-9cb3-8c6be1e7fe0f')\"\n",
              "            title=\"Convert this dataframe to an interactive table.\"\n",
              "            style=\"display:none;\">\n",
              "\n",
              "  <svg xmlns=\"http://www.w3.org/2000/svg\" height=\"24px\" viewBox=\"0 -960 960 960\">\n",
              "    <path d=\"M120-120v-720h720v720H120Zm60-500h600v-160H180v160Zm220 220h160v-160H400v160Zm0 220h160v-160H400v160ZM180-400h160v-160H180v160Zm440 0h160v-160H620v160ZM180-180h160v-160H180v160Zm440 0h160v-160H620v160Z\"/>\n",
              "  </svg>\n",
              "    </button>\n",
              "\n",
              "  <style>\n",
              "    .colab-df-container {\n",
              "      display:flex;\n",
              "      gap: 12px;\n",
              "    }\n",
              "\n",
              "    .colab-df-convert {\n",
              "      background-color: #E8F0FE;\n",
              "      border: none;\n",
              "      border-radius: 50%;\n",
              "      cursor: pointer;\n",
              "      display: none;\n",
              "      fill: #1967D2;\n",
              "      height: 32px;\n",
              "      padding: 0 0 0 0;\n",
              "      width: 32px;\n",
              "    }\n",
              "\n",
              "    .colab-df-convert:hover {\n",
              "      background-color: #E2EBFA;\n",
              "      box-shadow: 0px 1px 2px rgba(60, 64, 67, 0.3), 0px 1px 3px 1px rgba(60, 64, 67, 0.15);\n",
              "      fill: #174EA6;\n",
              "    }\n",
              "\n",
              "    .colab-df-buttons div {\n",
              "      margin-bottom: 4px;\n",
              "    }\n",
              "\n",
              "    [theme=dark] .colab-df-convert {\n",
              "      background-color: #3B4455;\n",
              "      fill: #D2E3FC;\n",
              "    }\n",
              "\n",
              "    [theme=dark] .colab-df-convert:hover {\n",
              "      background-color: #434B5C;\n",
              "      box-shadow: 0px 1px 3px 1px rgba(0, 0, 0, 0.15);\n",
              "      filter: drop-shadow(0px 1px 2px rgba(0, 0, 0, 0.3));\n",
              "      fill: #FFFFFF;\n",
              "    }\n",
              "  </style>\n",
              "\n",
              "    <script>\n",
              "      const buttonEl =\n",
              "        document.querySelector('#df-cdc1c869-d7bf-4cce-9cb3-8c6be1e7fe0f button.colab-df-convert');\n",
              "      buttonEl.style.display =\n",
              "        google.colab.kernel.accessAllowed ? 'block' : 'none';\n",
              "\n",
              "      async function convertToInteractive(key) {\n",
              "        const element = document.querySelector('#df-cdc1c869-d7bf-4cce-9cb3-8c6be1e7fe0f');\n",
              "        const dataTable =\n",
              "          await google.colab.kernel.invokeFunction('convertToInteractive',\n",
              "                                                    [key], {});\n",
              "        if (!dataTable) return;\n",
              "\n",
              "        const docLinkHtml = 'Like what you see? Visit the ' +\n",
              "          '<a target=\"_blank\" href=https://colab.research.google.com/notebooks/data_table.ipynb>data table notebook</a>'\n",
              "          + ' to learn more about interactive tables.';\n",
              "        element.innerHTML = '';\n",
              "        dataTable['output_type'] = 'display_data';\n",
              "        await google.colab.output.renderOutput(dataTable, element);\n",
              "        const docLink = document.createElement('div');\n",
              "        docLink.innerHTML = docLinkHtml;\n",
              "        element.appendChild(docLink);\n",
              "      }\n",
              "    </script>\n",
              "  </div>\n",
              "\n",
              "\n",
              "<div id=\"df-41b16911-dc40-41af-95a4-25261642e5d2\">\n",
              "  <button class=\"colab-df-quickchart\" onclick=\"quickchart('df-41b16911-dc40-41af-95a4-25261642e5d2')\"\n",
              "            title=\"Suggest charts\"\n",
              "            style=\"display:none;\">\n",
              "\n",
              "<svg xmlns=\"http://www.w3.org/2000/svg\" height=\"24px\"viewBox=\"0 0 24 24\"\n",
              "     width=\"24px\">\n",
              "    <g>\n",
              "        <path d=\"M19 3H5c-1.1 0-2 .9-2 2v14c0 1.1.9 2 2 2h14c1.1 0 2-.9 2-2V5c0-1.1-.9-2-2-2zM9 17H7v-7h2v7zm4 0h-2V7h2v10zm4 0h-2v-4h2v4z\"/>\n",
              "    </g>\n",
              "</svg>\n",
              "  </button>\n",
              "\n",
              "<style>\n",
              "  .colab-df-quickchart {\n",
              "      --bg-color: #E8F0FE;\n",
              "      --fill-color: #1967D2;\n",
              "      --hover-bg-color: #E2EBFA;\n",
              "      --hover-fill-color: #174EA6;\n",
              "      --disabled-fill-color: #AAA;\n",
              "      --disabled-bg-color: #DDD;\n",
              "  }\n",
              "\n",
              "  [theme=dark] .colab-df-quickchart {\n",
              "      --bg-color: #3B4455;\n",
              "      --fill-color: #D2E3FC;\n",
              "      --hover-bg-color: #434B5C;\n",
              "      --hover-fill-color: #FFFFFF;\n",
              "      --disabled-bg-color: #3B4455;\n",
              "      --disabled-fill-color: #666;\n",
              "  }\n",
              "\n",
              "  .colab-df-quickchart {\n",
              "    background-color: var(--bg-color);\n",
              "    border: none;\n",
              "    border-radius: 50%;\n",
              "    cursor: pointer;\n",
              "    display: none;\n",
              "    fill: var(--fill-color);\n",
              "    height: 32px;\n",
              "    padding: 0;\n",
              "    width: 32px;\n",
              "  }\n",
              "\n",
              "  .colab-df-quickchart:hover {\n",
              "    background-color: var(--hover-bg-color);\n",
              "    box-shadow: 0 1px 2px rgba(60, 64, 67, 0.3), 0 1px 3px 1px rgba(60, 64, 67, 0.15);\n",
              "    fill: var(--button-hover-fill-color);\n",
              "  }\n",
              "\n",
              "  .colab-df-quickchart-complete:disabled,\n",
              "  .colab-df-quickchart-complete:disabled:hover {\n",
              "    background-color: var(--disabled-bg-color);\n",
              "    fill: var(--disabled-fill-color);\n",
              "    box-shadow: none;\n",
              "  }\n",
              "\n",
              "  .colab-df-spinner {\n",
              "    border: 2px solid var(--fill-color);\n",
              "    border-color: transparent;\n",
              "    border-bottom-color: var(--fill-color);\n",
              "    animation:\n",
              "      spin 1s steps(1) infinite;\n",
              "  }\n",
              "\n",
              "  @keyframes spin {\n",
              "    0% {\n",
              "      border-color: transparent;\n",
              "      border-bottom-color: var(--fill-color);\n",
              "      border-left-color: var(--fill-color);\n",
              "    }\n",
              "    20% {\n",
              "      border-color: transparent;\n",
              "      border-left-color: var(--fill-color);\n",
              "      border-top-color: var(--fill-color);\n",
              "    }\n",
              "    30% {\n",
              "      border-color: transparent;\n",
              "      border-left-color: var(--fill-color);\n",
              "      border-top-color: var(--fill-color);\n",
              "      border-right-color: var(--fill-color);\n",
              "    }\n",
              "    40% {\n",
              "      border-color: transparent;\n",
              "      border-right-color: var(--fill-color);\n",
              "      border-top-color: var(--fill-color);\n",
              "    }\n",
              "    60% {\n",
              "      border-color: transparent;\n",
              "      border-right-color: var(--fill-color);\n",
              "    }\n",
              "    80% {\n",
              "      border-color: transparent;\n",
              "      border-right-color: var(--fill-color);\n",
              "      border-bottom-color: var(--fill-color);\n",
              "    }\n",
              "    90% {\n",
              "      border-color: transparent;\n",
              "      border-bottom-color: var(--fill-color);\n",
              "    }\n",
              "  }\n",
              "</style>\n",
              "\n",
              "  <script>\n",
              "    async function quickchart(key) {\n",
              "      const quickchartButtonEl =\n",
              "        document.querySelector('#' + key + ' button');\n",
              "      quickchartButtonEl.disabled = true;  // To prevent multiple clicks.\n",
              "      quickchartButtonEl.classList.add('colab-df-spinner');\n",
              "      try {\n",
              "        const charts = await google.colab.kernel.invokeFunction(\n",
              "            'suggestCharts', [key], {});\n",
              "      } catch (error) {\n",
              "        console.error('Error during call to suggestCharts:', error);\n",
              "      }\n",
              "      quickchartButtonEl.classList.remove('colab-df-spinner');\n",
              "      quickchartButtonEl.classList.add('colab-df-quickchart-complete');\n",
              "    }\n",
              "    (() => {\n",
              "      let quickchartButtonEl =\n",
              "        document.querySelector('#df-41b16911-dc40-41af-95a4-25261642e5d2 button');\n",
              "      quickchartButtonEl.style.display =\n",
              "        google.colab.kernel.accessAllowed ? 'block' : 'none';\n",
              "    })();\n",
              "  </script>\n",
              "</div>\n",
              "    </div>\n",
              "  </div>\n"
            ],
            "application/vnd.google.colaboratory.intrinsic+json": {
              "type": "dataframe",
              "summary": "{\n  \"name\": \"pd\",\n  \"rows\": 20,\n  \"fields\": [\n    {\n      \"column\": \"typeStock\",\n      \"properties\": {\n        \"dtype\": \"category\",\n        \"num_unique_values\": 1,\n        \"samples\": [\n          \"ON\"\n        ],\n        \"semantic_type\": \"\",\n        \"description\": \"\"\n      }\n    },\n    {\n      \"column\": \"dateApproval\",\n      \"properties\": {\n        \"dtype\": \"string\",\n        \"num_unique_values\": 13,\n        \"samples\": [\n          \"06/08/2018\"\n        ],\n        \"semantic_type\": \"\",\n        \"description\": \"\"\n      }\n    },\n    {\n      \"column\": \"valueCash\",\n      \"properties\": {\n        \"dtype\": \"string\",\n        \"num_unique_values\": 20,\n        \"samples\": [\n          \"0,39745865966\"\n        ],\n        \"semantic_type\": \"\",\n        \"description\": \"\"\n      }\n    },\n    {\n      \"column\": \"ratio\",\n      \"properties\": {\n        \"dtype\": \"category\",\n        \"num_unique_values\": 1,\n        \"samples\": [\n          \"1\"\n        ],\n        \"semantic_type\": \"\",\n        \"description\": \"\"\n      }\n    },\n    {\n      \"column\": \"corporateAction\",\n      \"properties\": {\n        \"dtype\": \"category\",\n        \"num_unique_values\": 2,\n        \"samples\": [\n          \"JRS CAP PROPRIO\"\n        ],\n        \"semantic_type\": \"\",\n        \"description\": \"\"\n      }\n    },\n    {\n      \"column\": \"lastDatePriorEx\",\n      \"properties\": {\n        \"dtype\": \"object\",\n        \"num_unique_values\": 13,\n        \"samples\": [\n          \"09/08/2018\"\n        ],\n        \"semantic_type\": \"\",\n        \"description\": \"\"\n      }\n    },\n    {\n      \"column\": \"dateClosingPricePriorExDate\",\n      \"properties\": {\n        \"dtype\": \"object\",\n        \"num_unique_values\": 13,\n        \"samples\": [\n          \"09/08/2018\"\n        ],\n        \"semantic_type\": \"\",\n        \"description\": \"\"\n      }\n    },\n    {\n      \"column\": \"closingPricePriorExDate\",\n      \"properties\": {\n        \"dtype\": \"string\",\n        \"num_unique_values\": 13,\n        \"samples\": [\n          \"7,00\"\n        ],\n        \"semantic_type\": \"\",\n        \"description\": \"\"\n      }\n    },\n    {\n      \"column\": \"quotedPerShares\",\n      \"properties\": {\n        \"dtype\": \"category\",\n        \"num_unique_values\": 1,\n        \"samples\": [\n          \"1\"\n        ],\n        \"semantic_type\": \"\",\n        \"description\": \"\"\n      }\n    },\n    {\n      \"column\": \"corporateActionPrice\",\n      \"properties\": {\n        \"dtype\": \"string\",\n        \"num_unique_values\": 20,\n        \"samples\": [\n          \"3,480374\"\n        ],\n        \"semantic_type\": \"\",\n        \"description\": \"\"\n      }\n    },\n    {\n      \"column\": \"lastDateTimePriorEx\",\n      \"properties\": {\n        \"dtype\": \"object\",\n        \"num_unique_values\": 13,\n        \"samples\": [\n          \"2018-08-09T00:00:00\"\n        ],\n        \"semantic_type\": \"\",\n        \"description\": \"\"\n      }\n    }\n  ]\n}"
            }
          },
          "metadata": {},
          "execution_count": 118
        }
      ]
    },
    {
      "cell_type": "markdown",
      "source": [
        "Os alunos do PMF terão acesso a um case exclusivo com a continuação deste processo de obtenção, onde vou mostrar como automatizar a extração dos dados de dividendos para várias empresas"
      ],
      "metadata": {
        "id": "mCDjAmyh1SRL"
      }
    },
    {
      "cell_type": "markdown",
      "source": [
        "## Comparativo com a yfinance"
      ],
      "metadata": {
        "id": "NuLXd1Et-4kT"
      }
    },
    {
      "cell_type": "markdown",
      "source": [
        "Comparar com: https://www.infomoney.com.br/cotacoes/b3/acao/taesa-taee3/proventos/"
      ],
      "metadata": {
        "id": "3itlncmD-9dd"
      }
    },
    {
      "cell_type": "code",
      "source": [
        "import yfinance as yf\n",
        "papel = yf.Ticker('TAEE3.SA')\n",
        "dados_taesa = papel.history(start = '2020-01-01')"
      ],
      "metadata": {
        "id": "zraIrkP-1f-T"
      },
      "execution_count": 127,
      "outputs": []
    },
    {
      "cell_type": "code",
      "source": [
        "dados_taesa[dados_taesa['Dividends'] != 0]"
      ],
      "metadata": {
        "colab": {
          "base_uri": "https://localhost:8080/",
          "height": 644
        },
        "id": "c8zbg-OD15rj",
        "outputId": "b0c7c6d5-34ce-466c-fca0-ca9a0581e58f"
      },
      "execution_count": 128,
      "outputs": [
        {
          "output_type": "execute_result",
          "data": {
            "text/plain": [
              "                                Open       High        Low      Close  Volume  \\\n",
              "Date                                                                            \n",
              "2020-05-07 00:00:00-03:00   5.954651   6.122935   5.760478   5.831675   34200   \n",
              "2020-05-20 00:00:00-03:00   6.100618   6.127172   5.941299   6.007682   35800   \n",
              "2020-08-18 00:00:00-03:00   6.608512   6.669955   6.431010   6.492453   79000   \n",
              "2020-11-17 00:00:00-03:00   7.706809   7.706809   7.450863   7.664151  181600   \n",
              "2020-12-16 00:00:00-03:00   8.021556   8.021556   7.871554   7.942984   74500   \n",
              "2021-05-05 00:00:00-03:00   9.665738   9.985204   9.004515   9.903481  245400   \n",
              "2021-05-19 00:00:00-03:00   9.913082  10.182042   9.682546  10.028351  107600   \n",
              "2021-12-07 00:00:00-03:00   9.782258   9.798255   9.582294   9.582294  191600   \n",
              "2022-05-10 00:00:00-03:00  11.620466  11.862559  11.386721  11.436809  194600   \n",
              "2022-08-16 00:00:00-03:00  12.225882  12.225882  11.232260  11.888915  251600   \n",
              "2022-11-16 00:00:00-03:00  11.060802  11.112811  10.731405  10.766078  365500   \n",
              "2023-01-11 00:00:00-03:00  10.352911  10.442937  10.217874  10.442937  298200   \n",
              "2023-05-04 00:00:00-03:00  10.997067  11.006088  10.383613  10.654255  312000   \n",
              "2023-08-08 00:00:00-03:00  11.083367  11.083367  10.879833  10.916840  352500   \n",
              "2023-11-14 00:00:00-03:00  11.100386  11.429634  11.006315  11.420228  205200   \n",
              "2024-01-04 00:00:00-03:00  11.926818  12.022539  11.821526  11.821526  114400   \n",
              "2024-05-06 00:00:00-03:00  11.538226  11.716040  11.311017  11.696283  215200   \n",
              "2024-05-14 00:00:00-03:00  11.550000  11.550000  11.460000  11.550000   94100   \n",
              "\n",
              "                           Dividends  Stock Splits  \n",
              "Date                                                \n",
              "2020-05-07 00:00:00-03:00   0.059760           0.0  \n",
              "2020-05-20 00:00:00-03:00   0.233883           0.0  \n",
              "2020-08-18 00:00:00-03:00   0.270253           0.0  \n",
              "2020-11-17 00:00:00-03:00   0.453980           0.0  \n",
              "2020-12-16 00:00:00-03:00   0.052460           0.0  \n",
              "2021-05-05 00:00:00-03:00   0.543730           0.0  \n",
              "2021-05-19 00:00:00-03:00   0.451454           0.0  \n",
              "2021-12-07 00:00:00-03:00   0.506048           0.0  \n",
              "2022-05-10 00:00:00-03:00   0.632108           0.0  \n",
              "2022-08-16 00:00:00-03:00   0.490310           0.0  \n",
              "2022-11-16 00:00:00-03:00   0.043696           0.0  \n",
              "2023-01-11 00:00:00-03:00   0.445091           0.0  \n",
              "2023-05-04 00:00:00-03:00   0.025204           0.0  \n",
              "2023-08-08 00:00:00-03:00   0.303281           0.0  \n",
              "2023-11-14 00:00:00-03:00   0.197926           0.0  \n",
              "2024-01-04 00:00:00-03:00   0.220613           0.0  \n",
              "2024-05-06 00:00:00-03:00   0.377634           0.0  \n",
              "2024-05-14 00:00:00-03:00   0.140197           0.0  "
            ],
            "text/html": [
              "\n",
              "  <div id=\"df-826021d6-95c9-4eb9-99ab-7f8a5e3bb58b\" class=\"colab-df-container\">\n",
              "    <div>\n",
              "<style scoped>\n",
              "    .dataframe tbody tr th:only-of-type {\n",
              "        vertical-align: middle;\n",
              "    }\n",
              "\n",
              "    .dataframe tbody tr th {\n",
              "        vertical-align: top;\n",
              "    }\n",
              "\n",
              "    .dataframe thead th {\n",
              "        text-align: right;\n",
              "    }\n",
              "</style>\n",
              "<table border=\"1\" class=\"dataframe\">\n",
              "  <thead>\n",
              "    <tr style=\"text-align: right;\">\n",
              "      <th></th>\n",
              "      <th>Open</th>\n",
              "      <th>High</th>\n",
              "      <th>Low</th>\n",
              "      <th>Close</th>\n",
              "      <th>Volume</th>\n",
              "      <th>Dividends</th>\n",
              "      <th>Stock Splits</th>\n",
              "    </tr>\n",
              "    <tr>\n",
              "      <th>Date</th>\n",
              "      <th></th>\n",
              "      <th></th>\n",
              "      <th></th>\n",
              "      <th></th>\n",
              "      <th></th>\n",
              "      <th></th>\n",
              "      <th></th>\n",
              "    </tr>\n",
              "  </thead>\n",
              "  <tbody>\n",
              "    <tr>\n",
              "      <th>2020-05-07 00:00:00-03:00</th>\n",
              "      <td>5.954651</td>\n",
              "      <td>6.122935</td>\n",
              "      <td>5.760478</td>\n",
              "      <td>5.831675</td>\n",
              "      <td>34200</td>\n",
              "      <td>0.059760</td>\n",
              "      <td>0.0</td>\n",
              "    </tr>\n",
              "    <tr>\n",
              "      <th>2020-05-20 00:00:00-03:00</th>\n",
              "      <td>6.100618</td>\n",
              "      <td>6.127172</td>\n",
              "      <td>5.941299</td>\n",
              "      <td>6.007682</td>\n",
              "      <td>35800</td>\n",
              "      <td>0.233883</td>\n",
              "      <td>0.0</td>\n",
              "    </tr>\n",
              "    <tr>\n",
              "      <th>2020-08-18 00:00:00-03:00</th>\n",
              "      <td>6.608512</td>\n",
              "      <td>6.669955</td>\n",
              "      <td>6.431010</td>\n",
              "      <td>6.492453</td>\n",
              "      <td>79000</td>\n",
              "      <td>0.270253</td>\n",
              "      <td>0.0</td>\n",
              "    </tr>\n",
              "    <tr>\n",
              "      <th>2020-11-17 00:00:00-03:00</th>\n",
              "      <td>7.706809</td>\n",
              "      <td>7.706809</td>\n",
              "      <td>7.450863</td>\n",
              "      <td>7.664151</td>\n",
              "      <td>181600</td>\n",
              "      <td>0.453980</td>\n",
              "      <td>0.0</td>\n",
              "    </tr>\n",
              "    <tr>\n",
              "      <th>2020-12-16 00:00:00-03:00</th>\n",
              "      <td>8.021556</td>\n",
              "      <td>8.021556</td>\n",
              "      <td>7.871554</td>\n",
              "      <td>7.942984</td>\n",
              "      <td>74500</td>\n",
              "      <td>0.052460</td>\n",
              "      <td>0.0</td>\n",
              "    </tr>\n",
              "    <tr>\n",
              "      <th>2021-05-05 00:00:00-03:00</th>\n",
              "      <td>9.665738</td>\n",
              "      <td>9.985204</td>\n",
              "      <td>9.004515</td>\n",
              "      <td>9.903481</td>\n",
              "      <td>245400</td>\n",
              "      <td>0.543730</td>\n",
              "      <td>0.0</td>\n",
              "    </tr>\n",
              "    <tr>\n",
              "      <th>2021-05-19 00:00:00-03:00</th>\n",
              "      <td>9.913082</td>\n",
              "      <td>10.182042</td>\n",
              "      <td>9.682546</td>\n",
              "      <td>10.028351</td>\n",
              "      <td>107600</td>\n",
              "      <td>0.451454</td>\n",
              "      <td>0.0</td>\n",
              "    </tr>\n",
              "    <tr>\n",
              "      <th>2021-12-07 00:00:00-03:00</th>\n",
              "      <td>9.782258</td>\n",
              "      <td>9.798255</td>\n",
              "      <td>9.582294</td>\n",
              "      <td>9.582294</td>\n",
              "      <td>191600</td>\n",
              "      <td>0.506048</td>\n",
              "      <td>0.0</td>\n",
              "    </tr>\n",
              "    <tr>\n",
              "      <th>2022-05-10 00:00:00-03:00</th>\n",
              "      <td>11.620466</td>\n",
              "      <td>11.862559</td>\n",
              "      <td>11.386721</td>\n",
              "      <td>11.436809</td>\n",
              "      <td>194600</td>\n",
              "      <td>0.632108</td>\n",
              "      <td>0.0</td>\n",
              "    </tr>\n",
              "    <tr>\n",
              "      <th>2022-08-16 00:00:00-03:00</th>\n",
              "      <td>12.225882</td>\n",
              "      <td>12.225882</td>\n",
              "      <td>11.232260</td>\n",
              "      <td>11.888915</td>\n",
              "      <td>251600</td>\n",
              "      <td>0.490310</td>\n",
              "      <td>0.0</td>\n",
              "    </tr>\n",
              "    <tr>\n",
              "      <th>2022-11-16 00:00:00-03:00</th>\n",
              "      <td>11.060802</td>\n",
              "      <td>11.112811</td>\n",
              "      <td>10.731405</td>\n",
              "      <td>10.766078</td>\n",
              "      <td>365500</td>\n",
              "      <td>0.043696</td>\n",
              "      <td>0.0</td>\n",
              "    </tr>\n",
              "    <tr>\n",
              "      <th>2023-01-11 00:00:00-03:00</th>\n",
              "      <td>10.352911</td>\n",
              "      <td>10.442937</td>\n",
              "      <td>10.217874</td>\n",
              "      <td>10.442937</td>\n",
              "      <td>298200</td>\n",
              "      <td>0.445091</td>\n",
              "      <td>0.0</td>\n",
              "    </tr>\n",
              "    <tr>\n",
              "      <th>2023-05-04 00:00:00-03:00</th>\n",
              "      <td>10.997067</td>\n",
              "      <td>11.006088</td>\n",
              "      <td>10.383613</td>\n",
              "      <td>10.654255</td>\n",
              "      <td>312000</td>\n",
              "      <td>0.025204</td>\n",
              "      <td>0.0</td>\n",
              "    </tr>\n",
              "    <tr>\n",
              "      <th>2023-08-08 00:00:00-03:00</th>\n",
              "      <td>11.083367</td>\n",
              "      <td>11.083367</td>\n",
              "      <td>10.879833</td>\n",
              "      <td>10.916840</td>\n",
              "      <td>352500</td>\n",
              "      <td>0.303281</td>\n",
              "      <td>0.0</td>\n",
              "    </tr>\n",
              "    <tr>\n",
              "      <th>2023-11-14 00:00:00-03:00</th>\n",
              "      <td>11.100386</td>\n",
              "      <td>11.429634</td>\n",
              "      <td>11.006315</td>\n",
              "      <td>11.420228</td>\n",
              "      <td>205200</td>\n",
              "      <td>0.197926</td>\n",
              "      <td>0.0</td>\n",
              "    </tr>\n",
              "    <tr>\n",
              "      <th>2024-01-04 00:00:00-03:00</th>\n",
              "      <td>11.926818</td>\n",
              "      <td>12.022539</td>\n",
              "      <td>11.821526</td>\n",
              "      <td>11.821526</td>\n",
              "      <td>114400</td>\n",
              "      <td>0.220613</td>\n",
              "      <td>0.0</td>\n",
              "    </tr>\n",
              "    <tr>\n",
              "      <th>2024-05-06 00:00:00-03:00</th>\n",
              "      <td>11.538226</td>\n",
              "      <td>11.716040</td>\n",
              "      <td>11.311017</td>\n",
              "      <td>11.696283</td>\n",
              "      <td>215200</td>\n",
              "      <td>0.377634</td>\n",
              "      <td>0.0</td>\n",
              "    </tr>\n",
              "    <tr>\n",
              "      <th>2024-05-14 00:00:00-03:00</th>\n",
              "      <td>11.550000</td>\n",
              "      <td>11.550000</td>\n",
              "      <td>11.460000</td>\n",
              "      <td>11.550000</td>\n",
              "      <td>94100</td>\n",
              "      <td>0.140197</td>\n",
              "      <td>0.0</td>\n",
              "    </tr>\n",
              "  </tbody>\n",
              "</table>\n",
              "</div>\n",
              "    <div class=\"colab-df-buttons\">\n",
              "\n",
              "  <div class=\"colab-df-container\">\n",
              "    <button class=\"colab-df-convert\" onclick=\"convertToInteractive('df-826021d6-95c9-4eb9-99ab-7f8a5e3bb58b')\"\n",
              "            title=\"Convert this dataframe to an interactive table.\"\n",
              "            style=\"display:none;\">\n",
              "\n",
              "  <svg xmlns=\"http://www.w3.org/2000/svg\" height=\"24px\" viewBox=\"0 -960 960 960\">\n",
              "    <path d=\"M120-120v-720h720v720H120Zm60-500h600v-160H180v160Zm220 220h160v-160H400v160Zm0 220h160v-160H400v160ZM180-400h160v-160H180v160Zm440 0h160v-160H620v160ZM180-180h160v-160H180v160Zm440 0h160v-160H620v160Z\"/>\n",
              "  </svg>\n",
              "    </button>\n",
              "\n",
              "  <style>\n",
              "    .colab-df-container {\n",
              "      display:flex;\n",
              "      gap: 12px;\n",
              "    }\n",
              "\n",
              "    .colab-df-convert {\n",
              "      background-color: #E8F0FE;\n",
              "      border: none;\n",
              "      border-radius: 50%;\n",
              "      cursor: pointer;\n",
              "      display: none;\n",
              "      fill: #1967D2;\n",
              "      height: 32px;\n",
              "      padding: 0 0 0 0;\n",
              "      width: 32px;\n",
              "    }\n",
              "\n",
              "    .colab-df-convert:hover {\n",
              "      background-color: #E2EBFA;\n",
              "      box-shadow: 0px 1px 2px rgba(60, 64, 67, 0.3), 0px 1px 3px 1px rgba(60, 64, 67, 0.15);\n",
              "      fill: #174EA6;\n",
              "    }\n",
              "\n",
              "    .colab-df-buttons div {\n",
              "      margin-bottom: 4px;\n",
              "    }\n",
              "\n",
              "    [theme=dark] .colab-df-convert {\n",
              "      background-color: #3B4455;\n",
              "      fill: #D2E3FC;\n",
              "    }\n",
              "\n",
              "    [theme=dark] .colab-df-convert:hover {\n",
              "      background-color: #434B5C;\n",
              "      box-shadow: 0px 1px 3px 1px rgba(0, 0, 0, 0.15);\n",
              "      filter: drop-shadow(0px 1px 2px rgba(0, 0, 0, 0.3));\n",
              "      fill: #FFFFFF;\n",
              "    }\n",
              "  </style>\n",
              "\n",
              "    <script>\n",
              "      const buttonEl =\n",
              "        document.querySelector('#df-826021d6-95c9-4eb9-99ab-7f8a5e3bb58b button.colab-df-convert');\n",
              "      buttonEl.style.display =\n",
              "        google.colab.kernel.accessAllowed ? 'block' : 'none';\n",
              "\n",
              "      async function convertToInteractive(key) {\n",
              "        const element = document.querySelector('#df-826021d6-95c9-4eb9-99ab-7f8a5e3bb58b');\n",
              "        const dataTable =\n",
              "          await google.colab.kernel.invokeFunction('convertToInteractive',\n",
              "                                                    [key], {});\n",
              "        if (!dataTable) return;\n",
              "\n",
              "        const docLinkHtml = 'Like what you see? Visit the ' +\n",
              "          '<a target=\"_blank\" href=https://colab.research.google.com/notebooks/data_table.ipynb>data table notebook</a>'\n",
              "          + ' to learn more about interactive tables.';\n",
              "        element.innerHTML = '';\n",
              "        dataTable['output_type'] = 'display_data';\n",
              "        await google.colab.output.renderOutput(dataTable, element);\n",
              "        const docLink = document.createElement('div');\n",
              "        docLink.innerHTML = docLinkHtml;\n",
              "        element.appendChild(docLink);\n",
              "      }\n",
              "    </script>\n",
              "  </div>\n",
              "\n",
              "\n",
              "<div id=\"df-a77e65be-dab6-44a0-9403-54f4e0b175dd\">\n",
              "  <button class=\"colab-df-quickchart\" onclick=\"quickchart('df-a77e65be-dab6-44a0-9403-54f4e0b175dd')\"\n",
              "            title=\"Suggest charts\"\n",
              "            style=\"display:none;\">\n",
              "\n",
              "<svg xmlns=\"http://www.w3.org/2000/svg\" height=\"24px\"viewBox=\"0 0 24 24\"\n",
              "     width=\"24px\">\n",
              "    <g>\n",
              "        <path d=\"M19 3H5c-1.1 0-2 .9-2 2v14c0 1.1.9 2 2 2h14c1.1 0 2-.9 2-2V5c0-1.1-.9-2-2-2zM9 17H7v-7h2v7zm4 0h-2V7h2v10zm4 0h-2v-4h2v4z\"/>\n",
              "    </g>\n",
              "</svg>\n",
              "  </button>\n",
              "\n",
              "<style>\n",
              "  .colab-df-quickchart {\n",
              "      --bg-color: #E8F0FE;\n",
              "      --fill-color: #1967D2;\n",
              "      --hover-bg-color: #E2EBFA;\n",
              "      --hover-fill-color: #174EA6;\n",
              "      --disabled-fill-color: #AAA;\n",
              "      --disabled-bg-color: #DDD;\n",
              "  }\n",
              "\n",
              "  [theme=dark] .colab-df-quickchart {\n",
              "      --bg-color: #3B4455;\n",
              "      --fill-color: #D2E3FC;\n",
              "      --hover-bg-color: #434B5C;\n",
              "      --hover-fill-color: #FFFFFF;\n",
              "      --disabled-bg-color: #3B4455;\n",
              "      --disabled-fill-color: #666;\n",
              "  }\n",
              "\n",
              "  .colab-df-quickchart {\n",
              "    background-color: var(--bg-color);\n",
              "    border: none;\n",
              "    border-radius: 50%;\n",
              "    cursor: pointer;\n",
              "    display: none;\n",
              "    fill: var(--fill-color);\n",
              "    height: 32px;\n",
              "    padding: 0;\n",
              "    width: 32px;\n",
              "  }\n",
              "\n",
              "  .colab-df-quickchart:hover {\n",
              "    background-color: var(--hover-bg-color);\n",
              "    box-shadow: 0 1px 2px rgba(60, 64, 67, 0.3), 0 1px 3px 1px rgba(60, 64, 67, 0.15);\n",
              "    fill: var(--button-hover-fill-color);\n",
              "  }\n",
              "\n",
              "  .colab-df-quickchart-complete:disabled,\n",
              "  .colab-df-quickchart-complete:disabled:hover {\n",
              "    background-color: var(--disabled-bg-color);\n",
              "    fill: var(--disabled-fill-color);\n",
              "    box-shadow: none;\n",
              "  }\n",
              "\n",
              "  .colab-df-spinner {\n",
              "    border: 2px solid var(--fill-color);\n",
              "    border-color: transparent;\n",
              "    border-bottom-color: var(--fill-color);\n",
              "    animation:\n",
              "      spin 1s steps(1) infinite;\n",
              "  }\n",
              "\n",
              "  @keyframes spin {\n",
              "    0% {\n",
              "      border-color: transparent;\n",
              "      border-bottom-color: var(--fill-color);\n",
              "      border-left-color: var(--fill-color);\n",
              "    }\n",
              "    20% {\n",
              "      border-color: transparent;\n",
              "      border-left-color: var(--fill-color);\n",
              "      border-top-color: var(--fill-color);\n",
              "    }\n",
              "    30% {\n",
              "      border-color: transparent;\n",
              "      border-left-color: var(--fill-color);\n",
              "      border-top-color: var(--fill-color);\n",
              "      border-right-color: var(--fill-color);\n",
              "    }\n",
              "    40% {\n",
              "      border-color: transparent;\n",
              "      border-right-color: var(--fill-color);\n",
              "      border-top-color: var(--fill-color);\n",
              "    }\n",
              "    60% {\n",
              "      border-color: transparent;\n",
              "      border-right-color: var(--fill-color);\n",
              "    }\n",
              "    80% {\n",
              "      border-color: transparent;\n",
              "      border-right-color: var(--fill-color);\n",
              "      border-bottom-color: var(--fill-color);\n",
              "    }\n",
              "    90% {\n",
              "      border-color: transparent;\n",
              "      border-bottom-color: var(--fill-color);\n",
              "    }\n",
              "  }\n",
              "</style>\n",
              "\n",
              "  <script>\n",
              "    async function quickchart(key) {\n",
              "      const quickchartButtonEl =\n",
              "        document.querySelector('#' + key + ' button');\n",
              "      quickchartButtonEl.disabled = true;  // To prevent multiple clicks.\n",
              "      quickchartButtonEl.classList.add('colab-df-spinner');\n",
              "      try {\n",
              "        const charts = await google.colab.kernel.invokeFunction(\n",
              "            'suggestCharts', [key], {});\n",
              "      } catch (error) {\n",
              "        console.error('Error during call to suggestCharts:', error);\n",
              "      }\n",
              "      quickchartButtonEl.classList.remove('colab-df-spinner');\n",
              "      quickchartButtonEl.classList.add('colab-df-quickchart-complete');\n",
              "    }\n",
              "    (() => {\n",
              "      let quickchartButtonEl =\n",
              "        document.querySelector('#df-a77e65be-dab6-44a0-9403-54f4e0b175dd button');\n",
              "      quickchartButtonEl.style.display =\n",
              "        google.colab.kernel.accessAllowed ? 'block' : 'none';\n",
              "    })();\n",
              "  </script>\n",
              "</div>\n",
              "    </div>\n",
              "  </div>\n"
            ],
            "application/vnd.google.colaboratory.intrinsic+json": {
              "type": "dataframe",
              "summary": "{\n  \"name\": \"dados_taesa[dados_taesa['Dividends'] != 0]\",\n  \"rows\": 18,\n  \"fields\": [\n    {\n      \"column\": \"Date\",\n      \"properties\": {\n        \"dtype\": \"date\",\n        \"min\": \"2020-05-07 00:00:00-03:00\",\n        \"max\": \"2024-05-14 00:00:00-03:00\",\n        \"num_unique_values\": 18,\n        \"samples\": [\n          \"2020-05-07 00:00:00-03:00\",\n          \"2020-05-20 00:00:00-03:00\",\n          \"2022-05-10 00:00:00-03:00\"\n        ],\n        \"semantic_type\": \"\",\n        \"description\": \"\"\n      }\n    },\n    {\n      \"column\": \"Open\",\n      \"properties\": {\n        \"dtype\": \"number\",\n        \"std\": 2.067527860909235,\n        \"min\": 5.954651277369445,\n        \"max\": 12.225882325076935,\n        \"num_unique_values\": 18,\n        \"samples\": [\n          5.954651277369445,\n          6.100618438456845,\n          11.620465591809197\n        ],\n        \"semantic_type\": \"\",\n        \"description\": \"\"\n      }\n    },\n    {\n      \"column\": \"High\",\n      \"properties\": {\n        \"dtype\": \"number\",\n        \"std\": 2.0841714747713627,\n        \"min\": 6.122935052056962,\n        \"max\": 12.225882325076935,\n        \"num_unique_values\": 18,\n        \"samples\": [\n          6.122935052056962,\n          6.127171704611398,\n          11.862558591799775\n        ],\n        \"semantic_type\": \"\",\n        \"description\": \"\"\n      }\n    },\n    {\n      \"column\": \"Low\",\n      \"properties\": {\n        \"dtype\": \"number\",\n        \"std\": 2.017366493257861,\n        \"min\": 5.7604777386731305,\n        \"max\": 11.821525573730469,\n        \"num_unique_values\": 18,\n        \"samples\": [\n          5.7604777386731305,\n          5.941298841529527,\n          11.386720818470534\n        ],\n        \"semantic_type\": \"\",\n        \"description\": \"\"\n      }\n    },\n    {\n      \"column\": \"Close\",\n      \"properties\": {\n        \"dtype\": \"number\",\n        \"std\": 2.0710808041503155,\n        \"min\": 5.831675052642822,\n        \"max\": 11.888915061950684,\n        \"num_unique_values\": 18,\n        \"samples\": [\n          5.831675052642822,\n          6.0076823234558105,\n          11.436808586120605\n        ],\n        \"semantic_type\": \"\",\n        \"description\": \"\"\n      }\n    },\n    {\n      \"column\": \"Volume\",\n      \"properties\": {\n        \"dtype\": \"number\",\n        \"std\": 104821,\n        \"min\": 34200,\n        \"max\": 365500,\n        \"num_unique_values\": 18,\n        \"samples\": [\n          34200,\n          35800,\n          194600\n        ],\n        \"semantic_type\": \"\",\n        \"description\": \"\"\n      }\n    },\n    {\n      \"column\": \"Dividends\",\n      \"properties\": {\n        \"dtype\": \"number\",\n        \"std\": 0.19246018258605813,\n        \"min\": 0.025204,\n        \"max\": 0.632108,\n        \"num_unique_values\": 18,\n        \"samples\": [\n          0.05976,\n          0.233883,\n          0.632108\n        ],\n        \"semantic_type\": \"\",\n        \"description\": \"\"\n      }\n    },\n    {\n      \"column\": \"Stock Splits\",\n      \"properties\": {\n        \"dtype\": \"number\",\n        \"std\": 0.0,\n        \"min\": 0.0,\n        \"max\": 0.0,\n        \"num_unique_values\": 1,\n        \"samples\": [\n          0.0\n        ],\n        \"semantic_type\": \"\",\n        \"description\": \"\"\n      }\n    }\n  ]\n}"
            }
          },
          "metadata": {},
          "execution_count": 128
        }
      ]
    },
    {
      "cell_type": "markdown",
      "source": [
        "## Dividend Yield"
      ],
      "metadata": {
        "id": "k7wiR29X2BB7"
      }
    },
    {
      "cell_type": "code",
      "source": [
        "papel = yf.Ticker('WEGE3.SA')"
      ],
      "metadata": {
        "id": "CzsQhZ0L-eek"
      },
      "execution_count": 129,
      "outputs": []
    },
    {
      "cell_type": "code",
      "source": [
        "dados_weg = papel.history(start = '2010-01-01')"
      ],
      "metadata": {
        "id": "0_9Jaw3BguQy"
      },
      "execution_count": 131,
      "outputs": []
    },
    {
      "cell_type": "markdown",
      "source": [
        "Agora, vamos criar uma coluna nova que vai conter o resultado da soma dos dividendos pagos por Weg em janelas de 365 dias."
      ],
      "metadata": {
        "id": "T2tJP5DGg6-Z"
      }
    },
    {
      "cell_type": "code",
      "source": [
        "dados_weg['soma_dividendos'] = dados_weg.Dividends.rolling('365D').sum()"
      ],
      "metadata": {
        "id": "ibVJtnCPhl4E"
      },
      "execution_count": 132,
      "outputs": []
    },
    {
      "cell_type": "markdown",
      "source": [
        "Vamos criar um novo dataframe removendo os NaNs gerados no cálculo anterior"
      ],
      "metadata": {
        "id": "Xero3ieVicO5"
      }
    },
    {
      "cell_type": "code",
      "source": [
        "dados_weg_final = dados_weg.dropna()"
      ],
      "metadata": {
        "id": "74JK3RDsimJD"
      },
      "execution_count": 134,
      "outputs": []
    },
    {
      "cell_type": "markdown",
      "source": [
        "Por fim, vamos criar uma nova coluna que vai pegar o resultado da coluna anterior de soma dos dividendos e dividir pelo preço do papel"
      ],
      "metadata": {
        "id": "PXAvAoU1itWy"
      }
    },
    {
      "cell_type": "code",
      "source": [
        "dados_weg_final['dividend_yeld'] = dados_weg_final['soma_dividendos']/dados_weg_final['Close']"
      ],
      "metadata": {
        "id": "SCdZM5Pmi0rA"
      },
      "execution_count": 135,
      "outputs": []
    },
    {
      "cell_type": "code",
      "source": [
        "dados_weg_final['dividend_yeld'].plot();"
      ],
      "metadata": {
        "colab": {
          "base_uri": "https://localhost:8080/",
          "height": 422
        },
        "id": "cqbkohUFjQSd",
        "outputId": "be978789-6c8b-4c65-f592-c7999e238280"
      },
      "execution_count": 136,
      "outputs": [
        {
          "output_type": "display_data",
          "data": {
            "text/plain": [
              "<Figure size 640x480 with 1 Axes>"
            ],
            "image/png": "[encoded data removed]"
          },
          "metadata": {}
        }
      ]
    },
    {
      "cell_type": "code",
      "source": [
        "dados_weg_final.dividend_yeld[dados_weg_final.index > '2019-05-23'].plot(figsize = (10,7), title = 'DY de WEGE3 nos últimos 5 anos');"
      ],
      "metadata": {
        "colab": {
          "base_uri": "https://localhost:8080/",
          "height": 594
        },
        "id": "hfPOWaktjT0y",
        "outputId": "b0f26bb2-1275-48e3-d7e7-f7e796d4117a"
      },
      "execution_count": 137,
      "outputs": [
        {
          "output_type": "display_data",
          "data": {
            "text/plain": [
              "<Figure size 1000x700 with 1 Axes>"
            ],
            "image/png": "[encoded data removed]"
          },
          "metadata": {}
        }
      ]
    },
    {
      "cell_type": "code",
      "source": [],
      "metadata": {
        "id": "lH_quZdy-vGH"
      },
      "execution_count": null,
      "outputs": []
    }
  ]
}