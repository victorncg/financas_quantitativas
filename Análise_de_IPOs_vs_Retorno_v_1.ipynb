{
  "nbformat": 4,
  "nbformat_minor": 0,
  "metadata": {
    "colab": {
      "provenance": [],
      "authorship_tag": "ABX9TyMxYCfos2Z0/RlPcZC4/h/7",
      "include_colab_link": true
    },
    "kernelspec": {
      "name": "python3",
      "display_name": "Python 3"
    },
    "language_info": {
      "name": "python"
    }
  },
  "cells": [
    {
      "cell_type": "markdown",
      "metadata": {
        "id": "view-in-github",
        "colab_type": "text"
      },
      "source": [
        "<a href=\"https://colab.research.google.com/github/victorncg/financas_quantitativas/blob/main/An%C3%A1lise_de_IPOs_vs_Retorno_v_1.ipynb\" target=\"_parent\"><img src=\"https://colab.research.google.com/assets/colab-badge.svg\" alt=\"Open In Colab\"/></a>"
      ]
    },
    {
      "cell_type": "markdown",
      "source": [
        "# Análise de data de IPO vs. retorno"
      ],
      "metadata": {
        "id": "7Ut7tWLkKUQv"
      }
    },
    {
      "cell_type": "code",
      "execution_count": 1,
      "metadata": {
        "colab": {
          "base_uri": "https://localhost:8080/"
        },
        "id": "FPHnfpKmqqkC",
        "outputId": "91c0cf7b-a0c6-4d63-9b80-f831a1b865c1"
      },
      "outputs": [
        {
          "output_type": "stream",
          "name": "stdout",
          "text": [
            "Collecting tradingcomdados\n",
            "  Downloading tradingcomdados-1.3.4-py3-none-any.whl (21 kB)\n",
            "Requirement already satisfied: pandas==1.5.3 in /usr/local/lib/python3.10/dist-packages (from tradingcomdados) (1.5.3)\n",
            "Collecting requests==2.27.1 (from tradingcomdados)\n",
            "  Downloading requests-2.27.1-py2.py3-none-any.whl (63 kB)\n",
            "\u001b[2K     \u001b[90m━━━━━━━━━━━━━━━━━━━━━━━━━━━━━━━━━━━━━━━━\u001b[0m \u001b[32m63.1/63.1 kB\u001b[0m \u001b[31m2.4 MB/s\u001b[0m eta \u001b[36m0:00:00\u001b[0m\n",
            "\u001b[?25hCollecting requests-oauthlib==1.3.1 (from tradingcomdados)\n",
            "  Downloading requests_oauthlib-1.3.1-py2.py3-none-any.whl (23 kB)\n",
            "Collecting requests-unixsocket==0.2.0 (from tradingcomdados)\n",
            "  Downloading requests_unixsocket-0.2.0-py2.py3-none-any.whl (11 kB)\n",
            "Requirement already satisfied: numpy==1.25.2 in /usr/local/lib/python3.10/dist-packages (from tradingcomdados) (1.25.2)\n",
            "Collecting joblib==1.1.1 (from tradingcomdados)\n",
            "  Downloading joblib-1.1.1-py2.py3-none-any.whl (309 kB)\n",
            "\u001b[2K     \u001b[90m━━━━━━━━━━━━━━━━━━━━━━━━━━━━━━━━━━━━━━━━\u001b[0m \u001b[32m309.8/309.8 kB\u001b[0m \u001b[31m5.4 MB/s\u001b[0m eta \u001b[36m0:00:00\u001b[0m\n",
            "\u001b[?25hCollecting scikit-learn==1.2.1 (from tradingcomdados)\n",
            "  Downloading scikit_learn-1.2.1-cp310-cp310-manylinux_2_17_x86_64.manylinux2014_x86_64.whl (9.6 MB)\n",
            "\u001b[2K     \u001b[90m━━━━━━━━━━━━━━━━━━━━━━━━━━━━━━━━━━━━━━━━\u001b[0m \u001b[32m9.6/9.6 MB\u001b[0m \u001b[31m20.8 MB/s\u001b[0m eta \u001b[36m0:00:00\u001b[0m\n",
            "\u001b[?25hRequirement already satisfied: python-dateutil>=2.8.1 in /usr/local/lib/python3.10/dist-packages (from pandas==1.5.3->tradingcomdados) (2.8.2)\n",
            "Requirement already satisfied: pytz>=2020.1 in /usr/local/lib/python3.10/dist-packages (from pandas==1.5.3->tradingcomdados) (2023.4)\n",
            "Collecting urllib3<1.27,>=1.21.1 (from requests==2.27.1->tradingcomdados)\n",
            "  Downloading urllib3-1.26.18-py2.py3-none-any.whl (143 kB)\n",
            "\u001b[2K     \u001b[90m━━━━━━━━━━━━━━━━━━━━━━━━━━━━━━━━━━━━━━━━\u001b[0m \u001b[32m143.8/143.8 kB\u001b[0m \u001b[31m10.1 MB/s\u001b[0m eta \u001b[36m0:00:00\u001b[0m\n",
            "\u001b[?25hRequirement already satisfied: certifi>=2017.4.17 in /usr/local/lib/python3.10/dist-packages (from requests==2.27.1->tradingcomdados) (2024.2.2)\n",
            "Collecting charset-normalizer~=2.0.0 (from requests==2.27.1->tradingcomdados)\n",
            "  Downloading charset_normalizer-2.0.12-py3-none-any.whl (39 kB)\n",
            "Requirement already satisfied: idna<4,>=2.5 in /usr/local/lib/python3.10/dist-packages (from requests==2.27.1->tradingcomdados) (3.6)\n",
            "Requirement already satisfied: oauthlib>=3.0.0 in /usr/local/lib/python3.10/dist-packages (from requests-oauthlib==1.3.1->tradingcomdados) (3.2.2)\n",
            "Requirement already satisfied: scipy>=1.3.2 in /usr/local/lib/python3.10/dist-packages (from scikit-learn==1.2.1->tradingcomdados) (1.11.4)\n",
            "Requirement already satisfied: threadpoolctl>=2.0.0 in /usr/local/lib/python3.10/dist-packages (from scikit-learn==1.2.1->tradingcomdados) (3.3.0)\n",
            "Requirement already satisfied: six>=1.5 in /usr/local/lib/python3.10/dist-packages (from python-dateutil>=2.8.1->pandas==1.5.3->tradingcomdados) (1.16.0)\n",
            "Installing collected packages: urllib3, joblib, charset-normalizer, scikit-learn, requests, requests-unixsocket, requests-oauthlib, tradingcomdados\n",
            "  Attempting uninstall: urllib3\n",
            "    Found existing installation: urllib3 2.0.7\n",
            "    Uninstalling urllib3-2.0.7:\n",
            "      Successfully uninstalled urllib3-2.0.7\n",
            "  Attempting uninstall: joblib\n",
            "    Found existing installation: joblib 1.3.2\n",
            "    Uninstalling joblib-1.3.2:\n",
            "      Successfully uninstalled joblib-1.3.2\n",
            "  Attempting uninstall: charset-normalizer\n",
            "    Found existing installation: charset-normalizer 3.3.2\n",
            "    Uninstalling charset-normalizer-3.3.2:\n",
            "      Successfully uninstalled charset-normalizer-3.3.2\n",
            "  Attempting uninstall: scikit-learn\n",
            "    Found existing installation: scikit-learn 1.2.2\n",
            "    Uninstalling scikit-learn-1.2.2:\n",
            "      Successfully uninstalled scikit-learn-1.2.2\n",
            "  Attempting uninstall: requests\n",
            "    Found existing installation: requests 2.31.0\n",
            "    Uninstalling requests-2.31.0:\n",
            "      Successfully uninstalled requests-2.31.0\n",
            "  Attempting uninstall: requests-oauthlib\n",
            "    Found existing installation: requests-oauthlib 1.4.0\n",
            "    Uninstalling requests-oauthlib-1.4.0:\n",
            "      Successfully uninstalled requests-oauthlib-1.4.0\n",
            "\u001b[31mERROR: pip's dependency resolver does not currently take into account all the packages that are installed. This behaviour is the source of the following dependency conflicts.\n",
            "bigframes 0.26.0 requires scikit-learn>=1.2.2, but you have scikit-learn 1.2.1 which is incompatible.\n",
            "google-colab 1.0.0 requires requests==2.31.0, but you have requests 2.27.1 which is incompatible.\n",
            "yfinance 0.2.37 requires requests>=2.31, but you have requests 2.27.1 which is incompatible.\u001b[0m\u001b[31m\n",
            "\u001b[0mSuccessfully installed charset-normalizer-2.0.12 joblib-1.1.1 requests-2.27.1 requests-oauthlib-1.3.1 requests-unixsocket-0.2.0 scikit-learn-1.2.1 tradingcomdados-1.3.4 urllib3-1.26.18\n"
          ]
        },
        {
          "output_type": "stream",
          "name": "stderr",
          "text": [
            "/usr/local/lib/python3.10/dist-packages/requests/__init__.py:102: RequestsDependencyWarning: urllib3 (1.26.18) or chardet (5.2.0)/charset_normalizer (2.0.12) doesn't match a supported version!\n",
            "  warnings.warn(\"urllib3 ({}) or chardet ({})/charset_normalizer ({}) doesn't match a supported \"\n"
          ]
        }
      ],
      "source": [
        "!pip install tradingcomdados\n",
        "from tradingcomdados import alternative_data as ad"
      ]
    },
    {
      "cell_type": "code",
      "source": [
        "ibov = ad.index_composition('ibov', mode = 'list', reduction = False)"
      ],
      "metadata": {
        "id": "ZIKwNF4Mqy1v"
      },
      "execution_count": 30,
      "outputs": []
    },
    {
      "cell_type": "code",
      "source": [
        "import yfinance as yf"
      ],
      "metadata": {
        "id": "CamGpZLWq4xx"
      },
      "execution_count": 31,
      "outputs": []
    },
    {
      "cell_type": "code",
      "source": [
        "ibov = yf.download([i+ '.SA' for i in ibov], start = '2012-01-01')['Adj Close']"
      ],
      "metadata": {
        "colab": {
          "base_uri": "https://localhost:8080/"
        },
        "id": "EypS0yTlq6HQ",
        "outputId": "d2118929-7ea1-4af4-a402-37f6cc2de020"
      },
      "execution_count": 32,
      "outputs": [
        {
          "output_type": "stream",
          "name": "stderr",
          "text": [
            "[*********************100%%**********************]  86 of 86 completed\n",
            "ERROR:yfinance:\n",
            "2 Failed downloads:\n",
            "ERROR:yfinance:['VIIA3.SA', 'ALSO3.SA']: Exception('%ticker%: No timezone found, symbol may be delisted')\n"
          ]
        }
      ]
    },
    {
      "cell_type": "code",
      "source": [
        "ibov"
      ],
      "metadata": {
        "colab": {
          "base_uri": "https://localhost:8080/",
          "height": 648
        },
        "id": "yWnNZVddrQk9",
        "outputId": "c92e26f0-af0c-4cc8-d789-c14ffc76c690"
      },
      "execution_count": 33,
      "outputs": [
        {
          "output_type": "execute_result",
          "data": {
            "text/plain": [
              "Ticker       ABEV3.SA  ALPA4.SA  ALSO3.SA   ARZZ3.SA  ASAI3.SA  AZUL4.SA  \\\n",
              "Date                                                                       \n",
              "2012-01-02   6.764980  5.557419       NaN  17.835535       NaN       NaN   \n",
              "2012-01-03   6.687881  5.825582       NaN  17.647394       NaN       NaN   \n",
              "2012-01-04   6.532433  5.774724       NaN  17.775322       NaN       NaN   \n",
              "2012-01-05   6.403105  5.594408       NaN  17.910789       NaN       NaN   \n",
              "2012-01-06   6.386939  5.686878       NaN  18.354797       NaN       NaN   \n",
              "...               ...       ...       ...        ...       ...       ...   \n",
              "2024-03-18  12.630000  9.260000       NaN  59.380001     14.46     13.82   \n",
              "2024-03-19  12.540000  9.150000       NaN  59.599998     14.73     13.79   \n",
              "2024-03-20  12.540000  9.500000       NaN  63.119999     14.93     14.40   \n",
              "2024-03-21  12.610000  9.260000       NaN  62.650002     14.82     14.27   \n",
              "2024-03-22  12.410000  9.400000       NaN  60.639999     14.37     14.06   \n",
              "\n",
              "Ticker       B3SA3.SA   BBAS3.SA   BBDC3.SA   BBDC4.SA  ...   TOTS3.SA  \\\n",
              "Date                                                    ...              \n",
              "2012-01-02   2.086019  11.136729   5.343566   6.446294  ...   9.054372   \n",
              "2012-01-03   2.122390  11.086295   5.365649   6.586163  ...   9.181254   \n",
              "2012-01-04   2.160902  11.031275   5.365649   6.596663  ...   8.989583   \n",
              "2012-01-05   2.137367  10.916656   5.325515   6.554660  ...   8.611644   \n",
              "2012-01-06   2.169461  10.641556   5.405788   6.636571  ...   8.355184   \n",
              "...               ...        ...        ...        ...  ...        ...   \n",
              "2024-03-18  12.360000  56.029999  12.680000  14.200000  ...  30.070000   \n",
              "2024-03-19  12.310000  55.830002  12.630000  14.120000  ...  30.100000   \n",
              "2024-03-20  12.750000  56.430000  12.880000  14.300000  ...  30.670000   \n",
              "2024-03-21  12.400000  55.639999  12.760000  14.140000  ...  31.000000   \n",
              "2024-03-22  12.000000  55.410000  12.520000  13.960000  ...  30.520000   \n",
              "\n",
              "Ticker       UGPA3.SA   USIM5.SA   VALE3.SA  VAMO3.SA  VBBR3.SA  VIIA3.SA  \\\n",
              "Date                                                                        \n",
              "2012-01-02   5.323815   8.433755  19.934242       NaN       NaN       NaN   \n",
              "2012-01-03   5.476829   8.666022  20.821289       NaN       NaN       NaN   \n",
              "2012-01-04   5.621523   8.481811  20.962627       NaN       NaN       NaN   \n",
              "2012-01-05   5.581606   8.321623  20.402128       NaN       NaN       NaN   \n",
              "2012-01-06   5.536701   8.329634  20.226677       NaN       NaN       NaN   \n",
              "...               ...        ...        ...       ...       ...       ...   \n",
              "2024-03-18  28.389999   9.930000  60.900002      8.38     25.26       NaN   \n",
              "2024-03-19  28.389999  10.170000  61.400002      8.29     25.00       NaN   \n",
              "2024-03-20  28.620001  10.380000  61.810001      8.88     25.00       NaN   \n",
              "2024-03-21  28.260000  10.330000  61.660000      8.92     25.27       NaN   \n",
              "2024-03-22  27.799999  10.150000  60.950001      8.55     24.83       NaN   \n",
              "\n",
              "Ticker       VIVT3.SA   WEGE3.SA   YDUQ3.SA  \n",
              "Date                                         \n",
              "2012-01-02  21.099384   2.174414   4.330160  \n",
              "2012-01-03  20.770397   2.225685   4.349501  \n",
              "2012-01-04  21.046038   2.237339   4.349501  \n",
              "2012-01-05  20.761503   2.251322   4.114983  \n",
              "2012-01-06  20.290251   2.225685   4.279388  \n",
              "...               ...        ...        ...  \n",
              "2024-03-18  51.680000  37.944763  18.410000  \n",
              "2024-03-19  51.189999  38.703659  18.870001  \n",
              "2024-03-20  51.270000  38.773560  19.299999  \n",
              "2024-03-21  51.290001  39.372684  18.770000  \n",
              "2024-03-22  51.709999  39.682236  18.590000  \n",
              "\n",
              "[3034 rows x 86 columns]"
            ],
            "text/html": [
              "\n",
              "  <div id=\"df-47d682b4-fe20-4677-a06a-451fbfb84524\" class=\"colab-df-container\">\n",
              "    <div>\n",
              "<style scoped>\n",
              "    .dataframe tbody tr th:only-of-type {\n",
              "        vertical-align: middle;\n",
              "    }\n",
              "\n",
              "    .dataframe tbody tr th {\n",
              "        vertical-align: top;\n",
              "    }\n",
              "\n",
              "    .dataframe thead th {\n",
              "        text-align: right;\n",
              "    }\n",
              "</style>\n",
              "<table border=\"1\" class=\"dataframe\">\n",
              "  <thead>\n",
              "    <tr style=\"text-align: right;\">\n",
              "      <th>Ticker</th>\n",
              "      <th>ABEV3.SA</th>\n",
              "      <th>ALPA4.SA</th>\n",
              "      <th>ALSO3.SA</th>\n",
              "      <th>ARZZ3.SA</th>\n",
              "      <th>ASAI3.SA</th>\n",
              "      <th>AZUL4.SA</th>\n",
              "      <th>B3SA3.SA</th>\n",
              "      <th>BBAS3.SA</th>\n",
              "      <th>BBDC3.SA</th>\n",
              "      <th>BBDC4.SA</th>\n",
              "      <th>...</th>\n",
              "      <th>TOTS3.SA</th>\n",
              "      <th>UGPA3.SA</th>\n",
              "      <th>USIM5.SA</th>\n",
              "      <th>VALE3.SA</th>\n",
              "      <th>VAMO3.SA</th>\n",
              "      <th>VBBR3.SA</th>\n",
              "      <th>VIIA3.SA</th>\n",
              "      <th>VIVT3.SA</th>\n",
              "      <th>WEGE3.SA</th>\n",
              "      <th>YDUQ3.SA</th>\n",
              "    </tr>\n",
              "    <tr>\n",
              "      <th>Date</th>\n",
              "      <th></th>\n",
              "      <th></th>\n",
              "      <th></th>\n",
              "      <th></th>\n",
              "      <th></th>\n",
              "      <th></th>\n",
              "      <th></th>\n",
              "      <th></th>\n",
              "      <th></th>\n",
              "      <th></th>\n",
              "      <th></th>\n",
              "      <th></th>\n",
              "      <th></th>\n",
              "      <th></th>\n",
              "      <th></th>\n",
              "      <th></th>\n",
              "      <th></th>\n",
              "      <th></th>\n",
              "      <th></th>\n",
              "      <th></th>\n",
              "      <th></th>\n",
              "    </tr>\n",
              "  </thead>\n",
              "  <tbody>\n",
              "    <tr>\n",
              "      <th>2012-01-02</th>\n",
              "      <td>6.764980</td>\n",
              "      <td>5.557419</td>\n",
              "      <td>NaN</td>\n",
              "      <td>17.835535</td>\n",
              "      <td>NaN</td>\n",
              "      <td>NaN</td>\n",
              "      <td>2.086019</td>\n",
              "      <td>11.136729</td>\n",
              "      <td>5.343566</td>\n",
              "      <td>6.446294</td>\n",
              "      <td>...</td>\n",
              "      <td>9.054372</td>\n",
              "      <td>5.323815</td>\n",
              "      <td>8.433755</td>\n",
              "      <td>19.934242</td>\n",
              "      <td>NaN</td>\n",
              "      <td>NaN</td>\n",
              "      <td>NaN</td>\n",
              "      <td>21.099384</td>\n",
              "      <td>2.174414</td>\n",
              "      <td>4.330160</td>\n",
              "    </tr>\n",
              "    <tr>\n",
              "      <th>2012-01-03</th>\n",
              "      <td>6.687881</td>\n",
              "      <td>5.825582</td>\n",
              "      <td>NaN</td>\n",
              "      <td>17.647394</td>\n",
              "      <td>NaN</td>\n",
              "      <td>NaN</td>\n",
              "      <td>2.122390</td>\n",
              "      <td>11.086295</td>\n",
              "      <td>5.365649</td>\n",
              "      <td>6.586163</td>\n",
              "      <td>...</td>\n",
              "      <td>9.181254</td>\n",
              "      <td>5.476829</td>\n",
              "      <td>8.666022</td>\n",
              "      <td>20.821289</td>\n",
              "      <td>NaN</td>\n",
              "      <td>NaN</td>\n",
              "      <td>NaN</td>\n",
              "      <td>20.770397</td>\n",
              "      <td>2.225685</td>\n",
              "      <td>4.349501</td>\n",
              "    </tr>\n",
              "    <tr>\n",
              "      <th>2012-01-04</th>\n",
              "      <td>6.532433</td>\n",
              "      <td>5.774724</td>\n",
              "      <td>NaN</td>\n",
              "      <td>17.775322</td>\n",
              "      <td>NaN</td>\n",
              "      <td>NaN</td>\n",
              "      <td>2.160902</td>\n",
              "      <td>11.031275</td>\n",
              "      <td>5.365649</td>\n",
              "      <td>6.596663</td>\n",
              "      <td>...</td>\n",
              "      <td>8.989583</td>\n",
              "      <td>5.621523</td>\n",
              "      <td>8.481811</td>\n",
              "      <td>20.962627</td>\n",
              "      <td>NaN</td>\n",
              "      <td>NaN</td>\n",
              "      <td>NaN</td>\n",
              "      <td>21.046038</td>\n",
              "      <td>2.237339</td>\n",
              "      <td>4.349501</td>\n",
              "    </tr>\n",
              "    <tr>\n",
              "      <th>2012-01-05</th>\n",
              "      <td>6.403105</td>\n",
              "      <td>5.594408</td>\n",
              "      <td>NaN</td>\n",
              "      <td>17.910789</td>\n",
              "      <td>NaN</td>\n",
              "      <td>NaN</td>\n",
              "      <td>2.137367</td>\n",
              "      <td>10.916656</td>\n",
              "      <td>5.325515</td>\n",
              "      <td>6.554660</td>\n",
              "      <td>...</td>\n",
              "      <td>8.611644</td>\n",
              "      <td>5.581606</td>\n",
              "      <td>8.321623</td>\n",
              "      <td>20.402128</td>\n",
              "      <td>NaN</td>\n",
              "      <td>NaN</td>\n",
              "      <td>NaN</td>\n",
              "      <td>20.761503</td>\n",
              "      <td>2.251322</td>\n",
              "      <td>4.114983</td>\n",
              "    </tr>\n",
              "    <tr>\n",
              "      <th>2012-01-06</th>\n",
              "      <td>6.386939</td>\n",
              "      <td>5.686878</td>\n",
              "      <td>NaN</td>\n",
              "      <td>18.354797</td>\n",
              "      <td>NaN</td>\n",
              "      <td>NaN</td>\n",
              "      <td>2.169461</td>\n",
              "      <td>10.641556</td>\n",
              "      <td>5.405788</td>\n",
              "      <td>6.636571</td>\n",
              "      <td>...</td>\n",
              "      <td>8.355184</td>\n",
              "      <td>5.536701</td>\n",
              "      <td>8.329634</td>\n",
              "      <td>20.226677</td>\n",
              "      <td>NaN</td>\n",
              "      <td>NaN</td>\n",
              "      <td>NaN</td>\n",
              "      <td>20.290251</td>\n",
              "      <td>2.225685</td>\n",
              "      <td>4.279388</td>\n",
              "    </tr>\n",
              "    <tr>\n",
              "      <th>...</th>\n",
              "      <td>...</td>\n",
              "      <td>...</td>\n",
              "      <td>...</td>\n",
              "      <td>...</td>\n",
              "      <td>...</td>\n",
              "      <td>...</td>\n",
              "      <td>...</td>\n",
              "      <td>...</td>\n",
              "      <td>...</td>\n",
              "      <td>...</td>\n",
              "      <td>...</td>\n",
              "      <td>...</td>\n",
              "      <td>...</td>\n",
              "      <td>...</td>\n",
              "      <td>...</td>\n",
              "      <td>...</td>\n",
              "      <td>...</td>\n",
              "      <td>...</td>\n",
              "      <td>...</td>\n",
              "      <td>...</td>\n",
              "      <td>...</td>\n",
              "    </tr>\n",
              "    <tr>\n",
              "      <th>2024-03-18</th>\n",
              "      <td>12.630000</td>\n",
              "      <td>9.260000</td>\n",
              "      <td>NaN</td>\n",
              "      <td>59.380001</td>\n",
              "      <td>14.46</td>\n",
              "      <td>13.82</td>\n",
              "      <td>12.360000</td>\n",
              "      <td>56.029999</td>\n",
              "      <td>12.680000</td>\n",
              "      <td>14.200000</td>\n",
              "      <td>...</td>\n",
              "      <td>30.070000</td>\n",
              "      <td>28.389999</td>\n",
              "      <td>9.930000</td>\n",
              "      <td>60.900002</td>\n",
              "      <td>8.38</td>\n",
              "      <td>25.26</td>\n",
              "      <td>NaN</td>\n",
              "      <td>51.680000</td>\n",
              "      <td>37.944763</td>\n",
              "      <td>18.410000</td>\n",
              "    </tr>\n",
              "    <tr>\n",
              "      <th>2024-03-19</th>\n",
              "      <td>12.540000</td>\n",
              "      <td>9.150000</td>\n",
              "      <td>NaN</td>\n",
              "      <td>59.599998</td>\n",
              "      <td>14.73</td>\n",
              "      <td>13.79</td>\n",
              "      <td>12.310000</td>\n",
              "      <td>55.830002</td>\n",
              "      <td>12.630000</td>\n",
              "      <td>14.120000</td>\n",
              "      <td>...</td>\n",
              "      <td>30.100000</td>\n",
              "      <td>28.389999</td>\n",
              "      <td>10.170000</td>\n",
              "      <td>61.400002</td>\n",
              "      <td>8.29</td>\n",
              "      <td>25.00</td>\n",
              "      <td>NaN</td>\n",
              "      <td>51.189999</td>\n",
              "      <td>38.703659</td>\n",
              "      <td>18.870001</td>\n",
              "    </tr>\n",
              "    <tr>\n",
              "      <th>2024-03-20</th>\n",
              "      <td>12.540000</td>\n",
              "      <td>9.500000</td>\n",
              "      <td>NaN</td>\n",
              "      <td>63.119999</td>\n",
              "      <td>14.93</td>\n",
              "      <td>14.40</td>\n",
              "      <td>12.750000</td>\n",
              "      <td>56.430000</td>\n",
              "      <td>12.880000</td>\n",
              "      <td>14.300000</td>\n",
              "      <td>...</td>\n",
              "      <td>30.670000</td>\n",
              "      <td>28.620001</td>\n",
              "      <td>10.380000</td>\n",
              "      <td>61.810001</td>\n",
              "      <td>8.88</td>\n",
              "      <td>25.00</td>\n",
              "      <td>NaN</td>\n",
              "      <td>51.270000</td>\n",
              "      <td>38.773560</td>\n",
              "      <td>19.299999</td>\n",
              "    </tr>\n",
              "    <tr>\n",
              "      <th>2024-03-21</th>\n",
              "      <td>12.610000</td>\n",
              "      <td>9.260000</td>\n",
              "      <td>NaN</td>\n",
              "      <td>62.650002</td>\n",
              "      <td>14.82</td>\n",
              "      <td>14.27</td>\n",
              "      <td>12.400000</td>\n",
              "      <td>55.639999</td>\n",
              "      <td>12.760000</td>\n",
              "      <td>14.140000</td>\n",
              "      <td>...</td>\n",
              "      <td>31.000000</td>\n",
              "      <td>28.260000</td>\n",
              "      <td>10.330000</td>\n",
              "      <td>61.660000</td>\n",
              "      <td>8.92</td>\n",
              "      <td>25.27</td>\n",
              "      <td>NaN</td>\n",
              "      <td>51.290001</td>\n",
              "      <td>39.372684</td>\n",
              "      <td>18.770000</td>\n",
              "    </tr>\n",
              "    <tr>\n",
              "      <th>2024-03-22</th>\n",
              "      <td>12.410000</td>\n",
              "      <td>9.400000</td>\n",
              "      <td>NaN</td>\n",
              "      <td>60.639999</td>\n",
              "      <td>14.37</td>\n",
              "      <td>14.06</td>\n",
              "      <td>12.000000</td>\n",
              "      <td>55.410000</td>\n",
              "      <td>12.520000</td>\n",
              "      <td>13.960000</td>\n",
              "      <td>...</td>\n",
              "      <td>30.520000</td>\n",
              "      <td>27.799999</td>\n",
              "      <td>10.150000</td>\n",
              "      <td>60.950001</td>\n",
              "      <td>8.55</td>\n",
              "      <td>24.83</td>\n",
              "      <td>NaN</td>\n",
              "      <td>51.709999</td>\n",
              "      <td>39.682236</td>\n",
              "      <td>18.590000</td>\n",
              "    </tr>\n",
              "  </tbody>\n",
              "</table>\n",
              "<p>3034 rows × 86 columns</p>\n",
              "</div>\n",
              "    <div class=\"colab-df-buttons\">\n",
              "\n",
              "  <div class=\"colab-df-container\">\n",
              "    <button class=\"colab-df-convert\" onclick=\"convertToInteractive('df-47d682b4-fe20-4677-a06a-451fbfb84524')\"\n",
              "            title=\"Convert this dataframe to an interactive table.\"\n",
              "            style=\"display:none;\">\n",
              "\n",
              "  <svg xmlns=\"http://www.w3.org/2000/svg\" height=\"24px\" viewBox=\"0 -960 960 960\">\n",
              "    <path d=\"M120-120v-720h720v720H120Zm60-500h600v-160H180v160Zm220 220h160v-160H400v160Zm0 220h160v-160H400v160ZM180-400h160v-160H180v160Zm440 0h160v-160H620v160ZM180-180h160v-160H180v160Zm440 0h160v-160H620v160Z\"/>\n",
              "  </svg>\n",
              "    </button>\n",
              "\n",
              "  <style>\n",
              "    .colab-df-container {\n",
              "      display:flex;\n",
              "      gap: 12px;\n",
              "    }\n",
              "\n",
              "    .colab-df-convert {\n",
              "      background-color: #E8F0FE;\n",
              "      border: none;\n",
              "      border-radius: 50%;\n",
              "      cursor: pointer;\n",
              "      display: none;\n",
              "      fill: #1967D2;\n",
              "      height: 32px;\n",
              "      padding: 0 0 0 0;\n",
              "      width: 32px;\n",
              "    }\n",
              "\n",
              "    .colab-df-convert:hover {\n",
              "      background-color: #E2EBFA;\n",
              "      box-shadow: 0px 1px 2px rgba(60, 64, 67, 0.3), 0px 1px 3px 1px rgba(60, 64, 67, 0.15);\n",
              "      fill: #174EA6;\n",
              "    }\n",
              "\n",
              "    .colab-df-buttons div {\n",
              "      margin-bottom: 4px;\n",
              "    }\n",
              "\n",
              "    [theme=dark] .colab-df-convert {\n",
              "      background-color: #3B4455;\n",
              "      fill: #D2E3FC;\n",
              "    }\n",
              "\n",
              "    [theme=dark] .colab-df-convert:hover {\n",
              "      background-color: #434B5C;\n",
              "      box-shadow: 0px 1px 3px 1px rgba(0, 0, 0, 0.15);\n",
              "      filter: drop-shadow(0px 1px 2px rgba(0, 0, 0, 0.3));\n",
              "      fill: #FFFFFF;\n",
              "    }\n",
              "  </style>\n",
              "\n",
              "    <script>\n",
              "      const buttonEl =\n",
              "        document.querySelector('#df-47d682b4-fe20-4677-a06a-451fbfb84524 button.colab-df-convert');\n",
              "      buttonEl.style.display =\n",
              "        google.colab.kernel.accessAllowed ? 'block' : 'none';\n",
              "\n",
              "      async function convertToInteractive(key) {\n",
              "        const element = document.querySelector('#df-47d682b4-fe20-4677-a06a-451fbfb84524');\n",
              "        const dataTable =\n",
              "          await google.colab.kernel.invokeFunction('convertToInteractive',\n",
              "                                                    [key], {});\n",
              "        if (!dataTable) return;\n",
              "\n",
              "        const docLinkHtml = 'Like what you see? Visit the ' +\n",
              "          '<a target=\"_blank\" href=https://colab.research.google.com/notebooks/data_table.ipynb>data table notebook</a>'\n",
              "          + ' to learn more about interactive tables.';\n",
              "        element.innerHTML = '';\n",
              "        dataTable['output_type'] = 'display_data';\n",
              "        await google.colab.output.renderOutput(dataTable, element);\n",
              "        const docLink = document.createElement('div');\n",
              "        docLink.innerHTML = docLinkHtml;\n",
              "        element.appendChild(docLink);\n",
              "      }\n",
              "    </script>\n",
              "  </div>\n",
              "\n",
              "\n",
              "<div id=\"df-50f396cc-3e34-471e-b88a-db9379aa18c6\">\n",
              "  <button class=\"colab-df-quickchart\" onclick=\"quickchart('df-50f396cc-3e34-471e-b88a-db9379aa18c6')\"\n",
              "            title=\"Suggest charts\"\n",
              "            style=\"display:none;\">\n",
              "\n",
              "<svg xmlns=\"http://www.w3.org/2000/svg\" height=\"24px\"viewBox=\"0 0 24 24\"\n",
              "     width=\"24px\">\n",
              "    <g>\n",
              "        <path d=\"M19 3H5c-1.1 0-2 .9-2 2v14c0 1.1.9 2 2 2h14c1.1 0 2-.9 2-2V5c0-1.1-.9-2-2-2zM9 17H7v-7h2v7zm4 0h-2V7h2v10zm4 0h-2v-4h2v4z\"/>\n",
              "    </g>\n",
              "</svg>\n",
              "  </button>\n",
              "\n",
              "<style>\n",
              "  .colab-df-quickchart {\n",
              "      --bg-color: #E8F0FE;\n",
              "      --fill-color: #1967D2;\n",
              "      --hover-bg-color: #E2EBFA;\n",
              "      --hover-fill-color: #174EA6;\n",
              "      --disabled-fill-color: #AAA;\n",
              "      --disabled-bg-color: #DDD;\n",
              "  }\n",
              "\n",
              "  [theme=dark] .colab-df-quickchart {\n",
              "      --bg-color: #3B4455;\n",
              "      --fill-color: #D2E3FC;\n",
              "      --hover-bg-color: #434B5C;\n",
              "      --hover-fill-color: #FFFFFF;\n",
              "      --disabled-bg-color: #3B4455;\n",
              "      --disabled-fill-color: #666;\n",
              "  }\n",
              "\n",
              "  .colab-df-quickchart {\n",
              "    background-color: var(--bg-color);\n",
              "    border: none;\n",
              "    border-radius: 50%;\n",
              "    cursor: pointer;\n",
              "    display: none;\n",
              "    fill: var(--fill-color);\n",
              "    height: 32px;\n",
              "    padding: 0;\n",
              "    width: 32px;\n",
              "  }\n",
              "\n",
              "  .colab-df-quickchart:hover {\n",
              "    background-color: var(--hover-bg-color);\n",
              "    box-shadow: 0 1px 2px rgba(60, 64, 67, 0.3), 0 1px 3px 1px rgba(60, 64, 67, 0.15);\n",
              "    fill: var(--button-hover-fill-color);\n",
              "  }\n",
              "\n",
              "  .colab-df-quickchart-complete:disabled,\n",
              "  .colab-df-quickchart-complete:disabled:hover {\n",
              "    background-color: var(--disabled-bg-color);\n",
              "    fill: var(--disabled-fill-color);\n",
              "    box-shadow: none;\n",
              "  }\n",
              "\n",
              "  .colab-df-spinner {\n",
              "    border: 2px solid var(--fill-color);\n",
              "    border-color: transparent;\n",
              "    border-bottom-color: var(--fill-color);\n",
              "    animation:\n",
              "      spin 1s steps(1) infinite;\n",
              "  }\n",
              "\n",
              "  @keyframes spin {\n",
              "    0% {\n",
              "      border-color: transparent;\n",
              "      border-bottom-color: var(--fill-color);\n",
              "      border-left-color: var(--fill-color);\n",
              "    }\n",
              "    20% {\n",
              "      border-color: transparent;\n",
              "      border-left-color: var(--fill-color);\n",
              "      border-top-color: var(--fill-color);\n",
              "    }\n",
              "    30% {\n",
              "      border-color: transparent;\n",
              "      border-left-color: var(--fill-color);\n",
              "      border-top-color: var(--fill-color);\n",
              "      border-right-color: var(--fill-color);\n",
              "    }\n",
              "    40% {\n",
              "      border-color: transparent;\n",
              "      border-right-color: var(--fill-color);\n",
              "      border-top-color: var(--fill-color);\n",
              "    }\n",
              "    60% {\n",
              "      border-color: transparent;\n",
              "      border-right-color: var(--fill-color);\n",
              "    }\n",
              "    80% {\n",
              "      border-color: transparent;\n",
              "      border-right-color: var(--fill-color);\n",
              "      border-bottom-color: var(--fill-color);\n",
              "    }\n",
              "    90% {\n",
              "      border-color: transparent;\n",
              "      border-bottom-color: var(--fill-color);\n",
              "    }\n",
              "  }\n",
              "</style>\n",
              "\n",
              "  <script>\n",
              "    async function quickchart(key) {\n",
              "      const quickchartButtonEl =\n",
              "        document.querySelector('#' + key + ' button');\n",
              "      quickchartButtonEl.disabled = true;  // To prevent multiple clicks.\n",
              "      quickchartButtonEl.classList.add('colab-df-spinner');\n",
              "      try {\n",
              "        const charts = await google.colab.kernel.invokeFunction(\n",
              "            'suggestCharts', [key], {});\n",
              "      } catch (error) {\n",
              "        console.error('Error during call to suggestCharts:', error);\n",
              "      }\n",
              "      quickchartButtonEl.classList.remove('colab-df-spinner');\n",
              "      quickchartButtonEl.classList.add('colab-df-quickchart-complete');\n",
              "    }\n",
              "    (() => {\n",
              "      let quickchartButtonEl =\n",
              "        document.querySelector('#df-50f396cc-3e34-471e-b88a-db9379aa18c6 button');\n",
              "      quickchartButtonEl.style.display =\n",
              "        google.colab.kernel.accessAllowed ? 'block' : 'none';\n",
              "    })();\n",
              "  </script>\n",
              "</div>\n",
              "    </div>\n",
              "  </div>\n"
            ],
            "application/vnd.google.colaboratory.intrinsic+json": {
              "type": "dataframe",
              "variable_name": "ibov"
            }
          },
          "metadata": {},
          "execution_count": 33
        }
      ]
    },
    {
      "cell_type": "code",
      "source": [
        "ibov_norm = ibov/ibov.iloc[0]"
      ],
      "metadata": {
        "id": "ITHTJUX_rDfw"
      },
      "execution_count": 19,
      "outputs": []
    },
    {
      "cell_type": "code",
      "source": [
        "ibov.plot()"
      ],
      "metadata": {
        "colab": {
          "base_uri": "https://localhost:8080/",
          "height": 1000
        },
        "id": "Y0vhEAG8rOlA",
        "outputId": "e1028411-a4bc-4335-88b5-1b861de950a1"
      },
      "execution_count": 20,
      "outputs": [
        {
          "output_type": "execute_result",
          "data": {
            "text/plain": [
              "<Axes: xlabel='Date'>"
            ]
          },
          "metadata": {},
          "execution_count": 20
        },
        {
          "output_type": "display_data",
          "data": {
            "text/plain": [
              "<Figure size 640x480 with 1 Axes>"
            ],
            "image/png": "[encoded data removed]"
          },
          "metadata": {}
        }
      ]
    },
    {
      "cell_type": "code",
      "source": [
        "ibov.iloc[-1][ibov.iloc[-1]<1]"
      ],
      "metadata": {
        "colab": {
          "base_uri": "https://localhost:8080/"
        },
        "id": "475R_N5Zrcq4",
        "outputId": "f486a46b-56e9-400d-806a-4bdc5e0462d9"
      },
      "execution_count": 21,
      "outputs": [
        {
          "output_type": "execute_result",
          "data": {
            "text/plain": [
              "Ticker\n",
              "BRFS3.SA    0.520555\n",
              "CIEL3.SA    0.914742\n",
              "ENEV3.SA    0.071777\n",
              "GOLL4.SA    0.138340\n",
              "PCAR3.SA    0.624795\n",
              "Name: 2024-03-22 00:00:00, dtype: float64"
            ]
          },
          "metadata": {},
          "execution_count": 21
        }
      ]
    },
    {
      "cell_type": "code",
      "source": [
        "len(ibov.iloc[-1][ibov.iloc[-1]<1])"
      ],
      "metadata": {
        "colab": {
          "base_uri": "https://localhost:8080/"
        },
        "id": "sNAdHFj5rhCp",
        "outputId": "11023a36-c092-41ca-8a53-661013038d3f"
      },
      "execution_count": 22,
      "outputs": [
        {
          "output_type": "execute_result",
          "data": {
            "text/plain": [
              "5"
            ]
          },
          "metadata": {},
          "execution_count": 22
        }
      ]
    },
    {
      "cell_type": "code",
      "source": [
        "len(ibov.iloc[-1])"
      ],
      "metadata": {
        "colab": {
          "base_uri": "https://localhost:8080/"
        },
        "id": "7e4vfpB5rtmJ",
        "outputId": "9333a749-36c3-40cb-99b3-ae7dcb1feafc"
      },
      "execution_count": 23,
      "outputs": [
        {
          "output_type": "execute_result",
          "data": {
            "text/plain": [
              "86"
            ]
          },
          "metadata": {},
          "execution_count": 23
        }
      ]
    },
    {
      "cell_type": "code",
      "source": [
        "ibov.iloc[0]"
      ],
      "metadata": {
        "colab": {
          "base_uri": "https://localhost:8080/"
        },
        "id": "sog4pUDR-9_5",
        "outputId": "ea940685-1242-4354-f4e0-4a1c40db84ee"
      },
      "execution_count": 28,
      "outputs": [
        {
          "output_type": "execute_result",
          "data": {
            "text/plain": [
              "Ticker\n",
              "ABEV3.SA    1.0\n",
              "ALPA4.SA    1.0\n",
              "ALSO3.SA    NaN\n",
              "ARZZ3.SA    1.0\n",
              "ASAI3.SA    NaN\n",
              "           ... \n",
              "VBBR3.SA    NaN\n",
              "VIIA3.SA    NaN\n",
              "VIVT3.SA    1.0\n",
              "WEGE3.SA    1.0\n",
              "YDUQ3.SA    1.0\n",
              "Name: 2012-01-02 00:00:00, Length: 86, dtype: float64"
            ]
          },
          "metadata": {},
          "execution_count": 28
        }
      ]
    },
    {
      "cell_type": "code",
      "source": [
        "first_valid_index = ibov.apply(lambda x: x.first_valid_index(), axis=0)"
      ],
      "metadata": {
        "id": "SDbmXh3Nruic"
      },
      "execution_count": 34,
      "outputs": []
    },
    {
      "cell_type": "code",
      "source": [
        "first_valid_index"
      ],
      "metadata": {
        "colab": {
          "base_uri": "https://localhost:8080/"
        },
        "id": "AYzAkHI8_TVv",
        "outputId": "5ab823d3-aef3-48eb-c948-10aa19f0d5fa"
      },
      "execution_count": 35,
      "outputs": [
        {
          "output_type": "execute_result",
          "data": {
            "text/plain": [
              "Ticker\n",
              "ABEV3.SA   2012-01-02\n",
              "ALPA4.SA   2012-01-02\n",
              "ALSO3.SA          NaT\n",
              "ARZZ3.SA   2012-01-02\n",
              "ASAI3.SA   2021-03-01\n",
              "              ...    \n",
              "VBBR3.SA   2018-03-14\n",
              "VIIA3.SA          NaT\n",
              "VIVT3.SA   2012-01-02\n",
              "WEGE3.SA   2012-01-02\n",
              "YDUQ3.SA   2012-01-02\n",
              "Length: 86, dtype: datetime64[ns]"
            ]
          },
          "metadata": {},
          "execution_count": 35
        }
      ]
    },
    {
      "cell_type": "code",
      "source": [
        "first_valid_index[first_valid_index!='2012-01-02']"
      ],
      "metadata": {
        "colab": {
          "base_uri": "https://localhost:8080/"
        },
        "id": "ZTwxoghcuNVY",
        "outputId": "71bc9531-5a2a-49e3-f985-3186a10b7ad8"
      },
      "execution_count": 36,
      "outputs": [
        {
          "output_type": "execute_result",
          "data": {
            "text/plain": [
              "Ticker\n",
              "ALSO3.SA           NaT\n",
              "ASAI3.SA    2021-03-01\n",
              "AZUL4.SA    2017-04-11\n",
              "BBSE3.SA    2013-04-29\n",
              "BPAC11.SA   2017-02-24\n",
              "CMIN3.SA    2021-02-22\n",
              "COGN3.SA    2012-03-14\n",
              "CRFB3.SA    2017-07-20\n",
              "CVCB3.SA    2013-12-09\n",
              "HAPV3.SA    2018-04-26\n",
              "IGTI11.SA   2021-11-22\n",
              "IRBR3.SA    2017-07-31\n",
              "KLBN11.SA   2014-01-23\n",
              "LWSA3.SA    2020-02-06\n",
              "NTCO3.SA    2019-12-18\n",
              "PETZ3.SA    2020-09-15\n",
              "RAIL3.SA    2015-04-02\n",
              "RAIZ4.SA    2021-08-05\n",
              "RDOR3.SA    2020-12-15\n",
              "RECV3.SA    2021-05-05\n",
              "RRRP3.SA    2020-11-12\n",
              "SOMA3.SA    2020-07-31\n",
              "VAMO3.SA    2021-02-02\n",
              "VBBR3.SA    2018-03-14\n",
              "VIIA3.SA           NaT\n",
              "dtype: datetime64[ns]"
            ]
          },
          "metadata": {},
          "execution_count": 36
        }
      ]
    },
    {
      "cell_type": "code",
      "source": [
        "list(first_valid_index[first_valid_index!='2012-01-02'].index)[0]"
      ],
      "metadata": {
        "colab": {
          "base_uri": "https://localhost:8080/",
          "height": 35
        },
        "id": "kmne8jb3uOM5",
        "outputId": "3ba00366-7a58-4b4c-e93c-9dcbf44a8b6e"
      },
      "execution_count": 39,
      "outputs": [
        {
          "output_type": "execute_result",
          "data": {
            "text/plain": [
              "'ALSO3.SA'"
            ],
            "application/vnd.google.colaboratory.intrinsic+json": {
              "type": "string"
            }
          },
          "metadata": {},
          "execution_count": 39
        }
      ]
    },
    {
      "cell_type": "code",
      "source": [
        "ibov[list(first_valid_index[first_valid_index!='2012-01-02'].index)[1]]"
      ],
      "metadata": {
        "colab": {
          "base_uri": "https://localhost:8080/"
        },
        "id": "HVC7Cpi4_8uY",
        "outputId": "f9241d3b-4b32-4008-e0af-b44f5a7a8a0e"
      },
      "execution_count": 41,
      "outputs": [
        {
          "output_type": "execute_result",
          "data": {
            "text/plain": [
              "Date\n",
              "2012-01-02      NaN\n",
              "2012-01-03      NaN\n",
              "2012-01-04      NaN\n",
              "2012-01-05      NaN\n",
              "2012-01-06      NaN\n",
              "              ...  \n",
              "2024-03-18    14.46\n",
              "2024-03-19    14.73\n",
              "2024-03-20    14.93\n",
              "2024-03-21    14.82\n",
              "2024-03-22    14.37\n",
              "Name: ASAI3.SA, Length: 3034, dtype: float64"
            ]
          },
          "metadata": {},
          "execution_count": 41
        }
      ]
    },
    {
      "cell_type": "code",
      "source": [
        "ibov[list(first_valid_index[first_valid_index!='2012-01-02'].index)[1]].dropna()"
      ],
      "metadata": {
        "colab": {
          "base_uri": "https://localhost:8080/"
        },
        "id": "VktKAml0AFGA",
        "outputId": "b6ffdc1f-d06f-4817-e550-5e71b83ed108"
      },
      "execution_count": 43,
      "outputs": [
        {
          "output_type": "execute_result",
          "data": {
            "text/plain": [
              "Date\n",
              "2021-03-01    13.990467\n",
              "2021-03-02    14.206007\n",
              "2021-03-03    13.970874\n",
              "2021-03-04    14.343169\n",
              "2021-03-05    14.695870\n",
              "                ...    \n",
              "2024-03-18    14.460000\n",
              "2024-03-19    14.730000\n",
              "2024-03-20    14.930000\n",
              "2024-03-21    14.820000\n",
              "2024-03-22    14.370000\n",
              "Name: ASAI3.SA, Length: 765, dtype: float64"
            ]
          },
          "metadata": {},
          "execution_count": 43
        }
      ]
    },
    {
      "cell_type": "code",
      "source": [
        "(first_valid_index[first_valid_index!='2012-01-02'].index)[1]"
      ],
      "metadata": {
        "colab": {
          "base_uri": "https://localhost:8080/",
          "height": 35
        },
        "id": "NIIp3LVJBAqm",
        "outputId": "82b48ffa-dc70-469d-94bc-91bf1557ac27"
      },
      "execution_count": 51,
      "outputs": [
        {
          "output_type": "execute_result",
          "data": {
            "text/plain": [
              "'ASAI3.SA'"
            ],
            "application/vnd.google.colaboratory.intrinsic+json": {
              "type": "string"
            }
          },
          "metadata": {},
          "execution_count": 51
        }
      ]
    },
    {
      "cell_type": "code",
      "source": [
        "list(first_valid_index[first_valid_index!='2012-01-02'].index)"
      ],
      "metadata": {
        "colab": {
          "base_uri": "https://localhost:8080/"
        },
        "id": "JQSqTEk1BOEX",
        "outputId": "9db47d00-2137-43c7-b195-02328983281a"
      },
      "execution_count": 54,
      "outputs": [
        {
          "output_type": "execute_result",
          "data": {
            "text/plain": [
              "['ALSO3.SA',\n",
              " 'ASAI3.SA',\n",
              " 'AZUL4.SA',\n",
              " 'BBSE3.SA',\n",
              " 'BPAC11.SA',\n",
              " 'CMIN3.SA',\n",
              " 'COGN3.SA',\n",
              " 'CRFB3.SA',\n",
              " 'CVCB3.SA',\n",
              " 'HAPV3.SA',\n",
              " 'IGTI11.SA',\n",
              " 'IRBR3.SA',\n",
              " 'KLBN11.SA',\n",
              " 'LWSA3.SA',\n",
              " 'NTCO3.SA',\n",
              " 'PETZ3.SA',\n",
              " 'RAIL3.SA',\n",
              " 'RAIZ4.SA',\n",
              " 'RDOR3.SA',\n",
              " 'RECV3.SA',\n",
              " 'RRRP3.SA',\n",
              " 'SOMA3.SA',\n",
              " 'VAMO3.SA',\n",
              " 'VBBR3.SA',\n",
              " 'VIIA3.SA']"
            ]
          },
          "metadata": {},
          "execution_count": 54
        }
      ]
    },
    {
      "cell_type": "code",
      "source": [
        "df = ibov[list(first_valid_index[first_valid_index!='2012-01-02'].index)[1]].dropna()\n",
        "df_norm = df/df.iloc[0]"
      ],
      "metadata": {
        "id": "6fvS4vZmAL7K"
      },
      "execution_count": 44,
      "outputs": []
    },
    {
      "cell_type": "code",
      "source": [
        "100*(df_norm.iloc[-1] - 1)"
      ],
      "metadata": {
        "colab": {
          "base_uri": "https://localhost:8080/"
        },
        "id": "o0BDlaiZAsue",
        "outputId": "aaedcb05-094f-4475-f2f9-f0edd4494608"
      },
      "execution_count": 49,
      "outputs": [
        {
          "output_type": "execute_result",
          "data": {
            "text/plain": [
              "2.712795877974128"
            ]
          },
          "metadata": {},
          "execution_count": 49
        }
      ]
    },
    {
      "cell_type": "code",
      "source": [
        "dicionario = {(first_valid_index[first_valid_index!='2012-01-02'].index)[1]:100*(df_norm.iloc[-1] - 1)}"
      ],
      "metadata": {
        "id": "rmYZSfdcAtjL"
      },
      "execution_count": 52,
      "outputs": []
    },
    {
      "cell_type": "code",
      "source": [
        "dicionario"
      ],
      "metadata": {
        "colab": {
          "base_uri": "https://localhost:8080/"
        },
        "id": "y8C3vAoXBEgg",
        "outputId": "ff30d28c-9bdb-48b4-8102-8ffef26de9c4"
      },
      "execution_count": 53,
      "outputs": [
        {
          "output_type": "execute_result",
          "data": {
            "text/plain": [
              "{'ASAI3.SA': 2.712795877974128}"
            ]
          },
          "metadata": {},
          "execution_count": 53
        }
      ]
    },
    {
      "cell_type": "code",
      "source": [
        "ibov.columns"
      ],
      "metadata": {
        "colab": {
          "base_uri": "https://localhost:8080/"
        },
        "id": "CaTH3FORBSXf",
        "outputId": "d6da8bd0-32d7-4425-b910-c048ed106d4b"
      },
      "execution_count": 55,
      "outputs": [
        {
          "output_type": "execute_result",
          "data": {
            "text/plain": [
              "Index(['ABEV3.SA', 'ALPA4.SA', 'ALSO3.SA', 'ARZZ3.SA', 'ASAI3.SA', 'AZUL4.SA',\n",
              "       'B3SA3.SA', 'BBAS3.SA', 'BBDC3.SA', 'BBDC4.SA', 'BBSE3.SA', 'BEEF3.SA',\n",
              "       'BPAC11.SA', 'BRAP4.SA', 'BRFS3.SA', 'BRKM5.SA', 'CCRO3.SA', 'CIEL3.SA',\n",
              "       'CMIG4.SA', 'CMIN3.SA', 'COGN3.SA', 'CPFE3.SA', 'CPLE6.SA', 'CRFB3.SA',\n",
              "       'CSAN3.SA', 'CSNA3.SA', 'CVCB3.SA', 'CYRE3.SA', 'DXCO3.SA', 'EGIE3.SA',\n",
              "       'ELET3.SA', 'ELET6.SA', 'EMBR3.SA', 'ENEV3.SA', 'ENGI11.SA', 'EQTL3.SA',\n",
              "       'EZTC3.SA', 'FLRY3.SA', 'GGBR4.SA', 'GOAU4.SA', 'GOLL4.SA', 'HAPV3.SA',\n",
              "       'HYPE3.SA', 'IGTI11.SA', 'IRBR3.SA', 'ITSA4.SA', 'ITUB4.SA', 'JBSS3.SA',\n",
              "       'KLBN11.SA', 'LREN3.SA', 'LWSA3.SA', 'MGLU3.SA', 'MRFG3.SA', 'MRVE3.SA',\n",
              "       'MULT3.SA', 'NTCO3.SA', 'PCAR3.SA', 'PETR3.SA', 'PETR4.SA', 'PETZ3.SA',\n",
              "       'PRIO3.SA', 'RADL3.SA', 'RAIL3.SA', 'RAIZ4.SA', 'RDOR3.SA', 'RECV3.SA',\n",
              "       'RENT3.SA', 'RRRP3.SA', 'SANB11.SA', 'SBSP3.SA', 'SLCE3.SA', 'SMTO3.SA',\n",
              "       'SOMA3.SA', 'SUZB3.SA', 'TAEE11.SA', 'TIMS3.SA', 'TOTS3.SA', 'UGPA3.SA',\n",
              "       'USIM5.SA', 'VALE3.SA', 'VAMO3.SA', 'VBBR3.SA', 'VIIA3.SA', 'VIVT3.SA',\n",
              "       'WEGE3.SA', 'YDUQ3.SA'],\n",
              "      dtype='object', name='Ticker')"
            ]
          },
          "metadata": {},
          "execution_count": 55
        }
      ]
    },
    {
      "cell_type": "code",
      "source": [
        "ibov['TOTS3.SA']"
      ],
      "metadata": {
        "colab": {
          "base_uri": "https://localhost:8080/"
        },
        "id": "6ifYtJe0BqId",
        "outputId": "ec8737a7-1488-44fa-b5fe-07259b901563"
      },
      "execution_count": 56,
      "outputs": [
        {
          "output_type": "execute_result",
          "data": {
            "text/plain": [
              "Date\n",
              "2012-01-02     9.054372\n",
              "2012-01-03     9.181254\n",
              "2012-01-04     8.989583\n",
              "2012-01-05     8.611644\n",
              "2012-01-06     8.355184\n",
              "                ...    \n",
              "2024-03-18    30.070000\n",
              "2024-03-19    30.100000\n",
              "2024-03-20    30.670000\n",
              "2024-03-21    31.000000\n",
              "2024-03-22    30.520000\n",
              "Name: TOTS3.SA, Length: 3034, dtype: float64"
            ]
          },
          "metadata": {},
          "execution_count": 56
        }
      ]
    },
    {
      "cell_type": "code",
      "source": [
        "dicionario = dict()"
      ],
      "metadata": {
        "id": "3AK7NMAjCVXf"
      },
      "execution_count": 57,
      "outputs": []
    },
    {
      "cell_type": "code",
      "source": [
        "i = 'AZUL4.SA'"
      ],
      "metadata": {
        "id": "HtsYEAmdCkMG"
      },
      "execution_count": 59,
      "outputs": []
    },
    {
      "cell_type": "code",
      "source": [
        "df = ibov[i].dropna()"
      ],
      "metadata": {
        "id": "bGynA5XqCv4J"
      },
      "execution_count": 60,
      "outputs": []
    },
    {
      "cell_type": "code",
      "source": [
        "df_norm = df/df.iloc[0]"
      ],
      "metadata": {
        "id": "MqTL2nPUCwwa"
      },
      "execution_count": 61,
      "outputs": []
    },
    {
      "cell_type": "code",
      "source": [
        "df_norm"
      ],
      "metadata": {
        "colab": {
          "base_uri": "https://localhost:8080/"
        },
        "id": "uoao-LFZD6kF",
        "outputId": "4426078a-2ddb-4369-e131-68b725580772"
      },
      "execution_count": 74,
      "outputs": [
        {
          "output_type": "execute_result",
          "data": {
            "text/plain": [
              "Date\n",
              "2012-01-02    1.000000\n",
              "2012-01-03    1.048253\n",
              "2012-01-04    1.039102\n",
              "2012-01-05    1.006656\n",
              "2012-01-06    1.023295\n",
              "                ...   \n",
              "2024-03-18    1.666241\n",
              "2024-03-19    1.646448\n",
              "2024-03-20    1.709427\n",
              "2024-03-21    1.666241\n",
              "2024-03-22    1.691432\n",
              "Name: ALPA4.SA, Length: 3034, dtype: float64"
            ]
          },
          "metadata": {},
          "execution_count": 74
        }
      ]
    },
    {
      "cell_type": "code",
      "source": [
        "ibov = ibov.dropna(axis=1, how='all')"
      ],
      "metadata": {
        "id": "Q0JT2KrOEdSc"
      },
      "execution_count": 76,
      "outputs": []
    },
    {
      "cell_type": "code",
      "source": [
        "ipo = dict()\n",
        "dicionario = dict()"
      ],
      "metadata": {
        "id": "NlJ6MEEPE4jO"
      },
      "execution_count": 85,
      "outputs": []
    },
    {
      "cell_type": "code",
      "source": [
        "for i in ibov.columns:\n",
        "    local = ibov[i].dropna()\n",
        "    df_normal = local/local.iloc[0]\n",
        "    total_return = 100*(df_normal.iloc[-1] - 1)\n",
        "    dicionario[i] = total_return\n",
        "    ipo[i] = ibov[i].first_valid_index()"
      ],
      "metadata": {
        "id": "fdzwejcgBFWP"
      },
      "execution_count": 86,
      "outputs": []
    },
    {
      "cell_type": "code",
      "source": [
        "import pandas as pd"
      ],
      "metadata": {
        "id": "h2SNapiPDPFQ"
      },
      "execution_count": 87,
      "outputs": []
    },
    {
      "cell_type": "code",
      "source": [
        "acoes = pd.DataFrame({'retornos': dicionario, 'ipos':ipo})"
      ],
      "metadata": {
        "id": "iOgqveMDFOk2"
      },
      "execution_count": 92,
      "outputs": []
    },
    {
      "cell_type": "code",
      "source": [
        "pd.DataFrame.from_dict(ipo, orient = 'index')"
      ],
      "metadata": {
        "colab": {
          "base_uri": "https://localhost:8080/",
          "height": 423
        },
        "id": "MQD5nb6ICZXY",
        "outputId": "873645d4-14e8-4cb8-fbcb-9aaf6d719a53"
      },
      "execution_count": 88,
      "outputs": [
        {
          "output_type": "execute_result",
          "data": {
            "text/plain": [
              "                  0\n",
              "ABEV3.SA 2012-01-02\n",
              "ALPA4.SA 2012-01-02\n",
              "ARZZ3.SA 2012-01-02\n",
              "ASAI3.SA 2021-03-01\n",
              "AZUL4.SA 2017-04-11\n",
              "...             ...\n",
              "VAMO3.SA 2021-02-02\n",
              "VBBR3.SA 2018-03-14\n",
              "VIVT3.SA 2012-01-02\n",
              "WEGE3.SA 2012-01-02\n",
              "YDUQ3.SA 2012-01-02\n",
              "\n",
              "[84 rows x 1 columns]"
            ],
            "text/html": [
              "\n",
              "  <div id=\"df-82b02478-3c05-445a-be9d-c40a411338f1\" class=\"colab-df-container\">\n",
              "    <div>\n",
              "<style scoped>\n",
              "    .dataframe tbody tr th:only-of-type {\n",
              "        vertical-align: middle;\n",
              "    }\n",
              "\n",
              "    .dataframe tbody tr th {\n",
              "        vertical-align: top;\n",
              "    }\n",
              "\n",
              "    .dataframe thead th {\n",
              "        text-align: right;\n",
              "    }\n",
              "</style>\n",
              "<table border=\"1\" class=\"dataframe\">\n",
              "  <thead>\n",
              "    <tr style=\"text-align: right;\">\n",
              "      <th></th>\n",
              "      <th>0</th>\n",
              "    </tr>\n",
              "  </thead>\n",
              "  <tbody>\n",
              "    <tr>\n",
              "      <th>ABEV3.SA</th>\n",
              "      <td>2012-01-02</td>\n",
              "    </tr>\n",
              "    <tr>\n",
              "      <th>ALPA4.SA</th>\n",
              "      <td>2012-01-02</td>\n",
              "    </tr>\n",
              "    <tr>\n",
              "      <th>ARZZ3.SA</th>\n",
              "      <td>2012-01-02</td>\n",
              "    </tr>\n",
              "    <tr>\n",
              "      <th>ASAI3.SA</th>\n",
              "      <td>2021-03-01</td>\n",
              "    </tr>\n",
              "    <tr>\n",
              "      <th>AZUL4.SA</th>\n",
              "      <td>2017-04-11</td>\n",
              "    </tr>\n",
              "    <tr>\n",
              "      <th>...</th>\n",
              "      <td>...</td>\n",
              "    </tr>\n",
              "    <tr>\n",
              "      <th>VAMO3.SA</th>\n",
              "      <td>2021-02-02</td>\n",
              "    </tr>\n",
              "    <tr>\n",
              "      <th>VBBR3.SA</th>\n",
              "      <td>2018-03-14</td>\n",
              "    </tr>\n",
              "    <tr>\n",
              "      <th>VIVT3.SA</th>\n",
              "      <td>2012-01-02</td>\n",
              "    </tr>\n",
              "    <tr>\n",
              "      <th>WEGE3.SA</th>\n",
              "      <td>2012-01-02</td>\n",
              "    </tr>\n",
              "    <tr>\n",
              "      <th>YDUQ3.SA</th>\n",
              "      <td>2012-01-02</td>\n",
              "    </tr>\n",
              "  </tbody>\n",
              "</table>\n",
              "<p>84 rows × 1 columns</p>\n",
              "</div>\n",
              "    <div class=\"colab-df-buttons\">\n",
              "\n",
              "  <div class=\"colab-df-container\">\n",
              "    <button class=\"colab-df-convert\" onclick=\"convertToInteractive('df-82b02478-3c05-445a-be9d-c40a411338f1')\"\n",
              "            title=\"Convert this dataframe to an interactive table.\"\n",
              "            style=\"display:none;\">\n",
              "\n",
              "  <svg xmlns=\"http://www.w3.org/2000/svg\" height=\"24px\" viewBox=\"0 -960 960 960\">\n",
              "    <path d=\"M120-120v-720h720v720H120Zm60-500h600v-160H180v160Zm220 220h160v-160H400v160Zm0 220h160v-160H400v160ZM180-400h160v-160H180v160Zm440 0h160v-160H620v160ZM180-180h160v-160H180v160Zm440 0h160v-160H620v160Z\"/>\n",
              "  </svg>\n",
              "    </button>\n",
              "\n",
              "  <style>\n",
              "    .colab-df-container {\n",
              "      display:flex;\n",
              "      gap: 12px;\n",
              "    }\n",
              "\n",
              "    .colab-df-convert {\n",
              "      background-color: #E8F0FE;\n",
              "      border: none;\n",
              "      border-radius: 50%;\n",
              "      cursor: pointer;\n",
              "      display: none;\n",
              "      fill: #1967D2;\n",
              "      height: 32px;\n",
              "      padding: 0 0 0 0;\n",
              "      width: 32px;\n",
              "    }\n",
              "\n",
              "    .colab-df-convert:hover {\n",
              "      background-color: #E2EBFA;\n",
              "      box-shadow: 0px 1px 2px rgba(60, 64, 67, 0.3), 0px 1px 3px 1px rgba(60, 64, 67, 0.15);\n",
              "      fill: #174EA6;\n",
              "    }\n",
              "\n",
              "    .colab-df-buttons div {\n",
              "      margin-bottom: 4px;\n",
              "    }\n",
              "\n",
              "    [theme=dark] .colab-df-convert {\n",
              "      background-color: #3B4455;\n",
              "      fill: #D2E3FC;\n",
              "    }\n",
              "\n",
              "    [theme=dark] .colab-df-convert:hover {\n",
              "      background-color: #434B5C;\n",
              "      box-shadow: 0px 1px 3px 1px rgba(0, 0, 0, 0.15);\n",
              "      filter: drop-shadow(0px 1px 2px rgba(0, 0, 0, 0.3));\n",
              "      fill: #FFFFFF;\n",
              "    }\n",
              "  </style>\n",
              "\n",
              "    <script>\n",
              "      const buttonEl =\n",
              "        document.querySelector('#df-82b02478-3c05-445a-be9d-c40a411338f1 button.colab-df-convert');\n",
              "      buttonEl.style.display =\n",
              "        google.colab.kernel.accessAllowed ? 'block' : 'none';\n",
              "\n",
              "      async function convertToInteractive(key) {\n",
              "        const element = document.querySelector('#df-82b02478-3c05-445a-be9d-c40a411338f1');\n",
              "        const dataTable =\n",
              "          await google.colab.kernel.invokeFunction('convertToInteractive',\n",
              "                                                    [key], {});\n",
              "        if (!dataTable) return;\n",
              "\n",
              "        const docLinkHtml = 'Like what you see? Visit the ' +\n",
              "          '<a target=\"_blank\" href=https://colab.research.google.com/notebooks/data_table.ipynb>data table notebook</a>'\n",
              "          + ' to learn more about interactive tables.';\n",
              "        element.innerHTML = '';\n",
              "        dataTable['output_type'] = 'display_data';\n",
              "        await google.colab.output.renderOutput(dataTable, element);\n",
              "        const docLink = document.createElement('div');\n",
              "        docLink.innerHTML = docLinkHtml;\n",
              "        element.appendChild(docLink);\n",
              "      }\n",
              "    </script>\n",
              "  </div>\n",
              "\n",
              "\n",
              "<div id=\"df-399f5586-39cb-48ab-a6ba-f774822fac8f\">\n",
              "  <button class=\"colab-df-quickchart\" onclick=\"quickchart('df-399f5586-39cb-48ab-a6ba-f774822fac8f')\"\n",
              "            title=\"Suggest charts\"\n",
              "            style=\"display:none;\">\n",
              "\n",
              "<svg xmlns=\"http://www.w3.org/2000/svg\" height=\"24px\"viewBox=\"0 0 24 24\"\n",
              "     width=\"24px\">\n",
              "    <g>\n",
              "        <path d=\"M19 3H5c-1.1 0-2 .9-2 2v14c0 1.1.9 2 2 2h14c1.1 0 2-.9 2-2V5c0-1.1-.9-2-2-2zM9 17H7v-7h2v7zm4 0h-2V7h2v10zm4 0h-2v-4h2v4z\"/>\n",
              "    </g>\n",
              "</svg>\n",
              "  </button>\n",
              "\n",
              "<style>\n",
              "  .colab-df-quickchart {\n",
              "      --bg-color: #E8F0FE;\n",
              "      --fill-color: #1967D2;\n",
              "      --hover-bg-color: #E2EBFA;\n",
              "      --hover-fill-color: #174EA6;\n",
              "      --disabled-fill-color: #AAA;\n",
              "      --disabled-bg-color: #DDD;\n",
              "  }\n",
              "\n",
              "  [theme=dark] .colab-df-quickchart {\n",
              "      --bg-color: #3B4455;\n",
              "      --fill-color: #D2E3FC;\n",
              "      --hover-bg-color: #434B5C;\n",
              "      --hover-fill-color: #FFFFFF;\n",
              "      --disabled-bg-color: #3B4455;\n",
              "      --disabled-fill-color: #666;\n",
              "  }\n",
              "\n",
              "  .colab-df-quickchart {\n",
              "    background-color: var(--bg-color);\n",
              "    border: none;\n",
              "    border-radius: 50%;\n",
              "    cursor: pointer;\n",
              "    display: none;\n",
              "    fill: var(--fill-color);\n",
              "    height: 32px;\n",
              "    padding: 0;\n",
              "    width: 32px;\n",
              "  }\n",
              "\n",
              "  .colab-df-quickchart:hover {\n",
              "    background-color: var(--hover-bg-color);\n",
              "    box-shadow: 0 1px 2px rgba(60, 64, 67, 0.3), 0 1px 3px 1px rgba(60, 64, 67, 0.15);\n",
              "    fill: var(--button-hover-fill-color);\n",
              "  }\n",
              "\n",
              "  .colab-df-quickchart-complete:disabled,\n",
              "  .colab-df-quickchart-complete:disabled:hover {\n",
              "    background-color: var(--disabled-bg-color);\n",
              "    fill: var(--disabled-fill-color);\n",
              "    box-shadow: none;\n",
              "  }\n",
              "\n",
              "  .colab-df-spinner {\n",
              "    border: 2px solid var(--fill-color);\n",
              "    border-color: transparent;\n",
              "    border-bottom-color: var(--fill-color);\n",
              "    animation:\n",
              "      spin 1s steps(1) infinite;\n",
              "  }\n",
              "\n",
              "  @keyframes spin {\n",
              "    0% {\n",
              "      border-color: transparent;\n",
              "      border-bottom-color: var(--fill-color);\n",
              "      border-left-color: var(--fill-color);\n",
              "    }\n",
              "    20% {\n",
              "      border-color: transparent;\n",
              "      border-left-color: var(--fill-color);\n",
              "      border-top-color: var(--fill-color);\n",
              "    }\n",
              "    30% {\n",
              "      border-color: transparent;\n",
              "      border-left-color: var(--fill-color);\n",
              "      border-top-color: var(--fill-color);\n",
              "      border-right-color: var(--fill-color);\n",
              "    }\n",
              "    40% {\n",
              "      border-color: transparent;\n",
              "      border-right-color: var(--fill-color);\n",
              "      border-top-color: var(--fill-color);\n",
              "    }\n",
              "    60% {\n",
              "      border-color: transparent;\n",
              "      border-right-color: var(--fill-color);\n",
              "    }\n",
              "    80% {\n",
              "      border-color: transparent;\n",
              "      border-right-color: var(--fill-color);\n",
              "      border-bottom-color: var(--fill-color);\n",
              "    }\n",
              "    90% {\n",
              "      border-color: transparent;\n",
              "      border-bottom-color: var(--fill-color);\n",
              "    }\n",
              "  }\n",
              "</style>\n",
              "\n",
              "  <script>\n",
              "    async function quickchart(key) {\n",
              "      const quickchartButtonEl =\n",
              "        document.querySelector('#' + key + ' button');\n",
              "      quickchartButtonEl.disabled = true;  // To prevent multiple clicks.\n",
              "      quickchartButtonEl.classList.add('colab-df-spinner');\n",
              "      try {\n",
              "        const charts = await google.colab.kernel.invokeFunction(\n",
              "            'suggestCharts', [key], {});\n",
              "      } catch (error) {\n",
              "        console.error('Error during call to suggestCharts:', error);\n",
              "      }\n",
              "      quickchartButtonEl.classList.remove('colab-df-spinner');\n",
              "      quickchartButtonEl.classList.add('colab-df-quickchart-complete');\n",
              "    }\n",
              "    (() => {\n",
              "      let quickchartButtonEl =\n",
              "        document.querySelector('#df-399f5586-39cb-48ab-a6ba-f774822fac8f button');\n",
              "      quickchartButtonEl.style.display =\n",
              "        google.colab.kernel.accessAllowed ? 'block' : 'none';\n",
              "    })();\n",
              "  </script>\n",
              "</div>\n",
              "    </div>\n",
              "  </div>\n"
            ],
            "application/vnd.google.colaboratory.intrinsic+json": {
              "type": "dataframe",
              "summary": "{\n  \"name\": \"pd\",\n  \"rows\": 84,\n  \"fields\": [\n    {\n      \"column\": 0,\n      \"properties\": {\n        \"dtype\": \"date\",\n        \"min\": \"2012-01-02 00:00:00\",\n        \"max\": \"2021-11-22 00:00:00\",\n        \"num_unique_values\": 24,\n        \"samples\": [\n          \"2013-12-09 00:00:00\",\n          \"2015-04-02 00:00:00\",\n          \"2012-01-02 00:00:00\"\n        ],\n        \"semantic_type\": \"\",\n        \"description\": \"\"\n      }\n    }\n  ]\n}"
            }
          },
          "metadata": {},
          "execution_count": 88
        }
      ]
    },
    {
      "cell_type": "code",
      "source": [
        "import seaborn as sns"
      ],
      "metadata": {
        "id": "1-Au3x4gDMFF"
      },
      "execution_count": 91,
      "outputs": []
    },
    {
      "cell_type": "code",
      "source": [
        "acoes_filt = acoes[acoes['ipos'] > '2018-01-02']"
      ],
      "metadata": {
        "id": "3pAOJGopGOrk"
      },
      "execution_count": 97,
      "outputs": []
    },
    {
      "cell_type": "code",
      "source": [
        "acoes_filt"
      ],
      "metadata": {
        "colab": {
          "base_uri": "https://localhost:8080/",
          "height": 488
        },
        "id": "gWnmocX8GWpC",
        "outputId": "add9f67e-efaf-4699-be35-466841dea124"
      },
      "execution_count": 98,
      "outputs": [
        {
          "output_type": "execute_result",
          "data": {
            "text/plain": [
              "            retornos       ipos\n",
              "ASAI3.SA    2.712796 2021-03-01\n",
              "CMIN3.SA  -11.113132 2021-02-22\n",
              "HAPV3.SA  -28.621330 2018-04-26\n",
              "IGTI11.SA  21.421298 2021-11-22\n",
              "LWSA3.SA   14.426554 2020-02-06\n",
              "NTCO3.SA  -47.222842 2019-12-18\n",
              "PETZ3.SA  -67.753938 2020-09-15\n",
              "RAIZ4.SA  -47.357359 2021-08-05\n",
              "RDOR3.SA  -58.274019 2020-12-15\n",
              "RECV3.SA   57.891950 2021-05-05\n",
              "RRRP3.SA   47.919782 2020-11-12\n",
              "SOMA3.SA  -33.610432 2020-07-31\n",
              "VAMO3.SA   14.132024 2021-02-02\n",
              "VBBR3.SA   59.472352 2018-03-14"
            ],
            "text/html": [
              "\n",
              "  <div id=\"df-cbe58453-d2e5-4574-abec-1fca0cd5a51a\" class=\"colab-df-container\">\n",
              "    <div>\n",
              "<style scoped>\n",
              "    .dataframe tbody tr th:only-of-type {\n",
              "        vertical-align: middle;\n",
              "    }\n",
              "\n",
              "    .dataframe tbody tr th {\n",
              "        vertical-align: top;\n",
              "    }\n",
              "\n",
              "    .dataframe thead th {\n",
              "        text-align: right;\n",
              "    }\n",
              "</style>\n",
              "<table border=\"1\" class=\"dataframe\">\n",
              "  <thead>\n",
              "    <tr style=\"text-align: right;\">\n",
              "      <th></th>\n",
              "      <th>retornos</th>\n",
              "      <th>ipos</th>\n",
              "    </tr>\n",
              "  </thead>\n",
              "  <tbody>\n",
              "    <tr>\n",
              "      <th>ASAI3.SA</th>\n",
              "      <td>2.712796</td>\n",
              "      <td>2021-03-01</td>\n",
              "    </tr>\n",
              "    <tr>\n",
              "      <th>CMIN3.SA</th>\n",
              "      <td>-11.113132</td>\n",
              "      <td>2021-02-22</td>\n",
              "    </tr>\n",
              "    <tr>\n",
              "      <th>HAPV3.SA</th>\n",
              "      <td>-28.621330</td>\n",
              "      <td>2018-04-26</td>\n",
              "    </tr>\n",
              "    <tr>\n",
              "      <th>IGTI11.SA</th>\n",
              "      <td>21.421298</td>\n",
              "      <td>2021-11-22</td>\n",
              "    </tr>\n",
              "    <tr>\n",
              "      <th>LWSA3.SA</th>\n",
              "      <td>14.426554</td>\n",
              "      <td>2020-02-06</td>\n",
              "    </tr>\n",
              "    <tr>\n",
              "      <th>NTCO3.SA</th>\n",
              "      <td>-47.222842</td>\n",
              "      <td>2019-12-18</td>\n",
              "    </tr>\n",
              "    <tr>\n",
              "      <th>PETZ3.SA</th>\n",
              "      <td>-67.753938</td>\n",
              "      <td>2020-09-15</td>\n",
              "    </tr>\n",
              "    <tr>\n",
              "      <th>RAIZ4.SA</th>\n",
              "      <td>-47.357359</td>\n",
              "      <td>2021-08-05</td>\n",
              "    </tr>\n",
              "    <tr>\n",
              "      <th>RDOR3.SA</th>\n",
              "      <td>-58.274019</td>\n",
              "      <td>2020-12-15</td>\n",
              "    </tr>\n",
              "    <tr>\n",
              "      <th>RECV3.SA</th>\n",
              "      <td>57.891950</td>\n",
              "      <td>2021-05-05</td>\n",
              "    </tr>\n",
              "    <tr>\n",
              "      <th>RRRP3.SA</th>\n",
              "      <td>47.919782</td>\n",
              "      <td>2020-11-12</td>\n",
              "    </tr>\n",
              "    <tr>\n",
              "      <th>SOMA3.SA</th>\n",
              "      <td>-33.610432</td>\n",
              "      <td>2020-07-31</td>\n",
              "    </tr>\n",
              "    <tr>\n",
              "      <th>VAMO3.SA</th>\n",
              "      <td>14.132024</td>\n",
              "      <td>2021-02-02</td>\n",
              "    </tr>\n",
              "    <tr>\n",
              "      <th>VBBR3.SA</th>\n",
              "      <td>59.472352</td>\n",
              "      <td>2018-03-14</td>\n",
              "    </tr>\n",
              "  </tbody>\n",
              "</table>\n",
              "</div>\n",
              "    <div class=\"colab-df-buttons\">\n",
              "\n",
              "  <div class=\"colab-df-container\">\n",
              "    <button class=\"colab-df-convert\" onclick=\"convertToInteractive('df-cbe58453-d2e5-4574-abec-1fca0cd5a51a')\"\n",
              "            title=\"Convert this dataframe to an interactive table.\"\n",
              "            style=\"display:none;\">\n",
              "\n",
              "  <svg xmlns=\"http://www.w3.org/2000/svg\" height=\"24px\" viewBox=\"0 -960 960 960\">\n",
              "    <path d=\"M120-120v-720h720v720H120Zm60-500h600v-160H180v160Zm220 220h160v-160H400v160Zm0 220h160v-160H400v160ZM180-400h160v-160H180v160Zm440 0h160v-160H620v160ZM180-180h160v-160H180v160Zm440 0h160v-160H620v160Z\"/>\n",
              "  </svg>\n",
              "    </button>\n",
              "\n",
              "  <style>\n",
              "    .colab-df-container {\n",
              "      display:flex;\n",
              "      gap: 12px;\n",
              "    }\n",
              "\n",
              "    .colab-df-convert {\n",
              "      background-color: #E8F0FE;\n",
              "      border: none;\n",
              "      border-radius: 50%;\n",
              "      cursor: pointer;\n",
              "      display: none;\n",
              "      fill: #1967D2;\n",
              "      height: 32px;\n",
              "      padding: 0 0 0 0;\n",
              "      width: 32px;\n",
              "    }\n",
              "\n",
              "    .colab-df-convert:hover {\n",
              "      background-color: #E2EBFA;\n",
              "      box-shadow: 0px 1px 2px rgba(60, 64, 67, 0.3), 0px 1px 3px 1px rgba(60, 64, 67, 0.15);\n",
              "      fill: #174EA6;\n",
              "    }\n",
              "\n",
              "    .colab-df-buttons div {\n",
              "      margin-bottom: 4px;\n",
              "    }\n",
              "\n",
              "    [theme=dark] .colab-df-convert {\n",
              "      background-color: #3B4455;\n",
              "      fill: #D2E3FC;\n",
              "    }\n",
              "\n",
              "    [theme=dark] .colab-df-convert:hover {\n",
              "      background-color: #434B5C;\n",
              "      box-shadow: 0px 1px 3px 1px rgba(0, 0, 0, 0.15);\n",
              "      filter: drop-shadow(0px 1px 2px rgba(0, 0, 0, 0.3));\n",
              "      fill: #FFFFFF;\n",
              "    }\n",
              "  </style>\n",
              "\n",
              "    <script>\n",
              "      const buttonEl =\n",
              "        document.querySelector('#df-cbe58453-d2e5-4574-abec-1fca0cd5a51a button.colab-df-convert');\n",
              "      buttonEl.style.display =\n",
              "        google.colab.kernel.accessAllowed ? 'block' : 'none';\n",
              "\n",
              "      async function convertToInteractive(key) {\n",
              "        const element = document.querySelector('#df-cbe58453-d2e5-4574-abec-1fca0cd5a51a');\n",
              "        const dataTable =\n",
              "          await google.colab.kernel.invokeFunction('convertToInteractive',\n",
              "                                                    [key], {});\n",
              "        if (!dataTable) return;\n",
              "\n",
              "        const docLinkHtml = 'Like what you see? Visit the ' +\n",
              "          '<a target=\"_blank\" href=https://colab.research.google.com/notebooks/data_table.ipynb>data table notebook</a>'\n",
              "          + ' to learn more about interactive tables.';\n",
              "        element.innerHTML = '';\n",
              "        dataTable['output_type'] = 'display_data';\n",
              "        await google.colab.output.renderOutput(dataTable, element);\n",
              "        const docLink = document.createElement('div');\n",
              "        docLink.innerHTML = docLinkHtml;\n",
              "        element.appendChild(docLink);\n",
              "      }\n",
              "    </script>\n",
              "  </div>\n",
              "\n",
              "\n",
              "<div id=\"df-0886df76-10a7-4ebf-99c3-23b2bbfd702d\">\n",
              "  <button class=\"colab-df-quickchart\" onclick=\"quickchart('df-0886df76-10a7-4ebf-99c3-23b2bbfd702d')\"\n",
              "            title=\"Suggest charts\"\n",
              "            style=\"display:none;\">\n",
              "\n",
              "<svg xmlns=\"http://www.w3.org/2000/svg\" height=\"24px\"viewBox=\"0 0 24 24\"\n",
              "     width=\"24px\">\n",
              "    <g>\n",
              "        <path d=\"M19 3H5c-1.1 0-2 .9-2 2v14c0 1.1.9 2 2 2h14c1.1 0 2-.9 2-2V5c0-1.1-.9-2-2-2zM9 17H7v-7h2v7zm4 0h-2V7h2v10zm4 0h-2v-4h2v4z\"/>\n",
              "    </g>\n",
              "</svg>\n",
              "  </button>\n",
              "\n",
              "<style>\n",
              "  .colab-df-quickchart {\n",
              "      --bg-color: #E8F0FE;\n",
              "      --fill-color: #1967D2;\n",
              "      --hover-bg-color: #E2EBFA;\n",
              "      --hover-fill-color: #174EA6;\n",
              "      --disabled-fill-color: #AAA;\n",
              "      --disabled-bg-color: #DDD;\n",
              "  }\n",
              "\n",
              "  [theme=dark] .colab-df-quickchart {\n",
              "      --bg-color: #3B4455;\n",
              "      --fill-color: #D2E3FC;\n",
              "      --hover-bg-color: #434B5C;\n",
              "      --hover-fill-color: #FFFFFF;\n",
              "      --disabled-bg-color: #3B4455;\n",
              "      --disabled-fill-color: #666;\n",
              "  }\n",
              "\n",
              "  .colab-df-quickchart {\n",
              "    background-color: var(--bg-color);\n",
              "    border: none;\n",
              "    border-radius: 50%;\n",
              "    cursor: pointer;\n",
              "    display: none;\n",
              "    fill: var(--fill-color);\n",
              "    height: 32px;\n",
              "    padding: 0;\n",
              "    width: 32px;\n",
              "  }\n",
              "\n",
              "  .colab-df-quickchart:hover {\n",
              "    background-color: var(--hover-bg-color);\n",
              "    box-shadow: 0 1px 2px rgba(60, 64, 67, 0.3), 0 1px 3px 1px rgba(60, 64, 67, 0.15);\n",
              "    fill: var(--button-hover-fill-color);\n",
              "  }\n",
              "\n",
              "  .colab-df-quickchart-complete:disabled,\n",
              "  .colab-df-quickchart-complete:disabled:hover {\n",
              "    background-color: var(--disabled-bg-color);\n",
              "    fill: var(--disabled-fill-color);\n",
              "    box-shadow: none;\n",
              "  }\n",
              "\n",
              "  .colab-df-spinner {\n",
              "    border: 2px solid var(--fill-color);\n",
              "    border-color: transparent;\n",
              "    border-bottom-color: var(--fill-color);\n",
              "    animation:\n",
              "      spin 1s steps(1) infinite;\n",
              "  }\n",
              "\n",
              "  @keyframes spin {\n",
              "    0% {\n",
              "      border-color: transparent;\n",
              "      border-bottom-color: var(--fill-color);\n",
              "      border-left-color: var(--fill-color);\n",
              "    }\n",
              "    20% {\n",
              "      border-color: transparent;\n",
              "      border-left-color: var(--fill-color);\n",
              "      border-top-color: var(--fill-color);\n",
              "    }\n",
              "    30% {\n",
              "      border-color: transparent;\n",
              "      border-left-color: var(--fill-color);\n",
              "      border-top-color: var(--fill-color);\n",
              "      border-right-color: var(--fill-color);\n",
              "    }\n",
              "    40% {\n",
              "      border-color: transparent;\n",
              "      border-right-color: var(--fill-color);\n",
              "      border-top-color: var(--fill-color);\n",
              "    }\n",
              "    60% {\n",
              "      border-color: transparent;\n",
              "      border-right-color: var(--fill-color);\n",
              "    }\n",
              "    80% {\n",
              "      border-color: transparent;\n",
              "      border-right-color: var(--fill-color);\n",
              "      border-bottom-color: var(--fill-color);\n",
              "    }\n",
              "    90% {\n",
              "      border-color: transparent;\n",
              "      border-bottom-color: var(--fill-color);\n",
              "    }\n",
              "  }\n",
              "</style>\n",
              "\n",
              "  <script>\n",
              "    async function quickchart(key) {\n",
              "      const quickchartButtonEl =\n",
              "        document.querySelector('#' + key + ' button');\n",
              "      quickchartButtonEl.disabled = true;  // To prevent multiple clicks.\n",
              "      quickchartButtonEl.classList.add('colab-df-spinner');\n",
              "      try {\n",
              "        const charts = await google.colab.kernel.invokeFunction(\n",
              "            'suggestCharts', [key], {});\n",
              "      } catch (error) {\n",
              "        console.error('Error during call to suggestCharts:', error);\n",
              "      }\n",
              "      quickchartButtonEl.classList.remove('colab-df-spinner');\n",
              "      quickchartButtonEl.classList.add('colab-df-quickchart-complete');\n",
              "    }\n",
              "    (() => {\n",
              "      let quickchartButtonEl =\n",
              "        document.querySelector('#df-0886df76-10a7-4ebf-99c3-23b2bbfd702d button');\n",
              "      quickchartButtonEl.style.display =\n",
              "        google.colab.kernel.accessAllowed ? 'block' : 'none';\n",
              "    })();\n",
              "  </script>\n",
              "</div>\n",
              "    </div>\n",
              "  </div>\n"
            ],
            "application/vnd.google.colaboratory.intrinsic+json": {
              "type": "dataframe",
              "variable_name": "acoes_filt",
              "summary": "{\n  \"name\": \"acoes_filt\",\n  \"rows\": 14,\n  \"fields\": [\n    {\n      \"column\": \"retornos\",\n      \"properties\": {\n        \"dtype\": \"number\",\n        \"std\": 43.12594959697696,\n        \"min\": -67.75393787424824,\n        \"max\": 59.47235249837226,\n        \"num_unique_values\": 14,\n        \"samples\": [\n          57.891950091887345,\n          -33.610432141163116,\n          2.712795877974128\n        ],\n        \"semantic_type\": \"\",\n        \"description\": \"\"\n      }\n    },\n    {\n      \"column\": \"ipos\",\n      \"properties\": {\n        \"dtype\": \"date\",\n        \"min\": \"2018-03-14 00:00:00\",\n        \"max\": \"2021-11-22 00:00:00\",\n        \"num_unique_values\": 14,\n        \"samples\": [\n          \"2021-05-05 00:00:00\",\n          \"2020-07-31 00:00:00\",\n          \"2021-03-01 00:00:00\"\n        ],\n        \"semantic_type\": \"\",\n        \"description\": \"\"\n      }\n    }\n  ]\n}"
            }
          },
          "metadata": {},
          "execution_count": 98
        }
      ]
    },
    {
      "cell_type": "code",
      "source": [
        "sns.scatterplot(data=acoes_filt, x=\"ipos\", y=\"retornos\")"
      ],
      "metadata": {
        "colab": {
          "base_uri": "https://localhost:8080/",
          "height": 466
        },
        "id": "wEBH4FoYF930",
        "outputId": "236ced5c-f4b6-441c-bc17-2a08bebf7f8b"
      },
      "execution_count": 99,
      "outputs": [
        {
          "output_type": "execute_result",
          "data": {
            "text/plain": [
              "<Axes: xlabel='ipos', ylabel='retornos'>"
            ]
          },
          "metadata": {},
          "execution_count": 99
        },
        {
          "output_type": "display_data",
          "data": {
            "text/plain": [
              "<Figure size 640x480 with 1 Axes>"
            ],
            "image/png": "[encoded data removed]"
          },
          "metadata": {}
        }
      ]
    },
    {
      "cell_type": "code",
      "source": [],
      "metadata": {
        "id": "_eOyyiv6GJeK"
      },
      "execution_count": null,
      "outputs": []
    }
  ]
}