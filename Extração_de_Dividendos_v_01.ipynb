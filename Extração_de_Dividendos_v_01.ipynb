{
  "nbformat": 4,
  "nbformat_minor": 0,
  "metadata": {
    "colab": {
      "provenance": [],
      "collapsed_sections": [
        "Gz5nPouo4DVe"
      ],
      "authorship_tag": "ABX9TyMPL14XoG0OWYk0uAhhX+Xu",
      "include_colab_link": true
    },
    "kernelspec": {
      "name": "python3",
      "display_name": "Python 3"
    },
    "language_info": {
      "name": "python"
    }
  },
  "cells": [
    {
      "cell_type": "markdown",
      "metadata": {
        "id": "view-in-github",
        "colab_type": "text"
      },
      "source": [
        "<a href=\"https://colab.research.google.com/github/victorncg/financas_quantitativas/blob/main/Extra%C3%A7%C3%A3o_de_Dividendos_v_01.ipynb\" target=\"_parent\"><img src=\"https://colab.research.google.com/assets/colab-badge.svg\" alt=\"Open In Colab\"/></a>"
      ]
    },
    {
      "cell_type": "markdown",
      "source": [
        "<center><img src = \"https://github.com/Trading-com-Dados/pmf/blob/main/logotipo-trading-com-dados.svg?raw=true\" width = \"200\">\n",
        "\n",
        "\n",
        "\n",
        "---\n"
      ],
      "metadata": {
        "id": "01UhjCnDy5WF"
      }
    },
    {
      "cell_type": "markdown",
      "source": [
        "Antes de começarmos:\n",
        "\n",
        "* Promoção Super Maio vai até amanhã (24/05) - aproveite para entrar na Comunidade PMF!\n",
        "* Esta live ficará aberta no YouTube por 48h, e depois vai virar conteúdo exclusivo para membros da Comunidade PMF e do canal\n",
        "* Durante a live vou anunciar um presente - continue aqui para saber qual é e como participar!\n"
      ],
      "metadata": {
        "id": "IemwpdVky_lJ"
      }
    },
    {
      "cell_type": "markdown",
      "source": [
        "<center><img src = \"https://github.com/victorncg/financas_quantitativas/blob/main/DIVIDENDOS.png?raw=true\" width = \"500\">"
      ],
      "metadata": {
        "id": "95KjvtW_yrLQ"
      }
    },
    {
      "cell_type": "markdown",
      "source": [
        "# **Tudo o que você precisa saber sobre dividendos (com Python)**"
      ],
      "metadata": {
        "id": "63IYDbz7wkBq"
      }
    },
    {
      "cell_type": "markdown",
      "source": [
        "## Teoria"
      ],
      "metadata": {
        "id": "Gz5nPouo4DVe"
      }
    },
    {
      "cell_type": "markdown",
      "source": [
        "Dividendos e juros sobre capital próprio (JCP) são duas formas de remuneração que as empresas brasileiras utilizam para distribuir parte de seus lucros aos acionistas. Vamos entender cada um deles:\n",
        "\n",
        "### Dividendos\n",
        "\n",
        "Dividendos são a parcela do lucro de uma empresa que é distribuída aos seus acionistas. Eles representam um retorno sobre o capital investido pelos acionistas na empresa. Existem alguns pontos-chave sobre os dividendos:\n",
        "\n",
        "1. **Periodicidade**: Os dividendos podem ser distribuídos periodicamente, como trimestralmente, semestralmente ou anualmente, dependendo da política de dividendos da empresa.\n",
        "2. **Obrigatoriedade**: No Brasil, a Lei das Sociedades por Ações (Lei nº 6.404/76) estabelece que as empresas devem distribuir no mínimo 25% do lucro líquido ajustado aos seus acionistas, salvo decisão em contrário tomada em assembleia.\n",
        "3. **Forma de pagamento**: Os dividendos podem ser pagos em dinheiro, ações adicionais ou outras formas, conforme a decisão da empresa.\n",
        "4. **Imposto de Renda**: No Brasil, os dividendos são isentos de imposto de renda para a pessoa física, pois já são tributados na fonte, ou seja, na empresa que os distribui.\n",
        "\n",
        "### Juros sobre Capital Próprio (JCP)\n",
        "\n",
        "Os juros sobre capital próprio são uma forma alternativa de distribuição de lucros que permite às empresas deduzirem essa despesa como um custo operacional, reduzindo assim a base de cálculo do imposto de renda e da contribuição social sobre o lucro líquido (CSLL). Alguns pontos importantes sobre o JCP são:\n",
        "\n",
        "1. **Base Legal**: O JCP é regido pela Lei nº 9.249/95.\n",
        "2. **Cálculo**: O valor do JCP é limitado a uma taxa de juros definida pela legislação, que é aplicada sobre o patrimônio líquido da empresa. Essa taxa é baseada na Taxa de Juros de Longo Prazo (TJLP).\n",
        "3. **Tributação**: Ao contrário dos dividendos, o JCP está sujeito à retenção de imposto de renda na fonte, com uma alíquota de 15% para pessoa física e jurídica.\n",
        "4. **Dedutibilidade**: Para a empresa, o JCP é uma despesa dedutível, o que significa que ele pode ser abatido do lucro tributável, proporcionando uma economia fiscal.\n",
        "\n",
        "### Comparação entre Dividendos e JCP\n",
        "\n",
        "- **Impacto Fiscal para a Empresa**: Os dividendos não são dedutíveis para a empresa, enquanto o JCP é dedutível, o que pode reduzir o imposto a pagar.\n",
        "- **Tributação para o Acionista**: Os dividendos são isentos de imposto de renda para os acionistas, enquanto o JCP sofre retenção na fonte.\n",
        "- **Flexibilidade de Uso**: As empresas podem optar por distribuir seus lucros através de uma combinação de dividendos e JCP, dependendo de sua estratégia fiscal e financeira.\n",
        "\n",
        "Esses mecanismos permitem às empresas flexibilizar a distribuição de seus lucros de forma eficiente, beneficiando tanto a empresa quanto os acionistas, conforme as condições econômicas e a legislação vigente."
      ],
      "metadata": {
        "id": "vaSeR6jdwhzi"
      }
    },
    {
      "cell_type": "markdown",
      "source": [
        "---"
      ],
      "metadata": {
        "id": "F1KmEVEu0S-S"
      }
    },
    {
      "cell_type": "markdown",
      "source": [
        "### **O que você precisa saber sobre as datas**"
      ],
      "metadata": {
        "id": "NOlVM5Em0TuZ"
      }
    },
    {
      "cell_type": "markdown",
      "source": [
        "A \"Data Com\" (ou \"Data Ex-Dividendo\") é um termo utilizado no mercado financeiro para indicar a data a partir da qual as ações de uma empresa são negociadas sem o direito aos dividendos ou juros sobre capital próprio anunciados. Vamos entender melhor o conceito:\n",
        "\n",
        "### Data Com (ou Data de Corte)\n",
        "\n",
        "A Data Com é a última data na qual um investidor precisa possuir as ações de uma empresa para ter direito a receber os dividendos ou JCP anunciados. Se um investidor comprar as ações na Data Com ou antes, ele terá direito aos proventos. No dia seguinte à Data Com, as ações são negociadas \"ex-dividendo\" (sem direito aos proventos).\n",
        "\n",
        "### Importância da Data Com\n",
        "\n",
        "1. **Determinação dos Beneficiários**: A Data Com é crucial para determinar quais acionistas terão direito aos dividendos ou JCP. Qualquer pessoa que possua ações na Data Com terá direito aos proventos, mesmo que venda as ações posteriormente.\n",
        "2. **Influência no Preço das Ações**: Após a Data Com, é comum que o preço das ações caia aproximadamente pelo valor dos dividendos ou JCP distribuídos, refletindo que os novos compradores não terão direito a esses proventos.\n",
        "\n",
        "### Exemplo Prático\n",
        "\n",
        "Suponha que uma empresa anuncie dividendos com as seguintes datas:\n",
        "- **Data Com**: 10 de junho\n",
        "- **Data Ex-Dividendo**: 11 de junho\n",
        "- **Data de Pagamento**: 25 de junho\n",
        "\n",
        "Se um investidor deseja receber os dividendos, ele precisa comprar as ações até o final do dia 10 de junho. No dia 11 de junho, as ações serão negociadas sem o direito aos dividendos (ex-dividendo). Se ele comprar as ações no dia 11 de junho ou depois, não terá direito aos dividendos anunciados.\n",
        "\n",
        "### Resumo das Datas Importantes\n",
        "\n",
        "- **Data de Declaração**: Data em que a empresa anuncia os dividendos ou JCP.\n",
        "- **Data Com (ou Data de Corte)**: Último dia em que as ações precisam ser possuídas para ter direito aos proventos.\n",
        "- **Data Ex-Dividendo**: Dia seguinte à Data Com, quando as ações começam a ser negociadas sem direito aos proventos.\n",
        "- **Data de Pagamento**: Data em que os dividendos ou JCP são efetivamente pagos aos acionistas.\n",
        "\n",
        "Compreender a Data Com é essencial para investidores que buscam obter rendimentos através de dividendos ou JCP, pois essa data determina a elegibilidade para receber esses proventos."
      ],
      "metadata": {
        "id": "ofBa3HEW0caB"
      }
    },
    {
      "cell_type": "markdown",
      "source": [
        "## Importação das bibliotecas"
      ],
      "metadata": {
        "id": "l0U2Qr0u0ovg"
      }
    },
    {
      "cell_type": "code",
      "source": [
        "from base64 import b64decode\n",
        "from base64 import b64encode\n",
        "import pandas as pd\n",
        "import requests"
      ],
      "metadata": {
        "id": "RoLwPpG5j9iY"
      },
      "execution_count": 1,
      "outputs": []
    },
    {
      "cell_type": "markdown",
      "source": [
        "Fonte dos dadosm\n",
        "\n",
        "https://www.b3.com.br/pt_br/produtos-e-servicos/negociacao/renda-variavel/empresas-listadas.htm\n",
        "\n",
        "https://www.b3.com.br/pt_br/produtos-e-servicos/negociacao/renda-variavel/empresas-listadas.htm\n",
        "\n"
      ],
      "metadata": {
        "id": "fy3s3cJEgvdL"
      }
    },
    {
      "cell_type": "markdown",
      "source": [
        "Source\n",
        "\n",
        "https://www.tradingcomdados.com.br/conteudo/artigos/8-blog/50-como-obter-o-historico-de-dividendos-e-outros-proventos-com-python-direto-do-site-da-b3"
      ],
      "metadata": {
        "id": "cWJLcykolgDb"
      }
    },
    {
      "cell_type": "markdown",
      "source": [
        "## Request da página da B3"
      ],
      "metadata": {
        "id": "ZRR0uhNg09oT"
      }
    },
    {
      "cell_type": "code",
      "source": [
        "url_vale = 'https://sistemaswebb3-listados.b3.com.br/listedCompaniesProxy/CompanyCall/GetListedCashDividends/eyJsYW5ndWFnZSI6InB0LWJyIiwicGFnZU51bWJlciI6MSwicGFnZVNpemUiOjIwLCJ0cmFkaW5nTmFtZSI6IlZBTEUifQ=='"
      ],
      "metadata": {
        "id": "GINA1XOt1BpZ"
      },
      "execution_count": 2,
      "outputs": []
    },
    {
      "cell_type": "code",
      "source": [
        "dados_brutos = requests.get(url_vale)"
      ],
      "metadata": {
        "id": "SQqZ3eNM1tzi"
      },
      "execution_count": 3,
      "outputs": []
    },
    {
      "cell_type": "code",
      "source": [
        "dados_brutos"
      ],
      "metadata": {
        "colab": {
          "base_uri": "https://localhost:8080/"
        },
        "id": "cJ1rIEkG1wZS",
        "outputId": "8b4c15da-807f-4cb0-ffe0-299347f155ba"
      },
      "execution_count": 4,
      "outputs": [
        {
          "output_type": "execute_result",
          "data": {
            "text/plain": [
              "<Response [200]>"
            ]
          },
          "metadata": {},
          "execution_count": 4
        }
      ]
    },
    {
      "cell_type": "code",
      "source": [
        "dados_brutos.json()"
      ],
      "metadata": {
        "id": "GbRKHv9P2Cpx"
      },
      "execution_count": null,
      "outputs": []
    },
    {
      "cell_type": "code",
      "source": [
        "type(dados_brutos.json())"
      ],
      "metadata": {
        "colab": {
          "base_uri": "https://localhost:8080/"
        },
        "id": "LrJ-Jvoe2TCT",
        "outputId": "e916d2e3-ee2e-4979-c1fe-225f93fe7a96"
      },
      "execution_count": 6,
      "outputs": [
        {
          "output_type": "execute_result",
          "data": {
            "text/plain": [
              "dict"
            ]
          },
          "metadata": {},
          "execution_count": 6
        }
      ]
    },
    {
      "cell_type": "code",
      "source": [
        "dados_brutos.json()['results']"
      ],
      "metadata": {
        "id": "84UijG462jdi"
      },
      "execution_count": null,
      "outputs": []
    },
    {
      "cell_type": "code",
      "source": [
        "pd.DataFrame(dados_brutos.json()['results'])"
      ],
      "metadata": {
        "colab": {
          "base_uri": "https://localhost:8080/",
          "height": 852
        },
        "id": "maXrNWYm2moB",
        "outputId": "9503d90b-c6c1-4707-e502-af7c5e310bc8"
      },
      "execution_count": 8,
      "outputs": [
        {
          "output_type": "execute_result",
          "data": {
            "text/plain": [
              "   typeStock dateApproval    valueCash ratio  corporateAction lastDatePriorEx  \\\n",
              "0         ON   22/02/2024  2,738548374     1        DIVIDENDO      11/03/2024   \n",
              "1         ON   26/10/2023  1,565890809     1        DIVIDENDO      21/11/2023   \n",
              "2         ON   26/10/2023  0,765770758     1  JRS CAP PROPRIO      21/11/2023   \n",
              "3         ON   27/07/2023  1,918471798     1  JRS CAP PROPRIO      11/08/2023   \n",
              "4         ON   16/02/2023  1,827646129     1        DIVIDENDO      13/03/2023   \n",
              "5         ON   01/12/2022  0,292012688     1  JRS CAP PROPRIO      12/12/2022   \n",
              "6         ON   28/07/2022  2,032680337     1        DIVIDENDO      11/08/2022   \n",
              "7         ON   28/07/2022  1,539376229     1  JRS CAP PROPRIO      11/08/2022   \n",
              "8         ON   24/02/2022  3,719256588     1        DIVIDENDO      08/03/2022   \n",
              "9         ON   16/09/2021  8,197239442     1        DIVIDENDO      22/09/2021   \n",
              "10        ON   17/06/2021  0,720404889     1        DIVIDENDO      23/06/2021   \n",
              "11        ON   17/06/2021  1,469265175     1        DIVIDENDO      23/06/2021   \n",
              "12        ON   25/02/2021  3,425910336     1        DIVIDENDO      04/03/2021   \n",
              "13        ON   25/02/2021  0,835736883     1  JRS CAP PROPRIO      04/03/2021   \n",
              "14        ON   10/09/2020  1,410166173     1        DIVIDENDO      21/09/2020   \n",
              "15        ON   10/09/2020  0,997344547     1  JRS CAP PROPRIO      21/09/2020   \n",
              "16        ON   19/12/2019  1,414364369     1  JRS CAP PROPRIO      26/12/2019   \n",
              "17        ON   25/07/2018  0,171747417     1        DIVIDENDO      02/08/2018   \n",
              "18        ON   25/07/2018  1,308614127     1  JRS CAP PROPRIO      02/08/2018   \n",
              "19        ON   27/02/2018  0,488511766     1  JRS CAP PROPRIO      06/03/2018   \n",
              "\n",
              "   dateClosingPricePriorExDate closingPricePriorExDate quotedPerShares  \\\n",
              "0                   11/03/2024                   63,96               1   \n",
              "1                   21/11/2023                   77,90               1   \n",
              "2                   21/11/2023                   77,90               1   \n",
              "3                   11/08/2023                   65,51               1   \n",
              "4                   13/03/2023                   85,05               1   \n",
              "5                   12/12/2022                   86,09               1   \n",
              "6                   11/08/2022                   72,49               1   \n",
              "7                   11/08/2022                   72,49               1   \n",
              "8                   08/03/2022                  100,46               1   \n",
              "9                   22/09/2021                   87,11               1   \n",
              "10                  23/06/2021                  113,07               1   \n",
              "11                  23/06/2021                  113,07               1   \n",
              "12                  04/03/2021                   98,86               1   \n",
              "13                  04/03/2021                   98,86               1   \n",
              "14                  21/09/2020                   60,00               1   \n",
              "15                  21/09/2020                   60,00               1   \n",
              "16                  26/12/2019                   54,79               1   \n",
              "17                  02/08/2018                   52,84               1   \n",
              "18                  02/08/2018                   52,84               1   \n",
              "19                  06/03/2018                   43,49               1   \n",
              "\n",
              "   corporateActionPrice  lastDateTimePriorEx  \n",
              "0              4,281658  2024-03-11T00:00:00  \n",
              "1              2,010129  2023-11-21T00:00:00  \n",
              "2              0,983018  2023-11-21T00:00:00  \n",
              "3              2,928517  2023-08-11T00:00:00  \n",
              "4              2,148908  2023-03-13T00:00:00  \n",
              "5              0,339195  2022-12-12T00:00:00  \n",
              "6              2,804084  2022-08-11T00:00:00  \n",
              "7              2,123570  2022-08-11T00:00:00  \n",
              "8              3,702226  2022-03-08T00:00:00  \n",
              "9              9,410216  2021-09-22T00:00:00  \n",
              "10             0,637132  2021-06-23T00:00:00  \n",
              "11             1,299430  2021-06-23T00:00:00  \n",
              "12             3,465416  2021-03-04T00:00:00  \n",
              "13             0,845374  2021-03-04T00:00:00  \n",
              "14             2,350277  2020-09-21T00:00:00  \n",
              "15             1,662241  2020-09-21T00:00:00  \n",
              "16             2,581428  2019-12-26T00:00:00  \n",
              "17             0,325033  2018-08-02T00:00:00  \n",
              "18             2,476560  2018-08-02T00:00:00  \n",
              "19             1,123274  2018-03-06T00:00:00  "
            ],
            "text/html": [
              "\n",
              "  <div id=\"df-0531cb0f-c6ff-4bb2-b7be-9b1fadc067b9\" class=\"colab-df-container\">\n",
              "    <div>\n",
              "<style scoped>\n",
              "    .dataframe tbody tr th:only-of-type {\n",
              "        vertical-align: middle;\n",
              "    }\n",
              "\n",
              "    .dataframe tbody tr th {\n",
              "        vertical-align: top;\n",
              "    }\n",
              "\n",
              "    .dataframe thead th {\n",
              "        text-align: right;\n",
              "    }\n",
              "</style>\n",
              "<table border=\"1\" class=\"dataframe\">\n",
              "  <thead>\n",
              "    <tr style=\"text-align: right;\">\n",
              "      <th></th>\n",
              "      <th>typeStock</th>\n",
              "      <th>dateApproval</th>\n",
              "      <th>valueCash</th>\n",
              "      <th>ratio</th>\n",
              "      <th>corporateAction</th>\n",
              "      <th>lastDatePriorEx</th>\n",
              "      <th>dateClosingPricePriorExDate</th>\n",
              "      <th>closingPricePriorExDate</th>\n",
              "      <th>quotedPerShares</th>\n",
              "      <th>corporateActionPrice</th>\n",
              "      <th>lastDateTimePriorEx</th>\n",
              "    </tr>\n",
              "  </thead>\n",
              "  <tbody>\n",
              "    <tr>\n",
              "      <th>0</th>\n",
              "      <td>ON</td>\n",
              "      <td>22/02/2024</td>\n",
              "      <td>2,738548374</td>\n",
              "      <td>1</td>\n",
              "      <td>DIVIDENDO</td>\n",
              "      <td>11/03/2024</td>\n",
              "      <td>11/03/2024</td>\n",
              "      <td>63,96</td>\n",
              "      <td>1</td>\n",
              "      <td>4,281658</td>\n",
              "      <td>2024-03-11T00:00:00</td>\n",
              "    </tr>\n",
              "    <tr>\n",
              "      <th>1</th>\n",
              "      <td>ON</td>\n",
              "      <td>26/10/2023</td>\n",
              "      <td>1,565890809</td>\n",
              "      <td>1</td>\n",
              "      <td>DIVIDENDO</td>\n",
              "      <td>21/11/2023</td>\n",
              "      <td>21/11/2023</td>\n",
              "      <td>77,90</td>\n",
              "      <td>1</td>\n",
              "      <td>2,010129</td>\n",
              "      <td>2023-11-21T00:00:00</td>\n",
              "    </tr>\n",
              "    <tr>\n",
              "      <th>2</th>\n",
              "      <td>ON</td>\n",
              "      <td>26/10/2023</td>\n",
              "      <td>0,765770758</td>\n",
              "      <td>1</td>\n",
              "      <td>JRS CAP PROPRIO</td>\n",
              "      <td>21/11/2023</td>\n",
              "      <td>21/11/2023</td>\n",
              "      <td>77,90</td>\n",
              "      <td>1</td>\n",
              "      <td>0,983018</td>\n",
              "      <td>2023-11-21T00:00:00</td>\n",
              "    </tr>\n",
              "    <tr>\n",
              "      <th>3</th>\n",
              "      <td>ON</td>\n",
              "      <td>27/07/2023</td>\n",
              "      <td>1,918471798</td>\n",
              "      <td>1</td>\n",
              "      <td>JRS CAP PROPRIO</td>\n",
              "      <td>11/08/2023</td>\n",
              "      <td>11/08/2023</td>\n",
              "      <td>65,51</td>\n",
              "      <td>1</td>\n",
              "      <td>2,928517</td>\n",
              "      <td>2023-08-11T00:00:00</td>\n",
              "    </tr>\n",
              "    <tr>\n",
              "      <th>4</th>\n",
              "      <td>ON</td>\n",
              "      <td>16/02/2023</td>\n",
              "      <td>1,827646129</td>\n",
              "      <td>1</td>\n",
              "      <td>DIVIDENDO</td>\n",
              "      <td>13/03/2023</td>\n",
              "      <td>13/03/2023</td>\n",
              "      <td>85,05</td>\n",
              "      <td>1</td>\n",
              "      <td>2,148908</td>\n",
              "      <td>2023-03-13T00:00:00</td>\n",
              "    </tr>\n",
              "    <tr>\n",
              "      <th>5</th>\n",
              "      <td>ON</td>\n",
              "      <td>01/12/2022</td>\n",
              "      <td>0,292012688</td>\n",
              "      <td>1</td>\n",
              "      <td>JRS CAP PROPRIO</td>\n",
              "      <td>12/12/2022</td>\n",
              "      <td>12/12/2022</td>\n",
              "      <td>86,09</td>\n",
              "      <td>1</td>\n",
              "      <td>0,339195</td>\n",
              "      <td>2022-12-12T00:00:00</td>\n",
              "    </tr>\n",
              "    <tr>\n",
              "      <th>6</th>\n",
              "      <td>ON</td>\n",
              "      <td>28/07/2022</td>\n",
              "      <td>2,032680337</td>\n",
              "      <td>1</td>\n",
              "      <td>DIVIDENDO</td>\n",
              "      <td>11/08/2022</td>\n",
              "      <td>11/08/2022</td>\n",
              "      <td>72,49</td>\n",
              "      <td>1</td>\n",
              "      <td>2,804084</td>\n",
              "      <td>2022-08-11T00:00:00</td>\n",
              "    </tr>\n",
              "    <tr>\n",
              "      <th>7</th>\n",
              "      <td>ON</td>\n",
              "      <td>28/07/2022</td>\n",
              "      <td>1,539376229</td>\n",
              "      <td>1</td>\n",
              "      <td>JRS CAP PROPRIO</td>\n",
              "      <td>11/08/2022</td>\n",
              "      <td>11/08/2022</td>\n",
              "      <td>72,49</td>\n",
              "      <td>1</td>\n",
              "      <td>2,123570</td>\n",
              "      <td>2022-08-11T00:00:00</td>\n",
              "    </tr>\n",
              "    <tr>\n",
              "      <th>8</th>\n",
              "      <td>ON</td>\n",
              "      <td>24/02/2022</td>\n",
              "      <td>3,719256588</td>\n",
              "      <td>1</td>\n",
              "      <td>DIVIDENDO</td>\n",
              "      <td>08/03/2022</td>\n",
              "      <td>08/03/2022</td>\n",
              "      <td>100,46</td>\n",
              "      <td>1</td>\n",
              "      <td>3,702226</td>\n",
              "      <td>2022-03-08T00:00:00</td>\n",
              "    </tr>\n",
              "    <tr>\n",
              "      <th>9</th>\n",
              "      <td>ON</td>\n",
              "      <td>16/09/2021</td>\n",
              "      <td>8,197239442</td>\n",
              "      <td>1</td>\n",
              "      <td>DIVIDENDO</td>\n",
              "      <td>22/09/2021</td>\n",
              "      <td>22/09/2021</td>\n",
              "      <td>87,11</td>\n",
              "      <td>1</td>\n",
              "      <td>9,410216</td>\n",
              "      <td>2021-09-22T00:00:00</td>\n",
              "    </tr>\n",
              "    <tr>\n",
              "      <th>10</th>\n",
              "      <td>ON</td>\n",
              "      <td>17/06/2021</td>\n",
              "      <td>0,720404889</td>\n",
              "      <td>1</td>\n",
              "      <td>DIVIDENDO</td>\n",
              "      <td>23/06/2021</td>\n",
              "      <td>23/06/2021</td>\n",
              "      <td>113,07</td>\n",
              "      <td>1</td>\n",
              "      <td>0,637132</td>\n",
              "      <td>2021-06-23T00:00:00</td>\n",
              "    </tr>\n",
              "    <tr>\n",
              "      <th>11</th>\n",
              "      <td>ON</td>\n",
              "      <td>17/06/2021</td>\n",
              "      <td>1,469265175</td>\n",
              "      <td>1</td>\n",
              "      <td>DIVIDENDO</td>\n",
              "      <td>23/06/2021</td>\n",
              "      <td>23/06/2021</td>\n",
              "      <td>113,07</td>\n",
              "      <td>1</td>\n",
              "      <td>1,299430</td>\n",
              "      <td>2021-06-23T00:00:00</td>\n",
              "    </tr>\n",
              "    <tr>\n",
              "      <th>12</th>\n",
              "      <td>ON</td>\n",
              "      <td>25/02/2021</td>\n",
              "      <td>3,425910336</td>\n",
              "      <td>1</td>\n",
              "      <td>DIVIDENDO</td>\n",
              "      <td>04/03/2021</td>\n",
              "      <td>04/03/2021</td>\n",
              "      <td>98,86</td>\n",
              "      <td>1</td>\n",
              "      <td>3,465416</td>\n",
              "      <td>2021-03-04T00:00:00</td>\n",
              "    </tr>\n",
              "    <tr>\n",
              "      <th>13</th>\n",
              "      <td>ON</td>\n",
              "      <td>25/02/2021</td>\n",
              "      <td>0,835736883</td>\n",
              "      <td>1</td>\n",
              "      <td>JRS CAP PROPRIO</td>\n",
              "      <td>04/03/2021</td>\n",
              "      <td>04/03/2021</td>\n",
              "      <td>98,86</td>\n",
              "      <td>1</td>\n",
              "      <td>0,845374</td>\n",
              "      <td>2021-03-04T00:00:00</td>\n",
              "    </tr>\n",
              "    <tr>\n",
              "      <th>14</th>\n",
              "      <td>ON</td>\n",
              "      <td>10/09/2020</td>\n",
              "      <td>1,410166173</td>\n",
              "      <td>1</td>\n",
              "      <td>DIVIDENDO</td>\n",
              "      <td>21/09/2020</td>\n",
              "      <td>21/09/2020</td>\n",
              "      <td>60,00</td>\n",
              "      <td>1</td>\n",
              "      <td>2,350277</td>\n",
              "      <td>2020-09-21T00:00:00</td>\n",
              "    </tr>\n",
              "    <tr>\n",
              "      <th>15</th>\n",
              "      <td>ON</td>\n",
              "      <td>10/09/2020</td>\n",
              "      <td>0,997344547</td>\n",
              "      <td>1</td>\n",
              "      <td>JRS CAP PROPRIO</td>\n",
              "      <td>21/09/2020</td>\n",
              "      <td>21/09/2020</td>\n",
              "      <td>60,00</td>\n",
              "      <td>1</td>\n",
              "      <td>1,662241</td>\n",
              "      <td>2020-09-21T00:00:00</td>\n",
              "    </tr>\n",
              "    <tr>\n",
              "      <th>16</th>\n",
              "      <td>ON</td>\n",
              "      <td>19/12/2019</td>\n",
              "      <td>1,414364369</td>\n",
              "      <td>1</td>\n",
              "      <td>JRS CAP PROPRIO</td>\n",
              "      <td>26/12/2019</td>\n",
              "      <td>26/12/2019</td>\n",
              "      <td>54,79</td>\n",
              "      <td>1</td>\n",
              "      <td>2,581428</td>\n",
              "      <td>2019-12-26T00:00:00</td>\n",
              "    </tr>\n",
              "    <tr>\n",
              "      <th>17</th>\n",
              "      <td>ON</td>\n",
              "      <td>25/07/2018</td>\n",
              "      <td>0,171747417</td>\n",
              "      <td>1</td>\n",
              "      <td>DIVIDENDO</td>\n",
              "      <td>02/08/2018</td>\n",
              "      <td>02/08/2018</td>\n",
              "      <td>52,84</td>\n",
              "      <td>1</td>\n",
              "      <td>0,325033</td>\n",
              "      <td>2018-08-02T00:00:00</td>\n",
              "    </tr>\n",
              "    <tr>\n",
              "      <th>18</th>\n",
              "      <td>ON</td>\n",
              "      <td>25/07/2018</td>\n",
              "      <td>1,308614127</td>\n",
              "      <td>1</td>\n",
              "      <td>JRS CAP PROPRIO</td>\n",
              "      <td>02/08/2018</td>\n",
              "      <td>02/08/2018</td>\n",
              "      <td>52,84</td>\n",
              "      <td>1</td>\n",
              "      <td>2,476560</td>\n",
              "      <td>2018-08-02T00:00:00</td>\n",
              "    </tr>\n",
              "    <tr>\n",
              "      <th>19</th>\n",
              "      <td>ON</td>\n",
              "      <td>27/02/2018</td>\n",
              "      <td>0,488511766</td>\n",
              "      <td>1</td>\n",
              "      <td>JRS CAP PROPRIO</td>\n",
              "      <td>06/03/2018</td>\n",
              "      <td>06/03/2018</td>\n",
              "      <td>43,49</td>\n",
              "      <td>1</td>\n",
              "      <td>1,123274</td>\n",
              "      <td>2018-03-06T00:00:00</td>\n",
              "    </tr>\n",
              "  </tbody>\n",
              "</table>\n",
              "</div>\n",
              "    <div class=\"colab-df-buttons\">\n",
              "\n",
              "  <div class=\"colab-df-container\">\n",
              "    <button class=\"colab-df-convert\" onclick=\"convertToInteractive('df-0531cb0f-c6ff-4bb2-b7be-9b1fadc067b9')\"\n",
              "            title=\"Convert this dataframe to an interactive table.\"\n",
              "            style=\"display:none;\">\n",
              "\n",
              "  <svg xmlns=\"http://www.w3.org/2000/svg\" height=\"24px\" viewBox=\"0 -960 960 960\">\n",
              "    <path d=\"M120-120v-720h720v720H120Zm60-500h600v-160H180v160Zm220 220h160v-160H400v160Zm0 220h160v-160H400v160ZM180-400h160v-160H180v160Zm440 0h160v-160H620v160ZM180-180h160v-160H180v160Zm440 0h160v-160H620v160Z\"/>\n",
              "  </svg>\n",
              "    </button>\n",
              "\n",
              "  <style>\n",
              "    .colab-df-container {\n",
              "      display:flex;\n",
              "      gap: 12px;\n",
              "    }\n",
              "\n",
              "    .colab-df-convert {\n",
              "      background-color: #E8F0FE;\n",
              "      border: none;\n",
              "      border-radius: 50%;\n",
              "      cursor: pointer;\n",
              "      display: none;\n",
              "      fill: #1967D2;\n",
              "      height: 32px;\n",
              "      padding: 0 0 0 0;\n",
              "      width: 32px;\n",
              "    }\n",
              "\n",
              "    .colab-df-convert:hover {\n",
              "      background-color: #E2EBFA;\n",
              "      box-shadow: 0px 1px 2px rgba(60, 64, 67, 0.3), 0px 1px 3px 1px rgba(60, 64, 67, 0.15);\n",
              "      fill: #174EA6;\n",
              "    }\n",
              "\n",
              "    .colab-df-buttons div {\n",
              "      margin-bottom: 4px;\n",
              "    }\n",
              "\n",
              "    [theme=dark] .colab-df-convert {\n",
              "      background-color: #3B4455;\n",
              "      fill: #D2E3FC;\n",
              "    }\n",
              "\n",
              "    [theme=dark] .colab-df-convert:hover {\n",
              "      background-color: #434B5C;\n",
              "      box-shadow: 0px 1px 3px 1px rgba(0, 0, 0, 0.15);\n",
              "      filter: drop-shadow(0px 1px 2px rgba(0, 0, 0, 0.3));\n",
              "      fill: #FFFFFF;\n",
              "    }\n",
              "  </style>\n",
              "\n",
              "    <script>\n",
              "      const buttonEl =\n",
              "        document.querySelector('#df-0531cb0f-c6ff-4bb2-b7be-9b1fadc067b9 button.colab-df-convert');\n",
              "      buttonEl.style.display =\n",
              "        google.colab.kernel.accessAllowed ? 'block' : 'none';\n",
              "\n",
              "      async function convertToInteractive(key) {\n",
              "        const element = document.querySelector('#df-0531cb0f-c6ff-4bb2-b7be-9b1fadc067b9');\n",
              "        const dataTable =\n",
              "          await google.colab.kernel.invokeFunction('convertToInteractive',\n",
              "                                                    [key], {});\n",
              "        if (!dataTable) return;\n",
              "\n",
              "        const docLinkHtml = 'Like what you see? Visit the ' +\n",
              "          '<a target=\"_blank\" href=https://colab.research.google.com/notebooks/data_table.ipynb>data table notebook</a>'\n",
              "          + ' to learn more about interactive tables.';\n",
              "        element.innerHTML = '';\n",
              "        dataTable['output_type'] = 'display_data';\n",
              "        await google.colab.output.renderOutput(dataTable, element);\n",
              "        const docLink = document.createElement('div');\n",
              "        docLink.innerHTML = docLinkHtml;\n",
              "        element.appendChild(docLink);\n",
              "      }\n",
              "    </script>\n",
              "  </div>\n",
              "\n",
              "\n",
              "<div id=\"df-853d9d24-bf84-40da-a3ce-5ca3ae8d94e3\">\n",
              "  <button class=\"colab-df-quickchart\" onclick=\"quickchart('df-853d9d24-bf84-40da-a3ce-5ca3ae8d94e3')\"\n",
              "            title=\"Suggest charts\"\n",
              "            style=\"display:none;\">\n",
              "\n",
              "<svg xmlns=\"http://www.w3.org/2000/svg\" height=\"24px\"viewBox=\"0 0 24 24\"\n",
              "     width=\"24px\">\n",
              "    <g>\n",
              "        <path d=\"M19 3H5c-1.1 0-2 .9-2 2v14c0 1.1.9 2 2 2h14c1.1 0 2-.9 2-2V5c0-1.1-.9-2-2-2zM9 17H7v-7h2v7zm4 0h-2V7h2v10zm4 0h-2v-4h2v4z\"/>\n",
              "    </g>\n",
              "</svg>\n",
              "  </button>\n",
              "\n",
              "<style>\n",
              "  .colab-df-quickchart {\n",
              "      --bg-color: #E8F0FE;\n",
              "      --fill-color: #1967D2;\n",
              "      --hover-bg-color: #E2EBFA;\n",
              "      --hover-fill-color: #174EA6;\n",
              "      --disabled-fill-color: #AAA;\n",
              "      --disabled-bg-color: #DDD;\n",
              "  }\n",
              "\n",
              "  [theme=dark] .colab-df-quickchart {\n",
              "      --bg-color: #3B4455;\n",
              "      --fill-color: #D2E3FC;\n",
              "      --hover-bg-color: #434B5C;\n",
              "      --hover-fill-color: #FFFFFF;\n",
              "      --disabled-bg-color: #3B4455;\n",
              "      --disabled-fill-color: #666;\n",
              "  }\n",
              "\n",
              "  .colab-df-quickchart {\n",
              "    background-color: var(--bg-color);\n",
              "    border: none;\n",
              "    border-radius: 50%;\n",
              "    cursor: pointer;\n",
              "    display: none;\n",
              "    fill: var(--fill-color);\n",
              "    height: 32px;\n",
              "    padding: 0;\n",
              "    width: 32px;\n",
              "  }\n",
              "\n",
              "  .colab-df-quickchart:hover {\n",
              "    background-color: var(--hover-bg-color);\n",
              "    box-shadow: 0 1px 2px rgba(60, 64, 67, 0.3), 0 1px 3px 1px rgba(60, 64, 67, 0.15);\n",
              "    fill: var(--button-hover-fill-color);\n",
              "  }\n",
              "\n",
              "  .colab-df-quickchart-complete:disabled,\n",
              "  .colab-df-quickchart-complete:disabled:hover {\n",
              "    background-color: var(--disabled-bg-color);\n",
              "    fill: var(--disabled-fill-color);\n",
              "    box-shadow: none;\n",
              "  }\n",
              "\n",
              "  .colab-df-spinner {\n",
              "    border: 2px solid var(--fill-color);\n",
              "    border-color: transparent;\n",
              "    border-bottom-color: var(--fill-color);\n",
              "    animation:\n",
              "      spin 1s steps(1) infinite;\n",
              "  }\n",
              "\n",
              "  @keyframes spin {\n",
              "    0% {\n",
              "      border-color: transparent;\n",
              "      border-bottom-color: var(--fill-color);\n",
              "      border-left-color: var(--fill-color);\n",
              "    }\n",
              "    20% {\n",
              "      border-color: transparent;\n",
              "      border-left-color: var(--fill-color);\n",
              "      border-top-color: var(--fill-color);\n",
              "    }\n",
              "    30% {\n",
              "      border-color: transparent;\n",
              "      border-left-color: var(--fill-color);\n",
              "      border-top-color: var(--fill-color);\n",
              "      border-right-color: var(--fill-color);\n",
              "    }\n",
              "    40% {\n",
              "      border-color: transparent;\n",
              "      border-right-color: var(--fill-color);\n",
              "      border-top-color: var(--fill-color);\n",
              "    }\n",
              "    60% {\n",
              "      border-color: transparent;\n",
              "      border-right-color: var(--fill-color);\n",
              "    }\n",
              "    80% {\n",
              "      border-color: transparent;\n",
              "      border-right-color: var(--fill-color);\n",
              "      border-bottom-color: var(--fill-color);\n",
              "    }\n",
              "    90% {\n",
              "      border-color: transparent;\n",
              "      border-bottom-color: var(--fill-color);\n",
              "    }\n",
              "  }\n",
              "</style>\n",
              "\n",
              "  <script>\n",
              "    async function quickchart(key) {\n",
              "      const quickchartButtonEl =\n",
              "        document.querySelector('#' + key + ' button');\n",
              "      quickchartButtonEl.disabled = true;  // To prevent multiple clicks.\n",
              "      quickchartButtonEl.classList.add('colab-df-spinner');\n",
              "      try {\n",
              "        const charts = await google.colab.kernel.invokeFunction(\n",
              "            'suggestCharts', [key], {});\n",
              "      } catch (error) {\n",
              "        console.error('Error during call to suggestCharts:', error);\n",
              "      }\n",
              "      quickchartButtonEl.classList.remove('colab-df-spinner');\n",
              "      quickchartButtonEl.classList.add('colab-df-quickchart-complete');\n",
              "    }\n",
              "    (() => {\n",
              "      let quickchartButtonEl =\n",
              "        document.querySelector('#df-853d9d24-bf84-40da-a3ce-5ca3ae8d94e3 button');\n",
              "      quickchartButtonEl.style.display =\n",
              "        google.colab.kernel.accessAllowed ? 'block' : 'none';\n",
              "    })();\n",
              "  </script>\n",
              "</div>\n",
              "    </div>\n",
              "  </div>\n"
            ],
            "application/vnd.google.colaboratory.intrinsic+json": {
              "type": "dataframe",
              "summary": "{\n  \"name\": \"pd\",\n  \"rows\": 20,\n  \"fields\": [\n    {\n      \"column\": \"typeStock\",\n      \"properties\": {\n        \"dtype\": \"category\",\n        \"num_unique_values\": 1,\n        \"samples\": [\n          \"ON\"\n        ],\n        \"semantic_type\": \"\",\n        \"description\": \"\"\n      }\n    },\n    {\n      \"column\": \"dateApproval\",\n      \"properties\": {\n        \"dtype\": \"object\",\n        \"num_unique_values\": 14,\n        \"samples\": [\n          \"25/02/2021\"\n        ],\n        \"semantic_type\": \"\",\n        \"description\": \"\"\n      }\n    },\n    {\n      \"column\": \"valueCash\",\n      \"properties\": {\n        \"dtype\": \"string\",\n        \"num_unique_values\": 20,\n        \"samples\": [\n          \"2,738548374\"\n        ],\n        \"semantic_type\": \"\",\n        \"description\": \"\"\n      }\n    },\n    {\n      \"column\": \"ratio\",\n      \"properties\": {\n        \"dtype\": \"category\",\n        \"num_unique_values\": 1,\n        \"samples\": [\n          \"1\"\n        ],\n        \"semantic_type\": \"\",\n        \"description\": \"\"\n      }\n    },\n    {\n      \"column\": \"corporateAction\",\n      \"properties\": {\n        \"dtype\": \"category\",\n        \"num_unique_values\": 2,\n        \"samples\": [\n          \"JRS CAP PROPRIO\"\n        ],\n        \"semantic_type\": \"\",\n        \"description\": \"\"\n      }\n    },\n    {\n      \"column\": \"lastDatePriorEx\",\n      \"properties\": {\n        \"dtype\": \"string\",\n        \"num_unique_values\": 14,\n        \"samples\": [\n          \"04/03/2021\"\n        ],\n        \"semantic_type\": \"\",\n        \"description\": \"\"\n      }\n    },\n    {\n      \"column\": \"dateClosingPricePriorExDate\",\n      \"properties\": {\n        \"dtype\": \"string\",\n        \"num_unique_values\": 14,\n        \"samples\": [\n          \"04/03/2021\"\n        ],\n        \"semantic_type\": \"\",\n        \"description\": \"\"\n      }\n    },\n    {\n      \"column\": \"closingPricePriorExDate\",\n      \"properties\": {\n        \"dtype\": \"string\",\n        \"num_unique_values\": 14,\n        \"samples\": [\n          \"98,86\"\n        ],\n        \"semantic_type\": \"\",\n        \"description\": \"\"\n      }\n    },\n    {\n      \"column\": \"quotedPerShares\",\n      \"properties\": {\n        \"dtype\": \"category\",\n        \"num_unique_values\": 1,\n        \"samples\": [\n          \"1\"\n        ],\n        \"semantic_type\": \"\",\n        \"description\": \"\"\n      }\n    },\n    {\n      \"column\": \"corporateActionPrice\",\n      \"properties\": {\n        \"dtype\": \"string\",\n        \"num_unique_values\": 20,\n        \"samples\": [\n          \"4,281658\"\n        ],\n        \"semantic_type\": \"\",\n        \"description\": \"\"\n      }\n    },\n    {\n      \"column\": \"lastDateTimePriorEx\",\n      \"properties\": {\n        \"dtype\": \"object\",\n        \"num_unique_values\": 14,\n        \"samples\": [\n          \"2021-03-04T00:00:00\"\n        ],\n        \"semantic_type\": \"\",\n        \"description\": \"\"\n      }\n    }\n  ]\n}"
            }
          },
          "metadata": {},
          "execution_count": 8
        }
      ]
    },
    {
      "cell_type": "markdown",
      "source": [
        "O mais recente"
      ],
      "metadata": {
        "id": "Zzqh4Pis2I3i"
      }
    },
    {
      "cell_type": "code",
      "source": [
        "dividendo_quase.json()['results'][-1]"
      ],
      "metadata": {
        "colab": {
          "base_uri": "https://localhost:8080/"
        },
        "id": "ZOVLJIWF2ufC",
        "outputId": "4bc12fc2-721c-4406-db25-8cceb5bc11ea"
      },
      "execution_count": 28,
      "outputs": [
        {
          "output_type": "execute_result",
          "data": {
            "text/plain": [
              "{'typeStock': 'ON',\n",
              " 'dateApproval': '23/02/2021',\n",
              " 'valueCash': '0,349357703',\n",
              " 'ratio': '1',\n",
              " 'corporateAction': 'DIVIDENDO',\n",
              " 'lastDatePriorEx': '26/02/2021',\n",
              " 'dateClosingPricePriorExDate': '26/02/2021',\n",
              " 'closingPricePriorExDate': '78,05',\n",
              " 'quotedPerShares': '1',\n",
              " 'corporateActionPrice': '0,447608',\n",
              " 'lastDateTimePriorEx': '2021-02-26T00:00:00'}"
            ]
          },
          "metadata": {},
          "execution_count": 28
        }
      ]
    },
    {
      "cell_type": "markdown",
      "source": [
        "Teste este pipeline com outros papéis"
      ],
      "metadata": {
        "id": "aLuZ4Ixx3EFN"
      }
    },
    {
      "cell_type": "code",
      "source": [
        "url_vale = 'https://sistemaswebb3-listados.b3.com.br/listedCompaniesProxy/CompanyCall/GetListedCashDividends/eyJsYW5ndWFnZSI6InB0LWJyIiwicGFnZU51bWJlciI6MSwicGFnZVNpemUiOjIwLCJ0cmFkaW5nTmFtZSI6IlBFVFJPUklPIn0='\n",
        "dados_brutos = requests.get(url_vale)\n",
        "pd.DataFrame(dados_brutos.json()['results'])"
      ],
      "metadata": {
        "colab": {
          "base_uri": "https://localhost:8080/",
          "height": 100
        },
        "id": "_XEsFgaK3I-i",
        "outputId": "9ffadcdd-d866-42fd-c2c5-fb24f4158a43"
      },
      "execution_count": 29,
      "outputs": [
        {
          "output_type": "execute_result",
          "data": {
            "text/plain": [
              "  typeStock dateApproval  valueCash ratio corporateAction lastDatePriorEx  \\\n",
              "0        ON   08/12/2023  0,0726435     1       DIVIDENDO      13/12/2023   \n",
              "\n",
              "  dateClosingPricePriorExDate closingPricePriorExDate quotedPerShares  \\\n",
              "0                  13/12/2023                   45,30               1   \n",
              "\n",
              "  corporateActionPrice  lastDateTimePriorEx  \n",
              "0             0,160361  2023-12-13T00:00:00  "
            ],
            "text/html": [
              "\n",
              "  <div id=\"df-167d785d-005b-4cde-9668-baf24d72baac\" class=\"colab-df-container\">\n",
              "    <div>\n",
              "<style scoped>\n",
              "    .dataframe tbody tr th:only-of-type {\n",
              "        vertical-align: middle;\n",
              "    }\n",
              "\n",
              "    .dataframe tbody tr th {\n",
              "        vertical-align: top;\n",
              "    }\n",
              "\n",
              "    .dataframe thead th {\n",
              "        text-align: right;\n",
              "    }\n",
              "</style>\n",
              "<table border=\"1\" class=\"dataframe\">\n",
              "  <thead>\n",
              "    <tr style=\"text-align: right;\">\n",
              "      <th></th>\n",
              "      <th>typeStock</th>\n",
              "      <th>dateApproval</th>\n",
              "      <th>valueCash</th>\n",
              "      <th>ratio</th>\n",
              "      <th>corporateAction</th>\n",
              "      <th>lastDatePriorEx</th>\n",
              "      <th>dateClosingPricePriorExDate</th>\n",
              "      <th>closingPricePriorExDate</th>\n",
              "      <th>quotedPerShares</th>\n",
              "      <th>corporateActionPrice</th>\n",
              "      <th>lastDateTimePriorEx</th>\n",
              "    </tr>\n",
              "  </thead>\n",
              "  <tbody>\n",
              "    <tr>\n",
              "      <th>0</th>\n",
              "      <td>ON</td>\n",
              "      <td>08/12/2023</td>\n",
              "      <td>0,0726435</td>\n",
              "      <td>1</td>\n",
              "      <td>DIVIDENDO</td>\n",
              "      <td>13/12/2023</td>\n",
              "      <td>13/12/2023</td>\n",
              "      <td>45,30</td>\n",
              "      <td>1</td>\n",
              "      <td>0,160361</td>\n",
              "      <td>2023-12-13T00:00:00</td>\n",
              "    </tr>\n",
              "  </tbody>\n",
              "</table>\n",
              "</div>\n",
              "    <div class=\"colab-df-buttons\">\n",
              "\n",
              "  <div class=\"colab-df-container\">\n",
              "    <button class=\"colab-df-convert\" onclick=\"convertToInteractive('df-167d785d-005b-4cde-9668-baf24d72baac')\"\n",
              "            title=\"Convert this dataframe to an interactive table.\"\n",
              "            style=\"display:none;\">\n",
              "\n",
              "  <svg xmlns=\"http://www.w3.org/2000/svg\" height=\"24px\" viewBox=\"0 -960 960 960\">\n",
              "    <path d=\"M120-120v-720h720v720H120Zm60-500h600v-160H180v160Zm220 220h160v-160H400v160Zm0 220h160v-160H400v160ZM180-400h160v-160H180v160Zm440 0h160v-160H620v160ZM180-180h160v-160H180v160Zm440 0h160v-160H620v160Z\"/>\n",
              "  </svg>\n",
              "    </button>\n",
              "\n",
              "  <style>\n",
              "    .colab-df-container {\n",
              "      display:flex;\n",
              "      gap: 12px;\n",
              "    }\n",
              "\n",
              "    .colab-df-convert {\n",
              "      background-color: #E8F0FE;\n",
              "      border: none;\n",
              "      border-radius: 50%;\n",
              "      cursor: pointer;\n",
              "      display: none;\n",
              "      fill: #1967D2;\n",
              "      height: 32px;\n",
              "      padding: 0 0 0 0;\n",
              "      width: 32px;\n",
              "    }\n",
              "\n",
              "    .colab-df-convert:hover {\n",
              "      background-color: #E2EBFA;\n",
              "      box-shadow: 0px 1px 2px rgba(60, 64, 67, 0.3), 0px 1px 3px 1px rgba(60, 64, 67, 0.15);\n",
              "      fill: #174EA6;\n",
              "    }\n",
              "\n",
              "    .colab-df-buttons div {\n",
              "      margin-bottom: 4px;\n",
              "    }\n",
              "\n",
              "    [theme=dark] .colab-df-convert {\n",
              "      background-color: #3B4455;\n",
              "      fill: #D2E3FC;\n",
              "    }\n",
              "\n",
              "    [theme=dark] .colab-df-convert:hover {\n",
              "      background-color: #434B5C;\n",
              "      box-shadow: 0px 1px 3px 1px rgba(0, 0, 0, 0.15);\n",
              "      filter: drop-shadow(0px 1px 2px rgba(0, 0, 0, 0.3));\n",
              "      fill: #FFFFFF;\n",
              "    }\n",
              "  </style>\n",
              "\n",
              "    <script>\n",
              "      const buttonEl =\n",
              "        document.querySelector('#df-167d785d-005b-4cde-9668-baf24d72baac button.colab-df-convert');\n",
              "      buttonEl.style.display =\n",
              "        google.colab.kernel.accessAllowed ? 'block' : 'none';\n",
              "\n",
              "      async function convertToInteractive(key) {\n",
              "        const element = document.querySelector('#df-167d785d-005b-4cde-9668-baf24d72baac');\n",
              "        const dataTable =\n",
              "          await google.colab.kernel.invokeFunction('convertToInteractive',\n",
              "                                                    [key], {});\n",
              "        if (!dataTable) return;\n",
              "\n",
              "        const docLinkHtml = 'Like what you see? Visit the ' +\n",
              "          '<a target=\"_blank\" href=https://colab.research.google.com/notebooks/data_table.ipynb>data table notebook</a>'\n",
              "          + ' to learn more about interactive tables.';\n",
              "        element.innerHTML = '';\n",
              "        dataTable['output_type'] = 'display_data';\n",
              "        await google.colab.output.renderOutput(dataTable, element);\n",
              "        const docLink = document.createElement('div');\n",
              "        docLink.innerHTML = docLinkHtml;\n",
              "        element.appendChild(docLink);\n",
              "      }\n",
              "    </script>\n",
              "  </div>\n",
              "\n",
              "    </div>\n",
              "  </div>\n"
            ],
            "application/vnd.google.colaboratory.intrinsic+json": {
              "type": "dataframe",
              "summary": "{\n  \"name\": \"pd\",\n  \"rows\": 1,\n  \"fields\": [\n    {\n      \"column\": \"typeStock\",\n      \"properties\": {\n        \"dtype\": \"string\",\n        \"num_unique_values\": 1,\n        \"samples\": [\n          \"ON\"\n        ],\n        \"semantic_type\": \"\",\n        \"description\": \"\"\n      }\n    },\n    {\n      \"column\": \"dateApproval\",\n      \"properties\": {\n        \"dtype\": \"object\",\n        \"num_unique_values\": 1,\n        \"samples\": [\n          \"08/12/2023\"\n        ],\n        \"semantic_type\": \"\",\n        \"description\": \"\"\n      }\n    },\n    {\n      \"column\": \"valueCash\",\n      \"properties\": {\n        \"dtype\": \"string\",\n        \"num_unique_values\": 1,\n        \"samples\": [\n          \"0,0726435\"\n        ],\n        \"semantic_type\": \"\",\n        \"description\": \"\"\n      }\n    },\n    {\n      \"column\": \"ratio\",\n      \"properties\": {\n        \"dtype\": \"string\",\n        \"num_unique_values\": 1,\n        \"samples\": [\n          \"1\"\n        ],\n        \"semantic_type\": \"\",\n        \"description\": \"\"\n      }\n    },\n    {\n      \"column\": \"corporateAction\",\n      \"properties\": {\n        \"dtype\": \"string\",\n        \"num_unique_values\": 1,\n        \"samples\": [\n          \"DIVIDENDO\"\n        ],\n        \"semantic_type\": \"\",\n        \"description\": \"\"\n      }\n    },\n    {\n      \"column\": \"lastDatePriorEx\",\n      \"properties\": {\n        \"dtype\": \"object\",\n        \"num_unique_values\": 1,\n        \"samples\": [\n          \"13/12/2023\"\n        ],\n        \"semantic_type\": \"\",\n        \"description\": \"\"\n      }\n    },\n    {\n      \"column\": \"dateClosingPricePriorExDate\",\n      \"properties\": {\n        \"dtype\": \"object\",\n        \"num_unique_values\": 1,\n        \"samples\": [\n          \"13/12/2023\"\n        ],\n        \"semantic_type\": \"\",\n        \"description\": \"\"\n      }\n    },\n    {\n      \"column\": \"closingPricePriorExDate\",\n      \"properties\": {\n        \"dtype\": \"object\",\n        \"num_unique_values\": 1,\n        \"samples\": [\n          \"45,30\"\n        ],\n        \"semantic_type\": \"\",\n        \"description\": \"\"\n      }\n    },\n    {\n      \"column\": \"quotedPerShares\",\n      \"properties\": {\n        \"dtype\": \"string\",\n        \"num_unique_values\": 1,\n        \"samples\": [\n          \"1\"\n        ],\n        \"semantic_type\": \"\",\n        \"description\": \"\"\n      }\n    },\n    {\n      \"column\": \"corporateActionPrice\",\n      \"properties\": {\n        \"dtype\": \"string\",\n        \"num_unique_values\": 1,\n        \"samples\": [\n          \"0,160361\"\n        ],\n        \"semantic_type\": \"\",\n        \"description\": \"\"\n      }\n    },\n    {\n      \"column\": \"lastDateTimePriorEx\",\n      \"properties\": {\n        \"dtype\": \"object\",\n        \"num_unique_values\": 1,\n        \"samples\": [\n          \"2023-12-13T00:00:00\"\n        ],\n        \"semantic_type\": \"\",\n        \"description\": \"\"\n      }\n    }\n  ]\n}"
            }
          },
          "metadata": {},
          "execution_count": 29
        }
      ]
    },
    {
      "cell_type": "markdown",
      "source": [
        "## Decodificação"
      ],
      "metadata": {
        "id": "zC6gXpBt4Mk5"
      }
    },
    {
      "cell_type": "markdown",
      "source": [
        "### Perceba que o fim desta string parece ter uma informação codificada"
      ],
      "metadata": {
        "id": "-XvTNTQe3buZ"
      }
    },
    {
      "cell_type": "markdown",
      "source": [
        "Trata-se da base64"
      ],
      "metadata": {
        "id": "t7FISzcz3fBl"
      }
    },
    {
      "cell_type": "markdown",
      "source": [
        "A B3 utiliza o esquema de codificação base64 para compor URLs de request para obter dados de dividendos no seu site por várias razões técnicas e de segurança. Vamos explorar algumas dessas razões:\n",
        "\n",
        "#### 1. **Compactação e Codificação**\n",
        "\n",
        "- **Compactação**: A codificação base64 transforma dados binários em uma string ASCII, o que permite uma representação compacta e segura de informações que podem incluir caracteres especiais, espaços e outros que poderiam ser problemáticos em uma URL.\n",
        "- **Padronização**: URLs têm restrições quanto aos caracteres que podem incluir. A base64 garante que todos os dados estão em um formato seguro e padronizado que pode ser passado em uma URL sem problemas de codificação.\n",
        "\n",
        "#### 2. **Segurança e Integridade**\n",
        "\n",
        "- **Ofuscação**: Embora não seja uma medida de segurança robusta, a base64 ofusca os dados, tornando-os menos legíveis para usuários comuns. Isso adiciona uma camada mínima de proteção contra manipulações ou inspeções triviais.\n",
        "- **Verificação de Integridade**: A base64 pode ser usada para assegurar que os dados não foram corrompidos ou alterados durante a transmissão, pois qualquer alteração na string codificada resultará em uma sequência inválida ou não decodificável.\n",
        "\n",
        "#### 3. **Facilidade de Manipulação e Transmissão**\n",
        "\n",
        "- **Uniformidade**: A base64 transforma dados complexos em uma sequência uniforme de caracteres (A-Z, a-z, 0-9, +, /), facilitando a manipulação e transmissão através de sistemas que podem ter diferentes restrições ou capacidades de processamento.\n",
        "- **Compatibilidade**: Sistemas de rede, APIs e navegadores podem manipular strings base64 de maneira consistente, evitando problemas que poderiam surgir com caracteres especiais ou binários.\n",
        "\n",
        "#### 4. **Encapsulamento de Dados Complexos**\n",
        "\n",
        "- **Estruturas de Dados**: Dados complexos, como objetos JSON ou binários, podem ser convertidos para uma string base64. Isso é útil para encapsular informações estruturadas que precisam ser passadas como parâmetros de uma URL sem precisar de serialização complexa ou sem risco de perda de formatação.\n",
        "\n",
        "#### Exemplo de Uso\n",
        "\n",
        "Quando você solicita dados de dividendos do site da B3, a URL pode incluir parâmetros codificados em base64 que contêm informações sobre a consulta, como o código da ação, data e outros critérios. Ao decodificar a string base64, a B3 pode extrair esses parâmetros de maneira segura e consistente.\n",
        "\n",
        "##### Exemplo:\n",
        "\n",
        "- **URL Encodada**: `https://site.b3.com.br/dividends?data=YWJjMTIz`\n",
        "- **Base64 Decodificada**: `abc123`\n",
        "\n",
        "Neste exemplo, `YWJjMTIz` é a string base64 que representa `abc123`.\n"
      ],
      "metadata": {
        "id": "xvbezbML3xwg"
      }
    },
    {
      "cell_type": "markdown",
      "source": [
        "### Como codificar/decodificar uma string com o método base64"
      ],
      "metadata": {
        "id": "LUzgcN8k4Rfx"
      }
    },
    {
      "cell_type": "markdown",
      "source": [
        "Vamos separar o trecho codificado"
      ],
      "metadata": {
        "id": "nUHTa2J54rB9"
      }
    },
    {
      "cell_type": "code",
      "source": [
        "r = requests.get('https://sistemaswebb3-listados.b3.com.br/listedCompaniesProxy/CompanyCall/GetListedCashDividends/eyJsYW5ndWFnZSI6InB0LWJyIiwicGFnZU51bWJlciI6MSwicGFnZVNpemUiOjIwLCJ0cmFkaW5nTmFtZSI6IldFRyJ9')"
      ],
      "metadata": {
        "id": "ybWoUcHOj4kC"
      },
      "execution_count": 9,
      "outputs": []
    },
    {
      "cell_type": "code",
      "source": [
        "b64decode('eyJsYW5ndWFnZSI6InB0LWJyIiwicGFnZU51bWJlciI6MSwicGFnZVNpemUiOjIwLCJ0cmFkaW5nTmFtZSI6IldFRyJ9')"
      ],
      "metadata": {
        "colab": {
          "base_uri": "https://localhost:8080/"
        },
        "id": "S_YUkkYnkFTo",
        "outputId": "a6207488-4381-453a-d185-d44b53374722"
      },
      "execution_count": 12,
      "outputs": [
        {
          "output_type": "execute_result",
          "data": {
            "text/plain": [
              "b'{\"language\":\"pt-br\",\"pageNumber\":1,\"pageSize\":20,\"tradingName\":\"WEG\"}'"
            ]
          },
          "metadata": {},
          "execution_count": 12
        }
      ]
    },
    {
      "cell_type": "code",
      "source": [
        "b64decode('eyJsYW5ndWFnZSI6InB0LWJyIiwicGFnZU51bWJlciI6MSwicGFnZVNpemUiOjIwLCJ0cmFkaW5nTmFtZSI6IlZBTEUifQ==')"
      ],
      "metadata": {
        "colab": {
          "base_uri": "https://localhost:8080/"
        },
        "id": "ECnjkfOp4yW6",
        "outputId": "3cf557e5-8c79-442f-ea55-3995fe615b72"
      },
      "execution_count": 13,
      "outputs": [
        {
          "output_type": "execute_result",
          "data": {
            "text/plain": [
              "b'{\"language\":\"pt-br\",\"pageNumber\":1,\"pageSize\":20,\"tradingName\":\"VALE\"}'"
            ]
          },
          "metadata": {},
          "execution_count": 13
        }
      ]
    },
    {
      "cell_type": "markdown",
      "source": [
        "Conseguimos decodificar as strings!"
      ],
      "metadata": {
        "id": "bpvPm9kW476i"
      }
    },
    {
      "cell_type": "markdown",
      "source": [
        "Isso quer dizer que podemos fazer a operação inversa, isto é, passar uma string legivel e converter para ASCII"
      ],
      "metadata": {
        "id": "1Zv3Mt0b5Axs"
      }
    },
    {
      "cell_type": "code",
      "source": [
        "{\"language\":\"pt-br\",\"pageNumber\":1,\"pageSize\":20,\"tradingName\":\"TAESA\"}"
      ],
      "metadata": {
        "colab": {
          "base_uri": "https://localhost:8080/"
        },
        "id": "104WhQmpyFGy",
        "outputId": "7d85d7df-7bdc-4eed-d6c2-ec66a40644d5"
      },
      "execution_count": 61,
      "outputs": [
        {
          "output_type": "execute_result",
          "data": {
            "text/plain": [
              "{'language': 'pt-br', 'pageNumber': 1, 'pageSize': 20, 'tradingName': 'TAESA'}"
            ]
          },
          "metadata": {},
          "execution_count": 61
        }
      ]
    },
    {
      "cell_type": "code",
      "source": [
        "bytes(str({\"language\":\"pt-br\",\"pageNumber\":1,\"pageSize\":20,\"tradingName\":\"TAESA\"}), encoding = 'ascii')"
      ],
      "metadata": {
        "colab": {
          "base_uri": "https://localhost:8080/"
        },
        "id": "AJs9bEjsX60k",
        "outputId": "de424aa9-2245-4d52-f748-70bc7d8196d1"
      },
      "execution_count": 62,
      "outputs": [
        {
          "output_type": "execute_result",
          "data": {
            "text/plain": [
              "b\"{'language': 'pt-br', 'pageNumber': 1, 'pageSize': 20, 'tradingName': 'TAESA'}\""
            ]
          },
          "metadata": {},
          "execution_count": 62
        }
      ]
    },
    {
      "cell_type": "code",
      "source": [
        "request_codificado = bytes(str({\"language\":\"pt-br\",\"pageNumber\":1,\"pageSize\":20,\"tradingName\":\"TAESA\"}), encoding = 'ascii')"
      ],
      "metadata": {
        "id": "vEi8PVVcYYeY"
      },
      "execution_count": 63,
      "outputs": []
    },
    {
      "cell_type": "code",
      "source": [
        "b64encode(request_codificado).decode()"
      ],
      "metadata": {
        "colab": {
          "base_uri": "https://localhost:8080/",
          "height": 35
        },
        "id": "LB-jIJ5OYgEy",
        "outputId": "27be16c2-fee1-45f3-b522-faea5f69c100"
      },
      "execution_count": 64,
      "outputs": [
        {
          "output_type": "execute_result",
          "data": {
            "text/plain": [
              "'eydsYW5ndWFnZSc6ICdwdC1icicsICdwYWdlTnVtYmVyJzogMSwgJ3BhZ2VTaXplJzogMjAsICd0cmFkaW5nTmFtZSc6ICdUQUVTQSd9'"
            ],
            "application/vnd.google.colaboratory.intrinsic+json": {
              "type": "string"
            }
          },
          "metadata": {},
          "execution_count": 64
        }
      ]
    },
    {
      "cell_type": "code",
      "source": [
        "string = b64encode(request_codificado).decode()"
      ],
      "metadata": {
        "id": "vfGEPhcrvsuC"
      },
      "execution_count": null,
      "outputs": []
    },
    {
      "cell_type": "code",
      "source": [
        "url_vale = 'https://sistemaswebb3-listados.b3.com.br/listedCompaniesProxy/CompanyCall/GetListedCashDividends/' + string\n",
        "dados_brutos = requests.get(url_vale)"
      ],
      "metadata": {
        "id": "rShFhAo8vvaC"
      },
      "execution_count": null,
      "outputs": []
    },
    {
      "cell_type": "code",
      "source": [
        "pd.DataFrame(dados_brutos.json()['results'])"
      ],
      "metadata": {
        "id": "5lEhplVIvztO"
      },
      "execution_count": null,
      "outputs": []
    },
    {
      "cell_type": "markdown",
      "source": [
        "Basta jogar este trecho de string junto do resto da URL"
      ],
      "metadata": {
        "id": "fgBayzRlYlLo"
      }
    },
    {
      "cell_type": "code",
      "source": [
        "params = {\"language\":\"pt-br\",\"pageNumber\":1,\"pageSize\":20,\"tradingName\":'TAESA'}\n",
        "\n",
        "bytes(str(params), encoding=\"ascii\")"
      ],
      "metadata": {
        "colab": {
          "base_uri": "https://localhost:8080/"
        },
        "id": "eLPXS11UyF7X",
        "outputId": "c16e4f4a-bf30-4aac-def7-7d2be0892900"
      },
      "execution_count": 38,
      "outputs": [
        {
          "output_type": "execute_result",
          "data": {
            "text/plain": [
              "b\"{'language': 'pt-br', 'pageNumber': 1, 'pageSize': 20, 'tradingName': 'TAESA'}\""
            ]
          },
          "metadata": {},
          "execution_count": 38
        }
      ]
    },
    {
      "cell_type": "code",
      "source": [
        "string = b64encode(bytes(str(params), encoding=\"ascii\")).decode()"
      ],
      "metadata": {
        "id": "SrJUpRxWzL5f"
      },
      "execution_count": 39,
      "outputs": []
    },
    {
      "cell_type": "code",
      "source": [
        "string"
      ],
      "metadata": {
        "colab": {
          "base_uri": "https://localhost:8080/",
          "height": 35
        },
        "id": "AlP61LNX2-4w",
        "outputId": "f0955c64-af64-4cfa-b34a-f4a750a737e8"
      },
      "execution_count": 40,
      "outputs": [
        {
          "output_type": "execute_result",
          "data": {
            "text/plain": [
              "'eydsYW5ndWFnZSc6ICdwdC1icicsICdwYWdlTnVtYmVyJzogMSwgJ3BhZ2VTaXplJzogMjAsICd0cmFkaW5nTmFtZSc6ICdUQUVTQSd9'"
            ],
            "application/vnd.google.colaboratory.intrinsic+json": {
              "type": "string"
            }
          },
          "metadata": {},
          "execution_count": 40
        }
      ]
    },
    {
      "cell_type": "code",
      "source": [
        "url_vale = 'https://sistemaswebb3-listados.b3.com.br/listedCompaniesProxy/CompanyCall/GetListedCashDividends/' + string\n",
        "dados_brutos = requests.get(url_vale)"
      ],
      "metadata": {
        "id": "fXUbNX9JzrBF"
      },
      "execution_count": 41,
      "outputs": []
    },
    {
      "cell_type": "code",
      "source": [
        "dados_brutos.json()"
      ],
      "metadata": {
        "colab": {
          "base_uri": "https://localhost:8080/"
        },
        "id": "4iz_cZROzsWS",
        "outputId": "4bbc861f-0717-40c6-d03f-3265dac87e7d"
      },
      "execution_count": 42,
      "outputs": [
        {
          "output_type": "execute_result",
          "data": {
            "text/plain": [
              "{'page': {'pageNumber': 1,\n",
              "  'pageSize': 20,\n",
              "  'totalRecords': 243,\n",
              "  'totalPages': 13},\n",
              " 'results': [{'typeStock': 'ON',\n",
              "   'dateApproval': '27/12/2023',\n",
              "   'valueCash': '0,22061336',\n",
              "   'ratio': '1',\n",
              "   'corporateAction': 'DIVIDENDO',\n",
              "   'lastDatePriorEx': '03/01/2024',\n",
              "   'dateClosingPricePriorExDate': '03/01/2024',\n",
              "   'closingPricePriorExDate': '12,80',\n",
              "   'quotedPerShares': '1',\n",
              "   'corporateActionPrice': '1,723542',\n",
              "   'lastDateTimePriorEx': '2024-01-03T00:00:00'},\n",
              "  {'typeStock': 'ON',\n",
              "   'dateApproval': '08/11/2023',\n",
              "   'valueCash': '0,00394344952',\n",
              "   'ratio': '1',\n",
              "   'corporateAction': 'DIVIDENDO',\n",
              "   'lastDatePriorEx': '13/11/2023',\n",
              "   'dateClosingPricePriorExDate': '13/11/2023',\n",
              "   'closingPricePriorExDate': '11,97',\n",
              "   'quotedPerShares': '1',\n",
              "   'corporateActionPrice': '0,032944',\n",
              "   'lastDateTimePriorEx': '2023-11-13T00:00:00'},\n",
              "  {'typeStock': 'ON',\n",
              "   'dateApproval': '08/11/2023',\n",
              "   'valueCash': '0,19398273707',\n",
              "   'ratio': '1',\n",
              "   'corporateAction': 'JRS CAP PROPRIO',\n",
              "   'lastDatePriorEx': '13/11/2023',\n",
              "   'dateClosingPricePriorExDate': '13/11/2023',\n",
              "   'closingPricePriorExDate': '11,97',\n",
              "   'quotedPerShares': '1',\n",
              "   'corporateActionPrice': '1,620574',\n",
              "   'lastDateTimePriorEx': '2023-11-13T00:00:00'},\n",
              "  {'typeStock': 'ON',\n",
              "   'dateApproval': '02/08/2023',\n",
              "   'valueCash': '0,09404221738',\n",
              "   'ratio': '1',\n",
              "   'corporateAction': 'DIVIDENDO',\n",
              "   'lastDatePriorEx': '07/08/2023',\n",
              "   'dateClosingPricePriorExDate': '07/08/2023',\n",
              "   'closingPricePriorExDate': '12,19',\n",
              "   'quotedPerShares': '1',\n",
              "   'corporateActionPrice': '0,771470',\n",
              "   'lastDateTimePriorEx': '2023-08-07T00:00:00'},\n",
              "  {'typeStock': 'ON',\n",
              "   'dateApproval': '02/08/2023',\n",
              "   'valueCash': '0,20923914973',\n",
              "   'ratio': '1',\n",
              "   'corporateAction': 'JRS CAP PROPRIO',\n",
              "   'lastDatePriorEx': '07/08/2023',\n",
              "   'dateClosingPricePriorExDate': '07/08/2023',\n",
              "   'closingPricePriorExDate': '12,19',\n",
              "   'quotedPerShares': '1',\n",
              "   'corporateActionPrice': '1,716482',\n",
              "   'lastDateTimePriorEx': '2023-08-07T00:00:00'},\n",
              "  {'typeStock': 'ON',\n",
              "   'dateApproval': '27/04/2023',\n",
              "   'valueCash': '0,02520387479',\n",
              "   'ratio': '1',\n",
              "   'corporateAction': 'DIVIDENDO',\n",
              "   'lastDatePriorEx': '03/05/2023',\n",
              "   'dateClosingPricePriorExDate': '03/05/2023',\n",
              "   'closingPricePriorExDate': '12,06',\n",
              "   'quotedPerShares': '1',\n",
              "   'corporateActionPrice': '0,208987',\n",
              "   'lastDateTimePriorEx': '2023-05-03T00:00:00'},\n",
              "  {'typeStock': 'ON',\n",
              "   'dateApproval': '05/01/2023',\n",
              "   'valueCash': '0,4450909139',\n",
              "   'ratio': '1',\n",
              "   'corporateAction': 'DIVIDENDO',\n",
              "   'lastDatePriorEx': '10/01/2023',\n",
              "   'dateClosingPricePriorExDate': '10/01/2023',\n",
              "   'closingPricePriorExDate': '11,99',\n",
              "   'quotedPerShares': '1',\n",
              "   'corporateActionPrice': '3,712184',\n",
              "   'lastDateTimePriorEx': '2023-01-10T00:00:00'},\n",
              "  {'typeStock': 'ON',\n",
              "   'dateApproval': '09/11/2022',\n",
              "   'valueCash': '0,2001155374',\n",
              "   'ratio': '1',\n",
              "   'corporateAction': 'JRS CAP PROPRIO',\n",
              "   'lastDatePriorEx': '14/11/2022',\n",
              "   'dateClosingPricePriorExDate': '14/11/2022',\n",
              "   'closingPricePriorExDate': '13,46',\n",
              "   'quotedPerShares': '1',\n",
              "   'corporateActionPrice': '1,486742',\n",
              "   'lastDateTimePriorEx': '2022-11-14T00:00:00'},\n",
              "  {'typeStock': 'ON',\n",
              "   'dateApproval': '09/11/2022',\n",
              "   'valueCash': '0,1097241454',\n",
              "   'ratio': '1',\n",
              "   'corporateAction': 'DIVIDENDO',\n",
              "   'lastDatePriorEx': '14/11/2022',\n",
              "   'dateClosingPricePriorExDate': '14/11/2022',\n",
              "   'closingPricePriorExDate': '13,46',\n",
              "   'quotedPerShares': '1',\n",
              "   'corporateActionPrice': '0,815187',\n",
              "   'lastDateTimePriorEx': '2022-11-14T00:00:00'},\n",
              "  {'typeStock': 'ON',\n",
              "   'dateApproval': '09/11/2022',\n",
              "   'valueCash': '0,0436957205',\n",
              "   'ratio': '1',\n",
              "   'corporateAction': 'DIVIDENDO',\n",
              "   'lastDatePriorEx': '14/11/2022',\n",
              "   'dateClosingPricePriorExDate': '14/11/2022',\n",
              "   'closingPricePriorExDate': '13,46',\n",
              "   'quotedPerShares': '1',\n",
              "   'corporateActionPrice': '0,324634',\n",
              "   'lastDateTimePriorEx': '2022-11-14T00:00:00'},\n",
              "  {'typeStock': 'ON',\n",
              "   'dateApproval': '10/08/2022',\n",
              "   'valueCash': '0,29879070195',\n",
              "   'ratio': '1',\n",
              "   'corporateAction': 'DIVIDENDO',\n",
              "   'lastDatePriorEx': '15/08/2022',\n",
              "   'dateClosingPricePriorExDate': '15/08/2022',\n",
              "   'closingPricePriorExDate': '14,50',\n",
              "   'quotedPerShares': '1',\n",
              "   'corporateActionPrice': '2,060626',\n",
              "   'lastDateTimePriorEx': '2022-08-15T00:00:00'},\n",
              "  {'typeStock': 'ON',\n",
              "   'dateApproval': '10/08/2022',\n",
              "   'valueCash': '0,19151888841',\n",
              "   'ratio': '1',\n",
              "   'corporateAction': 'JRS CAP PROPRIO',\n",
              "   'lastDatePriorEx': '15/08/2022',\n",
              "   'dateClosingPricePriorExDate': '15/08/2022',\n",
              "   'closingPricePriorExDate': '14,50',\n",
              "   'quotedPerShares': '1',\n",
              "   'corporateActionPrice': '1,320820',\n",
              "   'lastDateTimePriorEx': '2022-08-15T00:00:00'},\n",
              "  {'typeStock': 'ON',\n",
              "   'dateApproval': '03/05/2022',\n",
              "   'valueCash': '0,14224637098',\n",
              "   'ratio': '1',\n",
              "   'corporateAction': 'DIVIDENDO',\n",
              "   'lastDatePriorEx': '09/05/2022',\n",
              "   'dateClosingPricePriorExDate': '09/05/2022',\n",
              "   'closingPricePriorExDate': '15,10',\n",
              "   'quotedPerShares': '1',\n",
              "   'corporateActionPrice': '0,942029',\n",
              "   'lastDateTimePriorEx': '2022-05-09T00:00:00'},\n",
              "  {'typeStock': 'ON',\n",
              "   'dateApproval': '03/05/2022',\n",
              "   'valueCash': '0,63210804548',\n",
              "   'ratio': '1',\n",
              "   'corporateAction': 'DIVIDENDO',\n",
              "   'lastDatePriorEx': '09/05/2022',\n",
              "   'dateClosingPricePriorExDate': '09/05/2022',\n",
              "   'closingPricePriorExDate': '15,10',\n",
              "   'quotedPerShares': '1',\n",
              "   'corporateActionPrice': '4,186146',\n",
              "   'lastDateTimePriorEx': '2022-05-09T00:00:00'},\n",
              "  {'typeStock': 'ON',\n",
              "   'dateApproval': '01/12/2021',\n",
              "   'valueCash': '0,31058119269',\n",
              "   'ratio': '1',\n",
              "   'corporateAction': 'DIVIDENDO',\n",
              "   'lastDatePriorEx': '06/12/2021',\n",
              "   'dateClosingPricePriorExDate': '06/12/2021',\n",
              "   'closingPricePriorExDate': '12,89',\n",
              "   'quotedPerShares': '1',\n",
              "   'corporateActionPrice': '2,409474',\n",
              "   'lastDateTimePriorEx': '2021-12-06T00:00:00'},\n",
              "  {'typeStock': 'ON',\n",
              "   'dateApproval': '01/12/2021',\n",
              "   'valueCash': '0,19546782457',\n",
              "   'ratio': '1',\n",
              "   'corporateAction': 'JRS CAP PROPRIO',\n",
              "   'lastDatePriorEx': '06/12/2021',\n",
              "   'dateClosingPricePriorExDate': '06/12/2021',\n",
              "   'closingPricePriorExDate': '12,89',\n",
              "   'quotedPerShares': '1',\n",
              "   'corporateActionPrice': '1,516430',\n",
              "   'lastDateTimePriorEx': '2021-12-06T00:00:00'},\n",
              "  {'typeStock': 'ON',\n",
              "   'dateApproval': '13/05/2021',\n",
              "   'valueCash': '0,38855745153',\n",
              "   'ratio': '1',\n",
              "   'corporateAction': 'DIVIDENDO',\n",
              "   'lastDatePriorEx': '18/05/2021',\n",
              "   'dateClosingPricePriorExDate': '18/05/2021',\n",
              "   'closingPricePriorExDate': '13,60',\n",
              "   'quotedPerShares': '1',\n",
              "   'corporateActionPrice': '2,857040',\n",
              "   'lastDateTimePriorEx': '2021-05-18T00:00:00'},\n",
              "  {'typeStock': 'ON',\n",
              "   'dateApproval': '13/05/2021',\n",
              "   'valueCash': '0,06289709507',\n",
              "   'ratio': '1',\n",
              "   'corporateAction': 'JRS CAP PROPRIO',\n",
              "   'lastDatePriorEx': '18/05/2021',\n",
              "   'dateClosingPricePriorExDate': '18/05/2021',\n",
              "   'closingPricePriorExDate': '13,60',\n",
              "   'quotedPerShares': '1',\n",
              "   'corporateActionPrice': '0,462479',\n",
              "   'lastDateTimePriorEx': '2021-05-18T00:00:00'},\n",
              "  {'typeStock': 'ON',\n",
              "   'dateApproval': '29/04/2021',\n",
              "   'valueCash': '0,54373071298',\n",
              "   'ratio': '1',\n",
              "   'corporateAction': 'DIVIDENDO',\n",
              "   'lastDatePriorEx': '04/05/2021',\n",
              "   'dateClosingPricePriorExDate': '04/05/2021',\n",
              "   'closingPricePriorExDate': '14,10',\n",
              "   'quotedPerShares': '1',\n",
              "   'corporateActionPrice': '3,856246',\n",
              "   'lastDateTimePriorEx': '2021-05-04T00:00:00'},\n",
              "  {'typeStock': 'ON',\n",
              "   'dateApproval': '10/12/2020',\n",
              "   'valueCash': '0,0524606005',\n",
              "   'ratio': '1',\n",
              "   'corporateAction': 'JRS CAP PROPRIO',\n",
              "   'lastDatePriorEx': '15/12/2020',\n",
              "   'dateClosingPricePriorExDate': '15/12/2020',\n",
              "   'closingPricePriorExDate': '11,23',\n",
              "   'quotedPerShares': '1',\n",
              "   'corporateActionPrice': '0,467147',\n",
              "   'lastDateTimePriorEx': '2020-12-15T00:00:00'}]}"
            ]
          },
          "metadata": {},
          "execution_count": 42
        }
      ]
    },
    {
      "cell_type": "code",
      "source": [
        "pd.DataFrame(dados_brutos.json()['results'])"
      ],
      "metadata": {
        "colab": {
          "base_uri": "https://localhost:8080/",
          "height": 817
        },
        "id": "2KnhODz7zjAW",
        "outputId": "d1879e49-e3b4-4842-9e0e-4a5493374419"
      },
      "execution_count": 43,
      "outputs": [
        {
          "output_type": "execute_result",
          "data": {
            "text/plain": [
              "   typeStock dateApproval      valueCash ratio  corporateAction  \\\n",
              "0         ON   27/12/2023     0,22061336     1        DIVIDENDO   \n",
              "1         ON   08/11/2023  0,00394344952     1        DIVIDENDO   \n",
              "2         ON   08/11/2023  0,19398273707     1  JRS CAP PROPRIO   \n",
              "3         ON   02/08/2023  0,09404221738     1        DIVIDENDO   \n",
              "4         ON   02/08/2023  0,20923914973     1  JRS CAP PROPRIO   \n",
              "5         ON   27/04/2023  0,02520387479     1        DIVIDENDO   \n",
              "6         ON   05/01/2023   0,4450909139     1        DIVIDENDO   \n",
              "7         ON   09/11/2022   0,2001155374     1  JRS CAP PROPRIO   \n",
              "8         ON   09/11/2022   0,1097241454     1        DIVIDENDO   \n",
              "9         ON   09/11/2022   0,0436957205     1        DIVIDENDO   \n",
              "10        ON   10/08/2022  0,29879070195     1        DIVIDENDO   \n",
              "11        ON   10/08/2022  0,19151888841     1  JRS CAP PROPRIO   \n",
              "12        ON   03/05/2022  0,14224637098     1        DIVIDENDO   \n",
              "13        ON   03/05/2022  0,63210804548     1        DIVIDENDO   \n",
              "14        ON   01/12/2021  0,31058119269     1        DIVIDENDO   \n",
              "15        ON   01/12/2021  0,19546782457     1  JRS CAP PROPRIO   \n",
              "16        ON   13/05/2021  0,38855745153     1        DIVIDENDO   \n",
              "17        ON   13/05/2021  0,06289709507     1  JRS CAP PROPRIO   \n",
              "18        ON   29/04/2021  0,54373071298     1        DIVIDENDO   \n",
              "19        ON   10/12/2020   0,0524606005     1  JRS CAP PROPRIO   \n",
              "\n",
              "   lastDatePriorEx dateClosingPricePriorExDate closingPricePriorExDate  \\\n",
              "0       03/01/2024                  03/01/2024                   12,80   \n",
              "1       13/11/2023                  13/11/2023                   11,97   \n",
              "2       13/11/2023                  13/11/2023                   11,97   \n",
              "3       07/08/2023                  07/08/2023                   12,19   \n",
              "4       07/08/2023                  07/08/2023                   12,19   \n",
              "5       03/05/2023                  03/05/2023                   12,06   \n",
              "6       10/01/2023                  10/01/2023                   11,99   \n",
              "7       14/11/2022                  14/11/2022                   13,46   \n",
              "8       14/11/2022                  14/11/2022                   13,46   \n",
              "9       14/11/2022                  14/11/2022                   13,46   \n",
              "10      15/08/2022                  15/08/2022                   14,50   \n",
              "11      15/08/2022                  15/08/2022                   14,50   \n",
              "12      09/05/2022                  09/05/2022                   15,10   \n",
              "13      09/05/2022                  09/05/2022                   15,10   \n",
              "14      06/12/2021                  06/12/2021                   12,89   \n",
              "15      06/12/2021                  06/12/2021                   12,89   \n",
              "16      18/05/2021                  18/05/2021                   13,60   \n",
              "17      18/05/2021                  18/05/2021                   13,60   \n",
              "18      04/05/2021                  04/05/2021                   14,10   \n",
              "19      15/12/2020                  15/12/2020                   11,23   \n",
              "\n",
              "   quotedPerShares corporateActionPrice  lastDateTimePriorEx  \n",
              "0                1             1,723542  2024-01-03T00:00:00  \n",
              "1                1             0,032944  2023-11-13T00:00:00  \n",
              "2                1             1,620574  2023-11-13T00:00:00  \n",
              "3                1             0,771470  2023-08-07T00:00:00  \n",
              "4                1             1,716482  2023-08-07T00:00:00  \n",
              "5                1             0,208987  2023-05-03T00:00:00  \n",
              "6                1             3,712184  2023-01-10T00:00:00  \n",
              "7                1             1,486742  2022-11-14T00:00:00  \n",
              "8                1             0,815187  2022-11-14T00:00:00  \n",
              "9                1             0,324634  2022-11-14T00:00:00  \n",
              "10               1             2,060626  2022-08-15T00:00:00  \n",
              "11               1             1,320820  2022-08-15T00:00:00  \n",
              "12               1             0,942029  2022-05-09T00:00:00  \n",
              "13               1             4,186146  2022-05-09T00:00:00  \n",
              "14               1             2,409474  2021-12-06T00:00:00  \n",
              "15               1             1,516430  2021-12-06T00:00:00  \n",
              "16               1             2,857040  2021-05-18T00:00:00  \n",
              "17               1             0,462479  2021-05-18T00:00:00  \n",
              "18               1             3,856246  2021-05-04T00:00:00  \n",
              "19               1             0,467147  2020-12-15T00:00:00  "
            ],
            "text/html": [
              "\n",
              "  <div id=\"df-38a724ed-0b13-4f02-a925-863e8221e491\" class=\"colab-df-container\">\n",
              "    <div>\n",
              "<style scoped>\n",
              "    .dataframe tbody tr th:only-of-type {\n",
              "        vertical-align: middle;\n",
              "    }\n",
              "\n",
              "    .dataframe tbody tr th {\n",
              "        vertical-align: top;\n",
              "    }\n",
              "\n",
              "    .dataframe thead th {\n",
              "        text-align: right;\n",
              "    }\n",
              "</style>\n",
              "<table border=\"1\" class=\"dataframe\">\n",
              "  <thead>\n",
              "    <tr style=\"text-align: right;\">\n",
              "      <th></th>\n",
              "      <th>typeStock</th>\n",
              "      <th>dateApproval</th>\n",
              "      <th>valueCash</th>\n",
              "      <th>ratio</th>\n",
              "      <th>corporateAction</th>\n",
              "      <th>lastDatePriorEx</th>\n",
              "      <th>dateClosingPricePriorExDate</th>\n",
              "      <th>closingPricePriorExDate</th>\n",
              "      <th>quotedPerShares</th>\n",
              "      <th>corporateActionPrice</th>\n",
              "      <th>lastDateTimePriorEx</th>\n",
              "    </tr>\n",
              "  </thead>\n",
              "  <tbody>\n",
              "    <tr>\n",
              "      <th>0</th>\n",
              "      <td>ON</td>\n",
              "      <td>27/12/2023</td>\n",
              "      <td>0,22061336</td>\n",
              "      <td>1</td>\n",
              "      <td>DIVIDENDO</td>\n",
              "      <td>03/01/2024</td>\n",
              "      <td>03/01/2024</td>\n",
              "      <td>12,80</td>\n",
              "      <td>1</td>\n",
              "      <td>1,723542</td>\n",
              "      <td>2024-01-03T00:00:00</td>\n",
              "    </tr>\n",
              "    <tr>\n",
              "      <th>1</th>\n",
              "      <td>ON</td>\n",
              "      <td>08/11/2023</td>\n",
              "      <td>0,00394344952</td>\n",
              "      <td>1</td>\n",
              "      <td>DIVIDENDO</td>\n",
              "      <td>13/11/2023</td>\n",
              "      <td>13/11/2023</td>\n",
              "      <td>11,97</td>\n",
              "      <td>1</td>\n",
              "      <td>0,032944</td>\n",
              "      <td>2023-11-13T00:00:00</td>\n",
              "    </tr>\n",
              "    <tr>\n",
              "      <th>2</th>\n",
              "      <td>ON</td>\n",
              "      <td>08/11/2023</td>\n",
              "      <td>0,19398273707</td>\n",
              "      <td>1</td>\n",
              "      <td>JRS CAP PROPRIO</td>\n",
              "      <td>13/11/2023</td>\n",
              "      <td>13/11/2023</td>\n",
              "      <td>11,97</td>\n",
              "      <td>1</td>\n",
              "      <td>1,620574</td>\n",
              "      <td>2023-11-13T00:00:00</td>\n",
              "    </tr>\n",
              "    <tr>\n",
              "      <th>3</th>\n",
              "      <td>ON</td>\n",
              "      <td>02/08/2023</td>\n",
              "      <td>0,09404221738</td>\n",
              "      <td>1</td>\n",
              "      <td>DIVIDENDO</td>\n",
              "      <td>07/08/2023</td>\n",
              "      <td>07/08/2023</td>\n",
              "      <td>12,19</td>\n",
              "      <td>1</td>\n",
              "      <td>0,771470</td>\n",
              "      <td>2023-08-07T00:00:00</td>\n",
              "    </tr>\n",
              "    <tr>\n",
              "      <th>4</th>\n",
              "      <td>ON</td>\n",
              "      <td>02/08/2023</td>\n",
              "      <td>0,20923914973</td>\n",
              "      <td>1</td>\n",
              "      <td>JRS CAP PROPRIO</td>\n",
              "      <td>07/08/2023</td>\n",
              "      <td>07/08/2023</td>\n",
              "      <td>12,19</td>\n",
              "      <td>1</td>\n",
              "      <td>1,716482</td>\n",
              "      <td>2023-08-07T00:00:00</td>\n",
              "    </tr>\n",
              "    <tr>\n",
              "      <th>5</th>\n",
              "      <td>ON</td>\n",
              "      <td>27/04/2023</td>\n",
              "      <td>0,02520387479</td>\n",
              "      <td>1</td>\n",
              "      <td>DIVIDENDO</td>\n",
              "      <td>03/05/2023</td>\n",
              "      <td>03/05/2023</td>\n",
              "      <td>12,06</td>\n",
              "      <td>1</td>\n",
              "      <td>0,208987</td>\n",
              "      <td>2023-05-03T00:00:00</td>\n",
              "    </tr>\n",
              "    <tr>\n",
              "      <th>6</th>\n",
              "      <td>ON</td>\n",
              "      <td>05/01/2023</td>\n",
              "      <td>0,4450909139</td>\n",
              "      <td>1</td>\n",
              "      <td>DIVIDENDO</td>\n",
              "      <td>10/01/2023</td>\n",
              "      <td>10/01/2023</td>\n",
              "      <td>11,99</td>\n",
              "      <td>1</td>\n",
              "      <td>3,712184</td>\n",
              "      <td>2023-01-10T00:00:00</td>\n",
              "    </tr>\n",
              "    <tr>\n",
              "      <th>7</th>\n",
              "      <td>ON</td>\n",
              "      <td>09/11/2022</td>\n",
              "      <td>0,2001155374</td>\n",
              "      <td>1</td>\n",
              "      <td>JRS CAP PROPRIO</td>\n",
              "      <td>14/11/2022</td>\n",
              "      <td>14/11/2022</td>\n",
              "      <td>13,46</td>\n",
              "      <td>1</td>\n",
              "      <td>1,486742</td>\n",
              "      <td>2022-11-14T00:00:00</td>\n",
              "    </tr>\n",
              "    <tr>\n",
              "      <th>8</th>\n",
              "      <td>ON</td>\n",
              "      <td>09/11/2022</td>\n",
              "      <td>0,1097241454</td>\n",
              "      <td>1</td>\n",
              "      <td>DIVIDENDO</td>\n",
              "      <td>14/11/2022</td>\n",
              "      <td>14/11/2022</td>\n",
              "      <td>13,46</td>\n",
              "      <td>1</td>\n",
              "      <td>0,815187</td>\n",
              "      <td>2022-11-14T00:00:00</td>\n",
              "    </tr>\n",
              "    <tr>\n",
              "      <th>9</th>\n",
              "      <td>ON</td>\n",
              "      <td>09/11/2022</td>\n",
              "      <td>0,0436957205</td>\n",
              "      <td>1</td>\n",
              "      <td>DIVIDENDO</td>\n",
              "      <td>14/11/2022</td>\n",
              "      <td>14/11/2022</td>\n",
              "      <td>13,46</td>\n",
              "      <td>1</td>\n",
              "      <td>0,324634</td>\n",
              "      <td>2022-11-14T00:00:00</td>\n",
              "    </tr>\n",
              "    <tr>\n",
              "      <th>10</th>\n",
              "      <td>ON</td>\n",
              "      <td>10/08/2022</td>\n",
              "      <td>0,29879070195</td>\n",
              "      <td>1</td>\n",
              "      <td>DIVIDENDO</td>\n",
              "      <td>15/08/2022</td>\n",
              "      <td>15/08/2022</td>\n",
              "      <td>14,50</td>\n",
              "      <td>1</td>\n",
              "      <td>2,060626</td>\n",
              "      <td>2022-08-15T00:00:00</td>\n",
              "    </tr>\n",
              "    <tr>\n",
              "      <th>11</th>\n",
              "      <td>ON</td>\n",
              "      <td>10/08/2022</td>\n",
              "      <td>0,19151888841</td>\n",
              "      <td>1</td>\n",
              "      <td>JRS CAP PROPRIO</td>\n",
              "      <td>15/08/2022</td>\n",
              "      <td>15/08/2022</td>\n",
              "      <td>14,50</td>\n",
              "      <td>1</td>\n",
              "      <td>1,320820</td>\n",
              "      <td>2022-08-15T00:00:00</td>\n",
              "    </tr>\n",
              "    <tr>\n",
              "      <th>12</th>\n",
              "      <td>ON</td>\n",
              "      <td>03/05/2022</td>\n",
              "      <td>0,14224637098</td>\n",
              "      <td>1</td>\n",
              "      <td>DIVIDENDO</td>\n",
              "      <td>09/05/2022</td>\n",
              "      <td>09/05/2022</td>\n",
              "      <td>15,10</td>\n",
              "      <td>1</td>\n",
              "      <td>0,942029</td>\n",
              "      <td>2022-05-09T00:00:00</td>\n",
              "    </tr>\n",
              "    <tr>\n",
              "      <th>13</th>\n",
              "      <td>ON</td>\n",
              "      <td>03/05/2022</td>\n",
              "      <td>0,63210804548</td>\n",
              "      <td>1</td>\n",
              "      <td>DIVIDENDO</td>\n",
              "      <td>09/05/2022</td>\n",
              "      <td>09/05/2022</td>\n",
              "      <td>15,10</td>\n",
              "      <td>1</td>\n",
              "      <td>4,186146</td>\n",
              "      <td>2022-05-09T00:00:00</td>\n",
              "    </tr>\n",
              "    <tr>\n",
              "      <th>14</th>\n",
              "      <td>ON</td>\n",
              "      <td>01/12/2021</td>\n",
              "      <td>0,31058119269</td>\n",
              "      <td>1</td>\n",
              "      <td>DIVIDENDO</td>\n",
              "      <td>06/12/2021</td>\n",
              "      <td>06/12/2021</td>\n",
              "      <td>12,89</td>\n",
              "      <td>1</td>\n",
              "      <td>2,409474</td>\n",
              "      <td>2021-12-06T00:00:00</td>\n",
              "    </tr>\n",
              "    <tr>\n",
              "      <th>15</th>\n",
              "      <td>ON</td>\n",
              "      <td>01/12/2021</td>\n",
              "      <td>0,19546782457</td>\n",
              "      <td>1</td>\n",
              "      <td>JRS CAP PROPRIO</td>\n",
              "      <td>06/12/2021</td>\n",
              "      <td>06/12/2021</td>\n",
              "      <td>12,89</td>\n",
              "      <td>1</td>\n",
              "      <td>1,516430</td>\n",
              "      <td>2021-12-06T00:00:00</td>\n",
              "    </tr>\n",
              "    <tr>\n",
              "      <th>16</th>\n",
              "      <td>ON</td>\n",
              "      <td>13/05/2021</td>\n",
              "      <td>0,38855745153</td>\n",
              "      <td>1</td>\n",
              "      <td>DIVIDENDO</td>\n",
              "      <td>18/05/2021</td>\n",
              "      <td>18/05/2021</td>\n",
              "      <td>13,60</td>\n",
              "      <td>1</td>\n",
              "      <td>2,857040</td>\n",
              "      <td>2021-05-18T00:00:00</td>\n",
              "    </tr>\n",
              "    <tr>\n",
              "      <th>17</th>\n",
              "      <td>ON</td>\n",
              "      <td>13/05/2021</td>\n",
              "      <td>0,06289709507</td>\n",
              "      <td>1</td>\n",
              "      <td>JRS CAP PROPRIO</td>\n",
              "      <td>18/05/2021</td>\n",
              "      <td>18/05/2021</td>\n",
              "      <td>13,60</td>\n",
              "      <td>1</td>\n",
              "      <td>0,462479</td>\n",
              "      <td>2021-05-18T00:00:00</td>\n",
              "    </tr>\n",
              "    <tr>\n",
              "      <th>18</th>\n",
              "      <td>ON</td>\n",
              "      <td>29/04/2021</td>\n",
              "      <td>0,54373071298</td>\n",
              "      <td>1</td>\n",
              "      <td>DIVIDENDO</td>\n",
              "      <td>04/05/2021</td>\n",
              "      <td>04/05/2021</td>\n",
              "      <td>14,10</td>\n",
              "      <td>1</td>\n",
              "      <td>3,856246</td>\n",
              "      <td>2021-05-04T00:00:00</td>\n",
              "    </tr>\n",
              "    <tr>\n",
              "      <th>19</th>\n",
              "      <td>ON</td>\n",
              "      <td>10/12/2020</td>\n",
              "      <td>0,0524606005</td>\n",
              "      <td>1</td>\n",
              "      <td>JRS CAP PROPRIO</td>\n",
              "      <td>15/12/2020</td>\n",
              "      <td>15/12/2020</td>\n",
              "      <td>11,23</td>\n",
              "      <td>1</td>\n",
              "      <td>0,467147</td>\n",
              "      <td>2020-12-15T00:00:00</td>\n",
              "    </tr>\n",
              "  </tbody>\n",
              "</table>\n",
              "</div>\n",
              "    <div class=\"colab-df-buttons\">\n",
              "\n",
              "  <div class=\"colab-df-container\">\n",
              "    <button class=\"colab-df-convert\" onclick=\"convertToInteractive('df-38a724ed-0b13-4f02-a925-863e8221e491')\"\n",
              "            title=\"Convert this dataframe to an interactive table.\"\n",
              "            style=\"display:none;\">\n",
              "\n",
              "  <svg xmlns=\"http://www.w3.org/2000/svg\" height=\"24px\" viewBox=\"0 -960 960 960\">\n",
              "    <path d=\"M120-120v-720h720v720H120Zm60-500h600v-160H180v160Zm220 220h160v-160H400v160Zm0 220h160v-160H400v160ZM180-400h160v-160H180v160Zm440 0h160v-160H620v160ZM180-180h160v-160H180v160Zm440 0h160v-160H620v160Z\"/>\n",
              "  </svg>\n",
              "    </button>\n",
              "\n",
              "  <style>\n",
              "    .colab-df-container {\n",
              "      display:flex;\n",
              "      gap: 12px;\n",
              "    }\n",
              "\n",
              "    .colab-df-convert {\n",
              "      background-color: #E8F0FE;\n",
              "      border: none;\n",
              "      border-radius: 50%;\n",
              "      cursor: pointer;\n",
              "      display: none;\n",
              "      fill: #1967D2;\n",
              "      height: 32px;\n",
              "      padding: 0 0 0 0;\n",
              "      width: 32px;\n",
              "    }\n",
              "\n",
              "    .colab-df-convert:hover {\n",
              "      background-color: #E2EBFA;\n",
              "      box-shadow: 0px 1px 2px rgba(60, 64, 67, 0.3), 0px 1px 3px 1px rgba(60, 64, 67, 0.15);\n",
              "      fill: #174EA6;\n",
              "    }\n",
              "\n",
              "    .colab-df-buttons div {\n",
              "      margin-bottom: 4px;\n",
              "    }\n",
              "\n",
              "    [theme=dark] .colab-df-convert {\n",
              "      background-color: #3B4455;\n",
              "      fill: #D2E3FC;\n",
              "    }\n",
              "\n",
              "    [theme=dark] .colab-df-convert:hover {\n",
              "      background-color: #434B5C;\n",
              "      box-shadow: 0px 1px 3px 1px rgba(0, 0, 0, 0.15);\n",
              "      filter: drop-shadow(0px 1px 2px rgba(0, 0, 0, 0.3));\n",
              "      fill: #FFFFFF;\n",
              "    }\n",
              "  </style>\n",
              "\n",
              "    <script>\n",
              "      const buttonEl =\n",
              "        document.querySelector('#df-38a724ed-0b13-4f02-a925-863e8221e491 button.colab-df-convert');\n",
              "      buttonEl.style.display =\n",
              "        google.colab.kernel.accessAllowed ? 'block' : 'none';\n",
              "\n",
              "      async function convertToInteractive(key) {\n",
              "        const element = document.querySelector('#df-38a724ed-0b13-4f02-a925-863e8221e491');\n",
              "        const dataTable =\n",
              "          await google.colab.kernel.invokeFunction('convertToInteractive',\n",
              "                                                    [key], {});\n",
              "        if (!dataTable) return;\n",
              "\n",
              "        const docLinkHtml = 'Like what you see? Visit the ' +\n",
              "          '<a target=\"_blank\" href=https://colab.research.google.com/notebooks/data_table.ipynb>data table notebook</a>'\n",
              "          + ' to learn more about interactive tables.';\n",
              "        element.innerHTML = '';\n",
              "        dataTable['output_type'] = 'display_data';\n",
              "        await google.colab.output.renderOutput(dataTable, element);\n",
              "        const docLink = document.createElement('div');\n",
              "        docLink.innerHTML = docLinkHtml;\n",
              "        element.appendChild(docLink);\n",
              "      }\n",
              "    </script>\n",
              "  </div>\n",
              "\n",
              "\n",
              "<div id=\"df-2ddf587f-343e-4269-8bc1-4149f02b171e\">\n",
              "  <button class=\"colab-df-quickchart\" onclick=\"quickchart('df-2ddf587f-343e-4269-8bc1-4149f02b171e')\"\n",
              "            title=\"Suggest charts\"\n",
              "            style=\"display:none;\">\n",
              "\n",
              "<svg xmlns=\"http://www.w3.org/2000/svg\" height=\"24px\"viewBox=\"0 0 24 24\"\n",
              "     width=\"24px\">\n",
              "    <g>\n",
              "        <path d=\"M19 3H5c-1.1 0-2 .9-2 2v14c0 1.1.9 2 2 2h14c1.1 0 2-.9 2-2V5c0-1.1-.9-2-2-2zM9 17H7v-7h2v7zm4 0h-2V7h2v10zm4 0h-2v-4h2v4z\"/>\n",
              "    </g>\n",
              "</svg>\n",
              "  </button>\n",
              "\n",
              "<style>\n",
              "  .colab-df-quickchart {\n",
              "      --bg-color: #E8F0FE;\n",
              "      --fill-color: #1967D2;\n",
              "      --hover-bg-color: #E2EBFA;\n",
              "      --hover-fill-color: #174EA6;\n",
              "      --disabled-fill-color: #AAA;\n",
              "      --disabled-bg-color: #DDD;\n",
              "  }\n",
              "\n",
              "  [theme=dark] .colab-df-quickchart {\n",
              "      --bg-color: #3B4455;\n",
              "      --fill-color: #D2E3FC;\n",
              "      --hover-bg-color: #434B5C;\n",
              "      --hover-fill-color: #FFFFFF;\n",
              "      --disabled-bg-color: #3B4455;\n",
              "      --disabled-fill-color: #666;\n",
              "  }\n",
              "\n",
              "  .colab-df-quickchart {\n",
              "    background-color: var(--bg-color);\n",
              "    border: none;\n",
              "    border-radius: 50%;\n",
              "    cursor: pointer;\n",
              "    display: none;\n",
              "    fill: var(--fill-color);\n",
              "    height: 32px;\n",
              "    padding: 0;\n",
              "    width: 32px;\n",
              "  }\n",
              "\n",
              "  .colab-df-quickchart:hover {\n",
              "    background-color: var(--hover-bg-color);\n",
              "    box-shadow: 0 1px 2px rgba(60, 64, 67, 0.3), 0 1px 3px 1px rgba(60, 64, 67, 0.15);\n",
              "    fill: var(--button-hover-fill-color);\n",
              "  }\n",
              "\n",
              "  .colab-df-quickchart-complete:disabled,\n",
              "  .colab-df-quickchart-complete:disabled:hover {\n",
              "    background-color: var(--disabled-bg-color);\n",
              "    fill: var(--disabled-fill-color);\n",
              "    box-shadow: none;\n",
              "  }\n",
              "\n",
              "  .colab-df-spinner {\n",
              "    border: 2px solid var(--fill-color);\n",
              "    border-color: transparent;\n",
              "    border-bottom-color: var(--fill-color);\n",
              "    animation:\n",
              "      spin 1s steps(1) infinite;\n",
              "  }\n",
              "\n",
              "  @keyframes spin {\n",
              "    0% {\n",
              "      border-color: transparent;\n",
              "      border-bottom-color: var(--fill-color);\n",
              "      border-left-color: var(--fill-color);\n",
              "    }\n",
              "    20% {\n",
              "      border-color: transparent;\n",
              "      border-left-color: var(--fill-color);\n",
              "      border-top-color: var(--fill-color);\n",
              "    }\n",
              "    30% {\n",
              "      border-color: transparent;\n",
              "      border-left-color: var(--fill-color);\n",
              "      border-top-color: var(--fill-color);\n",
              "      border-right-color: var(--fill-color);\n",
              "    }\n",
              "    40% {\n",
              "      border-color: transparent;\n",
              "      border-right-color: var(--fill-color);\n",
              "      border-top-color: var(--fill-color);\n",
              "    }\n",
              "    60% {\n",
              "      border-color: transparent;\n",
              "      border-right-color: var(--fill-color);\n",
              "    }\n",
              "    80% {\n",
              "      border-color: transparent;\n",
              "      border-right-color: var(--fill-color);\n",
              "      border-bottom-color: var(--fill-color);\n",
              "    }\n",
              "    90% {\n",
              "      border-color: transparent;\n",
              "      border-bottom-color: var(--fill-color);\n",
              "    }\n",
              "  }\n",
              "</style>\n",
              "\n",
              "  <script>\n",
              "    async function quickchart(key) {\n",
              "      const quickchartButtonEl =\n",
              "        document.querySelector('#' + key + ' button');\n",
              "      quickchartButtonEl.disabled = true;  // To prevent multiple clicks.\n",
              "      quickchartButtonEl.classList.add('colab-df-spinner');\n",
              "      try {\n",
              "        const charts = await google.colab.kernel.invokeFunction(\n",
              "            'suggestCharts', [key], {});\n",
              "      } catch (error) {\n",
              "        console.error('Error during call to suggestCharts:', error);\n",
              "      }\n",
              "      quickchartButtonEl.classList.remove('colab-df-spinner');\n",
              "      quickchartButtonEl.classList.add('colab-df-quickchart-complete');\n",
              "    }\n",
              "    (() => {\n",
              "      let quickchartButtonEl =\n",
              "        document.querySelector('#df-2ddf587f-343e-4269-8bc1-4149f02b171e button');\n",
              "      quickchartButtonEl.style.display =\n",
              "        google.colab.kernel.accessAllowed ? 'block' : 'none';\n",
              "    })();\n",
              "  </script>\n",
              "</div>\n",
              "    </div>\n",
              "  </div>\n"
            ],
            "application/vnd.google.colaboratory.intrinsic+json": {
              "type": "dataframe",
              "summary": "{\n  \"name\": \"pd\",\n  \"rows\": 20,\n  \"fields\": [\n    {\n      \"column\": \"typeStock\",\n      \"properties\": {\n        \"dtype\": \"category\",\n        \"num_unique_values\": 1,\n        \"samples\": [\n          \"ON\"\n        ],\n        \"semantic_type\": \"\",\n        \"description\": \"\"\n      }\n    },\n    {\n      \"column\": \"dateApproval\",\n      \"properties\": {\n        \"dtype\": \"object\",\n        \"num_unique_values\": 12,\n        \"samples\": [\n          \"29/04/2021\"\n        ],\n        \"semantic_type\": \"\",\n        \"description\": \"\"\n      }\n    },\n    {\n      \"column\": \"valueCash\",\n      \"properties\": {\n        \"dtype\": \"string\",\n        \"num_unique_values\": 20,\n        \"samples\": [\n          \"0,22061336\"\n        ],\n        \"semantic_type\": \"\",\n        \"description\": \"\"\n      }\n    },\n    {\n      \"column\": \"ratio\",\n      \"properties\": {\n        \"dtype\": \"category\",\n        \"num_unique_values\": 1,\n        \"samples\": [\n          \"1\"\n        ],\n        \"semantic_type\": \"\",\n        \"description\": \"\"\n      }\n    },\n    {\n      \"column\": \"corporateAction\",\n      \"properties\": {\n        \"dtype\": \"category\",\n        \"num_unique_values\": 2,\n        \"samples\": [\n          \"JRS CAP PROPRIO\"\n        ],\n        \"semantic_type\": \"\",\n        \"description\": \"\"\n      }\n    },\n    {\n      \"column\": \"lastDatePriorEx\",\n      \"properties\": {\n        \"dtype\": \"string\",\n        \"num_unique_values\": 12,\n        \"samples\": [\n          \"04/05/2021\"\n        ],\n        \"semantic_type\": \"\",\n        \"description\": \"\"\n      }\n    },\n    {\n      \"column\": \"dateClosingPricePriorExDate\",\n      \"properties\": {\n        \"dtype\": \"string\",\n        \"num_unique_values\": 12,\n        \"samples\": [\n          \"04/05/2021\"\n        ],\n        \"semantic_type\": \"\",\n        \"description\": \"\"\n      }\n    },\n    {\n      \"column\": \"closingPricePriorExDate\",\n      \"properties\": {\n        \"dtype\": \"string\",\n        \"num_unique_values\": 12,\n        \"samples\": [\n          \"14,10\"\n        ],\n        \"semantic_type\": \"\",\n        \"description\": \"\"\n      }\n    },\n    {\n      \"column\": \"quotedPerShares\",\n      \"properties\": {\n        \"dtype\": \"category\",\n        \"num_unique_values\": 1,\n        \"samples\": [\n          \"1\"\n        ],\n        \"semantic_type\": \"\",\n        \"description\": \"\"\n      }\n    },\n    {\n      \"column\": \"corporateActionPrice\",\n      \"properties\": {\n        \"dtype\": \"string\",\n        \"num_unique_values\": 20,\n        \"samples\": [\n          \"1,723542\"\n        ],\n        \"semantic_type\": \"\",\n        \"description\": \"\"\n      }\n    },\n    {\n      \"column\": \"lastDateTimePriorEx\",\n      \"properties\": {\n        \"dtype\": \"object\",\n        \"num_unique_values\": 12,\n        \"samples\": [\n          \"2021-05-04T00:00:00\"\n        ],\n        \"semantic_type\": \"\",\n        \"description\": \"\"\n      }\n    }\n  ]\n}"
            }
          },
          "metadata": {},
          "execution_count": 43
        }
      ]
    },
    {
      "cell_type": "markdown",
      "source": [
        "ATÉ AQUI\n",
        "\n",
        "---"
      ],
      "metadata": {
        "id": "4H76SEH33GQx"
      }
    },
    {
      "cell_type": "code",
      "source": [
        "dictionary = {\"language\":\"pt-br\",\"pageNumber\":1,\"pageSize\":20,\"tradingName\":tradingName}\n",
        "\n",
        "parametros = bytes(str(dictionary), encoding=\"ascii\")\n",
        "\n",
        "string = b64encode(parametros).decode()\n",
        "\n",
        "requisicao = 'https://sistemaswebb3-listados.b3.com.br/listedCompaniesProxy/CompanyCall/GetListedCashDividends/'+ string\n",
        "\n",
        "dados_brutos = requests.get(requisicao)\n",
        "\n",
        "dados_brutos.json()"
      ],
      "metadata": {
        "id": "iTPYExyMca9D"
      },
      "execution_count": 65,
      "outputs": []
    },
    {
      "cell_type": "code",
      "execution_count": 69,
      "metadata": {
        "id": "EuxpOAqMggoC"
      },
      "outputs": [],
      "source": [
        "# Função para obter os proventos\n",
        "def proventos(tradingName):\n",
        "\n",
        "    dictionary = {\"language\":\"pt-br\",\"pageNumber\":1,\"pageSize\":20,\"tradingName\":tradingName}\n",
        "\n",
        "    parametros = bytes(str(dictionary), encoding=\"ascii\")\n",
        "\n",
        "    # codifica os parâmetros em base64\n",
        "\n",
        "    string = b64encode(parametros).decode()\n",
        "\n",
        "    requisicao = 'https://sistemaswebb3-listados.b3.com.br/listedCompaniesProxy/CompanyCall/GetListedCashDividends/'+ string\n",
        "\n",
        "    dados_brutos = requests.get(requisicao)\n",
        "\n",
        "    return dados_brutos.json()"
      ]
    },
    {
      "cell_type": "code",
      "source": [
        "ticker = 'TAESA'"
      ],
      "metadata": {
        "id": "jNhCOZFf7a5C"
      },
      "execution_count": 70,
      "outputs": []
    },
    {
      "cell_type": "code",
      "source": [
        "proventos(ticker)"
      ],
      "metadata": {
        "id": "OMAJ2NaX7c8L"
      },
      "execution_count": null,
      "outputs": []
    },
    {
      "cell_type": "code",
      "source": [
        "\n",
        "import requests\n",
        "from base64 import b64encode\n",
        "\n",
        "# Função para buscar o trading name\n",
        "def get_trading_name(ticker):\n",
        "    # cria os parâmetros\n",
        "    params = {\"language\":\"pt-br\",\"pageNumber\":1,\"pageSize\":20,\"company\":ticker}\n",
        "    #params = '{\"language\":\"pt-br\",\"pageNumber\":1,\"pageSize\":20,\"company\":\"' + ticker + '\"}'\n",
        "\n",
        "    # para codificar em base64 é preciso fazer a conversão dos parâmetros em bytes\n",
        "    params = bytes(str(params), encoding=\"ascii\")\n",
        "\n",
        "    # faz a codificação em formato bytes\n",
        "    string = b64encode(params)\n",
        "\n",
        "    # decodifica para transformar bytes em string\n",
        "    string = string.decode()\n",
        "\n",
        "    # faz a requisição com os parâmetros\n",
        "    r = requests.get(r'https://sistemaswebb3-listados.b3.com.br/listedCompaniesProxy/CompanyCall/GetInitialCompanies/'+\n",
        "                         string)\n",
        "\n",
        "    # retorna o trading name da empresa, (é necessário remover pontos e barras)\n",
        "    for i in r.json()['results']:\n",
        "        if i['issuingCompany'].lower() == ticker.lower():\n",
        "            return i['tradingName'].replace('/','').replace('.','')\n",
        "\n",
        "    # Se a empresa não for encontrada, retorna a mensagem de erro\n",
        "    raise ValueError('Empresa não encontrada')\n",
        "\n",
        "\n",
        "# Função para obter os proventos\n",
        "def proventos(ticker):\n",
        "    # encontra o trading name da empresa\n",
        "    tradingName = get_trading_name(ticker)\n",
        "\n",
        "    # cria os parâmetros com o trading name\n",
        "    params = {\"language\":\"pt-br\",\"pageNumber\":1,\"pageSize\":20,\"tradingName\":tradingName}\n",
        "\n",
        "    # codifica os parâmetros em base64\n",
        "    params = bytes(str(params), encoding=\"ascii\")\n",
        "    string = b64encode(params)\n",
        "    string = string.decode()\n",
        "\n",
        "    r = requests.get('https://sistemaswebb3-listados.b3.com.br/listedCompaniesProxy/CompanyCall/GetListedCashDividends/'+string)\n",
        "\n",
        "    return r.json()"
      ],
      "metadata": {
        "id": "GN8KJJI8id45"
      },
      "execution_count": 80,
      "outputs": []
    },
    {
      "cell_type": "code",
      "source": [
        "proventos('prio')"
      ],
      "metadata": {
        "colab": {
          "base_uri": "https://localhost:8080/"
        },
        "id": "RSXll_VJjpnK",
        "outputId": "93205ce7-6a2d-402b-f905-8123cf1ddc99"
      },
      "execution_count": 81,
      "outputs": [
        {
          "output_type": "execute_result",
          "data": {
            "text/plain": [
              "{'page': {'pageNumber': 1, 'pageSize': 20, 'totalRecords': 1, 'totalPages': 1},\n",
              " 'results': [{'typeStock': 'ON',\n",
              "   'dateApproval': '08/12/2023',\n",
              "   'valueCash': '0,0726435',\n",
              "   'ratio': '1',\n",
              "   'corporateAction': 'DIVIDENDO',\n",
              "   'lastDatePriorEx': '13/12/2023',\n",
              "   'dateClosingPricePriorExDate': '13/12/2023',\n",
              "   'closingPricePriorExDate': '45,30',\n",
              "   'quotedPerShares': '1',\n",
              "   'corporateActionPrice': '0,160361',\n",
              "   'lastDateTimePriorEx': '2023-12-13T00:00:00'}]}"
            ]
          },
          "metadata": {},
          "execution_count": 81
        }
      ]
    },
    {
      "cell_type": "code",
      "source": [],
      "metadata": {
        "id": "CElZq6jmjrXh"
      },
      "execution_count": null,
      "outputs": []
    }
  ]
}